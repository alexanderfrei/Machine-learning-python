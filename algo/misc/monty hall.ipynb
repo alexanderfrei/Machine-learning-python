{
 "cells": [
  {
   "cell_type": "code",
   "execution_count": 9,
   "metadata": {},
   "outputs": [],
   "source": [
    "def monty_hall(n):\n",
    "    \n",
    "    change = [False, True]  # not change/change\n",
    "    change_proba = [0, 0]  # probability of win for not change/change\n",
    "    \n",
    "    for win in range(1, n+1):\n",
    "        for choose in range(1, n+1):\n",
    "            for c in change:\n",
    "                if choose==win and not c:\n",
    "                    change_proba[0] += 1/n**2\n",
    "                if choose!=win and c:           \n",
    "                    change_proba[1] += 1/n**2\n",
    "                    \n",
    "    return change_proba\n"
   ]
  },
  {
   "cell_type": "code",
   "execution_count": 10,
   "metadata": {},
   "outputs": [
    {
     "data": {
      "text/plain": [
       "[0.09999999999999999, 0.9000000000000006]"
      ]
     },
     "execution_count": 10,
     "metadata": {},
     "output_type": "execute_result"
    }
   ],
   "source": [
    "n = 10\n",
    "monty_hall(n)"
   ]
  }
 ],
 "metadata": {
  "kernelspec": {
   "display_name": "Python 3",
   "language": "python",
   "name": "python3"
  },
  "language_info": {
   "codemirror_mode": {
    "name": "ipython",
    "version": 3
   },
   "file_extension": ".py",
   "mimetype": "text/x-python",
   "name": "python",
   "nbconvert_exporter": "python",
   "pygments_lexer": "ipython3",
   "version": "3.6.1"
  }
 },
 "nbformat": 4,
 "nbformat_minor": 2
}
