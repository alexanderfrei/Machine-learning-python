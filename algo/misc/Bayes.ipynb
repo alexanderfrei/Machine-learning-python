{
 "cells": [
  {
   "cell_type": "code",
   "execution_count": 1,
   "metadata": {
    "collapsed": true
   },
   "outputs": [],
   "source": [
    "\"\"\"\n",
    "Bayes rule\n",
    "\n",
    "t: test positive\n",
    "d: you have disease\n",
    "Pdt: вероятность, что есть болезнь, при положительном результате теста \n",
    "\"\"\"\n",
    "\n",
    "Ptd = 0.99 # вероятность положительного рез-та теста, если болезнь есть\n",
    "Pd = 0.0001 # вероятность болезни \n",
    "\n",
    "Pdt = Ptd*Pd / (Ptd*Pd + (1-Ptd)*(1-Pd))\n",
    "# точность теста = 1%!"
   ]
  },
  {
   "cell_type": "code",
   "execution_count": null,
   "metadata": {
    "collapsed": true
   },
   "outputs": [],
   "source": []
  }
 ],
 "metadata": {
  "kernelspec": {
   "display_name": "Python 3",
   "language": "python",
   "name": "python3"
  },
  "language_info": {
   "codemirror_mode": {
    "name": "ipython",
    "version": 3
   },
   "file_extension": ".py",
   "mimetype": "text/x-python",
   "name": "python",
   "nbconvert_exporter": "python",
   "pygments_lexer": "ipython3",
   "version": "3.6.1"
  }
 },
 "nbformat": 4,
 "nbformat_minor": 2
}
