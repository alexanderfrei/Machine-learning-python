{
 "cells": [
  {
   "cell_type": "code",
   "execution_count": 4,
   "metadata": {},
   "outputs": [
    {
     "data": {
      "text/plain": [
       "[1, 2, 1, 3]"
      ]
     },
     "execution_count": 4,
     "metadata": {},
     "output_type": "execute_result"
    }
   ],
   "source": [
    "def gen(x):\n",
    "    for word in x:\n",
    "        yield word\n",
    "\n",
    "x = [1,2,1,3]\n",
    "list(gen(x))"
   ]
  },
  {
   "cell_type": "code",
   "execution_count": 73,
   "metadata": {},
   "outputs": [],
   "source": [
    "from collections import defaultdict\n",
    "\n",
    "def tokenize(s):\n",
    "    return s.split()\n",
    "\n",
    "def wc_mapper(document):\n",
    "    for word in tokenize(document):\n",
    "        yield (word, 1)\n",
    "\n",
    "def wc_reducer(word, counts):\n",
    "    yield (word, sum(counts))\n",
    "    \n",
    "def word_count(documents):\n",
    "    collector = defaultdict(list)\n",
    "    for document in documents:\n",
    "        for word, count in wc_mapper(document):\n",
    "            collector[word].append(count)\n",
    "    return [output \n",
    "            for word, counts in collector.items()\n",
    "            for output in wc_reducer(word, counts)]"
   ]
  },
  {
   "cell_type": "code",
   "execution_count": 21,
   "metadata": {
    "collapsed": true
   },
   "outputs": [],
   "source": [
    "docs = [\"data science\", \"big data\", \"science fiction\"]"
   ]
  },
  {
   "cell_type": "code",
   "execution_count": 22,
   "metadata": {},
   "outputs": [
    {
     "name": "stdout",
     "output_type": "stream",
     "text": [
      "defaultdict(<class 'list'>, {'data': [1, 1], 'science': [1, 1], 'big': [1], 'fiction': [1]})\n"
     ]
    },
    {
     "data": {
      "text/plain": [
       "[('data', 2), ('science', 2), ('big', 1), ('fiction', 1)]"
      ]
     },
     "execution_count": 22,
     "metadata": {},
     "output_type": "execute_result"
    }
   ],
   "source": [
    "word_count(docs)"
   ]
  },
  {
   "cell_type": "code",
   "execution_count": 74,
   "metadata": {},
   "outputs": [
    {
     "data": {
      "text/plain": [
       "[('data', 2), ('science', 2), ('big', 1), ('fiction', 1)]"
      ]
     },
     "execution_count": 74,
     "metadata": {},
     "output_type": "execute_result"
    }
   ],
   "source": [
    "def map_reduce(inputs, mapper, reducer):\n",
    "\n",
    "    collector = defaultdict(list)\n",
    "\n",
    "    for input in inputs:\n",
    "        for key, value in mapper(input):\n",
    "            collector[key].append(value)\n",
    "\n",
    "    return [output\n",
    "            for key, values in collector.items()\n",
    "            for output in reducer(key,values)]\n",
    "\n",
    "map_reduce(docs, wc_mapper, wc_reducer)"
   ]
  },
  {
   "cell_type": "code",
   "execution_count": 75,
   "metadata": {
    "collapsed": true
   },
   "outputs": [],
   "source": [
    "def matrix_multiply_mapper(m, element):\n",
    "\n",
    "    \"\"\"m is the common dimension (columns of A, rows of B)\n",
    "    element is a tuple (matrix_name, i, j, value)\"\"\"\n",
    "    \n",
    "    name, i, j, value = element\n",
    "    if name == \"A\":\n",
    "        # A_ij is the jth entry in the sum for each C_ik, k=1..m\n",
    "        for k in range(m):\n",
    "            # group with other entries for C_ik\n",
    "            yield((i, k), (j, value))\n",
    "    else:\n",
    "        # B_ij is the i-th entry in the sum for each C_kj\n",
    "        for k in range(m):\n",
    "            # group with other entries for C_kj\n",
    "            yield((k, j), (i, value))\n"
   ]
  },
  {
   "cell_type": "code",
   "execution_count": 88,
   "metadata": {
    "collapsed": true
   },
   "outputs": [],
   "source": [
    "def matrix_multiply_reducer(m, key, indexed_values):\n",
    "    \n",
    "    results_by_index = defaultdict(list)\n",
    "    \n",
    "    for index, value in indexed_values:\n",
    "        results_by_index[index].append(value)\n",
    "       \n",
    "    # sum up all the products of the positions with two results\n",
    "    sum_product = sum(results[0] * results[1]\n",
    "                      for results in results_by_index.values()\n",
    "                      if len(results) == 2)\n",
    "    if sum_product != 0.0:\n",
    "        yield (key, sum_product)\n",
    "        "
   ]
  },
  {
   "cell_type": "code",
   "execution_count": 89,
   "metadata": {
    "collapsed": true
   },
   "outputs": [],
   "source": [
    "entries = [(\"A\", 0, 0, 3), (\"A\", 0, 1, 2),\n",
    "           (\"B\", 0, 0, 4), (\"B\", 0, 1, -1), (\"B\", 1, 0, 10)]"
   ]
  },
  {
   "cell_type": "code",
   "execution_count": 90,
   "metadata": {},
   "outputs": [
    {
     "data": {
      "text/plain": [
       "[((0, 1), (0, -1)), ((1, 1), (0, -1)), ((2, 1), (0, -1))]"
      ]
     },
     "execution_count": 90,
     "metadata": {},
     "output_type": "execute_result"
    }
   ],
   "source": [
    "list(matrix_multiply_mapper(3, entries[3]))"
   ]
  },
  {
   "cell_type": "code",
   "execution_count": 91,
   "metadata": {},
   "outputs": [
    {
     "name": "stdout",
     "output_type": "stream",
     "text": [
      "[(0, 3), (1, 2), (0, 4), (1, 10)]\n",
      "[(0, 3), (1, 2), (0, -1)]\n",
      "[(0, 3), (1, 2)]\n",
      "[(0, 4), (1, 10)]\n",
      "[(0, 4), (1, 10)]\n",
      "[(0, -1)]\n",
      "[(0, -1)]\n"
     ]
    },
    {
     "data": {
      "text/plain": [
       "[((0, 0), 32), ((0, 1), -3)]"
      ]
     },
     "execution_count": 91,
     "metadata": {},
     "output_type": "execute_result"
    }
   ],
   "source": [
    "from functools import partial \n",
    "mapper = partial(matrix_multiply_mapper, 3)\n",
    "reducer = partial(matrix_multiply_reducer, 3)\n",
    "map_reduce(entries, mapper, reducer)"
   ]
  },
  {
   "cell_type": "code",
   "execution_count": null,
   "metadata": {
    "collapsed": true
   },
   "outputs": [],
   "source": []
  }
 ],
 "metadata": {
  "kernelspec": {
   "display_name": "Python 3",
   "language": "python",
   "name": "python3"
  },
  "language_info": {
   "codemirror_mode": {
    "name": "ipython",
    "version": 3
   },
   "file_extension": ".py",
   "mimetype": "text/x-python",
   "name": "python",
   "nbconvert_exporter": "python",
   "pygments_lexer": "ipython3",
   "version": "3.6.1"
  }
 },
 "nbformat": 4,
 "nbformat_minor": 2
}
