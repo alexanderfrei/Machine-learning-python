{
 "cells": [
  {
   "cell_type": "code",
   "execution_count": 1,
   "metadata": {},
   "outputs": [],
   "source": [
    "import pandas as pd \n",
    "import numpy as np\n",
    "import os \n",
    "from sklearn.metrics import roc_auc_score"
   ]
  },
  {
   "cell_type": "code",
   "execution_count": 2,
   "metadata": {},
   "outputs": [
    {
     "name": "stdout",
     "output_type": "stream",
     "text": [
      "cnn_2d_conv.csv\n",
      "cnn_bi_lstm.csv\n",
      "cnn_capsule.csv\n",
      "cnn_conv1D_num.csv\n",
      "NN_GRU_pooling.csv\n",
      "train_oof_lgbm.csv\n",
      "train_oof_lr.csv\n",
      "train_oof_nb.csv\n",
      "train_oof_wb.csv\n"
     ]
    }
   ],
   "source": [
    "train = {}\n",
    "for f in os.listdir(\"../output/train/\"):\n",
    "    print(f)\n",
    "    train[f] = pd.read_csv(\"../output/train/\"+f)"
   ]
  },
  {
   "cell_type": "code",
   "execution_count": 3,
   "metadata": {},
   "outputs": [],
   "source": [
    "columns = ['id', 'toxic_oof', 'severe_toxic_oof', 'obscene_oof', 'threat_oof', 'insult_oof', 'identity_hate_oof']\n",
    "train['train_oof_lgbm.csv'] = train['train_oof_lgbm.csv'][columns]\n",
    "train['train_oof_wb.csv'] = train['train_oof_wb.csv'][columns]"
   ]
  },
  {
   "cell_type": "code",
   "execution_count": 4,
   "metadata": {},
   "outputs": [],
   "source": [
    "for name, df in train.items():\n",
    "    if df.shape[0] != 159571: print(\"test: %s\" %name)\n",
    "    if df.shape[1] != 7: print(\"more columns: %s\" %name)"
   ]
  },
  {
   "cell_type": "code",
   "execution_count": 5,
   "metadata": {},
   "outputs": [
    {
     "name": "stdout",
     "output_type": "stream",
     "text": [
      "cnn_2d_conv.csv\n",
      "cnn_bi_lstm.csv\n",
      "cnn_capsule.csv\n",
      "cnn_conv1D_num.csv\n",
      "NN_GRU_pooling.csv\n",
      "test_oof_lgbm.csv\n",
      "test_oof_lr.csv\n",
      "test_oof_nb.csv\n",
      "test_oof_wb.csv\n"
     ]
    }
   ],
   "source": [
    "test = {}\n",
    "for f in os.listdir(\"../output/test/\"):\n",
    "    print(f)\n",
    "    test[f] = pd.read_csv(\"../output/test/\"+f)"
   ]
  },
  {
   "cell_type": "code",
   "execution_count": 6,
   "metadata": {},
   "outputs": [],
   "source": [
    "for name, df in test.items():\n",
    "#     if df.shape[0] != 159571: print(\"test: %s\" %name)\n",
    "    if df.shape[1] != 7: print(\"more columns: %s\" %name)"
   ]
  },
  {
   "cell_type": "code",
   "execution_count": 7,
   "metadata": {},
   "outputs": [
    {
     "name": "stdout",
     "output_type": "stream",
     "text": [
      "0\n",
      "0\n",
      "0\n",
      "0\n",
      "0\n",
      "0\n",
      "0\n",
      "0\n",
      "0\n"
     ]
    }
   ],
   "source": [
    "# test['NN_GRU_pooling.csv'].iloc[:, 1:]\n",
    "idx = test['NN_GRU_pooling.csv']['id']\n",
    "for k in test.keys():\n",
    "    print(np.sum(test[k]['id'] != idx))"
   ]
  },
  {
   "cell_type": "code",
   "execution_count": 8,
   "metadata": {},
   "outputs": [
    {
     "data": {
      "text/plain": [
       "0    True\n",
       "1    True\n",
       "2    True\n",
       "3    True\n",
       "4    True\n",
       "5    True\n",
       "6    True\n",
       "7    True\n",
       "8    True\n",
       "9    True\n",
       "Name: id, dtype: bool"
      ]
     },
     "execution_count": 8,
     "metadata": {},
     "output_type": "execute_result"
    }
   ],
   "source": [
    "idx.head(10) == train['NN_GRU_pooling.csv']['id'].head(10)"
   ]
  },
  {
   "cell_type": "code",
   "execution_count": 9,
   "metadata": {},
   "outputs": [],
   "source": [
    "# # test['NN_GRU_pooling.csv'].iloc[:, 1:]\n",
    "# for k in train.keys():\n",
    "#     print(np.sum(train[k]['id'] != idx))"
   ]
  },
  {
   "cell_type": "code",
   "execution_count": 10,
   "metadata": {},
   "outputs": [],
   "source": [
    "train_input = pd.read_csv(\"../input/train.csv\")"
   ]
  },
  {
   "cell_type": "code",
   "execution_count": 11,
   "metadata": {},
   "outputs": [],
   "source": [
    "arr = np.zeros((9, train_input.shape[0], 6))\n",
    "i = 0\n",
    "for k in train.keys():\n",
    "    arr[i,:,:] = train[k].iloc[:, 1:]\n",
    "    i = i + 1"
   ]
  },
  {
   "cell_type": "code",
   "execution_count": 12,
   "metadata": {},
   "outputs": [],
   "source": [
    "corr_train = np.zeros((9, 9, 6))\n",
    "for c in range(6):\n",
    "    for i in range(9):\n",
    "        for j in range(i+1, 9):\n",
    "            corr_train[i,j,c] = np.corrcoef(x=arr[i,:,c], y=arr[j,:,c])[0,1]"
   ]
  },
  {
   "cell_type": "code",
   "execution_count": 13,
   "metadata": {},
   "outputs": [],
   "source": [
    "target = train_input.iloc[:, 2:].values"
   ]
  },
  {
   "cell_type": "code",
   "execution_count": 14,
   "metadata": {},
   "outputs": [],
   "source": [
    "scores = [roc_auc_score(target, arr[i,:,:]) for i in range(9)]"
   ]
  },
  {
   "cell_type": "code",
   "execution_count": 15,
   "metadata": {},
   "outputs": [
    {
     "data": {
      "text/plain": [
       "[(0.98709519515642175, 'cnn_2d_conv.csv'),\n",
       " (0.98690860151520166, 'cnn_bi_lstm.csv'),\n",
       " (0.98515369775656481, 'cnn_capsule.csv'),\n",
       " (0.98519169849234611, 'cnn_conv1D_num.csv'),\n",
       " (0.98596544883295978, 'NN_GRU_pooling.csv'),\n",
       " (0.97854726461641839, 'train_oof_lgbm.csv'),\n",
       " (0.98611238536201207, 'train_oof_lr.csv'),\n",
       " (0.98258157084229814, 'train_oof_nb.csv'),\n",
       " (0.9824335204725213, 'train_oof_wb.csv')]"
      ]
     },
     "execution_count": 15,
     "metadata": {},
     "output_type": "execute_result"
    }
   ],
   "source": [
    "list(zip(scores, train.keys()))"
   ]
  },
  {
   "cell_type": "markdown",
   "metadata": {},
   "source": [
    "BLENDING"
   ]
  },
  {
   "cell_type": "code",
   "execution_count": 16,
   "metadata": {},
   "outputs": [
    {
     "data": {
      "text/plain": [
       "0.99094097708271311"
      ]
     },
     "execution_count": 16,
     "metadata": {},
     "output_type": "execute_result"
    }
   ],
   "source": [
    "# average\n",
    "roc_auc_score(target, arr.sum(axis=0)/9)"
   ]
  },
  {
   "cell_type": "code",
   "execution_count": 17,
   "metadata": {},
   "outputs": [],
   "source": [
    "# average + rank\n",
    "def np_rank(array, prob=True):\n",
    "    \"\"\" ranking 2D array by columns \"\"\"\n",
    "    assert len(array.shape) == 2, \"wrong shape\"\n",
    "    ranks = np.empty_like(array)\n",
    "    for i in np.arange(array.shape[1]):\n",
    "        temp = array[:, i].argsort()\n",
    "        ranks[temp, i] = np.arange(len(array))\n",
    "    if prob: return ranks/array.shape[0]\n",
    "    else: return ranks\n",
    "    \n",
    "arr_ranked = np.zeros_like(arr)\n",
    "for i in range(9):\n",
    "    arr_ranked[i,:,:] = np_rank(arr[i,:,:], False)\n",
    "arr_ranked += 1"
   ]
  },
  {
   "cell_type": "code",
   "execution_count": 18,
   "metadata": {},
   "outputs": [
    {
     "data": {
      "text/plain": [
       "0.98995797025260679"
      ]
     },
     "execution_count": 18,
     "metadata": {},
     "output_type": "execute_result"
    }
   ],
   "source": [
    "roc_auc_score(target, arr_ranked.sum(axis=0)/9)"
   ]
  },
  {
   "cell_type": "code",
   "execution_count": 19,
   "metadata": {},
   "outputs": [],
   "source": [
    "corr_train_ranked = np.zeros((9, 9, 6))\n",
    "for c in range(6):\n",
    "    for i in range(9):\n",
    "        for j in range(i+1, 9):\n",
    "            corr_train_ranked[i,j,c] = np.corrcoef(x=arr_ranked[i,:,c], y=arr_ranked[j,:,c])[0,1]"
   ]
  },
  {
   "cell_type": "code",
   "execution_count": 20,
   "metadata": {},
   "outputs": [
    {
     "data": {
      "text/html": [
       "<div>\n",
       "<style>\n",
       "    .dataframe thead tr:only-child th {\n",
       "        text-align: right;\n",
       "    }\n",
       "\n",
       "    .dataframe thead th {\n",
       "        text-align: left;\n",
       "    }\n",
       "\n",
       "    .dataframe tbody tr th {\n",
       "        vertical-align: top;\n",
       "    }\n",
       "</style>\n",
       "<table border=\"1\" class=\"dataframe\">\n",
       "  <thead>\n",
       "    <tr style=\"text-align: right;\">\n",
       "      <th></th>\n",
       "      <th>0</th>\n",
       "      <th>1</th>\n",
       "      <th>2</th>\n",
       "      <th>3</th>\n",
       "      <th>4</th>\n",
       "      <th>5</th>\n",
       "      <th>6</th>\n",
       "      <th>7</th>\n",
       "      <th>8</th>\n",
       "    </tr>\n",
       "  </thead>\n",
       "  <tbody>\n",
       "    <tr>\n",
       "      <th>0</th>\n",
       "      <td>0.0</td>\n",
       "      <td>0.713418</td>\n",
       "      <td>0.490468</td>\n",
       "      <td>0.771218</td>\n",
       "      <td>0.715602</td>\n",
       "      <td>0.271843</td>\n",
       "      <td>0.640883</td>\n",
       "      <td>0.566598</td>\n",
       "      <td>0.228384</td>\n",
       "    </tr>\n",
       "    <tr>\n",
       "      <th>1</th>\n",
       "      <td>0.0</td>\n",
       "      <td>0.000000</td>\n",
       "      <td>0.530570</td>\n",
       "      <td>0.744964</td>\n",
       "      <td>0.699499</td>\n",
       "      <td>0.272909</td>\n",
       "      <td>0.601381</td>\n",
       "      <td>0.534581</td>\n",
       "      <td>0.202075</td>\n",
       "    </tr>\n",
       "    <tr>\n",
       "      <th>2</th>\n",
       "      <td>0.0</td>\n",
       "      <td>0.000000</td>\n",
       "      <td>0.000000</td>\n",
       "      <td>0.511163</td>\n",
       "      <td>0.467078</td>\n",
       "      <td>0.286517</td>\n",
       "      <td>0.418464</td>\n",
       "      <td>0.383094</td>\n",
       "      <td>0.172018</td>\n",
       "    </tr>\n",
       "    <tr>\n",
       "      <th>3</th>\n",
       "      <td>0.0</td>\n",
       "      <td>0.000000</td>\n",
       "      <td>0.000000</td>\n",
       "      <td>0.000000</td>\n",
       "      <td>0.721090</td>\n",
       "      <td>0.236588</td>\n",
       "      <td>0.586024</td>\n",
       "      <td>0.539777</td>\n",
       "      <td>0.207494</td>\n",
       "    </tr>\n",
       "    <tr>\n",
       "      <th>4</th>\n",
       "      <td>0.0</td>\n",
       "      <td>0.000000</td>\n",
       "      <td>0.000000</td>\n",
       "      <td>0.000000</td>\n",
       "      <td>0.000000</td>\n",
       "      <td>0.248195</td>\n",
       "      <td>0.574379</td>\n",
       "      <td>0.575046</td>\n",
       "      <td>0.242599</td>\n",
       "    </tr>\n",
       "    <tr>\n",
       "      <th>5</th>\n",
       "      <td>0.0</td>\n",
       "      <td>0.000000</td>\n",
       "      <td>0.000000</td>\n",
       "      <td>0.000000</td>\n",
       "      <td>0.000000</td>\n",
       "      <td>0.000000</td>\n",
       "      <td>0.337988</td>\n",
       "      <td>0.271887</td>\n",
       "      <td>0.148414</td>\n",
       "    </tr>\n",
       "    <tr>\n",
       "      <th>6</th>\n",
       "      <td>0.0</td>\n",
       "      <td>0.000000</td>\n",
       "      <td>0.000000</td>\n",
       "      <td>0.000000</td>\n",
       "      <td>0.000000</td>\n",
       "      <td>0.000000</td>\n",
       "      <td>0.000000</td>\n",
       "      <td>0.647188</td>\n",
       "      <td>0.391408</td>\n",
       "    </tr>\n",
       "    <tr>\n",
       "      <th>7</th>\n",
       "      <td>0.0</td>\n",
       "      <td>0.000000</td>\n",
       "      <td>0.000000</td>\n",
       "      <td>0.000000</td>\n",
       "      <td>0.000000</td>\n",
       "      <td>0.000000</td>\n",
       "      <td>0.000000</td>\n",
       "      <td>0.000000</td>\n",
       "      <td>0.397262</td>\n",
       "    </tr>\n",
       "    <tr>\n",
       "      <th>8</th>\n",
       "      <td>0.0</td>\n",
       "      <td>0.000000</td>\n",
       "      <td>0.000000</td>\n",
       "      <td>0.000000</td>\n",
       "      <td>0.000000</td>\n",
       "      <td>0.000000</td>\n",
       "      <td>0.000000</td>\n",
       "      <td>0.000000</td>\n",
       "      <td>0.000000</td>\n",
       "    </tr>\n",
       "  </tbody>\n",
       "</table>\n",
       "</div>"
      ],
      "text/plain": [
       "     0         1         2         3         4         5         6         7  \\\n",
       "0  0.0  0.713418  0.490468  0.771218  0.715602  0.271843  0.640883  0.566598   \n",
       "1  0.0  0.000000  0.530570  0.744964  0.699499  0.272909  0.601381  0.534581   \n",
       "2  0.0  0.000000  0.000000  0.511163  0.467078  0.286517  0.418464  0.383094   \n",
       "3  0.0  0.000000  0.000000  0.000000  0.721090  0.236588  0.586024  0.539777   \n",
       "4  0.0  0.000000  0.000000  0.000000  0.000000  0.248195  0.574379  0.575046   \n",
       "5  0.0  0.000000  0.000000  0.000000  0.000000  0.000000  0.337988  0.271887   \n",
       "6  0.0  0.000000  0.000000  0.000000  0.000000  0.000000  0.000000  0.647188   \n",
       "7  0.0  0.000000  0.000000  0.000000  0.000000  0.000000  0.000000  0.000000   \n",
       "8  0.0  0.000000  0.000000  0.000000  0.000000  0.000000  0.000000  0.000000   \n",
       "\n",
       "          8  \n",
       "0  0.228384  \n",
       "1  0.202075  \n",
       "2  0.172018  \n",
       "3  0.207494  \n",
       "4  0.242599  \n",
       "5  0.148414  \n",
       "6  0.391408  \n",
       "7  0.397262  \n",
       "8  0.000000  "
      ]
     },
     "execution_count": 20,
     "metadata": {},
     "output_type": "execute_result"
    }
   ],
   "source": [
    "pd.DataFrame(corr_train_ranked[:,:,3])"
   ]
  },
  {
   "cell_type": "code",
   "execution_count": 21,
   "metadata": {},
   "outputs": [],
   "source": [
    "## HMEAN\n",
    "\n",
    "from scipy.stats import hmean\n",
    "# hmean(arr_ranked, axis=0)"
   ]
  },
  {
   "cell_type": "code",
   "execution_count": 22,
   "metadata": {},
   "outputs": [],
   "source": [
    "hmean_proba = np.power(np.power(arr_ranked, -1).sum(axis=0), -1)\n",
    "hmean_proba *= 9\n",
    "hmean_proba /= hmean_proba.max(0)"
   ]
  },
  {
   "cell_type": "code",
   "execution_count": 23,
   "metadata": {},
   "outputs": [
    {
     "data": {
      "text/plain": [
       "array([[ 0.21996686,  0.17960523,  0.08205559,  0.01923763,  0.07164118,\n",
       "         0.23414688],\n",
       "       [ 0.36330324,  0.29849675,  0.21959823,  0.24741893,  0.34398114,\n",
       "         0.063213  ],\n",
       "       [ 0.5296202 ,  0.13279321,  0.23750357,  0.17211049,  0.40544446,\n",
       "         0.06720217],\n",
       "       ..., \n",
       "       [ 0.70388144,  0.03904969,  0.58640402,  0.44345498,  0.63789527,\n",
       "         0.61407199],\n",
       "       [ 0.46637805,  0.16225647,  0.3137666 ,  0.40242958,  0.4239803 ,\n",
       "         0.17412582],\n",
       "       [ 0.72694848,  0.54641106,  0.69332158,  0.66725651,  0.65647486,\n",
       "         0.47529344]])"
      ]
     },
     "execution_count": 23,
     "metadata": {},
     "output_type": "execute_result"
    }
   ],
   "source": [
    "hmean_proba"
   ]
  },
  {
   "cell_type": "code",
   "execution_count": 24,
   "metadata": {},
   "outputs": [
    {
     "data": {
      "text/plain": [
       "0.98829456026896312"
      ]
     },
     "execution_count": 24,
     "metadata": {},
     "output_type": "execute_result"
    }
   ],
   "source": [
    "roc_auc_score(target, hmean_proba)"
   ]
  },
  {
   "cell_type": "markdown",
   "metadata": {},
   "source": [
    "OPTIMAL WEIGHTS"
   ]
  },
  {
   "cell_type": "code",
   "execution_count": 219,
   "metadata": {},
   "outputs": [],
   "source": [
    "from scipy.optimize import minimize"
   ]
  },
  {
   "cell_type": "code",
   "execution_count": 249,
   "metadata": {},
   "outputs": [],
   "source": [
    "def cost_function(w):\n",
    "    w = np.array(w).reshape(1,9)\n",
    "    return 1 - roc_auc_score(target, np.tensordot(w, arr, axes=([1],[0]))[0]/np.sum(w))"
   ]
  },
  {
   "cell_type": "code",
   "execution_count": 251,
   "metadata": {},
   "outputs": [
    {
     "data": {
      "text/plain": [
       "0.0090590229172868852"
      ]
     },
     "execution_count": 251,
     "metadata": {},
     "output_type": "execute_result"
    }
   ],
   "source": [
    "w0 = [1,1,1,1,1,1,1,1,1]\n",
    "cost_function(w0)"
   ]
  },
  {
   "cell_type": "code",
   "execution_count": 285,
   "metadata": {},
   "outputs": [],
   "source": [
    "w_opt = res.copy()"
   ]
  },
  {
   "cell_type": "code",
   "execution_count": 301,
   "metadata": {},
   "outputs": [
    {
     "data": {
      "text/plain": [
       "{'final_simplex': (array([[ 1.13850466,  1.63472416,  0.86600171,  0.41580508,  1.40662179,\n",
       "           1.37803494,  0.28409879,  1.22928972,  0.61248468],\n",
       "         [ 1.1385048 ,  1.63472393,  0.86600162,  0.41580523,  1.40662175,\n",
       "           1.378035  ,  0.28409886,  1.22928969,  0.61248459],\n",
       "         [ 1.1385047 ,  1.63472413,  0.86600177,  0.41580496,  1.40662175,\n",
       "           1.37803506,  0.28409882,  1.22928971,  0.61248469],\n",
       "         [ 1.13850481,  1.63472402,  0.86600169,  0.41580516,  1.40662178,\n",
       "           1.37803501,  0.28409879,  1.22928972,  0.61248455],\n",
       "         [ 1.13850465,  1.63472408,  0.8660018 ,  0.41580512,  1.40662182,\n",
       "           1.3780348 ,  0.28409882,  1.22928975,  0.61248465],\n",
       "         [ 1.13850471,  1.634724  ,  0.86600177,  0.4158049 ,  1.40662181,\n",
       "           1.37803509,  0.28409881,  1.22928972,  0.61248473],\n",
       "         [ 1.1385046 ,  1.63472433,  0.86600192,  0.41580474,  1.40662164,\n",
       "           1.37803512,  0.28409881,  1.2292897 ,  0.61248483],\n",
       "         [ 1.13850482,  1.63472391,  0.86600186,  0.41580467,  1.40662186,\n",
       "           1.37803531,  0.28409879,  1.22928973,  0.61248465],\n",
       "         [ 1.13850492,  1.63472373,  0.86600137,  0.41580568,  1.40662189,\n",
       "           1.37803486,  0.28409881,  1.2292897 ,  0.61248439],\n",
       "         [ 1.13850466,  1.63472383,  0.8660017 ,  0.41580509,  1.40662188,\n",
       "           1.37803488,  0.28409884,  1.22928972,  0.61248481]]),\n",
       "  array([ 0.0087638,  0.0087638,  0.0087638,  0.0087638,  0.0087638,\n",
       "          0.0087638,  0.0087638,  0.0087638,  0.0087638,  0.0087638])),\n",
       " 'fun': 0.0087638008918258237,\n",
       " 'message': 'Optimization terminated successfully.',\n",
       " 'nfev': 668,\n",
       " 'nit': 383,\n",
       " 'status': 0,\n",
       " 'success': True,\n",
       " 'x': array([ 1.13850466,  1.63472416,  0.86600171,  0.41580508,  1.40662179,\n",
       "         1.37803494,  0.28409879,  1.22928972,  0.61248468])}"
      ]
     },
     "execution_count": 301,
     "metadata": {},
     "output_type": "execute_result"
    }
   ],
   "source": [
    "w_opt"
   ]
  },
  {
   "cell_type": "code",
   "execution_count": 322,
   "metadata": {},
   "outputs": [
    {
     "name": "stdout",
     "output_type": "stream",
     "text": [
      "50 ['1.40', '1.51', '1.19', '0.32', '1.07', '0.83', '1.20', '0.80', '0.87'] 0.00997509203253\n",
      "100 ['1.76', '1.83', '0.99', '0.61', '0.84', '0.79', '1.29', '0.38', '0.77'] 0.00994658595017\n",
      "150 ['1.65', '1.96', '0.97', '0.52', '0.72', '0.85', '1.20', '0.44', '0.83'] 0.00993943613635\n",
      "200 ['1.58', '2.03', '0.90', '0.52', '0.64', '0.91', '1.09', '0.53', '0.90'] 0.00993804993586\n",
      "250 ['1.62', '2.11', '0.81', '0.57', '0.69', '0.89', '1.12', '0.49', '0.92'] 0.00993654102988\n",
      "300 ['1.60', '2.11', '0.80', '0.59', '0.67', '0.90', '1.13', '0.49', '0.93'] 0.00993619803503\n",
      "350 ['1.60', '2.12', '0.81', '0.59', '0.66', '0.90', '1.13', '0.49', '0.93'] 0.00993618458245\n",
      "400 ['1.60', '2.12', '0.80', '0.59', '0.66', '0.90', '1.13', '0.49', '0.93'] 0.00993612634749\n",
      "450 ['1.60', '2.12', '0.80', '0.59', '0.66', '0.90', '1.13', '0.49', '0.93'] 0.00993610995204\n",
      "500 ['1.60', '2.12', '0.80', '0.59', '0.66', '0.90', '1.13', '0.49', '0.93'] 0.00993609932943\n",
      "550 ['1.60', '2.12', '0.80', '0.59', '0.66', '0.90', '1.13', '0.49', '0.93'] 0.00993609428284\n",
      "Optimization terminated successfully.\n",
      "         Current function value: 0.009936\n",
      "         Iterations: 313\n",
      "         Function evaluations: 566\n"
     ]
    }
   ],
   "source": [
    "def cost_function(w, info):\n",
    "    \n",
    "    w = np.array(w).reshape(1,9)\n",
    "    score = 1 - roc_auc_score(target, np.tensordot(w, arr_ranked, axes=([1],[0]))[0]/np.sum(w))\n",
    "    \n",
    "    # verbose\n",
    "    if info['itera'] % 50 == 0: \n",
    "        print(info['itera'], [\"%.2f\"%i for i in w[0]], score)\n",
    "    info['itera'] += 1\n",
    "    \n",
    "    return score\n",
    "\n",
    "w0 = [1,1,1,1,1,1,1,1,1]\n",
    "res = minimize(cost_function, w0, method='Nelder-Mead', tol=1e-6, args=({'itera':1},),\n",
    "               options={'maxiter': 2000, 'disp': True})"
   ]
  },
  {
   "cell_type": "code",
   "execution_count": 323,
   "metadata": {},
   "outputs": [],
   "source": [
    "from scipy.optimize import differential_evolution"
   ]
  },
  {
   "cell_type": "code",
   "execution_count": 324,
   "metadata": {},
   "outputs": [
    {
     "name": "stdout",
     "output_type": "stream",
     "text": [
      "50 ['3.78', '3.29', '1.26', '2.64', '2.89', '2.92', '2.92', '1.23', '3.64'] 0.0100391843027\n",
      "100 ['3.73', '1.26', '2.19', '3.93', '1.04', '0.76', '2.38', '1.64', '0.32'] 0.0102681810555\n",
      "150 ['2.00', '3.35', '0.61', '2.25', '3.71', '2.19', '3.79', '3.71', '3.06'] 0.0101714833392\n",
      "200 ['0.43', '3.44', '3.16', '1.86', '2.02', '2.74', '2.86', '0.94', '3.85'] 0.0101095266174\n",
      "250 ['0.67', '3.46', '2.66', '1.16', '3.61', '1.54', '3.81', '1.27', '1.01'] 0.0100872930783\n",
      "300 ['3.20', '3.18', '1.44', '2.82', '2.66', '0.25', '3.84', '2.85', '3.88'] 0.0101757208629\n",
      "350 ['0.69', '0.59', '1.87', '3.46', '2.25', '2.89', '2.14', '1.04', '2.31'] 0.0102794104563\n",
      "differential_evolution step 1: f(x)= 0.0099688\n",
      "400 ['1.05', '2.57', '0.59', '0.44', '0.45', '2.29', '3.03', '1.66', '1.92'] 0.0102542148293\n",
      "450 ['1.88', '3.79', '2.40', '2.75', '1.90', '1.07', '1.30', '1.51', '2.17'] 0.0100294496204\n",
      "500 ['3.29', '3.42', '1.15', '0.65', '1.45', '3.35', '3.21', '2.14', '0.68'] 0.0101085610807\n",
      "differential_evolution step 2: f(x)= 0.00996294\n",
      "550 ['3.87', '0.64', '1.22', '3.12', '2.02', '1.14', '1.56', '0.35', '1.80'] 0.0101941374486\n",
      "600 ['2.83', '3.64', '2.54', '0.85', '1.40', '1.92', '0.72', '1.05', '1.24'] 0.0100186415799\n",
      "650 ['3.11', '2.73', '2.29', '2.57', '1.79', '2.52', '1.99', '0.23', '1.86'] 0.0100215815665\n",
      "700 ['3.69', '1.42', '2.07', '0.97', '1.00', '2.31', '1.92', '0.95', '2.10'] 0.0100459795288\n",
      "differential_evolution step 3: f(x)= 0.00995993\n",
      "750 ['0.28', '2.09', '2.05', '1.39', '2.35', '2.06', '2.79', '1.65', '2.52'] 0.0101367272459\n",
      "800 ['2.80', '2.64', '1.30', '0.95', '1.68', '1.98', '2.15', '1.24', '2.47'] 0.0100002206363\n",
      "850 ['1.01', '3.15', '1.14', '1.67', '2.64', '2.21', '2.68', '2.25', '1.55'] 0.0100724736072\n",
      "900 ['1.23', '2.55', '0.98', '2.33', '1.10', '0.95', '0.91', '1.71', '2.58'] 0.0101157871241\n",
      "differential_evolution step 4: f(x)= 0.00995871\n",
      "950 ['3.78', '3.29', '1.75', '1.96', '2.89', '2.14', '2.92', '1.31', '1.46'] 0.00998639126926\n",
      "1000 ['1.53', '3.68', '3.14', '1.08', '0.53', '2.00', '1.33', '1.79', '1.49'] 0.0100442839118\n",
      "1050 ['1.66', '0.65', '2.13', '1.30', '0.64', '1.02', '1.72', '0.72', '1.79'] 0.0101021323151\n",
      "differential_evolution step 5: f(x)= 0.00994587\n",
      "1100 ['2.62', '1.50', '1.40', '1.95', '3.10', '2.17', '2.14', '2.21', '2.56'] 0.0101146776455\n",
      "1150 ['2.89', '3.72', '1.14', '0.36', '0.24', '1.26', '2.27', '0.96', '1.01'] 0.00997512844119\n",
      "1200 ['1.94', '3.57', '1.73', '1.39', '0.41', '1.99', '1.84', '1.70', '2.22'] 0.00999899205188\n",
      "1250 ['3.07', '2.86', '0.95', '1.01', '2.05', '1.87', '2.43', '1.25', '2.13'] 0.0099896133652\n",
      "differential_evolution step 6: f(x)= 0.00994587\n",
      "1300 ['2.71', '3.82', '1.29', '0.55', '0.85', '2.12', '1.87', '1.99', '1.49'] 0.00999097062752\n",
      "1350 ['2.85', '3.42', '0.85', '2.26', '0.59', '0.62', '1.85', '1.28', '1.27'] 0.0100209055659\n",
      "1400 ['3.37', '3.63', '0.80', '1.54', '0.22', '0.54', '1.49', '0.85', '1.91'] 0.0100214460687\n",
      "differential_evolution step 7: f(x)= 0.00994476\n",
      "1450 ['3.40', '1.77', '1.11', '0.79', '1.65', '1.69', '2.04', '0.96', '2.16'] 0.0100269381611\n",
      "1500 ['2.83', '3.68', '1.38', '1.51', '0.62', '1.14', '2.03', '0.65', '2.10'] 0.00995862650826\n",
      "1550 ['3.79', '3.90', '2.58', '2.57', '0.73', '1.85', '2.11', '0.94', '1.83'] 0.00997651722771\n",
      "1600 ['2.38', '3.67', '0.95', '1.74', '1.44', '1.91', '1.92', '1.56', '2.41'] 0.00998371030751\n",
      "differential_evolution step 8: f(x)= 0.00994027\n",
      "1650 ['3.75', '3.53', '2.24', '1.03', '0.64', '1.18', '2.69', '1.10', '1.92'] 0.00996094977627\n",
      "1700 ['3.66', '0.52', '2.33', '1.31', '1.78', '1.77', '1.04', '1.24', '1.73'] 0.0100941988126\n",
      "1750 ['2.10', '3.89', '2.06', '2.09', '0.57', '0.42', '1.86', '0.77', '2.91'] 0.0100618137506\n",
      "1800 ['1.91', '3.13', '1.94', '1.47', '1.49', '1.42', '2.22', '1.33', '2.11'] 0.00996853910393\n",
      "differential_evolution step 9: f(x)= 0.00994027\n",
      "1850 ['2.98', '3.95', '1.77', '0.91', '1.36', '1.39', '2.58', '0.92', '1.75'] 0.00993963652004\n",
      "1900 ['2.83', '3.76', '1.76', '0.63', '1.30', '1.46', '2.59', '0.91', '2.03'] 0.0099470697828\n",
      "1950 ['2.69', '3.13', '1.13', '2.13', '1.35', '0.76', '1.72', '0.89', '1.60'] 0.0099903818435\n",
      "differential_evolution step 10: f(x)= 0.00993848\n",
      "2000 ['3.02', '0.81', '1.92', '0.96', '0.28', '1.43', '1.12', '0.76', '1.38'] 0.0100671307029\n",
      "2050 ['2.97', '3.82', '1.27', '1.32', '1.05', '1.26', '1.89', '0.92', '1.62'] 0.00994142997895\n",
      "2100 ['2.91', '3.96', '2.08', '0.24', '1.32', '1.89', '2.92', '0.80', '1.10'] 0.00997796319748\n",
      "2150 ['2.27', '3.24', '2.24', '1.03', '1.74', '1.19', '2.52', '1.23', '1.59'] 0.00996309390891\n",
      "differential_evolution step 11: f(x)= 0.00993848\n",
      "2200 ['1.32', '3.04', '1.60', '1.19', '2.21', '1.04', '1.78', '1.61', '2.63'] 0.0100397172529\n",
      "2250 ['3.00', '3.61', '2.37', '0.91', '0.45', '2.02', '1.71', '0.73', '1.82'] 0.00997115825536\n",
      "2300 ['3.20', '3.61', '1.09', '1.12', '1.09', '0.80', '2.53', '0.87', '0.69'] 0.00999056066301\n",
      "differential_evolution step 12: f(x)= 0.00993848\n",
      "2350 ['2.54', '1.12', '1.96', '0.44', '1.71', '1.53', '2.48', '1.05', '1.65'] 0.0100472082248\n",
      "2400 ['3.73', '3.53', '1.38', '0.52', '1.81', '1.51', '2.44', '0.98', '1.80'] 0.00995266183635\n",
      "2450 ['3.23', '3.76', '1.83', '0.78', '1.26', '1.40', '2.30', '0.55', '1.42'] 0.00994949346432\n",
      "2500 ['2.64', '3.91', '1.55', '1.09', '2.92', '0.97', '2.23', '1.24', '1.57'] 0.00999465265496\n",
      "differential_evolution step 13: f(x)= 0.00993834\n",
      "2550 ['1.79', '3.81', '0.93', '1.09', '0.94', '1.44', '2.60', '0.74', '1.77'] 0.00996320494847\n",
      "2600 ['3.48', '3.63', '2.33', '1.30', '1.59', '1.36', '1.71', '1.33', '1.66'] 0.0099630320421\n",
      "2650 ['2.34', '0.66', '1.52', '1.00', '0.98', '1.12', '1.95', '1.29', '1.15'] 0.0100781878287\n",
      "2700 ['3.12', '3.88', '2.12', '0.94', '1.65', '1.35', '1.92', '0.95', '1.81'] 0.00995058273028\n",
      "differential_evolution step 14: f(x)= 0.00993834\n",
      "2750 ['3.32', '3.90', '1.63', '0.91', '0.94', '1.15', '1.98', '1.12', '1.75'] 0.00994683621779\n",
      "2800 ['2.83', '3.98', '2.15', '1.02', '1.13', '1.23', '2.21', '1.18', '2.05'] 0.00995030568175\n",
      "2850 ['2.73', '3.71', '1.44', '0.92', '1.26', '1.60', '1.80', '1.52', '2.00'] 0.00995212573941\n",
      "differential_evolution step 15: f(x)= 0.00993834\n",
      "2900 ['2.35', '3.42', '1.08', '1.38', '1.17', '1.02', '1.93', '1.18', '1.56'] 0.00995206297433\n",
      "2950 ['2.97', '3.82', '1.27', '1.40', '1.05', '1.73', '1.89', '0.97', '1.62'] 0.00994160818753\n",
      "3000 ['3.34', '3.85', '1.78', '1.39', '1.35', '1.53', '2.14', '0.84', '1.78'] 0.00994046755421\n",
      "3050 ['2.71', '3.78', '1.23', '1.02', '1.47', '1.19', '2.28', '0.89', '1.43'] 0.0099421881491\n",
      "differential_evolution step 16: f(x)= 0.00993784\n",
      "3100 ['2.49', '1.43', '2.10', '0.83', '1.11', '1.55', '2.94', '0.64', '1.40'] 0.0100269761535\n",
      "3150 ['3.18', '3.93', '1.16', '1.45', '1.10', '1.72', '2.83', '0.89', '1.94'] 0.00994828840576\n",
      "3200 ['2.75', '3.61', '1.85', '1.07', '1.54', '1.56', '2.34', '0.97', '1.89'] 0.00994091610178\n",
      "differential_evolution step 17: f(x)= 0.00993784\n",
      "3250 ['3.78', '3.89', '1.34', '1.03', '1.08', '1.52', '3.01', '0.61', '1.58'] 0.00995122158793\n",
      "3300 ['3.32', '3.94', '1.40', '1.29', '1.17', '1.52', '2.12', '1.13', '1.86'] 0.00993884037203\n",
      "3350 ['3.51', '3.83', '1.45', '1.05', '1.03', '1.30', '2.41', '1.01', '1.99'] 0.00994440286359\n",
      "3400 ['3.22', '3.75', '1.70', '0.96', '1.28', '1.57', '2.77', '0.88', '1.67'] 0.00994061569769\n",
      "differential_evolution step 18: f(x)= 0.00993784\n",
      "3450 ['3.65', '3.85', '1.24', '0.95', '1.73', '1.78', '2.57', '0.85', '1.98'] 0.00994735534233\n",
      "3500 ['2.97', '3.81', '1.28', '0.57', '0.58', '1.54', '2.26', '0.91', '1.66'] 0.00995050964696\n",
      "3550 ['2.45', '3.89', '1.94', '1.09', '1.38', '1.61', '2.75', '0.72', '1.56'] 0.00994692987119\n",
      "3600 ['3.55', '4.00', '1.73', '1.04', '1.27', '1.67', '2.42', '0.95', '2.04'] 0.00993827308832\n",
      "differential_evolution step 19: f(x)= 0.00993703\n",
      "3650 ['2.92', '0.29', '1.31', '0.91', '1.14', '1.32', '2.21', '0.87', '1.72'] 0.0101518454371\n",
      "3700 ['3.07', '3.98', '1.66', '0.93', '1.18', '1.64', '2.59', '0.88', '1.91'] 0.00993900472444\n",
      "3750 ['2.95', '3.89', '1.17', '1.10', '1.25', '1.62', '1.94', '0.74', '1.90'] 0.00994104631358\n",
      "differential_evolution step 20: f(x)= 0.00993626\n",
      "3800 ['3.22', '0.56', '1.29', '1.09', '1.35', '1.55', '2.61', '0.66', '1.85'] 0.0101285896601\n",
      "3850 ['2.98', '3.74', '1.26', '0.96', '1.24', '1.36', '2.26', '0.90', '1.68'] 0.00993739553281\n"
     ]
    },
    {
     "name": "stdout",
     "output_type": "stream",
     "text": [
      "3900 ['3.34', '3.85', '1.52', '0.97', '1.51', '1.58', '2.14', '0.59', '1.63'] 0.00994323108381\n",
      "3950 ['3.06', '4.00', '1.49', '0.74', '0.58', '1.52', '1.76', '0.82', '2.02'] 0.00995215411871\n",
      "differential_evolution step 21: f(x)= 0.00993626\n",
      "4000 ['2.76', '3.99', '1.32', '1.06', '1.02', '1.51', '2.32', '0.88', '1.65'] 0.00993688498265\n",
      "4050 ['2.90', '4.00', '1.60', '1.09', '1.26', '1.48', '2.31', '1.07', '1.75'] 0.00993686409966\n",
      "4100 ['3.23', '3.98', '1.70', '0.80', '1.36', '1.75', '2.56', '0.96', '1.82'] 0.00993918726968\n",
      "differential_evolution step 22: f(x)= 0.00993626\n",
      "4150 ['3.24', '3.91', '1.47', '1.02', '1.28', '1.53', '2.19', '0.86', '1.80'] 0.00993666964174\n",
      "4200 ['2.78', '3.94', '1.40', '0.80', '1.15', '1.52', '2.39', '0.77', '1.86'] 0.00994105202998\n",
      "4250 ['2.89', '3.85', '1.38', '0.85', '0.70', '1.22', '2.41', '0.77', '1.74'] 0.00994536632645\n",
      "4300 ['2.82', '3.84', '1.40', '0.81', '1.14', '1.44', '2.07', '0.65', '1.75'] 0.00993956816011\n",
      "differential_evolution step 23: f(x)= 0.00993626\n",
      "4350 ['2.75', '3.96', '1.29', '0.91', '1.48', '1.45', '2.22', '0.90', '1.51'] 0.00993933192833\n",
      "4400 ['3.27', '3.99', '1.18', '1.20', '1.30', '1.45', '2.23', '0.70', '1.69'] 0.00994057198457\n",
      "4450 ['3.00', '3.91', '1.69', '0.88', '1.22', '1.56', '2.06', '0.88', '1.48'] 0.00994032782025\n",
      "4500 ['2.87', '3.95', '1.21', '1.04', '1.08', '1.39', '2.42', '0.95', '2.04'] 0.00994431681577\n",
      "differential_evolution step 24: f(x)= 0.00993626\n",
      "4550 ['3.01', '3.90', '1.53', '0.75', '1.25', '1.56', '2.11', '1.11', '1.78'] 0.00993876655028\n",
      "4600 ['3.13', '3.96', '0.89', '0.99', '1.19', '1.32', '2.12', '0.94', '1.67'] 0.00994299899312\n",
      "4650 ['3.23', '3.46', '1.82', '1.10', '1.27', '1.62', '2.03', '0.74', '1.63'] 0.00994182120324\n",
      "differential_evolution step 25: f(x)= 0.00993626\n",
      "4700 ['2.66', '3.77', '1.06', '1.03', '1.15', '1.45', '1.93', '0.97', '1.42'] 0.00993963034554\n",
      "4750 ['3.10', '3.97', '1.35', '0.80', '1.33', '1.47', '2.27', '0.84', '1.83'] 0.00993846561932\n",
      "4800 ['3.22', '3.26', '1.32', '0.77', '1.31', '1.57', '2.12', '0.70', '1.74'] 0.00994502920332\n",
      "4850 ['3.07', '3.81', '1.55', '1.02', '1.06', '1.68', '1.99', '1.05', '1.68'] 0.00993800416324\n",
      "differential_evolution step 26: f(x)= 0.00993585\n",
      "4900 ['2.76', '3.83', '1.32', '1.21', '1.24', '1.51', '2.32', '0.88', '1.61'] 0.00993677764894\n",
      "4950 ['3.04', '3.89', '1.46', '1.09', '1.23', '1.62', '2.09', '0.88', '1.69'] 0.00993670157425\n",
      "5000 ['3.23', '3.82', '1.56', '1.00', '1.18', '1.68', '2.23', '0.84', '1.66'] 0.00993765550993\n",
      "differential_evolution step 27: f(x)= 0.00993585\n",
      "5050 ['2.97', '3.99', '1.35', '1.10', '1.50', '1.54', '2.38', '1.03', '1.69'] 0.00993807036986\n",
      "5100 ['2.79', '3.82', '1.22', '1.00', '1.09', '1.52', '2.00', '0.98', '1.71'] 0.00993766275919\n",
      "5150 ['3.08', '4.00', '1.49', '1.17', '1.20', '1.54', '2.33', '0.86', '1.60'] 0.0099370821484\n",
      "5200 ['2.87', '3.65', '1.68', '0.91', '1.27', '1.57', '2.14', '1.02', '1.80'] 0.00993799867617\n",
      "differential_evolution step 28: f(x)= 0.00993585\n",
      "5250 ['3.08', '3.93', '1.53', '0.99', '1.13', '1.51', '2.40', '0.91', '1.74'] 0.00993645826423\n",
      "5300 ['3.00', '3.72', '1.36', '0.86', '1.31', '1.47', '2.22', '0.92', '1.46'] 0.00993798437666\n",
      "5350 ['2.97', '3.79', '1.22', '0.74', '1.28', '1.59', '1.79', '0.92', '1.57'] 0.00994100645783\n",
      "5400 ['3.07', '3.97', '1.54', '1.15', '1.25', '1.46', '2.35', '0.83', '1.79'] 0.0099367206176\n",
      "differential_evolution step 29: f(x)= 0.00993581\n",
      "5450 ['3.09', '3.83', '1.49', '0.93', '1.22', '1.54', '2.38', '0.88', '1.52'] 0.00993769020942\n",
      "5500 ['2.88', '3.76', '1.39', '1.20', '1.23', '1.49', '2.26', '0.80', '1.73'] 0.00993710620322\n",
      "5550 ['3.04', '3.81', '1.40', '1.05', '1.27', '1.52', '2.06', '0.85', '1.75'] 0.00993658635755\n",
      "differential_evolution step 30: f(x)= 0.00993581\n"
     ]
    }
   ],
   "source": [
    "bounds = [(0.2, 4),(0.2, 4),(0.2, 4),(0.2, 4),(0.2, 4),(0.2, 4),(0.2, 4),(0.2, 4),(0.2, 4)]\n",
    "res1 = differential_evolution(cost_function, bounds, popsize=20, maxiter=30,\n",
    "                              tol=1e-6, args=({'itera':1},), disp=True)"
   ]
  },
  {
   "cell_type": "code",
   "execution_count": 317,
   "metadata": {},
   "outputs": [],
   "source": [
    "w_opt_GP = (res1.x/np.sum(res1.x)).reshape(1,9)"
   ]
  },
  {
   "cell_type": "code",
   "execution_count": 311,
   "metadata": {},
   "outputs": [
    {
     "data": {
      "text/plain": [
       "array([ 0.12698637,  0.18233364,  0.09659198,  0.04637801,  0.15689159,\n",
       "        0.15370307,  0.03168777,  0.13711235,  0.06831523])"
      ]
     },
     "execution_count": 311,
     "metadata": {},
     "output_type": "execute_result"
    }
   ],
   "source": [
    "w_opt['x']/np.sum(w_opt['x'])"
   ]
  },
  {
   "cell_type": "code",
   "execution_count": 320,
   "metadata": {},
   "outputs": [
    {
     "data": {
      "text/plain": [
       "0.99124259558884609"
      ]
     },
     "execution_count": 320,
     "metadata": {},
     "output_type": "execute_result"
    }
   ],
   "source": [
    "roc_auc_score(target, np.tensordot(w_opt_GP, arr, axes=([1],[0]))[0]/np.sum(w_opt_GP))"
   ]
  },
  {
   "cell_type": "code",
   "execution_count": 31,
   "metadata": {},
   "outputs": [],
   "source": [
    "w_opt_GP = np.array([ 0.08503522,  0.18484535,  0.09647718,  0.05563641,  0.16151241,\n",
    "         0.1702125 ,  0.03064141,  0.14804717,  0.06759235]).reshape(1,9)"
   ]
  },
  {
   "cell_type": "markdown",
   "metadata": {},
   "source": [
    "SAVE RESULTS"
   ]
  },
  {
   "cell_type": "code",
   "execution_count": 33,
   "metadata": {},
   "outputs": [],
   "source": [
    "test_input = pd.read_csv(\"../input/test.csv\")"
   ]
  },
  {
   "cell_type": "code",
   "execution_count": 34,
   "metadata": {},
   "outputs": [
    {
     "data": {
      "text/plain": [
       "(153164, 2)"
      ]
     },
     "execution_count": 34,
     "metadata": {},
     "output_type": "execute_result"
    }
   ],
   "source": [
    "test_input.shape"
   ]
  },
  {
   "cell_type": "code",
   "execution_count": 35,
   "metadata": {},
   "outputs": [],
   "source": [
    "arr_test = np.zeros((9, test_input.shape[0], 6))\n",
    "i = 0\n",
    "for k in test.keys():\n",
    "    arr_test[i,:,:] = test[k].iloc[:, 1:]\n",
    "    i = i + 1"
   ]
  },
  {
   "cell_type": "code",
   "execution_count": 36,
   "metadata": {},
   "outputs": [],
   "source": [
    "sample = pd.read_csv(\"../input/sample_submission.csv\")"
   ]
  },
  {
   "cell_type": "code",
   "execution_count": 37,
   "metadata": {},
   "outputs": [],
   "source": [
    "opt_submission = pd.DataFrame(np.tensordot(w_opt_GP, arr_test, axes=([1],[0]))[0]/np.sum(w_opt_GP))\n",
    "opt_submission = pd.concat((test_input['id'], opt_submission), axis=1)\n",
    "opt_submission.columns = sample.columns\n",
    "opt_submission.to_csv(\"../output/blending/optW.csv\", index=False)"
   ]
  },
  {
   "cell_type": "code",
   "execution_count": 38,
   "metadata": {},
   "outputs": [],
   "source": [
    "av_submission = pd.DataFrame(arr_test.sum(axis=0)/9)\n",
    "av_submission = pd.concat((test_input['id'], av_submission), axis=1)\n",
    "av_submission.columns = sample.columns\n",
    "av_submission.to_csv(\"../output/blending/avgW.csv\", index=False)"
   ]
  },
  {
   "cell_type": "code",
   "execution_count": 52,
   "metadata": {},
   "outputs": [],
   "source": [
    "arr_test = np.zeros((9, test_input.shape[0], 6))\n",
    "i = 0\n",
    "for k in test.keys():\n",
    "    arr_test[i,:,:] = np_rank(test[k].iloc[:, 1:].values, True)\n",
    "    i = i + 1"
   ]
  },
  {
   "cell_type": "code",
   "execution_count": 55,
   "metadata": {},
   "outputs": [],
   "source": [
    "rk_submission = pd.DataFrame(arr_test.sum(axis=0)/9)\n",
    "rk_submission = pd.concat((test_input['id'], rk_submission), axis=1)\n",
    "rk_submission.columns = sample.columns\n",
    "rk_submission.to_csv(\"../output/blending/rnkW.csv\", index=False)"
   ]
  },
  {
   "cell_type": "markdown",
   "metadata": {},
   "source": [
    "BLEND OF BLENDS"
   ]
  },
  {
   "cell_type": "code",
   "execution_count": 39,
   "metadata": {},
   "outputs": [],
   "source": [
    "blend1=pd.read_csv(\"../input/superblend/blend1.csv\")\n",
    "blend2=pd.read_csv(\"../input/superblend/blend2.csv\")\n",
    "blend3=pd.read_csv(\"../input/superblend/blend3.csv\")\n",
    "blend4=pd.read_csv(\"../input/superblend/blend4.csv\")"
   ]
  },
  {
   "cell_type": "code",
   "execution_count": 57,
   "metadata": {},
   "outputs": [],
   "source": [
    "superblend = np.zeros((5,test_input.shape[0],6))"
   ]
  },
  {
   "cell_type": "code",
   "execution_count": 67,
   "metadata": {},
   "outputs": [],
   "source": [
    "superblend[0] = rk_submission.iloc[:, 1:].values\n",
    "superblend[1] = blend1.iloc[:, 1:].values\n",
    "superblend[2] = blend2.iloc[:, 1:].values\n",
    "superblend[3] = blend3.iloc[:, 1:].values\n",
    "superblend[4] = blend4.iloc[:, 1:].values"
   ]
  },
  {
   "cell_type": "code",
   "execution_count": 86,
   "metadata": {},
   "outputs": [],
   "source": [
    "corr_blend = np.zeros((5, 5, 6))\n",
    "for c in range(6):\n",
    "    for i in range(5):\n",
    "        for j in range(i, 5):\n",
    "            corr_blend[i,j,c] = np.corrcoef(x=superblend[i,:,c], y=superblend[j,:,c])[0,1]"
   ]
  },
  {
   "cell_type": "code",
   "execution_count": 100,
   "metadata": {},
   "outputs": [
    {
     "data": {
      "text/html": [
       "<div>\n",
       "<style>\n",
       "    .dataframe thead tr:only-child th {\n",
       "        text-align: right;\n",
       "    }\n",
       "\n",
       "    .dataframe thead th {\n",
       "        text-align: left;\n",
       "    }\n",
       "\n",
       "    .dataframe tbody tr th {\n",
       "        vertical-align: top;\n",
       "    }\n",
       "</style>\n",
       "<table border=\"1\" class=\"dataframe\">\n",
       "  <thead>\n",
       "    <tr style=\"text-align: right;\">\n",
       "      <th></th>\n",
       "      <th>0</th>\n",
       "      <th>1</th>\n",
       "      <th>2</th>\n",
       "      <th>3</th>\n",
       "      <th>4</th>\n",
       "    </tr>\n",
       "  </thead>\n",
       "  <tbody>\n",
       "    <tr>\n",
       "      <th>0</th>\n",
       "      <td>1.000000</td>\n",
       "      <td>0.830901</td>\n",
       "      <td>0.824838</td>\n",
       "      <td>0.834558</td>\n",
       "      <td>0.835831</td>\n",
       "    </tr>\n",
       "    <tr>\n",
       "      <th>1</th>\n",
       "      <td>0.830901</td>\n",
       "      <td>1.000000</td>\n",
       "      <td>0.982932</td>\n",
       "      <td>0.999133</td>\n",
       "      <td>0.992297</td>\n",
       "    </tr>\n",
       "    <tr>\n",
       "      <th>2</th>\n",
       "      <td>0.824838</td>\n",
       "      <td>0.982932</td>\n",
       "      <td>1.000000</td>\n",
       "      <td>0.981015</td>\n",
       "      <td>0.973974</td>\n",
       "    </tr>\n",
       "    <tr>\n",
       "      <th>3</th>\n",
       "      <td>0.834558</td>\n",
       "      <td>0.999133</td>\n",
       "      <td>0.981015</td>\n",
       "      <td>1.000000</td>\n",
       "      <td>0.994329</td>\n",
       "    </tr>\n",
       "    <tr>\n",
       "      <th>4</th>\n",
       "      <td>0.835831</td>\n",
       "      <td>0.992297</td>\n",
       "      <td>0.973974</td>\n",
       "      <td>0.994329</td>\n",
       "      <td>1.000000</td>\n",
       "    </tr>\n",
       "  </tbody>\n",
       "</table>\n",
       "</div>"
      ],
      "text/plain": [
       "          0         1         2         3         4\n",
       "0  1.000000  0.830901  0.824838  0.834558  0.835831\n",
       "1  0.830901  1.000000  0.982932  0.999133  0.992297\n",
       "2  0.824838  0.982932  1.000000  0.981015  0.973974\n",
       "3  0.834558  0.999133  0.981015  1.000000  0.994329\n",
       "4  0.835831  0.992297  0.973974  0.994329  1.000000"
      ]
     },
     "execution_count": 100,
     "metadata": {},
     "output_type": "execute_result"
    }
   ],
   "source": [
    "pd.DataFrame(corr_blend[:,:,0])"
   ]
  },
  {
   "cell_type": "code",
   "execution_count": 101,
   "metadata": {},
   "outputs": [
    {
     "data": {
      "text/html": [
       "<div>\n",
       "<style>\n",
       "    .dataframe thead tr:only-child th {\n",
       "        text-align: right;\n",
       "    }\n",
       "\n",
       "    .dataframe thead th {\n",
       "        text-align: left;\n",
       "    }\n",
       "\n",
       "    .dataframe tbody tr th {\n",
       "        vertical-align: top;\n",
       "    }\n",
       "</style>\n",
       "<table border=\"1\" class=\"dataframe\">\n",
       "  <thead>\n",
       "    <tr style=\"text-align: right;\">\n",
       "      <th></th>\n",
       "      <th>0</th>\n",
       "      <th>1</th>\n",
       "      <th>2</th>\n",
       "      <th>3</th>\n",
       "      <th>4</th>\n",
       "    </tr>\n",
       "  </thead>\n",
       "  <tbody>\n",
       "    <tr>\n",
       "      <th>0</th>\n",
       "      <td>1.000000</td>\n",
       "      <td>0.508474</td>\n",
       "      <td>0.511552</td>\n",
       "      <td>0.511300</td>\n",
       "      <td>0.469774</td>\n",
       "    </tr>\n",
       "    <tr>\n",
       "      <th>1</th>\n",
       "      <td>0.508474</td>\n",
       "      <td>1.000000</td>\n",
       "      <td>0.965304</td>\n",
       "      <td>0.997388</td>\n",
       "      <td>0.980920</td>\n",
       "    </tr>\n",
       "    <tr>\n",
       "      <th>2</th>\n",
       "      <td>0.511552</td>\n",
       "      <td>0.965304</td>\n",
       "      <td>1.000000</td>\n",
       "      <td>0.960895</td>\n",
       "      <td>0.946994</td>\n",
       "    </tr>\n",
       "    <tr>\n",
       "      <th>3</th>\n",
       "      <td>0.511300</td>\n",
       "      <td>0.997388</td>\n",
       "      <td>0.960895</td>\n",
       "      <td>1.000000</td>\n",
       "      <td>0.984140</td>\n",
       "    </tr>\n",
       "    <tr>\n",
       "      <th>4</th>\n",
       "      <td>0.469774</td>\n",
       "      <td>0.980920</td>\n",
       "      <td>0.946994</td>\n",
       "      <td>0.984140</td>\n",
       "      <td>1.000000</td>\n",
       "    </tr>\n",
       "  </tbody>\n",
       "</table>\n",
       "</div>"
      ],
      "text/plain": [
       "          0         1         2         3         4\n",
       "0  1.000000  0.508474  0.511552  0.511300  0.469774\n",
       "1  0.508474  1.000000  0.965304  0.997388  0.980920\n",
       "2  0.511552  0.965304  1.000000  0.960895  0.946994\n",
       "3  0.511300  0.997388  0.960895  1.000000  0.984140\n",
       "4  0.469774  0.980920  0.946994  0.984140  1.000000"
      ]
     },
     "execution_count": 101,
     "metadata": {},
     "output_type": "execute_result"
    }
   ],
   "source": [
    "pd.DataFrame(corr_blend[:,:,1])"
   ]
  },
  {
   "cell_type": "code",
   "execution_count": 102,
   "metadata": {},
   "outputs": [
    {
     "data": {
      "text/html": [
       "<div>\n",
       "<style>\n",
       "    .dataframe thead tr:only-child th {\n",
       "        text-align: right;\n",
       "    }\n",
       "\n",
       "    .dataframe thead th {\n",
       "        text-align: left;\n",
       "    }\n",
       "\n",
       "    .dataframe tbody tr th {\n",
       "        vertical-align: top;\n",
       "    }\n",
       "</style>\n",
       "<table border=\"1\" class=\"dataframe\">\n",
       "  <thead>\n",
       "    <tr style=\"text-align: right;\">\n",
       "      <th></th>\n",
       "      <th>0</th>\n",
       "      <th>1</th>\n",
       "      <th>2</th>\n",
       "      <th>3</th>\n",
       "      <th>4</th>\n",
       "    </tr>\n",
       "  </thead>\n",
       "  <tbody>\n",
       "    <tr>\n",
       "      <th>0</th>\n",
       "      <td>1.000000</td>\n",
       "      <td>0.731200</td>\n",
       "      <td>0.732318</td>\n",
       "      <td>0.731820</td>\n",
       "      <td>0.713681</td>\n",
       "    </tr>\n",
       "    <tr>\n",
       "      <th>1</th>\n",
       "      <td>0.731200</td>\n",
       "      <td>1.000000</td>\n",
       "      <td>0.977757</td>\n",
       "      <td>0.999091</td>\n",
       "      <td>0.992963</td>\n",
       "    </tr>\n",
       "    <tr>\n",
       "      <th>2</th>\n",
       "      <td>0.732318</td>\n",
       "      <td>0.977757</td>\n",
       "      <td>1.000000</td>\n",
       "      <td>0.976096</td>\n",
       "      <td>0.969600</td>\n",
       "    </tr>\n",
       "    <tr>\n",
       "      <th>3</th>\n",
       "      <td>0.731820</td>\n",
       "      <td>0.999091</td>\n",
       "      <td>0.976096</td>\n",
       "      <td>1.000000</td>\n",
       "      <td>0.994966</td>\n",
       "    </tr>\n",
       "    <tr>\n",
       "      <th>4</th>\n",
       "      <td>0.713681</td>\n",
       "      <td>0.992963</td>\n",
       "      <td>0.969600</td>\n",
       "      <td>0.994966</td>\n",
       "      <td>1.000000</td>\n",
       "    </tr>\n",
       "  </tbody>\n",
       "</table>\n",
       "</div>"
      ],
      "text/plain": [
       "          0         1         2         3         4\n",
       "0  1.000000  0.731200  0.732318  0.731820  0.713681\n",
       "1  0.731200  1.000000  0.977757  0.999091  0.992963\n",
       "2  0.732318  0.977757  1.000000  0.976096  0.969600\n",
       "3  0.731820  0.999091  0.976096  1.000000  0.994966\n",
       "4  0.713681  0.992963  0.969600  0.994966  1.000000"
      ]
     },
     "execution_count": 102,
     "metadata": {},
     "output_type": "execute_result"
    }
   ],
   "source": [
    "pd.DataFrame(corr_blend[:,:,2])"
   ]
  },
  {
   "cell_type": "code",
   "execution_count": 105,
   "metadata": {},
   "outputs": [
    {
     "data": {
      "text/html": [
       "<div>\n",
       "<style>\n",
       "    .dataframe thead tr:only-child th {\n",
       "        text-align: right;\n",
       "    }\n",
       "\n",
       "    .dataframe thead th {\n",
       "        text-align: left;\n",
       "    }\n",
       "\n",
       "    .dataframe tbody tr th {\n",
       "        vertical-align: top;\n",
       "    }\n",
       "</style>\n",
       "<table border=\"1\" class=\"dataframe\">\n",
       "  <thead>\n",
       "    <tr style=\"text-align: right;\">\n",
       "      <th></th>\n",
       "      <th>0</th>\n",
       "      <th>1</th>\n",
       "      <th>2</th>\n",
       "      <th>3</th>\n",
       "      <th>4</th>\n",
       "    </tr>\n",
       "  </thead>\n",
       "  <tbody>\n",
       "    <tr>\n",
       "      <th>0</th>\n",
       "      <td>1.000000</td>\n",
       "      <td>0.732958</td>\n",
       "      <td>0.721968</td>\n",
       "      <td>0.731780</td>\n",
       "      <td>0.713678</td>\n",
       "    </tr>\n",
       "    <tr>\n",
       "      <th>1</th>\n",
       "      <td>0.732958</td>\n",
       "      <td>1.000000</td>\n",
       "      <td>0.979652</td>\n",
       "      <td>0.998679</td>\n",
       "      <td>0.989320</td>\n",
       "    </tr>\n",
       "    <tr>\n",
       "      <th>2</th>\n",
       "      <td>0.721968</td>\n",
       "      <td>0.979652</td>\n",
       "      <td>1.000000</td>\n",
       "      <td>0.977866</td>\n",
       "      <td>0.968254</td>\n",
       "    </tr>\n",
       "    <tr>\n",
       "      <th>3</th>\n",
       "      <td>0.731780</td>\n",
       "      <td>0.998679</td>\n",
       "      <td>0.977866</td>\n",
       "      <td>1.000000</td>\n",
       "      <td>0.992495</td>\n",
       "    </tr>\n",
       "    <tr>\n",
       "      <th>4</th>\n",
       "      <td>0.713678</td>\n",
       "      <td>0.989320</td>\n",
       "      <td>0.968254</td>\n",
       "      <td>0.992495</td>\n",
       "      <td>1.000000</td>\n",
       "    </tr>\n",
       "  </tbody>\n",
       "</table>\n",
       "</div>"
      ],
      "text/plain": [
       "          0         1         2         3         4\n",
       "0  1.000000  0.732958  0.721968  0.731780  0.713678\n",
       "1  0.732958  1.000000  0.979652  0.998679  0.989320\n",
       "2  0.721968  0.979652  1.000000  0.977866  0.968254\n",
       "3  0.731780  0.998679  0.977866  1.000000  0.992495\n",
       "4  0.713678  0.989320  0.968254  0.992495  1.000000"
      ]
     },
     "execution_count": 105,
     "metadata": {},
     "output_type": "execute_result"
    }
   ],
   "source": [
    "pd.DataFrame(corr_blend[:,:,4])"
   ]
  },
  {
   "cell_type": "code",
   "execution_count": 110,
   "metadata": {},
   "outputs": [],
   "source": [
    "sp_blend = pd.DataFrame(superblend.sum(0)/5)\n",
    "sp_blend = pd.concat((test_input['id'], sp_blend), axis=1)\n",
    "sp_blend.columns = sample.columns\n",
    "sp_blend.to_csv(\"../output/blending/super1.csv\", index=False)"
   ]
  },
  {
   "cell_type": "markdown",
   "metadata": {},
   "source": [
    "BLEND OF BLENDS 2"
   ]
  },
  {
   "cell_type": "code",
   "execution_count": 120,
   "metadata": {},
   "outputs": [],
   "source": [
    "superblend2 = np.zeros((5,test_input.shape[0],6))\n",
    "superblend2[0] = rk_submission.iloc[:, 1:].values\n",
    "superblend2[1] = np_rank(blend1.iloc[:, 1:].values)\n",
    "superblend2[2] = np_rank(blend2.iloc[:, 1:].values)\n",
    "superblend2[3] = np_rank(blend3.iloc[:, 1:].values)\n",
    "superblend2[4] = np_rank(blend4.iloc[:, 1:].values)"
   ]
  },
  {
   "cell_type": "code",
   "execution_count": 121,
   "metadata": {},
   "outputs": [],
   "source": [
    "corr_blend2 = np.zeros((5, 5, 6))\n",
    "for c in range(6):\n",
    "    for i in range(5):\n",
    "        for j in range(i, 5):\n",
    "            corr_blend2[i,j,c] = np.corrcoef(x=superblend2[i,:,c], y=superblend2[j,:,c])[0,1]"
   ]
  },
  {
   "cell_type": "code",
   "execution_count": 132,
   "metadata": {},
   "outputs": [],
   "source": [
    "sp_blend2 = pd.DataFrame(superblend2.sum(0)/5)\n",
    "sp_blend2 = pd.concat((test_input['id'], sp_blend2), axis=1)\n",
    "sp_blend2.columns = sample.columns\n",
    "sp_blend2.to_csv(\"../output/blending/super2.csv\", index=False)"
   ]
  },
  {
   "cell_type": "code",
   "execution_count": 133,
   "metadata": {},
   "outputs": [
    {
     "data": {
      "text/html": [
       "<div>\n",
       "<style>\n",
       "    .dataframe thead tr:only-child th {\n",
       "        text-align: right;\n",
       "    }\n",
       "\n",
       "    .dataframe thead th {\n",
       "        text-align: left;\n",
       "    }\n",
       "\n",
       "    .dataframe tbody tr th {\n",
       "        vertical-align: top;\n",
       "    }\n",
       "</style>\n",
       "<table border=\"1\" class=\"dataframe\">\n",
       "  <thead>\n",
       "    <tr style=\"text-align: right;\">\n",
       "      <th></th>\n",
       "      <th>id</th>\n",
       "      <th>toxic</th>\n",
       "      <th>severe_toxic</th>\n",
       "      <th>obscene</th>\n",
       "      <th>threat</th>\n",
       "      <th>insult</th>\n",
       "      <th>identity_hate</th>\n",
       "    </tr>\n",
       "  </thead>\n",
       "  <tbody>\n",
       "    <tr>\n",
       "      <th>0</th>\n",
       "      <td>00001cee341fdb12</td>\n",
       "      <td>0.962443</td>\n",
       "      <td>0.504755</td>\n",
       "      <td>0.946246</td>\n",
       "      <td>0.269728</td>\n",
       "      <td>0.906679</td>\n",
       "      <td>0.504141</td>\n",
       "    </tr>\n",
       "    <tr>\n",
       "      <th>1</th>\n",
       "      <td>0000247867823ef7</td>\n",
       "      <td>0.065706</td>\n",
       "      <td>0.081662</td>\n",
       "      <td>0.057533</td>\n",
       "      <td>0.047989</td>\n",
       "      <td>0.073377</td>\n",
       "      <td>0.073182</td>\n",
       "    </tr>\n",
       "    <tr>\n",
       "      <th>2</th>\n",
       "      <td>00013b17ad220c46</td>\n",
       "      <td>0.103721</td>\n",
       "      <td>0.122895</td>\n",
       "      <td>0.120845</td>\n",
       "      <td>0.105508</td>\n",
       "      <td>0.099039</td>\n",
       "      <td>0.109934</td>\n",
       "    </tr>\n",
       "    <tr>\n",
       "      <th>3</th>\n",
       "      <td>00017563c3f7919a</td>\n",
       "      <td>0.043648</td>\n",
       "      <td>0.079742</td>\n",
       "      <td>0.051865</td>\n",
       "      <td>0.110356</td>\n",
       "      <td>0.056725</td>\n",
       "      <td>0.043524</td>\n",
       "    </tr>\n",
       "    <tr>\n",
       "      <th>4</th>\n",
       "      <td>00017695ad8997eb</td>\n",
       "      <td>0.125544</td>\n",
       "      <td>0.111034</td>\n",
       "      <td>0.110081</td>\n",
       "      <td>0.111592</td>\n",
       "      <td>0.102759</td>\n",
       "      <td>0.093299</td>\n",
       "    </tr>\n",
       "    <tr>\n",
       "      <th>5</th>\n",
       "      <td>0001ea8717f6de06</td>\n",
       "      <td>0.070736</td>\n",
       "      <td>0.091131</td>\n",
       "      <td>0.061811</td>\n",
       "      <td>0.128756</td>\n",
       "      <td>0.097955</td>\n",
       "      <td>0.073337</td>\n",
       "    </tr>\n",
       "    <tr>\n",
       "      <th>6</th>\n",
       "      <td>00024115d4cbde0f</td>\n",
       "      <td>0.085209</td>\n",
       "      <td>0.058355</td>\n",
       "      <td>0.082334</td>\n",
       "      <td>0.071435</td>\n",
       "      <td>0.099183</td>\n",
       "      <td>0.071008</td>\n",
       "    </tr>\n",
       "    <tr>\n",
       "      <th>7</th>\n",
       "      <td>000247e83dcc1211</td>\n",
       "      <td>0.565829</td>\n",
       "      <td>0.139256</td>\n",
       "      <td>0.175499</td>\n",
       "      <td>0.174975</td>\n",
       "      <td>0.227719</td>\n",
       "      <td>0.136222</td>\n",
       "    </tr>\n",
       "    <tr>\n",
       "      <th>8</th>\n",
       "      <td>00025358d4737918</td>\n",
       "      <td>0.179779</td>\n",
       "      <td>0.089423</td>\n",
       "      <td>0.137929</td>\n",
       "      <td>0.084212</td>\n",
       "      <td>0.160088</td>\n",
       "      <td>0.108597</td>\n",
       "    </tr>\n",
       "    <tr>\n",
       "      <th>9</th>\n",
       "      <td>00026d1092fe71cc</td>\n",
       "      <td>0.043974</td>\n",
       "      <td>0.050013</td>\n",
       "      <td>0.040931</td>\n",
       "      <td>0.071251</td>\n",
       "      <td>0.049970</td>\n",
       "      <td>0.038933</td>\n",
       "    </tr>\n",
       "  </tbody>\n",
       "</table>\n",
       "</div>"
      ],
      "text/plain": [
       "                 id     toxic  severe_toxic   obscene    threat    insult  \\\n",
       "0  00001cee341fdb12  0.962443      0.504755  0.946246  0.269728  0.906679   \n",
       "1  0000247867823ef7  0.065706      0.081662  0.057533  0.047989  0.073377   \n",
       "2  00013b17ad220c46  0.103721      0.122895  0.120845  0.105508  0.099039   \n",
       "3  00017563c3f7919a  0.043648      0.079742  0.051865  0.110356  0.056725   \n",
       "4  00017695ad8997eb  0.125544      0.111034  0.110081  0.111592  0.102759   \n",
       "5  0001ea8717f6de06  0.070736      0.091131  0.061811  0.128756  0.097955   \n",
       "6  00024115d4cbde0f  0.085209      0.058355  0.082334  0.071435  0.099183   \n",
       "7  000247e83dcc1211  0.565829      0.139256  0.175499  0.174975  0.227719   \n",
       "8  00025358d4737918  0.179779      0.089423  0.137929  0.084212  0.160088   \n",
       "9  00026d1092fe71cc  0.043974      0.050013  0.040931  0.071251  0.049970   \n",
       "\n",
       "   identity_hate  \n",
       "0       0.504141  \n",
       "1       0.073182  \n",
       "2       0.109934  \n",
       "3       0.043524  \n",
       "4       0.093299  \n",
       "5       0.073337  \n",
       "6       0.071008  \n",
       "7       0.136222  \n",
       "8       0.108597  \n",
       "9       0.038933  "
      ]
     },
     "execution_count": 133,
     "metadata": {},
     "output_type": "execute_result"
    }
   ],
   "source": [
    "sp_blend.head(10)"
   ]
  },
  {
   "cell_type": "code",
   "execution_count": 134,
   "metadata": {},
   "outputs": [
    {
     "data": {
      "text/html": [
       "<div>\n",
       "<style>\n",
       "    .dataframe thead tr:only-child th {\n",
       "        text-align: right;\n",
       "    }\n",
       "\n",
       "    .dataframe thead th {\n",
       "        text-align: left;\n",
       "    }\n",
       "\n",
       "    .dataframe tbody tr th {\n",
       "        vertical-align: top;\n",
       "    }\n",
       "</style>\n",
       "<table border=\"1\" class=\"dataframe\">\n",
       "  <thead>\n",
       "    <tr style=\"text-align: right;\">\n",
       "      <th></th>\n",
       "      <th>id</th>\n",
       "      <th>toxic</th>\n",
       "      <th>severe_toxic</th>\n",
       "      <th>obscene</th>\n",
       "      <th>threat</th>\n",
       "      <th>insult</th>\n",
       "      <th>identity_hate</th>\n",
       "    </tr>\n",
       "  </thead>\n",
       "  <tbody>\n",
       "    <tr>\n",
       "      <th>0</th>\n",
       "      <td>00001cee341fdb12</td>\n",
       "      <td>0.970052</td>\n",
       "      <td>0.982741</td>\n",
       "      <td>0.973948</td>\n",
       "      <td>0.984079</td>\n",
       "      <td>0.984544</td>\n",
       "      <td>0.983074</td>\n",
       "    </tr>\n",
       "    <tr>\n",
       "      <th>1</th>\n",
       "      <td>0000247867823ef7</td>\n",
       "      <td>0.218147</td>\n",
       "      <td>0.426647</td>\n",
       "      <td>0.166599</td>\n",
       "      <td>0.232809</td>\n",
       "      <td>0.305230</td>\n",
       "      <td>0.450070</td>\n",
       "    </tr>\n",
       "    <tr>\n",
       "      <th>2</th>\n",
       "      <td>00013b17ad220c46</td>\n",
       "      <td>0.400633</td>\n",
       "      <td>0.558264</td>\n",
       "      <td>0.440877</td>\n",
       "      <td>0.481117</td>\n",
       "      <td>0.344947</td>\n",
       "      <td>0.407380</td>\n",
       "    </tr>\n",
       "    <tr>\n",
       "      <th>3</th>\n",
       "      <td>00017563c3f7919a</td>\n",
       "      <td>0.110667</td>\n",
       "      <td>0.356066</td>\n",
       "      <td>0.110225</td>\n",
       "      <td>0.497501</td>\n",
       "      <td>0.157950</td>\n",
       "      <td>0.127627</td>\n",
       "    </tr>\n",
       "    <tr>\n",
       "      <th>4</th>\n",
       "      <td>00017695ad8997eb</td>\n",
       "      <td>0.474516</td>\n",
       "      <td>0.341802</td>\n",
       "      <td>0.420991</td>\n",
       "      <td>0.350849</td>\n",
       "      <td>0.404653</td>\n",
       "      <td>0.302251</td>\n",
       "    </tr>\n",
       "    <tr>\n",
       "      <th>5</th>\n",
       "      <td>0001ea8717f6de06</td>\n",
       "      <td>0.240492</td>\n",
       "      <td>0.367507</td>\n",
       "      <td>0.177702</td>\n",
       "      <td>0.646288</td>\n",
       "      <td>0.425573</td>\n",
       "      <td>0.309933</td>\n",
       "    </tr>\n",
       "    <tr>\n",
       "      <th>6</th>\n",
       "      <td>00024115d4cbde0f</td>\n",
       "      <td>0.320815</td>\n",
       "      <td>0.226271</td>\n",
       "      <td>0.303174</td>\n",
       "      <td>0.206919</td>\n",
       "      <td>0.376886</td>\n",
       "      <td>0.282419</td>\n",
       "    </tr>\n",
       "    <tr>\n",
       "      <th>7</th>\n",
       "      <td>000247e83dcc1211</td>\n",
       "      <td>0.790939</td>\n",
       "      <td>0.575002</td>\n",
       "      <td>0.719562</td>\n",
       "      <td>0.804242</td>\n",
       "      <td>0.759611</td>\n",
       "      <td>0.650604</td>\n",
       "    </tr>\n",
       "    <tr>\n",
       "      <th>8</th>\n",
       "      <td>00025358d4737918</td>\n",
       "      <td>0.632018</td>\n",
       "      <td>0.272495</td>\n",
       "      <td>0.665583</td>\n",
       "      <td>0.300327</td>\n",
       "      <td>0.683666</td>\n",
       "      <td>0.540829</td>\n",
       "    </tr>\n",
       "    <tr>\n",
       "      <th>9</th>\n",
       "      <td>00026d1092fe71cc</td>\n",
       "      <td>0.114540</td>\n",
       "      <td>0.153399</td>\n",
       "      <td>0.156732</td>\n",
       "      <td>0.219509</td>\n",
       "      <td>0.246100</td>\n",
       "      <td>0.066333</td>\n",
       "    </tr>\n",
       "  </tbody>\n",
       "</table>\n",
       "</div>"
      ],
      "text/plain": [
       "                 id     toxic  severe_toxic   obscene    threat    insult  \\\n",
       "0  00001cee341fdb12  0.970052      0.982741  0.973948  0.984079  0.984544   \n",
       "1  0000247867823ef7  0.218147      0.426647  0.166599  0.232809  0.305230   \n",
       "2  00013b17ad220c46  0.400633      0.558264  0.440877  0.481117  0.344947   \n",
       "3  00017563c3f7919a  0.110667      0.356066  0.110225  0.497501  0.157950   \n",
       "4  00017695ad8997eb  0.474516      0.341802  0.420991  0.350849  0.404653   \n",
       "5  0001ea8717f6de06  0.240492      0.367507  0.177702  0.646288  0.425573   \n",
       "6  00024115d4cbde0f  0.320815      0.226271  0.303174  0.206919  0.376886   \n",
       "7  000247e83dcc1211  0.790939      0.575002  0.719562  0.804242  0.759611   \n",
       "8  00025358d4737918  0.632018      0.272495  0.665583  0.300327  0.683666   \n",
       "9  00026d1092fe71cc  0.114540      0.153399  0.156732  0.219509  0.246100   \n",
       "\n",
       "   identity_hate  \n",
       "0       0.983074  \n",
       "1       0.450070  \n",
       "2       0.407380  \n",
       "3       0.127627  \n",
       "4       0.302251  \n",
       "5       0.309933  \n",
       "6       0.282419  \n",
       "7       0.650604  \n",
       "8       0.540829  \n",
       "9       0.066333  "
      ]
     },
     "execution_count": 134,
     "metadata": {},
     "output_type": "execute_result"
    }
   ],
   "source": [
    "sp_blend2.head(10)"
   ]
  },
  {
   "cell_type": "code",
   "execution_count": null,
   "metadata": {},
   "outputs": [],
   "source": []
  }
 ],
 "metadata": {
  "kernelspec": {
   "display_name": "Python 3",
   "language": "python",
   "name": "python3"
  },
  "language_info": {
   "codemirror_mode": {
    "name": "ipython",
    "version": 3
   },
   "file_extension": ".py",
   "mimetype": "text/x-python",
   "name": "python",
   "nbconvert_exporter": "python",
   "pygments_lexer": "ipython3",
   "version": "3.6.1"
  }
 },
 "nbformat": 4,
 "nbformat_minor": 2
}
