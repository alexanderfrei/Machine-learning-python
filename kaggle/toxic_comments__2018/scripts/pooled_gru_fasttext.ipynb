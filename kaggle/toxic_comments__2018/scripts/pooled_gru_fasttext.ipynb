{
 "cells": [
  {
   "cell_type": "code",
   "execution_count": 1,
   "metadata": {},
   "outputs": [
    {
     "name": "stderr",
     "output_type": "stream",
     "text": [
      "C:\\dev\\Anaconda3\\envs\\tensorflow\\lib\\site-packages\\h5py\\__init__.py:36: FutureWarning: Conversion of the second argument of issubdtype from `float` to `np.floating` is deprecated. In future, it will be treated as `np.float64 == np.dtype(float).type`.\n",
      "  from ._conv import register_converters as _register_converters\n",
      "Using TensorFlow backend.\n"
     ]
    },
    {
     "data": {
      "text/plain": [
       "['/job:localhost/replica:0/task:0/device:GPU:0']"
      ]
     },
     "execution_count": 1,
     "metadata": {},
     "output_type": "execute_result"
    }
   ],
   "source": [
    "import numpy as np\n",
    "import pandas as pd\n",
    "import pickle\n",
    "\n",
    "from sklearn.model_selection import train_test_split, KFold\n",
    "from sklearn.metrics import roc_auc_score\n",
    "\n",
    "import tensorflow as tf\n",
    "from keras.models import Model\n",
    "from keras.layers import Input, Dense, Embedding, SpatialDropout1D, concatenate\n",
    "from keras.layers import GRU, Bidirectional, GlobalAveragePooling1D, GlobalMaxPooling1D, CuDNNGRU\n",
    "from keras.preprocessing import text, sequence\n",
    "from keras.callbacks import Callback\n",
    "\n",
    "import warnings\n",
    "warnings.filterwarnings('ignore')\n",
    "\n",
    "# import os\n",
    "# os.environ['OMP_NUM_THREADS'] = '4'\n",
    "\n",
    "from keras import backend as K\n",
    "K.tensorflow_backend._get_available_gpus()"
   ]
  },
  {
   "cell_type": "code",
   "execution_count": 2,
   "metadata": {},
   "outputs": [],
   "source": [
    "def np_rank(array):\n",
    "    ranks = np.empty_like(array)\n",
    "    for i in np.arange(array.shape[1]):\n",
    "        temp = array[:, i].argsort()\n",
    "        ranks[temp, i] = np.arange(len(array))\n",
    "    return ranks\n",
    "\n",
    "def save_oof(train_oof, test_oof, name, sample_submission):\n",
    "    # oof test\n",
    "    submission = pd.concat([sample_submission.iloc[:, 0], pd.DataFrame(test_oof)], axis=1)\n",
    "    submission.columns = sample_submission.columns\n",
    "    # submission.to_csv(\"../output/cnn_conv1D_emb_num_5epochs.csv.gz\", compression=\"gzip\", index=False)\n",
    "    submission.to_csv(\"../output/test/{}.csv\".format(name), index=False)\n",
    "\n",
    "    # oof train\n",
    "    submission_train = pd.concat([sample_submission.iloc[:, 0], pd.DataFrame(train_oof)], axis=1)\n",
    "    submission_train.columns = sample_submission.columns\n",
    "    submission_train.to_csv(\"../output/train/{}.csv\".format(name), index=False)\n",
    "    \n",
    "def oof(X_train, X_test, y, num_folds, seed):\n",
    "    \n",
    "    scores = []\n",
    "    train_predict = np.zeros((X_train.shape[0],6))\n",
    "    test_predict = np.zeros((X_test.shape[0],6))\n",
    "    \n",
    "    kf = KFold(n_splits=num_folds, shuffle=True, random_state=seed)\n",
    "    \n",
    "    for train_idx, val_idx in kf.split(X_train):\n",
    "\n",
    "        x_train = X_train[train_idx]\n",
    "        x_val = X_train[val_idx]\n",
    "        y_train = y[train_idx]\n",
    "        y_val = y[val_idx]\n",
    "        \n",
    "        # fit model \n",
    "        model = get_model()\n",
    "        RocAuc = RocAucEvaluation(validation_data=(x_val, y_val), interval=1)\n",
    "        model.fit(x_train, y_train, batch_size=batch_size, epochs=epochs, \n",
    "                  validation_data=(x_val, y_val), callbacks=[RocAuc], verbose=1)\n",
    "        \n",
    "        # predict\n",
    "        train_predict[val_idx] = model.predict(x_val, batch_size=batch_size)\n",
    "        test_predict += np_rank(model.predict(X_test, batch_size=batch_size))\n",
    "        \n",
    "        # save scores \n",
    "        cv_score = roc_auc_score(y_val, train_predict[val_idx])\n",
    "        scores.append(cv_score)\n",
    "        \n",
    "    test_predict /= (num_folds*test_predict.shape[0])\n",
    "    return scores, train_predict, test_predict"
   ]
  },
  {
   "cell_type": "code",
   "execution_count": 9,
   "metadata": {},
   "outputs": [],
   "source": [
    "max_features = 30000\n",
    "maxlen = 100\n",
    "embed_size = 300"
   ]
  },
  {
   "cell_type": "code",
   "execution_count": 19,
   "metadata": {},
   "outputs": [],
   "source": [
    "# EMBEDDING_FILE = '../input/crawl-300d-2M.vec'\n",
    "# train = pd.read_csv('../input/train.csv')\n",
    "# test = pd.read_csv('../input/test.csv')\n",
    "sample_submission = pd.read_csv('../input/sample_submission.csv')\n",
    "\n",
    "# X_train = train[\"comment_text\"].fillna(\"fillna\").values\n",
    "# y_train = train[[\"toxic\", \"severe_toxic\", \"obscene\", \"threat\", \"insult\", \"identity_hate\"]].values\n",
    "# X_test = test[\"comment_text\"].fillna(\"fillna\").values\n",
    "\n",
    "# tokenizer = text.Tokenizer(num_words=max_features)\n",
    "# tokenizer.fit_on_texts(list(X_train) + list(X_test))\n",
    "# X_train = tokenizer.texts_to_sequences(X_train)\n",
    "# X_test = tokenizer.texts_to_sequences(X_test)\n",
    "# x_train = sequence.pad_sequences(X_train, maxlen=maxlen)\n",
    "# x_test = sequence.pad_sequences(X_test, maxlen=maxlen)\n",
    "\n",
    "# def get_coefs(word, *arr): return word, np.asarray(arr, dtype='float32')\n",
    "# embeddings_index = dict(get_coefs(*o.rstrip().rsplit(' ')) for o in open(EMBEDDING_FILE, encoding=\"utf-8\"))\n",
    "\n",
    "# word_index = tokenizer.word_index\n",
    "# nb_words = min(max_features, len(word_index))\n",
    "# embedding_matrix = np.zeros((nb_words, embed_size))\n",
    "# for word, i in word_index.items():\n",
    "#     if i >= max_features: continue\n",
    "#     embedding_vector = embeddings_index.get(word)\n",
    "#     if embedding_vector is not None: embedding_matrix[i] = embedding_vector\n"
   ]
  },
  {
   "cell_type": "code",
   "execution_count": 15,
   "metadata": {},
   "outputs": [],
   "source": [
    "class RocAucEvaluation(Callback):\n",
    "    def __init__(self, validation_data=(), interval=1):\n",
    "        super(Callback, self).__init__()\n",
    "\n",
    "        self.interval = interval\n",
    "        self.X_val, self.y_val = validation_data\n",
    "\n",
    "    def on_epoch_end(self, epoch, logs={}):\n",
    "        if epoch % self.interval == 0:\n",
    "            y_pred = self.model.predict(self.X_val, verbose=0)\n",
    "            score = roc_auc_score(self.y_val, y_pred)\n",
    "            print(\"\\n ROC-AUC - epoch: %d - score: %.6f \\n\" % (epoch+1, score))\n"
   ]
  },
  {
   "cell_type": "code",
   "execution_count": 4,
   "metadata": {},
   "outputs": [],
   "source": [
    "# with open(\"../dumps/cnn_pooled_gru.pkl\", \"wb\") as f:\n",
    "#     pickle.dump(obj=(x_train, x_test, y_train, embedding_matrix), file=f)\n",
    "    \n",
    "with open(\"../dumps/cnn_pooled_gru.pkl\", \"rb\") as f:\n",
    "    x_train, x_test, y_train, embedding_matrix = pickle.load(file=f)"
   ]
  },
  {
   "cell_type": "code",
   "execution_count": 11,
   "metadata": {},
   "outputs": [],
   "source": [
    "def get_model():\n",
    "    inp = Input(shape=(maxlen, ))\n",
    "    x = Embedding(max_features, embed_size, weights=[embedding_matrix])(inp)\n",
    "    x = SpatialDropout1D(0.2)(x)\n",
    "    x = Bidirectional(CuDNNGRU(80, return_sequences=True))(x)\n",
    "    avg_pool = GlobalAveragePooling1D()(x)\n",
    "    max_pool = GlobalMaxPooling1D()(x)\n",
    "    conc = concatenate([avg_pool, max_pool])\n",
    "    outp = Dense(6, activation=\"sigmoid\")(conc)\n",
    "    \n",
    "    model = Model(inputs=inp, outputs=outp)\n",
    "    model.compile(loss='binary_crossentropy',\n",
    "                  optimizer='adam',\n",
    "                  metrics=['accuracy'])\n",
    "\n",
    "    return model"
   ]
  },
  {
   "cell_type": "code",
   "execution_count": 12,
   "metadata": {},
   "outputs": [],
   "source": [
    "batch_size = 32\n",
    "epochs = 2\n",
    "num_folds=10\n",
    "seed = 42\n",
    "# X_tra, X_val, y_tra, y_val = train_test_split(x_train, y_train, train_size=0.95, random_state=233)\n",
    "# RocAuc = RocAucEvaluation(validation_data=(X_val, y_val), interval=1)"
   ]
  },
  {
   "cell_type": "code",
   "execution_count": 13,
   "metadata": {},
   "outputs": [],
   "source": [
    "# np.random.seed(42)\n",
    "# hist = model.fit(X_tra, y_tra, batch_size=batch_size, epochs=epochs, validation_data=(X_val, y_val),\n",
    "#                  callbacks=[RocAuc], verbose=1)"
   ]
  },
  {
   "cell_type": "code",
   "execution_count": 16,
   "metadata": {},
   "outputs": [
    {
     "name": "stdout",
     "output_type": "stream",
     "text": [
      "Train on 143613 samples, validate on 15958 samples\n",
      "Epoch 1/2\n",
      "143613/143613 [==============================] - 124s 866us/step - loss: 0.0511 - acc: 0.9816 - val_loss: 0.0420 - val_acc: 0.9840\n",
      "\n",
      " ROC-AUC - epoch: 1 - score: 0.987979 \n",
      "\n",
      "Epoch 2/2\n",
      "143613/143613 [==============================] - 122s 850us/step - loss: 0.0380 - acc: 0.9852 - val_loss: 0.0411 - val_acc: 0.9839\n",
      "\n",
      " ROC-AUC - epoch: 2 - score: 0.988183 \n",
      "\n",
      "Train on 143614 samples, validate on 15957 samples\n",
      "Epoch 1/2\n",
      "143614/143614 [==============================] - 123s 855us/step - loss: 0.0498 - acc: 0.9819 - val_loss: 0.0444 - val_acc: 0.9830\n",
      "\n",
      " ROC-AUC - epoch: 1 - score: 0.985894 \n",
      "\n",
      "Epoch 2/2\n",
      "143614/143614 [==============================] - 123s 855us/step - loss: 0.0375 - acc: 0.9854 - val_loss: 0.0452 - val_acc: 0.9833\n",
      "\n",
      " ROC-AUC - epoch: 2 - score: 0.985954 \n",
      "\n",
      "Train on 143614 samples, validate on 15957 samples\n",
      "Epoch 1/2\n",
      "143614/143614 [==============================] - 123s 857us/step - loss: 0.0504 - acc: 0.9816 - val_loss: 0.0431 - val_acc: 0.9835\n",
      "\n",
      " ROC-AUC - epoch: 1 - score: 0.983282 \n",
      "\n",
      "Epoch 2/2\n",
      "143614/143614 [==============================] - 123s 856us/step - loss: 0.0379 - acc: 0.9852 - val_loss: 0.0439 - val_acc: 0.9843\n",
      "\n",
      " ROC-AUC - epoch: 2 - score: 0.983465 \n",
      "\n",
      "Train on 143614 samples, validate on 15957 samples\n",
      "Epoch 1/2\n",
      "143614/143614 [==============================] - 126s 874us/step - loss: 0.0503 - acc: 0.9816 - val_loss: 0.0434 - val_acc: 0.9835\n",
      "\n",
      " ROC-AUC - epoch: 1 - score: 0.988254 \n",
      "\n",
      "Epoch 2/2\n",
      "143614/143614 [==============================] - 123s 854us/step - loss: 0.0377 - acc: 0.9854 - val_loss: 0.0442 - val_acc: 0.9829\n",
      "\n",
      " ROC-AUC - epoch: 2 - score: 0.987825 \n",
      "\n",
      "Train on 143614 samples, validate on 15957 samples\n",
      "Epoch 1/2\n",
      "143614/143614 [==============================] - 124s 864us/step - loss: 0.0505 - acc: 0.9816 - val_loss: 0.0426 - val_acc: 0.9841\n",
      "\n",
      " ROC-AUC - epoch: 1 - score: 0.983365 \n",
      "\n",
      "Epoch 2/2\n",
      "143614/143614 [==============================] - 124s 864us/step - loss: 0.0377 - acc: 0.9852 - val_loss: 0.0430 - val_acc: 0.9839\n",
      "\n",
      " ROC-AUC - epoch: 2 - score: 0.984606 \n",
      "\n",
      "Train on 143614 samples, validate on 15957 samples\n",
      "Epoch 1/2\n",
      "143614/143614 [==============================] - 125s 874us/step - loss: 0.0506 - acc: 0.9819 - val_loss: 0.0395 - val_acc: 0.9848\n",
      "\n",
      " ROC-AUC - epoch: 1 - score: 0.988377 \n",
      "\n",
      "Epoch 2/2\n",
      "143614/143614 [==============================] - 124s 866us/step - loss: 0.0379 - acc: 0.9853 - val_loss: 0.0408 - val_acc: 0.9841\n",
      "\n",
      " ROC-AUC - epoch: 2 - score: 0.988772 \n",
      "\n",
      "Train on 143614 samples, validate on 15957 samples\n",
      "Epoch 1/2\n",
      "143614/143614 [==============================] - 123s 860us/step - loss: 0.0505 - acc: 0.9817 - val_loss: 0.0433 - val_acc: 0.9837\n",
      "\n",
      " ROC-AUC - epoch: 1 - score: 0.987491 \n",
      "\n",
      "Epoch 2/2\n",
      "143614/143614 [==============================] - 122s 847us/step - loss: 0.0381 - acc: 0.9852 - val_loss: 0.0423 - val_acc: 0.9835\n",
      "\n",
      " ROC-AUC - epoch: 2 - score: 0.988346 \n",
      "\n",
      "Train on 143614 samples, validate on 15957 samples\n",
      "Epoch 1/2\n",
      "143614/143614 [==============================] - 122s 848us/step - loss: 0.0505 - acc: 0.9817 - val_loss: 0.0414 - val_acc: 0.9843\n",
      "\n",
      " ROC-AUC - epoch: 1 - score: 0.986974 \n",
      "\n",
      "Epoch 2/2\n",
      "143614/143614 [==============================] - 121s 842us/step - loss: 0.0381 - acc: 0.9852 - val_loss: 0.0413 - val_acc: 0.9842\n",
      "\n",
      " ROC-AUC - epoch: 2 - score: 0.986644 \n",
      "\n",
      "Train on 143614 samples, validate on 15957 samples\n",
      "Epoch 1/2\n",
      "143614/143614 [==============================] - 124s 866us/step - loss: 0.0502 - acc: 0.9817 - val_loss: 0.0420 - val_acc: 0.9843\n",
      "\n",
      " ROC-AUC - epoch: 1 - score: 0.987469 \n",
      "\n",
      "Epoch 2/2\n",
      "143614/143614 [==============================] - 125s 867us/step - loss: 0.0378 - acc: 0.9852 - val_loss: 0.0432 - val_acc: 0.9837\n",
      "\n",
      " ROC-AUC - epoch: 2 - score: 0.987792 \n",
      "\n",
      "Train on 143614 samples, validate on 15957 samples\n",
      "Epoch 1/2\n",
      "143614/143614 [==============================] - 126s 874us/step - loss: 0.0506 - acc: 0.9817 - val_loss: 0.0428 - val_acc: 0.9835\n",
      "\n",
      " ROC-AUC - epoch: 1 - score: 0.985278 \n",
      "\n",
      "Epoch 2/2\n",
      "143614/143614 [==============================] - 123s 860us/step - loss: 0.0381 - acc: 0.9852 - val_loss: 0.0437 - val_acc: 0.9829\n",
      "\n",
      " ROC-AUC - epoch: 2 - score: 0.985918 \n",
      "\n"
     ]
    }
   ],
   "source": [
    "scores, train_oof, test_oof = oof(x_train, x_test, y_train, num_folds, seed)"
   ]
  },
  {
   "cell_type": "code",
   "execution_count": 17,
   "metadata": {},
   "outputs": [
    {
     "data": {
      "text/plain": [
       "([0.9881830036311351,\n",
       "  0.985953525873131,\n",
       "  0.9834654983720464,\n",
       "  0.9878251794894345,\n",
       "  0.9846055111769164,\n",
       "  0.9887723455318583,\n",
       "  0.9883455754344013,\n",
       "  0.9866443686735483,\n",
       "  0.9877922685281124,\n",
       "  0.9859181169999981],\n",
       " 0.9859654488329598)"
      ]
     },
     "execution_count": 17,
     "metadata": {},
     "output_type": "execute_result"
    }
   ],
   "source": [
    "scores, roc_auc_score(y_train, train_oof)"
   ]
  },
  {
   "cell_type": "code",
   "execution_count": 20,
   "metadata": {},
   "outputs": [],
   "source": [
    "save_oof(train_oof, test_oof, \"NN_GRU_pooling\", sample_submission)"
   ]
  }
 ],
 "metadata": {
  "kernelspec": {
   "display_name": "tensorflow",
   "language": "python",
   "name": "tensorflow"
  },
  "language_info": {
   "codemirror_mode": {
    "name": "ipython",
    "version": 3
   },
   "file_extension": ".py",
   "mimetype": "text/x-python",
   "name": "python",
   "nbconvert_exporter": "python",
   "pygments_lexer": "ipython3",
   "version": "3.5.5"
  }
 },
 "nbformat": 4,
 "nbformat_minor": 2
}
