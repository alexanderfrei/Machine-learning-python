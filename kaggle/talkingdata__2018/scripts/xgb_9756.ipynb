{
 "cells": [
  {
   "cell_type": "code",
   "execution_count": 1,
   "metadata": {},
   "outputs": [],
   "source": [
    "import pandas as pd\n",
    "import numpy as np\n",
    "from sklearn.model_selection import train_test_split\n",
    "\n",
    "import time\n",
    "import gc\n",
    "import os\n",
    "import pickle\n",
    "import sys\n",
    "\n",
    "import xgboost as xgb\n",
    "import lightgbm as lgb\n",
    "\n",
    "import matplotlib.pyplot as plt\n",
    "%matplotlib inline"
   ]
  },
  {
   "cell_type": "code",
   "execution_count": 2,
   "metadata": {},
   "outputs": [],
   "source": [
    "def do_count( df, group_cols, agg_name, agg_type='uint32', show_max=False, show_agg=True ):\n",
    "    if show_agg:\n",
    "        print( \"Aggregating by \", group_cols , '...' )\n",
    "    gp = df[group_cols][group_cols].groupby(group_cols).size().rename(agg_name).to_frame().reset_index()\n",
    "    df = df.merge(gp, on=group_cols, how='left')\n",
    "    del gp\n",
    "    if show_max:\n",
    "        print( agg_name + \" max value = \", df[agg_name].max() )\n",
    "    df[agg_name] = df[agg_name].astype(agg_type)\n",
    "    gc.collect()\n",
    "    return( df )\n",
    "\n",
    "def do_countuniq( df, group_cols, counted, agg_name, agg_type='uint32', show_max=False, show_agg=True ):\n",
    "    if show_agg:\n",
    "        print( \"Counting unqiue \", counted, \" by \", group_cols , '...' )\n",
    "    gp = df[group_cols+[counted]].groupby(group_cols)[counted].nunique().reset_index().rename(columns={counted:agg_name})\n",
    "    df = df.merge(gp, on=group_cols, how='left')\n",
    "    del gp\n",
    "    if show_max:\n",
    "        print( agg_name + \" max value = \", df[agg_name].max() )\n",
    "    df[agg_name] = df[agg_name].astype(agg_type)\n",
    "    gc.collect()\n",
    "    return( df )\n",
    "    \n",
    "def do_cumcount( df, group_cols, counted, agg_name, agg_type='uint32', show_max=False, show_agg=True ):\n",
    "    if show_agg:\n",
    "        print( \"Cumulative count by \", group_cols , '...' )\n",
    "    gp = df[group_cols+[counted]].groupby(group_cols)[counted].cumcount()\n",
    "    df[agg_name]=gp.values\n",
    "    del gp\n",
    "    if show_max:\n",
    "        print( agg_name + \" max value = \", df[agg_name].max() )\n",
    "    df[agg_name] = df[agg_name].astype(agg_type)\n",
    "    gc.collect()\n",
    "    return( df )\n",
    "\n",
    "def do_mean( df, group_cols, counted, agg_name, agg_type='float32', show_max=False, show_agg=True ):\n",
    "    if show_agg:\n",
    "        print( \"Calculating mean of \", counted, \" by \", group_cols , '...' )\n",
    "    gp = df[group_cols+[counted]].groupby(group_cols)[counted].mean().reset_index().rename(columns={counted:agg_name})\n",
    "    df = df.merge(gp, on=group_cols, how='left')\n",
    "    del gp\n",
    "    if show_max:\n",
    "        print( agg_name + \" max value = \", df[agg_name].max() )\n",
    "    df[agg_name] = df[agg_name].astype(agg_type)\n",
    "    gc.collect()\n",
    "    return( df )\n",
    "\n",
    "def do_var( df, group_cols, counted, agg_name, agg_type='float32', show_max=False, show_agg=True ):\n",
    "    if show_agg:\n",
    "        print( \"Calculating variance of \", counted, \" by \", group_cols , '...' )\n",
    "    gp = df[group_cols+[counted]].groupby(group_cols)[counted].var().reset_index().rename(columns={counted:agg_name})\n",
    "    df = df.merge(gp, on=group_cols, how='left')\n",
    "    del gp\n",
    "    if show_max:\n",
    "        print( agg_name + \" max value = \", df[agg_name].max() )\n",
    "    df[agg_name] = df[agg_name].astype(agg_type)\n",
    "    gc.collect()\n",
    "    return( df )\n",
    "\n",
    "def one_hot_one_level(df, f, k):\n",
    "    ones = np.ones((train_df.shape[0]))\n",
    "    return (np.multiply(train_df[f] == k, ones)).astype(np.int8)\n",
    "\n",
    "def show_xgb_importances(model, score_type='weight', n = 20):\n",
    "    scores = model.get_score(importance_type=score_type)\n",
    "    scores = list(zip(scores.keys(), scores.values()))\n",
    "    scores.sort(key=lambda x: x[1])\n",
    "    scores = np.array(scores)[-n:]    \n",
    "    y, x, labels = np.arange(scores.shape[0]), scores[:, 1].astype(float), scores[:, 0]\n",
    "    _, ax = plt.subplots()\n",
    "    ax.barh(y, x)\n",
    "    ax.set_yticks(y)\n",
    "    ax.set_yticklabels(labels)\n",
    "    plt.show()    \n"
   ]
  },
  {
   "cell_type": "code",
   "execution_count": 3,
   "metadata": {},
   "outputs": [],
   "source": [
    "nrows=184903891-1\n",
    "nchunk=25000000\n",
    "val_size=2500000\n",
    "frm=nrows-75000000\n",
    "\n",
    "debug = False\n",
    "use_lgb = False\n",
    "\n",
    "\n",
    "if debug:\n",
    "    frm=0\n",
    "    nchunk=100000\n",
    "    val_size=10000\n",
    "to=frm+nchunk"
   ]
  },
  {
   "cell_type": "code",
   "execution_count": null,
   "metadata": {},
   "outputs": [
    {
     "name": "stdout",
     "output_type": "stream",
     "text": [
      "loading train data... 109903890 134903890\n",
      "loading test data...\n"
     ]
    },
    {
     "data": {
      "text/plain": [
       "14"
      ]
     },
     "execution_count": 42,
     "metadata": {},
     "output_type": "execute_result"
    }
   ],
   "source": [
    "dtypes = {\n",
    "        'ip'            : 'uint32',\n",
    "        'app'           : 'uint16',\n",
    "        'device'        : 'uint16',\n",
    "        'os'            : 'uint16',\n",
    "        'channel'       : 'uint16',\n",
    "        'is_attributed' : 'uint8',\n",
    "        'click_id'      : 'uint32',\n",
    "        }\n",
    "\n",
    "print('loading train data...',frm,to)\n",
    "train_df = pd.read_csv(\"../input/train.csv\", parse_dates=['click_time'], skiprows=range(1,frm), nrows=to-frm, dtype=dtypes, usecols=['ip','app','device','os', 'channel', 'click_time', 'is_attributed'])\n",
    "\n",
    "print('loading test data...')\n",
    "if debug:\n",
    "    test_df = pd.read_csv(\"../input/test.csv\", nrows=100000, parse_dates=['click_time'], dtype=dtypes, usecols=['ip','app','device','os', 'channel', 'click_time', 'click_id'])\n",
    "else:\n",
    "    test_df = pd.read_csv(\"../input/test.csv\", parse_dates=['click_time'], dtype=dtypes, usecols=['ip','app','device','os', 'channel', 'click_time', 'click_id'])\n",
    "\n",
    "len_train = len(train_df)\n",
    "train_df=train_df.append(test_df)\n",
    "\n",
    "del test_df\n",
    "gc.collect()"
   ]
  },
  {
   "cell_type": "code",
   "execution_count": null,
   "metadata": {},
   "outputs": [
    {
     "name": "stdout",
     "output_type": "stream",
     "text": [
      "new features\n",
      "Counting unqiue  channel  by  ['ip'] ...\n",
      "X0 max value =  130\n",
      "Cumulative count by  ['ip', 'device', 'os'] ...\n",
      "X1 max value =  68576\n",
      "Counting unqiue  hour  by  ['ip', 'day'] ...\n",
      "X2 max value =  12\n",
      "Counting unqiue  app  by  ['ip'] ...\n"
     ]
    }
   ],
   "source": [
    "print('new features')\n",
    "\n",
    "train_df['hour'] = pd.to_datetime(train_df.click_time).dt.hour.astype('uint8')\n",
    "train_df['day'] = pd.to_datetime(train_df.click_time).dt.day.astype('uint8')\n",
    "\n",
    "gc.collect()\n",
    "train_df = do_countuniq( train_df, ['ip'], 'channel', 'X0', 'uint8', show_max=True ); gc.collect()\n",
    "train_df = do_cumcount( train_df, ['ip', 'device', 'os'], 'app', 'X1', show_max=True ); gc.collect()\n",
    "train_df = do_countuniq( train_df, ['ip', 'day'], 'hour', 'X2', 'uint8', show_max=True ); gc.collect()\n",
    "train_df = do_countuniq( train_df, ['ip'], 'app', 'X3', 'uint8', show_max=True ); gc.collect()\n",
    "train_df = do_countuniq( train_df, ['ip', 'app'], 'os', 'X4', 'uint8', show_max=True ); gc.collect()\n",
    "train_df = do_countuniq( train_df, ['ip'], 'device', 'X5', 'uint16', show_max=True ); gc.collect()\n",
    "train_df = do_countuniq( train_df, ['app'], 'channel', 'X6', show_max=True ); gc.collect()\n",
    "train_df = do_cumcount( train_df, ['ip'], 'os', 'X7', show_max=True ); gc.collect()\n",
    "train_df = do_countuniq( train_df, ['ip', 'device', 'os'], 'app', 'X8', show_max=True ); gc.collect()\n",
    "train_df = do_count( train_df, ['ip', 'day', 'hour'], 'ip_tcount', show_max=True ); gc.collect()\n",
    "train_df = do_count( train_df, ['ip', 'app'], 'ip_app_count', show_max=True ); gc.collect()\n",
    "train_df = do_count( train_df, ['ip', 'app', 'os'], 'ip_app_os_count', 'uint16', show_max=True ); gc.collect()\n",
    "train_df = do_var( train_df, ['ip', 'day', 'channel'], 'hour', 'ip_tchan_count', show_max=True ); gc.collect()\n",
    "train_df = do_var( train_df, ['ip', 'app', 'os'], 'hour', 'ip_app_os_var', show_max=True ); gc.collect()\n",
    "train_df = do_var( train_df, ['ip', 'app', 'channel'], 'day', 'ip_app_channel_var_day', show_max=True ); gc.collect()\n",
    "train_df = do_mean( train_df, ['ip', 'app', 'channel'], 'hour', 'ip_app_channel_mean_hour', show_max=True ); gc.collect()\n",
    "\n",
    "print(\"next click\")\n",
    "predictors=[]\n",
    "train_df['click_time'] = (train_df['click_time'].astype(np.int64) // 10 ** 9).astype(np.int32)\n",
    "train_df['nextClick'] = (train_df.groupby(['ip', 'app', 'device', 'os']).click_time.shift(-1) \\\n",
    "                         - train_df.click_time).astype(np.float32)\n",
    "predictors.append('nextClick')\n",
    "train_df['nextClick_shift'] = train_df['nextClick'].shift(+1).values\n",
    "predictors.append('nextClick_shift')\n",
    "\n",
    "########################################################################################################################\n",
    "\n",
    "print(\"target encoding\")\n",
    "with open(\"../dumps/te.pkl\", \"rb\") as f: te = pickle.load(f)\n",
    "prior = te['prior']\n",
    "for k in ['ip', 'app', 'device', 'os', 'channel']:\n",
    "    new_feature = 'te_'+k\n",
    "    train_df[new_feature] = train_df[k].map(te[k]).fillna(prior)\n",
    "    predictors.append(new_feature)\n",
    "del te, prior\n",
    "gc.collect()\n",
    "\n",
    "print(\"oneHot encoding\")\n",
    "with open(\"../dumps/to_ohe.pkl\", \"rb\") as f: to_ohe = pickle.load(f)\n",
    "for f in to_ohe:\n",
    "    for k in to_ohe[f]:\n",
    "        new_feature = f+'_'+str(k)\n",
    "        train_df[new_feature] = one_hot_one_level(train_df, f, k)\n",
    "        predictors.append(new_feature)\n",
    "\n",
    "########################################################################################################################\n",
    "\n",
    "train_df.info()\n",
    "\n",
    "print(\"vars and data type: \")\n",
    "train_df.drop(['click_time'], axis=1, inplace=True)\n",
    "train_df['ip_tcount'] = train_df['ip_tcount'].astype('uint16')\n",
    "train_df['ip_app_count'] = train_df['ip_app_count'].astype('uint16')\n",
    "train_df['ip_app_os_count'] = train_df['ip_app_os_count'].astype('uint16')\n",
    "target = 'is_attributed'\n",
    "\n",
    "if use_lgb: predictors.extend(['app', 'channel', 'device', 'os'])\n",
    "predictors.extend(['hour', 'day', \n",
    "              'ip_tcount', 'ip_tchan_count', 'ip_app_count',\n",
    "              'ip_app_os_count', 'ip_app_os_var',\n",
    "              'ip_app_channel_var_day','ip_app_channel_mean_hour',\n",
    "              'X0', 'X1', 'X2', 'X3', 'X4', 'X5', 'X6', 'X7', 'X8'])\n",
    "categorical = ['app', 'device', 'os', 'channel', 'hour', 'day']\n",
    "print('predictors', predictors)\n",
    "\n",
    "test_df = train_df[len_train:]\n",
    "val_df = train_df[(len_train-val_size):len_train]\n",
    "train_df = train_df[:(len_train-val_size)]\n",
    "\n",
    "print(\"train size: \", len(train_df))\n",
    "print(\"valid size: \", len(val_df))\n",
    "print(\"test size : \", len(test_df))\n",
    "print(train_df.shape, test_df.shape, val_df.shape)"
   ]
  },
  {
   "cell_type": "code",
   "execution_count": null,
   "metadata": {},
   "outputs": [],
   "source": [
    "train_df.shape, test_df.shape, val_df.shape"
   ]
  },
  {
   "cell_type": "code",
   "execution_count": null,
   "metadata": {},
   "outputs": [],
   "source": [
    "# # dumping \n",
    "# with open(\"../dumps/lgb/train.pkl\", \"wb\") as f:\n",
    "#     pickle.dump(obj=train_df, file=f)\n",
    "# with open(\"../dumps/lgb/valid.pkl\", \"wb\") as f:\n",
    "#     pickle.dump(obj=val_df, file=f)    \n",
    "# with open(\"../dumps/lgb/test.pkl\", \"wb\") as f:\n",
    "#     pickle.dump(obj=test_df, file=f)            \n",
    "# with open(\"../dumps/lgb/predictors.pkl\", \"wb\") as f:\n",
    "#     pickle.dump(obj=predictors, file=f)"
   ]
  },
  {
   "cell_type": "code",
   "execution_count": 4,
   "metadata": {},
   "outputs": [],
   "source": [
    "# load \n",
    "with open(\"../dumps/lgb/train.pkl\", \"rb\") as f:\n",
    "    train_df = pickle.load(f)\n",
    "with open(\"../dumps/lgb/valid.pkl\", \"rb\") as f:\n",
    "    val_df = pickle.load(f)\n",
    "with open(\"../dumps/lgb/predictors.pkl\", \"rb\") as f:\n",
    "    predictors = pickle.load(f)\n",
    "    \n",
    "y_train = train_df['is_attributed']\n",
    "y_val = val_df['is_attributed']            "
   ]
  },
  {
   "cell_type": "code",
   "execution_count": 5,
   "metadata": {},
   "outputs": [
    {
     "data": {
      "text/plain": [
       "True"
      ]
     },
     "execution_count": 5,
     "metadata": {},
     "output_type": "execute_result"
    }
   ],
   "source": [
    "def remove_feature(f):\n",
    "    if f in train_df.columns: train_df.drop([f], axis=1, inplace=True)\n",
    "    if f in val_df.columns: val_df.drop([f], axis=1, inplace=True)\n",
    "    if f in predictors: del predictors[predictors.index(f)]\n",
    "\n",
    "remove_feature('te_ip')\n",
    "remove_feature('app')\n",
    "remove_feature('channel')\n",
    "remove_feature('click_id')\n",
    "remove_feature('device')\n",
    "remove_feature('ip')\n",
    "remove_feature('os')\n",
    "remove_feature('is_attributed')\n",
    "set(train_df.columns) == set(predictors) == set(val_df.columns) "
   ]
  },
  {
   "cell_type": "code",
   "execution_count": 6,
   "metadata": {},
   "outputs": [],
   "source": [
    "# with open('../dumps/te.pkl', 'rb') as f:\n",
    "#     te = pickle.load(f)\n",
    "# for f in ['te_app', 'te_device', 'te_os', 'te_channel']:\n",
    "#     train_df[f].fillna(te['prior'], inplace=True)\n",
    "#     val_df[f].fillna(te['prior'], inplace=True)"
   ]
  },
  {
   "cell_type": "code",
   "execution_count": 7,
   "metadata": {},
   "outputs": [
    {
     "data": {
      "text/plain": [
       "112"
      ]
     },
     "execution_count": 7,
     "metadata": {},
     "output_type": "execute_result"
    }
   ],
   "source": [
    "dmtrain = xgb.DMatrix(train_df, y_train, feature_names=predictors, missing=np.nan)\n",
    "del train_df\n",
    "gc.collect()"
   ]
  },
  {
   "cell_type": "code",
   "execution_count": 8,
   "metadata": {},
   "outputs": [
    {
     "data": {
      "text/plain": [
       "0"
      ]
     },
     "execution_count": 8,
     "metadata": {},
     "output_type": "execute_result"
    }
   ],
   "source": [
    "dmvalid = xgb.DMatrix(val_df, y_val, feature_names=predictors, missing=np.nan)\n",
    "del val_df\n",
    "gc.collect()"
   ]
  },
  {
   "cell_type": "code",
   "execution_count": 9,
   "metadata": {},
   "outputs": [],
   "source": [
    "params = {\n",
    "    'tree_method': 'hist',\n",
    "    'objective': 'binary:logistic',\n",
    "    'eval_metric': 'auc', \n",
    "    'hthread':4,\n",
    "    'silent': 1,\n",
    "    'grow_policy': \"lossguide\",\n",
    "}\n",
    "\n",
    "# .9756 with ohe and te\n",
    "params['eta'] = 0.15\n",
    "params['max_depth'] = 4\n",
    "params['max_leaves'] = 300\n",
    "params['subsample'] = 0.5\n",
    "params['colsample_bytree'] = 0.95\n",
    "params['alpha'] = 2.5\n",
    "params['lambda'] = 2.5\n",
    "params['gamma'] = 20\n",
    "params['min_child_weight'] = 20\n",
    "params['scale_pos_weight'] = 250\n",
    "\n",
    "# .9752\n",
    "params = {\n",
    "    'tree_method': 'hist',\n",
    "    'objective': 'binary:logistic',\n",
    "    'eval_metric': 'auc', \n",
    "    'hthread':4,\n",
    "    'silent': 1,\n",
    "    'grow_policy': \"lossguide\",\n",
    "    'eta': 0.15,\n",
    "    'max_leaves': 31,  \n",
    "    'max_depth': 0, \n",
    "    'subsample': 0.4, \n",
    "    'colsample_bytree': 0.4,\n",
    "    'alpha': 1,\n",
    "    'lambda': 1,\n",
    "    'gamma': 5,\n",
    "    'min_child_weight': 20,\n",
    "    'scale_pos_weight': 200,\n",
    "}\n",
    "\n",
    "# \n",
    "params['eta'] = 0.15\n",
    "params['max_depth'] = 0\n",
    "params['max_leaves'] = 15\n",
    "params['subsample'] = 0.65\n",
    "params['colsample_bytree'] = 0.8\n",
    "params['alpha'] = 0\n",
    "params['lambda'] = 0\n",
    "params['gamma'] = 1\n",
    "params['min_child_weight'] = 0\n",
    "params['scale_pos_weight'] = 100\n"
   ]
  },
  {
   "cell_type": "code",
   "execution_count": 10,
   "metadata": {},
   "outputs": [
    {
     "name": "stdout",
     "output_type": "stream",
     "text": [
      "[0]\ttrain-auc:0.9594\tvalid-auc:0.942538\n",
      "Multiple eval metrics have been passed: 'valid-auc' will be used for early stopping.\n",
      "\n",
      "Will train until valid-auc hasn't improved in 15 rounds.\n",
      "[5]\ttrain-auc:0.967886\tvalid-auc:0.953228\n",
      "[10]\ttrain-auc:0.97272\tvalid-auc:0.96698\n",
      "[15]\ttrain-auc:0.976732\tvalid-auc:0.967229\n",
      "[20]\ttrain-auc:0.977188\tvalid-auc:0.967478\n",
      "[25]\ttrain-auc:0.979881\tvalid-auc:0.969468\n",
      "[30]\ttrain-auc:0.981435\tvalid-auc:0.970486\n",
      "[35]\ttrain-auc:0.982802\tvalid-auc:0.971067\n",
      "[40]\ttrain-auc:0.983778\tvalid-auc:0.971141\n",
      "[45]\ttrain-auc:0.984497\tvalid-auc:0.971511\n",
      "[50]\ttrain-auc:0.984952\tvalid-auc:0.971392\n",
      "[55]\ttrain-auc:0.985338\tvalid-auc:0.971423\n",
      "[60]\ttrain-auc:0.985573\tvalid-auc:0.97157\n",
      "[65]\ttrain-auc:0.985812\tvalid-auc:0.971712\n",
      "[70]\ttrain-auc:0.986015\tvalid-auc:0.971797\n",
      "[75]\ttrain-auc:0.986226\tvalid-auc:0.971766\n",
      "[80]\ttrain-auc:0.986471\tvalid-auc:0.971825\n",
      "[85]\ttrain-auc:0.986659\tvalid-auc:0.971769\n",
      "[90]\ttrain-auc:0.98683\tvalid-auc:0.971905\n",
      "[95]\ttrain-auc:0.987005\tvalid-auc:0.971962\n",
      "[100]\ttrain-auc:0.987188\tvalid-auc:0.972012\n",
      "[105]\ttrain-auc:0.98729\tvalid-auc:0.972059\n",
      "[110]\ttrain-auc:0.987397\tvalid-auc:0.972037\n",
      "[115]\ttrain-auc:0.987545\tvalid-auc:0.972014\n",
      "[120]\ttrain-auc:0.987719\tvalid-auc:0.971974\n",
      "Stopping. Best iteration:\n",
      "[108]\ttrain-auc:0.987361\tvalid-auc:0.972087\n",
      "\n"
     ]
    }
   ],
   "source": [
    "# Training process\n",
    "watchlist = [(dmtrain, 'train'), (dmvalid, 'valid')]\n",
    "model = xgb.train(params, dmtrain, 100, watchlist, maximize=True, early_stopping_rounds=15, verbose_eval=5)"
   ]
  },
  {
   "cell_type": "code",
   "execution_count": 16,
   "metadata": {},
   "outputs": [],
   "source": [
    "with open(\"../dumps/lgb/model.pkl\", \"wb\") as f:\n",
    "    pickle.dump(model, f)\n",
    "    \n",
    "del dmtrain, dmvalid\n",
    "gc.collect()"
   ]
  },
  {
   "cell_type": "code",
   "execution_count": 24,
   "metadata": {},
   "outputs": [],
   "source": [
    "# TODO:\n",
    "# other val sample\n",
    "# hyperopt tuning\n",
    "# memory => more data \n",
    "# lightgbm: best practice + best parameters from kernel: https://www.kaggle.com/cgundlach/lgbm-single-model-lb-9791/code\n",
    "# learn feather data format "
   ]
  },
  {
   "cell_type": "markdown",
   "metadata": {},
   "source": [
    "Predict"
   ]
  },
  {
   "cell_type": "code",
   "execution_count": 30,
   "metadata": {},
   "outputs": [
    {
     "name": "stdout",
     "output_type": "stream",
     "text": [
      "load test\n",
      "remove features\n"
     ]
    },
    {
     "data": {
      "text/plain": [
       "True"
      ]
     },
     "execution_count": 30,
     "metadata": {},
     "output_type": "execute_result"
    }
   ],
   "source": [
    "with open(\"../dumps/lgb/model.pkl\", \"rb\") as f:\n",
    "    model = pickle.load(f)\n",
    "    \n",
    "print(\"load test\")\n",
    "with open(\"../dumps/lgb/test.pkl\", \"rb\") as f:\n",
    "    test_df = pickle.load(f)  \n",
    "    \n",
    "def remove_feature_test(f):\n",
    "    if f in test_df.columns: test_df.drop([f], axis=1, inplace=True)\n",
    "    if f in predictors: del predictors[predictors.index(f)]\n",
    "   \n",
    "with open('../dumps/te.pkl', 'rb') as f:\n",
    "    te = pickle.load(f)\n",
    "for f in ['te_app', 'te_device', 'te_os', 'te_channel']:\n",
    "    test_df[f].fillna(te['prior'], inplace=True)   \n",
    "        \n",
    "with open(\"../dumps/lgb/predictors.pkl\", \"rb\") as f:\n",
    "    predictors = pickle.load(f)        \n",
    "        \n",
    "print(\"remove features\")\n",
    "for f in ['te_ip', 'app', 'channel', 'click_id', 'device', 'ip', 'os', 'is_attributed']:\n",
    "    remove_feature_test(f)\n",
    "    \n",
    "set(predictors) == set(test_df)"
   ]
  },
  {
   "cell_type": "code",
   "execution_count": 31,
   "metadata": {},
   "outputs": [
    {
     "name": "stdout",
     "output_type": "stream",
     "text": [
      "make prediction\n"
     ]
    }
   ],
   "source": [
    "dmtest = xgb.DMatrix(test_df, feature_names=predictors, missing=np.nan)\n",
    "del test_df\n",
    "gc.collect()\n",
    "print(\"make prediction\")\n",
    "pred = model.predict(dmtest)"
   ]
  },
  {
   "cell_type": "code",
   "execution_count": 32,
   "metadata": {},
   "outputs": [
    {
     "name": "stdout",
     "output_type": "stream",
     "text": [
      "save submission\n",
      "click_id         0\n",
      "is_attributed    0\n",
      "dtype: int64\n"
     ]
    }
   ],
   "source": [
    "sample = pd.read_csv('../input/sample_submission.csv')\n",
    "sample['is_attributed'] = pred\n",
    "print(sample.isnull().sum())"
   ]
  },
  {
   "cell_type": "code",
   "execution_count": 33,
   "metadata": {},
   "outputs": [
    {
     "data": {
      "text/plain": [
       "0"
      ]
     },
     "execution_count": 33,
     "metadata": {},
     "output_type": "execute_result"
    }
   ],
   "source": [
    "print(\"save submission\")\n",
    "del pred\n",
    "gc.collect()\n",
    "sample.to_csv('../sub/xgb_v5_depth0_15levaves.csv.gz', compression='gzip', index=False)\n",
    "del dmtest\n",
    "gc.collect()"
   ]
  },
  {
   "cell_type": "code",
   "execution_count": 29,
   "metadata": {},
   "outputs": [
    {
     "data": {
      "image/png": "[encoded data removed]",
      "text/plain": [
       "<matplotlib.figure.Figure at 0x2032e096978>"
      ]
     },
     "metadata": {},
     "output_type": "display_data"
    }
   ],
   "source": [
    "def show_xgb_importances(model, score_type='weight', n = 20):\n",
    "    scores = model.get_score(importance_type=score_type)\n",
    "    scores = list(zip(scores.keys(), scores.values()))\n",
    "    scores.sort(key=lambda x: x[1])\n",
    "    scores = np.array(scores)[-n:]    \n",
    "    y, x, labels = np.arange(scores.shape[0]), scores[:, 1].astype(float), scores[:, 0]\n",
    "    _, ax = plt.subplots()\n",
    "    ax.barh(y, x)\n",
    "    ax.set_yticks(y)\n",
    "    ax.set_yticklabels(labels)\n",
    "    plt.show() \n",
    "\n",
    "plt.rcParams['figure.figsize']=(8,12)\n",
    "show_xgb_importances(model, n=50)"
   ]
  }
 ],
 "metadata": {
  "kernelspec": {
   "display_name": "Python 3",
   "language": "python",
   "name": "python3"
  },
  "language_info": {
   "codemirror_mode": {
    "name": "ipython",
    "version": 3
   },
   "file_extension": ".py",
   "mimetype": "text/x-python",
   "name": "python",
   "nbconvert_exporter": "python",
   "pygments_lexer": "ipython3",
   "version": "3.6.1"
  }
 },
 "nbformat": 4,
 "nbformat_minor": 2
}
