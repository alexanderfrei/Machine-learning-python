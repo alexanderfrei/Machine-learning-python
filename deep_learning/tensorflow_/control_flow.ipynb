{
 "cells": [
  {
   "cell_type": "code",
   "execution_count": 1,
   "metadata": {
    "collapsed": true
   },
   "outputs": [],
   "source": [
    "# example: x+y if x<y else x-y"
   ]
  },
  {
   "cell_type": "code",
   "execution_count": 2,
   "metadata": {},
   "outputs": [
    {
     "name": "stderr",
     "output_type": "stream",
     "text": [
      "/home/frei/dev/anaconda/lib/python3.6/site-packages/h5py/__init__.py:36: FutureWarning: Conversion of the second argument of issubdtype from `float` to `np.floating` is deprecated. In future, it will be treated as `np.float64 == np.dtype(float).type`.\n",
      "  from ._conv import register_converters as _register_converters\n"
     ]
    }
   ],
   "source": [
    "import tensorflow as tf "
   ]
  },
  {
   "cell_type": "code",
   "execution_count": 4,
   "metadata": {},
   "outputs": [
    {
     "name": "stdout",
     "output_type": "stream",
     "text": [
      "Object: Tensor(\"res_add:0\", dtype=float32)\n",
      "x < y:  True 3.0\n",
      "x < y:  False 3.0\n"
     ]
    }
   ],
   "source": [
    "# wrong \n",
    "\n",
    "x, y = 1.0, 2.0\n",
    "\n",
    "g=tf.Graph()\n",
    "with g.as_default():\n",
    "    tf_x = tf.placeholder(dtype=tf.float32, shape=None, name='tf_x')\n",
    "    tf_y = tf.placeholder(dtype=tf.float32, shape=None, name='tf_y')\n",
    "    if x < y: \n",
    "        res = tf.add(tf_x, tf_y, name='res_add')\n",
    "    else:\n",
    "        res = tf.subtract(tf_x, tf_y, name='res_sub')\n",
    "    print('Object:', res)\n",
    "\n",
    "with tf.Session(graph=g) as sess:\n",
    "    print('x < y: ', x < y, res.eval(feed_dict={'tf_x:0':x, 'tf_y:0':y}))\n",
    "    \n",
    "    x, y = 2.0, 1.0\n",
    "    print('x < y: ', x < y, res.eval(feed_dict={'tf_x:0':x, 'tf_y:0':y}))\n",
    "    "
   ]
  },
  {
   "cell_type": "code",
   "execution_count": 6,
   "metadata": {},
   "outputs": [
    {
     "name": "stdout",
     "output_type": "stream",
     "text": [
      "Object: Tensor(\"cond/Merge:0\", dtype=float32)\n",
      "x < y:  True 3.0\n",
      "x < y:  False 1.0\n"
     ]
    }
   ],
   "source": [
    "# right\n",
    "\n",
    "x, y = 1.0, 2.0\n",
    "\n",
    "g=tf.Graph()\n",
    "with g.as_default():\n",
    "    tf_x = tf.placeholder(dtype=tf.float32, shape=None, name='tf_x')\n",
    "    tf_y = tf.placeholder(dtype=tf.float32, shape=None, name='tf_y')\n",
    "    res = tf.cond(tf_x < tf_y, \n",
    "                  lambda: tf.add(tf_x, tf_y, name='res_add'),\n",
    "                  lambda: tf.subtract(tf_x, tf_y, name='res_sub'))\n",
    "    print('Object:', res)\n",
    "\n",
    "with tf.Session(graph=g) as sess:\n",
    "    print('x < y: ', x < y, res.eval(feed_dict={'tf_x:0':x, 'tf_y:0':y}))\n",
    "    \n",
    "    x, y = 2.0, 1.0\n",
    "    print('x < y: ', x < y, res.eval(feed_dict={'tf_x:0':x, 'tf_y:0':y}))\n",
    "    "
   ]
  },
  {
   "cell_type": "code",
   "execution_count": null,
   "metadata": {
    "collapsed": true
   },
   "outputs": [],
   "source": []
  }
 ],
 "metadata": {
  "kernelspec": {
   "display_name": "Python 3",
   "language": "python",
   "name": "python3"
  },
  "language_info": {
   "codemirror_mode": {
    "name": "ipython",
    "version": 3
   },
   "file_extension": ".py",
   "mimetype": "text/x-python",
   "name": "python",
   "nbconvert_exporter": "python",
   "pygments_lexer": "ipython3",
   "version": "3.6.1"
  }
 },
 "nbformat": 4,
 "nbformat_minor": 2
}
