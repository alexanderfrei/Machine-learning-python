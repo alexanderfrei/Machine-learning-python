{
 "cells": [
  {
   "cell_type": "code",
   "execution_count": 1,
   "metadata": {},
   "outputs": [],
   "source": [
    "# simple char RNN for POS-tagging russian\n",
    "\n",
    "# data \n",
    "# http://opencorpora.org/files/export/dict/dict.opcorpora.txt.zip"
   ]
  },
  {
   "cell_type": "code",
   "execution_count": 1,
   "metadata": {},
   "outputs": [],
   "source": [
    "import numpy as np \n",
    "import pandas as pd \n",
    "# import keras"
   ]
  },
  {
   "cell_type": "code",
   "execution_count": 2,
   "metadata": {},
   "outputs": [],
   "source": [
    "words, pos = [], []\n",
    "with open('./dict.opcorpora.txt', encoding='utf-8') as f:\n",
    "    line = f.readline()\n",
    "    while True:\n",
    "        line = line.split('\\t')\n",
    "        if len(line) > 1 and not set([\"'\", '’', '0','1','2','3','4','5','6','7','8','9']) & set(line[0]):\n",
    "            words.append(line[0])\n",
    "            pos.append(line[1].split(',')[0].strip())\n",
    "        line = f.readline()\n",
    "        if line == '': break"
   ]
  },
  {
   "cell_type": "code",
   "execution_count": 3,
   "metadata": {},
   "outputs": [
    {
     "data": {
      "text/plain": [
       "array(['-', 'Ё', 'А', 'Б', 'В', 'Г', 'Д', 'Е', 'Ж', 'З', 'И', 'Й', 'К',\n",
       "       'Л', 'М', 'Н', 'О', 'П', 'Р', 'С', 'Т', 'У', 'Ф', 'Х', 'Ц', 'Ч',\n",
       "       'Ш', 'Щ', 'Ъ', 'Ы', 'Ь', 'Э', 'Ю', 'Я'], dtype='<U1')"
      ]
     },
     "execution_count": 3,
     "metadata": {},
     "output_type": "execute_result"
    }
   ],
   "source": [
    "chars = [c for w in words for c in w]\n",
    "np.unique(chars)"
   ]
  },
  {
   "cell_type": "code",
   "execution_count": 4,
   "metadata": {},
   "outputs": [],
   "source": [
    "# labels to int \n",
    "pos2int = {}\n",
    "for i, p in enumerate(np.unique(pos)):\n",
    "    pos2int[p] = i\n",
    "\n",
    "pos_int = []\n",
    "for p in pos:\n",
    "    pos_int.append(pos2int[p])\n",
    "\n",
    "int2pos = {i: p for p, i in pos2int.items()}"
   ]
  },
  {
   "cell_type": "code",
   "execution_count": 5,
   "metadata": {},
   "outputs": [],
   "source": [
    "from collections import Counter\n",
    "\n",
    "words_x_pos = {}\n",
    "for w, p in zip(words, pos_int):\n",
    "    words_x_pos.setdefault(w, Counter()).update([p])"
   ]
  },
  {
   "cell_type": "code",
   "execution_count": 6,
   "metadata": {},
   "outputs": [],
   "source": [
    "n_samples = len(words_x_pos.keys())\n",
    "n_classes = np.unique(pos_int).shape[0]"
   ]
  },
  {
   "cell_type": "code",
   "execution_count": 7,
   "metadata": {},
   "outputs": [
    {
     "name": "stdout",
     "output_type": "stream",
     "text": [
      "0\n",
      "500000\n",
      "1000000\n",
      "1500000\n",
      "2000000\n",
      "2500000\n",
      "3000000\n"
     ]
    }
   ],
   "source": [
    "# preprocessing /one-hot/\n",
    "# different labels for same words if possible (multilabels)\n",
    "\n",
    "# prepare multilabels\n",
    "y = np.zeros((n_samples, n_classes))\n",
    "\n",
    "for i, k in enumerate(words_x_pos):\n",
    "    c = words_x_pos[k]\n",
    "    if len(c) == 1:\n",
    "        v = [cc for cc in c.keys()][0]\n",
    "        y[i, v] = 1\n",
    "    else:\n",
    "        s = sum(words_x_pos[k].values())\n",
    "        for v, cnt in words_x_pos[k].items():\n",
    "            y[i, v] = cnt/s\n",
    "    if i % 500000 == 0: print(i)\n"
   ]
  },
  {
   "cell_type": "code",
   "execution_count": 8,
   "metadata": {},
   "outputs": [
    {
     "data": {
      "text/plain": [
       "(37,\n",
       " 3039624,\n",
       " {'-': 1,\n",
       "  'Ё': 2,\n",
       "  'А': 3,\n",
       "  'Б': 4,\n",
       "  'В': 5,\n",
       "  'Г': 6,\n",
       "  'Д': 7,\n",
       "  'Е': 8,\n",
       "  'Ж': 9,\n",
       "  'З': 10,\n",
       "  'И': 11,\n",
       "  'Й': 12,\n",
       "  'К': 13,\n",
       "  'Л': 14,\n",
       "  'М': 15,\n",
       "  'Н': 16,\n",
       "  'О': 17,\n",
       "  'П': 18,\n",
       "  'Р': 19,\n",
       "  'С': 20,\n",
       "  'Т': 21,\n",
       "  'У': 22,\n",
       "  'Ф': 23,\n",
       "  'Х': 24,\n",
       "  'Ц': 25,\n",
       "  'Ч': 26,\n",
       "  'Ш': 27,\n",
       "  'Щ': 28,\n",
       "  'Ъ': 29,\n",
       "  'Ы': 30,\n",
       "  'Ь': 31,\n",
       "  'Э': 32,\n",
       "  'Ю': 33,\n",
       "  'Я': 34})"
      ]
     },
     "execution_count": 8,
     "metadata": {},
     "output_type": "execute_result"
    }
   ],
   "source": [
    "# prepare char sequences \n",
    "\n",
    "# char2int \n",
    "char2int = {}\n",
    "for i, c in enumerate(np.unique(chars)):\n",
    "    char2int[c] = i + 1  # 0 char is not a char (for padding)\n",
    "\n",
    "int2char = {i: c for c, i in char2int.items()}\n",
    "\n",
    "words_int = []\n",
    "max_len = 0\n",
    "for w in words_x_pos.keys():\n",
    "    word_int = [char2int[c] for c in w]\n",
    "    words_int.append(word_int)\n",
    "    \n",
    "    ln = len(word_int)\n",
    "    if ln > max_len: max_len = ln\n",
    "        \n",
    "max_len, len(words_int), char2int"
   ]
  },
  {
   "cell_type": "code",
   "execution_count": 9,
   "metadata": {},
   "outputs": [
    {
     "data": {
      "text/plain": [
       "(35, 37)"
      ]
     },
     "execution_count": 9,
     "metadata": {},
     "output_type": "execute_result"
    }
   ],
   "source": [
    "n_chars = len(char2int)+1\n",
    "n_chars, max_len"
   ]
  },
  {
   "cell_type": "code",
   "execution_count": 14,
   "metadata": {},
   "outputs": [],
   "source": [
    "import pickle \n",
    "with open('X.pkl', 'wb') as f: pickle.dump(words_int, f)\n",
    "with open('y.pkl', 'wb') as f: pickle.dump(y, f)"
   ]
  },
  {
   "cell_type": "code",
   "execution_count": 16,
   "metadata": {},
   "outputs": [],
   "source": [
    "with open('char2int.pkl', 'wb') as f: pickle.dump(char2int, f)\n",
    "with open('int2pos.pkl', 'wb') as f: pickle.dump(int2pos, f)"
   ]
  },
  {
   "cell_type": "code",
   "execution_count": 19,
   "metadata": {},
   "outputs": [
    {
     "data": {
      "text/plain": [
       "Counter({0: 252803,\n",
       "         1: 67326,\n",
       "         2: 235682,\n",
       "         3: 67336,\n",
       "         4: 168345,\n",
       "         5: 202025,\n",
       "         6: 168340,\n",
       "         7: 31313,\n",
       "         8: 9176,\n",
       "         9: 9187,\n",
       "         10: 10270,\n",
       "         11: 9185,\n",
       "         12: 4066,\n",
       "         13: 2,\n",
       "         14: 1,\n",
       "         15: 4,\n",
       "         16: 1,\n",
       "         17: 38515,\n",
       "         18: 14278,\n",
       "         19: 5,\n",
       "         20: 7142,\n",
       "         21: 185,\n",
       "         22: 3,\n",
       "         23: 4,\n",
       "         24: 2,\n",
       "         25: 70943,\n",
       "         26: 32374,\n",
       "         27: 301,\n",
       "         28: 1,\n",
       "         29: 4,\n",
       "         30: 1415797,\n",
       "         31: 243,\n",
       "         32: 2,\n",
       "         33: 2,\n",
       "         34: 16,\n",
       "         35: 13,\n",
       "         36: 70,\n",
       "         37: 44,\n",
       "         38: 48,\n",
       "         39: 9,\n",
       "         40: 53,\n",
       "         41: 8,\n",
       "         42: 51,\n",
       "         43: 11,\n",
       "         44: 50,\n",
       "         45: 9,\n",
       "         46: 8,\n",
       "         47: 53,\n",
       "         48: 131,\n",
       "         49: 1,\n",
       "         50: 1,\n",
       "         51: 3,\n",
       "         52: 1,\n",
       "         53: 80,\n",
       "         54: 126,\n",
       "         55: 1,\n",
       "         56: 13,\n",
       "         57: 1795930,\n",
       "         58: 68618,\n",
       "         59: 419072})"
      ]
     },
     "execution_count": 19,
     "metadata": {},
     "output_type": "execute_result"
    }
   ],
   "source": [
    "Counter(pos_int)"
   ]
  }
 ],
 "metadata": {
  "kernelspec": {
   "display_name": "tensorflow",
   "language": "python",
   "name": "tensorflow"
  },
  "language_info": {
   "codemirror_mode": {
    "name": "ipython",
    "version": 3
   },
   "file_extension": ".py",
   "mimetype": "text/x-python",
   "name": "python",
   "nbconvert_exporter": "python",
   "pygments_lexer": "ipython3",
   "version": "3.5.5"
  }
 },
 "nbformat": 4,
 "nbformat_minor": 2
}
