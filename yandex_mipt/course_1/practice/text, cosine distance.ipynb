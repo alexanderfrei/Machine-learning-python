{
 "cells": [
  {
   "cell_type": "code",
   "execution_count": 64,
   "metadata": {
    "collapsed": true
   },
   "outputs": [],
   "source": [
    "# python 3\n",
    "import pandas as pd\n",
    "import numpy as np\n",
    "import re\n",
    "from scipy.spatial.distance import cosine, cdist\n",
    "from sklearn.metrics.pairwise import cosine_similarity"
   ]
  },
  {
   "cell_type": "code",
   "execution_count": 7,
   "metadata": {},
   "outputs": [],
   "source": [
    "# Скачайте файл с предложениями (sentences.txt).\n",
    "with open('sentences.txt', 'r') as f:\n",
    "    txt = f.readlines()"
   ]
  },
  {
   "cell_type": "code",
   "execution_count": 9,
   "metadata": {},
   "outputs": [],
   "source": [
    "# Каждая строка в файле соответствует одному предложению. \n",
    "# Считайте их, приведите каждую к нижнему регистру с помощью строковой функции lower().\n",
    "txt = [s.lower() for s in txt]"
   ]
  },
  {
   "cell_type": "code",
   "execution_count": 26,
   "metadata": {},
   "outputs": [],
   "source": [
    "# Произведите токенизацию, то есть разбиение текстов на слова. \n",
    "# Не забудьте удалить пустые слова после разделения.\n",
    "# Составьте список всех слов, встречающихся в предложениях. \n",
    "words = []\n",
    "for sentence in txt:\n",
    "    cache = {}\n",
    "    for w in re.split('[^a-z]', sentence):\n",
    "        if w:\n",
    "            if w in cache.keys():\n",
    "                cache[w] += 1\n",
    "            else:\n",
    "                cache[w] = 1\n",
    "    words.append(cache)"
   ]
  },
  {
   "cell_type": "code",
   "execution_count": 34,
   "metadata": {},
   "outputs": [],
   "source": [
    "# Создайте матрицу размера n * d, где n — число предложений. \n",
    "# Заполните ее: элемент с индексом (i, j) в этой матрице должен быть равен количеству вхождений j-го слова в i-е предложение. \n",
    "# У вас должна получиться матрица размера 22 * 254.\n",
    "df = pd.DataFrame()\n",
    "df = df.from_dict(words)\n",
    "df.fillna(0, inplace=True)"
   ]
  },
  {
   "cell_type": "code",
   "execution_count": 90,
   "metadata": {},
   "outputs": [],
   "source": [
    "# df.loc[:,['in','dogs','bytes']] # check\n",
    "# Найдите косинусное расстояние от предложения в самой первой строке (In comparison to dogs, cats have not undergone...) до всех остальных с помощью функции scipy.spatial.distance.cosine. \n",
    "# Какие номера у двух предложений, ближайших к нему по этому расстоянию (строки нумеруются с нуля)? \n",
    "# Эти два числа и будут ответами на задание. \n",
    "arr = df.values\n",
    "feat_n = arr.shape[1]\n",
    "dist = []\n",
    "for row in arr:\n",
    "    cos = cosine(arr[0, :].reshape(-1,1), row.reshape(-1,1))\n",
    "    dist.append(cos)\n",
    "df_dist = pd.DataFrame(dist, columns=['cosine'])\n",
    "df_dist.sort_values(axis=0, by='cosine', inplace=True)"
   ]
  },
  {
   "cell_type": "code",
   "execution_count": 102,
   "metadata": {},
   "outputs": [],
   "source": [
    "# Запишите полученные числа в файл, разделив пробелом. \n",
    "# Обратите внимание, что файл должен состоять из одной строки, в конце которой не должно быть переноса. \n",
    "with open('sub1.txt', 'w') as sub:\n",
    "    sub.write(' '.join([str(idx) for idx in df_dist[1:3].index]))"
   ]
  }
 ],
 "metadata": {
  "kernelspec": {
   "display_name": "Python 3",
   "language": "python",
   "name": "python3"
  },
  "language_info": {
   "codemirror_mode": {
    "name": "ipython",
    "version": 3
   },
   "file_extension": ".py",
   "mimetype": "text/x-python",
   "name": "python",
   "nbconvert_exporter": "python",
   "pygments_lexer": "ipython3",
   "version": "3.6.1"
  }
 },
 "nbformat": 4,
 "nbformat_minor": 2
}
