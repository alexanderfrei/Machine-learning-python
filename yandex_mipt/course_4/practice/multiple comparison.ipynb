{
 "cells": [
  {
   "cell_type": "code",
   "execution_count": 37,
   "metadata": {
    "collapsed": true
   },
   "outputs": [],
   "source": [
    "import pandas as pd\n",
    "import numpy as np\n",
    "import seaborn as sns\n",
    "from scipy import stats\n",
    "from statsmodels.sandbox.stats.multicomp import multipletests \n",
    "import itertools\n",
    "%matplotlib inline"
   ]
  },
  {
   "cell_type": "code",
   "execution_count": 12,
   "metadata": {},
   "outputs": [],
   "source": [
    "df = pd.read_csv('./AUCs.txt', '\\t')"
   ]
  },
  {
   "cell_type": "code",
   "execution_count": 32,
   "metadata": {},
   "outputs": [
    {
     "name": "stdout",
     "output_type": "stream",
     "text": [
      "C4.5 C4.5+m 0.0107571331198\n",
      "C4.5 C4.5+cf 0.861262330095\n",
      "C4.5 C4.5+m+cf 0.0159064441017\n",
      "C4.5+m C4.5+cf 0.0463327297934\n",
      "C4.5+m C4.5+m+cf 0.327825675845\n",
      "C4.5+cf C4.5+m+cf 0.0229090993544\n"
     ]
    }
   ],
   "source": [
    "wilcoxon_p = []\n",
    "clf1, clf2, clf3, clf4 = df.iloc[:, 1], df.iloc[:, 2], df.iloc[:, 3], df.iloc[:, 4]\n",
    "for samples in itertools.combinations([clf1, clf2, clf3, clf4], 2):\n",
    "    print(samples[0].name, samples[1].name, stats.wilcoxon(samples[0], samples[1])[1])\n",
    "    wilcoxon_p.append(stats.wilcoxon(samples[0], samples[1])[1])"
   ]
  },
  {
   "cell_type": "code",
   "execution_count": 33,
   "metadata": {},
   "outputs": [
    {
     "data": {
      "text/plain": [
       "C4.5         0.804929\n",
       "C4.5+m       0.820429\n",
       "C4.5+cf      0.808786\n",
       "C4.5+m+cf    0.827214\n",
       "dtype: float64"
      ]
     },
     "execution_count": 33,
     "metadata": {},
     "output_type": "execute_result"
    }
   ],
   "source": [
    "df.mean(0)"
   ]
  },
  {
   "cell_type": "code",
   "execution_count": 40,
   "metadata": {},
   "outputs": [
    {
     "data": {
      "text/plain": [
       "array([False, False, False, False, False, False], dtype=bool)"
      ]
     },
     "execution_count": 40,
     "metadata": {},
     "output_type": "execute_result"
    }
   ],
   "source": [
    "# поправка Холма\n",
    "reject, p_corrected, a1, a2 = multipletests(wilcoxon_p, \n",
    "                                            alpha = 0.05, \n",
    "                                            method = 'holm') \n",
    "reject"
   ]
  },
  {
   "cell_type": "code",
   "execution_count": 42,
   "metadata": {},
   "outputs": [
    {
     "data": {
      "text/plain": [
       "(array([ True, False,  True, False, False,  True], dtype=bool),\n",
       " array([ 0.0458182 ,  0.86126233,  0.0458182 ,  0.06949909,  0.39339081,\n",
       "         0.0458182 ]))"
      ]
     },
     "execution_count": 42,
     "metadata": {},
     "output_type": "execute_result"
    }
   ],
   "source": [
    "# поправка Холма: неверно, так как выборки зависимые!\n",
    "reject, p_corrected, a1, a2 = multipletests(wilcoxon_p, \n",
    "                                            alpha = 0.05, \n",
    "                                            method = 'fdr_bh') \n",
    "reject, p_corrected"
   ]
  }
 ],
 "metadata": {
  "kernelspec": {
   "display_name": "Python 3",
   "language": "python",
   "name": "python3"
  },
  "language_info": {
   "codemirror_mode": {
    "name": "ipython",
    "version": 3
   },
   "file_extension": ".py",
   "mimetype": "text/x-python",
   "name": "python",
   "nbconvert_exporter": "python",
   "pygments_lexer": "ipython3",
   "version": "3.6.1"
  }
 },
 "nbformat": 4,
 "nbformat_minor": 2
}
