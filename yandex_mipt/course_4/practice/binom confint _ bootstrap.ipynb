{
 "cells": [
  {
   "cell_type": "code",
   "execution_count": 10,
   "metadata": {},
   "outputs": [],
   "source": [
    "# Binary(prorportion) confint\n",
    "\n",
    "import numpy as np\n",
    "from scipy.stats import norm # Gaussian distribution\n",
    "from statsmodels.stats.proportion import proportion_confint # binary confint\n",
    "\n",
    "def proportions_confint_diff_ind(sample1, sample2, alpha = 0.05):       \n",
    "    \"\"\" Confint difference of 2 binary independent samples \"\"\"\n",
    "    \n",
    "    z = norm.ppf(1 - alpha / 2)   \n",
    "    p1 = float(sum(sample1)) / len(sample1)\n",
    "    p2 = float(sum(sample2)) / len(sample2)\n",
    "    \n",
    "    left_boundary = (p1 - p2) - z * np.sqrt(p1 * (1 - p1)/ len(sample1) + p2 * (1 - p2)/ len(sample2))\n",
    "    right_boundary = (p1 - p2) + z * np.sqrt(p1 * (1 - p1)/ len(sample1) + p2 * (1 - p2)/ len(sample2))\n",
    "    \n",
    "    return (left_boundary, right_boundary)\n",
    "\n",
    "def get_bootstrap_samples(data, n_samples):\n",
    "    \"\"\" bootstrap \"\"\"\n",
    "    \n",
    "    indices = np.random.randint(0, len(data), (n_samples, len(data)))\n",
    "    samples = data[indices]\n",
    "    return samples\n",
    "\n",
    "def stat_intervals(stat, alpha):\n",
    "    \"\"\" confint for bootstrap \"\"\"\n",
    "    \n",
    "    boundaries = np.percentile(stat, [100 * alpha / 2., 100 * (1 - alpha / 2.)])\n",
    "    return boundaries\n",
    "\n",
    "def get_odds(sample):\n",
    "    \"\"\" \n",
    "    get odd: odd = p / (1-p)\n",
    "    from binary sample \n",
    "    \"\"\"\n",
    "    \n",
    "    success = np.sum(sample)\n",
    "    n = len(sample)\n",
    "    p = success / n\n",
    "    return p / (1 - p)"
   ]
  },
  {
   "cell_type": "code",
   "execution_count": 11,
   "metadata": {},
   "outputs": [
    {
     "data": {
      "text/plain": [
       "0.0077060239760047815"
      ]
     },
     "execution_count": 11,
     "metadata": {},
     "output_type": "execute_result"
    }
   ],
   "source": [
    "# test : 104 = 1, n = 11037; control: 189 = 1, n = 11034\n",
    "\n",
    "test = np.array([1] * 104 + [0] * (11037 - 104))\n",
    "control = np.array([1] * 189 + [0] * (11034 - 189))\n",
    "\n",
    "# proba difference\n",
    "\n",
    "# aspirin_interval = proportion_confint(104, 11037, method = 'normal')\n",
    "# placebo_interval = proportion_confint(189, 11034, method = 'normal')\n",
    "\n",
    "189 / 11034 - 104 / 11037\n"
   ]
  },
  {
   "cell_type": "code",
   "execution_count": 12,
   "metadata": {},
   "outputs": [
    {
     "data": {
      "text/plain": [
       "1.8320539419087138"
      ]
     },
     "execution_count": 12,
     "metadata": {},
     "output_type": "execute_result"
    }
   ],
   "source": [
    "# odds \n",
    "\n",
    "aspirin_odds = (104 / 11037) / (1 - (104 / 11037))\n",
    "placebo_odds = (189 / 11034) / (1 - (189 / 11034))\n",
    "placebo_odds / aspirin_odds"
   ]
  },
  {
   "cell_type": "code",
   "execution_count": 13,
   "metadata": {},
   "outputs": [
    {
     "data": {
      "text/plain": [
       "(0.0046877506750494392, 0.010724297276960124)"
      ]
     },
     "execution_count": 13,
     "metadata": {},
     "output_type": "execute_result"
    }
   ],
   "source": [
    "# difference between binary samples\n",
    "\n",
    "proportions_confint_diff_ind(control, test)"
   ]
  },
  {
   "cell_type": "code",
   "execution_count": 14,
   "metadata": {},
   "outputs": [
    {
     "data": {
      "text/plain": [
       "array([ 1.44419465,  2.34321168])"
      ]
     },
     "execution_count": 14,
     "metadata": {},
     "output_type": "execute_result"
    }
   ],
   "source": [
    "# bootstrap\n",
    "\n",
    "np.random.seed(0)\n",
    "\n",
    "test_odds = np.array(list(map(get_odds, get_bootstrap_samples(test, 1000))))\n",
    "control_odds = np.array(list(map(get_odds, get_bootstrap_samples(control, 1000))))\n",
    "\n",
    "odds_ratio = control_odds / test_odds\n",
    "stat_intervals(odds_ratio, 0.05)"
   ]
  }
 ],
 "metadata": {
  "kernelspec": {
   "display_name": "Python 3",
   "language": "python",
   "name": "python3"
  },
  "language_info": {
   "codemirror_mode": {
    "name": "ipython",
    "version": 3
   },
   "file_extension": ".py",
   "mimetype": "text/x-python",
   "name": "python",
   "nbconvert_exporter": "python",
   "pygments_lexer": "ipython3",
   "version": "3.6.1"
  }
 },
 "nbformat": 4,
 "nbformat_minor": 2
}
