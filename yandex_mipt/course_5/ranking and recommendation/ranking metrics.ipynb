{
 "cells": [
  {
   "cell_type": "code",
   "execution_count": 5,
   "metadata": {},
   "outputs": [
    {
     "data": {
      "text/plain": [
       "(0.75, 1.0)"
      ]
     },
     "execution_count": 5,
     "metadata": {},
     "output_type": "execute_result"
    }
   ],
   "source": [
    "def precision_k(docs, k):\n",
    "    return sum(docs[:k]) / k\n",
    "\n",
    "sample1 = [1, 0, 0, 1]\n",
    "sample2 = [1, 1, 0, 0]\n",
    "\n",
    "# precision_k(sample1, 4)\n",
    "def AP_k(docs, k):\n",
    "    ap = 0\n",
    "    for i, y in enumerate(docs[:k]):\n",
    "        ap += y * precision_k(docs, i+1) \n",
    "    ap /= sum(docs[:k])\n",
    "    return ap\n",
    "\n",
    "AP_k(sample1, 4), AP_k(sample2, 4)"
   ]
  }
 ],
 "metadata": {
  "kernelspec": {
   "display_name": "Python 3",
   "language": "python",
   "name": "python3"
  },
  "language_info": {
   "codemirror_mode": {
    "name": "ipython",
    "version": 3
   },
   "file_extension": ".py",
   "mimetype": "text/x-python",
   "name": "python",
   "nbconvert_exporter": "python",
   "pygments_lexer": "ipython3",
   "version": "3.6.1"
  }
 },
 "nbformat": 4,
 "nbformat_minor": 2
}
