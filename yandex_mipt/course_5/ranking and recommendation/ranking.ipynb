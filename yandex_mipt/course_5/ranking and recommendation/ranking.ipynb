{
 "cells": [
  {
   "cell_type": "code",
   "execution_count": 280,
   "metadata": {},
   "outputs": [],
   "source": [
    "import pandas as pd \n",
    "import numpy as np\n",
    "from collections import Counter\n",
    "from collections import OrderedDict\n",
    "\n",
    "import warnings\n",
    "warnings.filterwarnings('ignore')"
   ]
  },
  {
   "cell_type": "code",
   "execution_count": 298,
   "metadata": {},
   "outputs": [],
   "source": [
    "df_train = pd.read_csv('./coursera_sessions_train.txt', sep=';', header=-1, names=['look', 'buy'])\n",
    "df_test = pd.read_csv('./coursera_sessions_test.txt', sep=';', header=-1, names=['look', 'buy'])"
   ]
  },
  {
   "cell_type": "code",
   "execution_count": 299,
   "metadata": {},
   "outputs": [],
   "source": [
    "# learn freq dictionary by train sample \n",
    "\n",
    "counter1 = Counter()\n",
    "counter2 = Counter()\n",
    "\n",
    "for sess in df_train.itertuples():\n",
    "    \n",
    "    look = sess[1]\n",
    "    buy = sess[2]\n",
    "    \n",
    "    if isinstance(look, str):\n",
    "        counter1.update(look.split(','))\n",
    "    if isinstance(buy, str):\n",
    "        counter2.update(buy.split(','))\n",
    "        \n",
    "look_freq = OrderedDict(sorted(counter1.items(), key=lambda x:x[1], reverse=True))\n",
    "buy_freq = OrderedDict(sorted(counter2.items(), key=lambda x:x[1], reverse=True))        \n"
   ]
  },
  {
   "cell_type": "code",
   "execution_count": 300,
   "metadata": {},
   "outputs": [],
   "source": [
    "# convert str to list \n",
    "\n",
    "def to_list(sess):\n",
    "    return sess.split(',')\n",
    "\n",
    "train = df_train[~pd.isnull(df_train.buy)]\n",
    "test = df_test[~pd.isnull(df_test.buy)]\n",
    "\n",
    "train['look'] = train['look'].apply(to_list)\n",
    "train['buy'] = train['buy'].apply(to_list)\n",
    "test['look'] = test['look'].apply(to_list)\n",
    "test['buy'] = test['buy'].apply(to_list)\n"
   ]
  },
  {
   "cell_type": "code",
   "execution_count": 307,
   "metadata": {},
   "outputs": [
    {
     "data": {
      "text/plain": [
       "[('63', 6, 6),\n",
       " ('68', 5, 2),\n",
       " ('69', 4, 0),\n",
       " ('70', 3, 0),\n",
       " ('66', 2, 2),\n",
       " ('61', 1, 2),\n",
       " ('59', 0, 1)]"
      ]
     },
     "execution_count": 307,
     "metadata": {},
     "output_type": "execute_result"
    }
   ],
   "source": [
    "# session = test.iloc[0, 0]\n",
    "# freq_dict = look_freq\n",
    "\n",
    "# items = []\n",
    "# for item in session:\n",
    "#     if item not in items:\n",
    "#         items.append(item)\n",
    "\n",
    "# # indexes for sorting \n",
    "\n",
    "# idx = list(range(len(items)))[::-1]\n",
    "\n",
    "# # freqs from dictionary \n",
    "\n",
    "# freqs = []\n",
    "# for item in session:\n",
    "#     if item in freq_dict.keys():\n",
    "#         freqs.append(freq_dict[item])\n",
    "#     else:\n",
    "#         freqs.append(0)\n",
    "\n",
    "# to_sort = list(zip(items, idx, freqs))\n",
    "# to_sort\n",
    "# # rec = sorted(to_sort, key = lambda x: (x[2], x[1]), reverse=True)\n",
    "# # list(map(lambda x: x[0], rec)), look_freq['66'], look_freq\n"
   ]
  },
  {
   "cell_type": "code",
   "execution_count": 308,
   "metadata": {},
   "outputs": [],
   "source": [
    "def add_rec(session, freq_dict):\n",
    "       \n",
    "    # items list to set     \n",
    "    \n",
    "    items = []\n",
    "    for item in session:\n",
    "        if item not in items:\n",
    "            items.append(item)\n",
    "    \n",
    "    # indexes for sorting \n",
    "    \n",
    "    idx = list(range(len(items)))[::-1]\n",
    "    \n",
    "    # freqs from dictionary \n",
    "    \n",
    "    freqs = []\n",
    "    for item in session:\n",
    "        if item in freq_dict.keys():\n",
    "            freqs.append(freq_dict[item])\n",
    "        else:\n",
    "            freqs.append(0)\n",
    "\n",
    "    to_sort = list(zip(items, idx, freqs))\n",
    "    rec = sorted(to_sort, key = lambda x: (x[2], x[1]), reverse=True)\n",
    "\n",
    "    return list(map(lambda x: x[0], rec))\n",
    "\n",
    "def precision_k(rec, buy, k):\n",
    "    \n",
    "    y = 0\n",
    "    for i_rec in rec[:k]:\n",
    "        if i_rec in buy:\n",
    "            y += 1\n",
    "    return y / k\n",
    "\n",
    "def recall_k(rec, buy, k):\n",
    "    y = 0\n",
    "    for i_rec in rec[:k]:\n",
    "        if i_rec in buy:\n",
    "            y += 1\n",
    "    return y / len(buy)\n",
    "\n",
    "def write_ans(ls, name):\n",
    "    with open(name, 'w') as fl:\n",
    "        fl.write(' '.join(map(str, np.round(ls, 2))))\n",
    "          \n",
    "def compute_metrics(sample, dict_rec, name):\n",
    "\n",
    "    sample['rec'] = sample['look'].apply(lambda x: add_rec(x, dict_rec))\n",
    "    \n",
    "    recall1 = sample.apply(lambda x: recall_k(x.rec, x.buy, 1), axis=1)\n",
    "    precision1 = sample.apply(lambda x: precision_k(x.rec, x.buy, 1), axis=1)\n",
    "    recall5 = sample.apply(lambda x: recall_k(x.rec, x.buy, 5), axis=1)\n",
    "    precision5 = sample.apply(lambda x: precision_k(x.rec, x.buy, 5), axis=1)\n",
    "\n",
    "    metrics = [ \n",
    "        recall1.sum() / train.shape[0], \n",
    "        precision1.sum() / train.shape[0], \n",
    "        recall5.sum() / train.shape[0], \n",
    "        precision5.sum() / train.shape[0], \n",
    "    ]\n",
    "\n",
    "    write_ans(metrics, name)\n",
    "    "
   ]
  },
  {
   "cell_type": "code",
   "execution_count": 309,
   "metadata": {},
   "outputs": [],
   "source": [
    "compute_metrics(train, look_freq, 'ans1.txt')\n",
    "compute_metrics(test, look_freq, 'ans2.txt')\n",
    "# compute_metrics(train, buy_rec, 'ans3.txt')\n",
    "# compute_metrics(test, buy_rec, 'ans4.txt')"
   ]
  },
  {
   "cell_type": "code",
   "execution_count": null,
   "metadata": {},
   "outputs": [],
   "source": []
  }
 ],
 "metadata": {
  "kernelspec": {
   "display_name": "Python 3",
   "language": "python",
   "name": "python3"
  },
  "language_info": {
   "codemirror_mode": {
    "name": "ipython",
    "version": 3
   },
   "file_extension": ".py",
   "mimetype": "text/x-python",
   "name": "python",
   "nbconvert_exporter": "python",
   "pygments_lexer": "ipython3",
   "version": "3.6.1"
  }
 },
 "nbformat": 4,
 "nbformat_minor": 2
}
