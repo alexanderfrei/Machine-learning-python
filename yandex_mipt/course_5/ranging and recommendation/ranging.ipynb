{
 "cells": [
  {
   "cell_type": "code",
   "execution_count": 2,
   "metadata": {
    "collapsed": true
   },
   "outputs": [],
   "source": [
    "import pandas as pd \n",
    "import numpy as np\n"
   ]
  },
  {
   "cell_type": "code",
   "execution_count": 8,
   "metadata": {
    "collapsed": false
   },
   "outputs": [],
   "source": [
    "# metrics \n",
    "\n",
    "def precision_k(docs, k):\n",
    "    return np.sum(docs[:k]) / k\n",
    "\n",
    "def AP_k(docs, k):\n",
    "    ap = 0\n",
    "    for i, y in enumerate(docs[:k]):\n",
    "        ap += y * precision_k(docs, i+1) \n",
    "    ap /= np.sum(docs[:k])\n",
    "    return ap\n",
    "\n",
    "def recall_k(docs, k):\n",
    "    pass\n",
    "\n",
    "def AR_k(docs, k):\n",
    "    pass"
   ]
  },
  {
   "cell_type": "code",
   "execution_count": 47,
   "metadata": {
    "collapsed": false
   },
   "outputs": [],
   "source": [
    "df = pd.read_csv('./coursera_sessions_train.txt', sep=';', header=-1, names=['look', 'buy'])\n",
    "train = df[~pd.isnull(df.buy)]"
   ]
  },
  {
   "cell_type": "code",
   "execution_count": 54,
   "metadata": {
    "collapsed": false
   },
   "outputs": [
    {
     "data": {
      "text/plain": [
       "[59, 60, 61, 62, 60, 63, 64, 65, 66, 61, 67, 68, 67]"
      ]
     },
     "execution_count": 54,
     "metadata": {},
     "output_type": "execute_result"
    }
   ],
   "source": [
    "obj = train.iloc[0, :]\n",
    "list(map(int, obj.look.split(',')))"
   ]
  },
  {
   "cell_type": "code",
   "execution_count": null,
   "metadata": {
    "collapsed": true
   },
   "outputs": [],
   "source": []
  }
 ],
 "metadata": {
  "kernelspec": {
   "display_name": "Python 3",
   "language": "python",
   "name": "python3"
  },
  "language_info": {
   "codemirror_mode": {
    "name": "ipython",
    "version": 3
   },
   "file_extension": ".py",
   "mimetype": "text/x-python",
   "name": "python",
   "nbconvert_exporter": "python",
   "pygments_lexer": "ipython3",
   "version": "3.5.2"
  }
 },
 "nbformat": 4,
 "nbformat_minor": 2
}
