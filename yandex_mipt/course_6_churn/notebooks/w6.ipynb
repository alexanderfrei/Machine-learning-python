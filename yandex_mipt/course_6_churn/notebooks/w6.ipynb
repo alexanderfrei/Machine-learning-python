{
 "cells": [
  {
   "cell_type": "markdown",
   "metadata": {},
   "source": [
    "Подготовка модели "
   ]
  },
  {
   "cell_type": "code",
   "execution_count": 78,
   "metadata": {},
   "outputs": [],
   "source": [
    "import pandas as pd\n",
    "import numpy as np\n",
    "import pickle\n",
    "from sklearn.metrics import confusion_matrix, roc_auc_score, f1_score, precision_score, recall_score, accuracy_score\n",
    "import matplotlib.pyplot as plt \n",
    "%matplotlib inline "
   ]
  },
  {
   "cell_type": "code",
   "execution_count": 79,
   "metadata": {},
   "outputs": [],
   "source": [
    "def pickle_load(file_name):\n",
    "    with open(file_name, 'rb') as f:\n",
    "        data = pickle.load(f)\n",
    "    return data\n",
    "\n",
    "def pickle_dump(obj, file_name):\n",
    "    with open(file_name, 'wb') as f:\n",
    "        pickle.dump(obj, f, pickle.HIGHEST_PROTOCOL)\n",
    "        \n",
    "def cutoff_metrics(y_valid, predict_proba, rv, cutoff):\n",
    "    \n",
    "    for cut in cutoff:    \n",
    "        cm = confusion_matrix(y_valid, predict_proba > cut)\n",
    "        FP, FN = cm[0,1], cm[1,0]\n",
    "        \n",
    "        print(\"f1: {:.3f}\\trecall: {:.3f}\\tprecision: {:.3f}\\tacc: {:.3f}\\tcutoff: {:.3f} \\ttop: {:.3f} \\trevenue: {:.1f}\".format(\n",
    "            f1_score(y_valid, predict_proba > cut), \n",
    "            recall_score(y_valid, predict_proba > cut), \n",
    "            precision_score(y_valid, predict_proba > cut), \n",
    "            accuracy_score(y_valid, predict_proba>cut),\n",
    "            cut, \n",
    "            pred_proba[pred_proba > cut].shape[0] / pred_proba.shape[0], \n",
    "            rv(FN, FP)\n",
    "        ))"
   ]
  },
  {
   "cell_type": "code",
   "execution_count": 80,
   "metadata": {},
   "outputs": [],
   "source": [
    "model = pickle_load('./model/model')\n",
    "X_train = pickle_load('./model/X_train')\n",
    "X_valid = pickle_load('./model/X_valid')\n",
    "y_train = pickle_load('./model/y_train')\n",
    "y_valid = pickle_load('./model/y_valid')\n",
    "\n",
    "model.fit(X_train, y_train)\n",
    "pred_proba = model.predict_proba(X_valid)[:, 1]"
   ]
  },
  {
   "cell_type": "markdown",
   "metadata": {},
   "source": [
    "Постройте простую экономическую модель для оценки эффекта от внедрения полученного решения на практике.\n",
    "\n",
    "Например, введите следующие параметры:\n",
    "\n",
    "    сколько денег в среднем приносит один пользователь в месяц;\n",
    "    сколько денег в среднем вы будете вкладывать в удержание одного пользователя;\n",
    "    с какой вероятностью пользователь примет ваше предложение;\n",
    "    сколько пользователей (например, топ 1% или топ 25% согласно ранжированию по вашей модели) будет участвовать в кампании."
   ]
  },
  {
   "cell_type": "markdown",
   "metadata": {},
   "source": [
    "1. Введите еще несколько параметров и на их основе постройте простую экономическую модель: формулу по которой в зависимости от значения исходных параметров вы сможете рассчитать экономический эффект от проведения кампании (= сколько денег вы получили (или наоборот потеряли) от проведения кампании по удержанию) с использование вашей модели."
   ]
  },
  {
   "cell_type": "markdown",
   "metadata": {},
   "source": [
    "Представим в качестве кейса небольшую компанию в сфере телекоммуникаций. Используем следующие вводные:\n",
    "\n",
    "* число клиентов на текущий момент - **1 млн. человек**\n",
    "* доля оттока клиентов, в месяц - **7%** (априорное значение из тренировочной выборки, рынок динамичен), \n",
    "* средний доход с одного клиента, в месяц: **500 руб.**\n",
    "\n",
    "\n",
    "Т.к. терять прибыль не хочется, то была разработана кампания по удержанию клиентов (набор специальных предложений).\n",
    "Считаем, что стоимость разработки этой компании экономической оценки предсказательной модели не касается.\n",
    "Параметры компании следующие:\n",
    "* средняя стоимость удержания клиента, в месяц: **50 руб.**\n",
    "* вероятность принятия предложения клиента, \"склонного к оттоку\": **20%**\n",
    "* вероятность принятия предложения лояльного клиента: **30%**\n",
    "\n",
    "Предположим, что данные о вероятностях получены из исторических данных по прошлым предложения.\n"
   ]
  },
  {
   "cell_type": "markdown",
   "metadata": {},
   "source": [
    "Таким образом, прибыль от удержания клиентов будем рассчитывать по следующей формуле:\n",
    "\n",
    "<center>$Revenue=N*P(churn)*P(accept|churn)*(Income - Cost) - N*P(\\neg churn)*P(accept|\\neg churn)*Cost$</center> где:\n",
    "\n",
    "$N$ - общее число клиентов\n",
    "\n",
    "$P(churn)$ - вероятность оттока\n",
    "\n",
    "$P(accept|churn)$ - вероятность принятия предложения клиента, \"склонного к оттоку\"\n",
    "\n",
    "$Income$ - доход с одного клиента\n",
    "\n",
    "$Cost$ - стоимость удержания одного клиента"
   ]
  },
  {
   "cell_type": "markdown",
   "metadata": {},
   "source": [
    "Понятно, что если предлагать скидки всем клиентам без исключения, то это не принесет прибыли.\n",
    "Поэтому задача модели будет состоять в том, чтобы максимально точно определить \"цели\" предложения среди клиентов.\n",
    "\n",
    "С учетом предсказательной модели, части формулы выше нужно переписать так:\n",
    "\n",
    "<center>$N*P(churn) = N*P(churn) - FN$</center>\n",
    "\n",
    "<center>$N*P(\\neg churn) = FP$</center>\n",
    "\n",
    "<center>$Revenue=(N*P(churn) - FN)*P(accept|churn)*(Income-Cost) - FP*P(accept|\\neg churn)*Cost$</center>\n",
    "\n",
    "При выборе топа будем руководствоваться именно этой формулой прибыли."
   ]
  },
  {
   "cell_type": "code",
   "execution_count": 81,
   "metadata": {},
   "outputs": [],
   "source": [
    "income = 500\n",
    "cost = 50\n",
    "accept_c = 0.2\n",
    "accept_nc = 0.3\n",
    "n = X_valid.shape[0]\n",
    "p_churn = y_valid.sum() / n\n",
    "\n",
    "def revenue(FN, FP):\n",
    "    return (n * p_churn - FN)*accept_c*(income-cost) - FP * accept_nc * cost"
   ]
  },
  {
   "cell_type": "markdown",
   "metadata": {},
   "source": [
    "\n",
    "2.Исходя из введенных параметров проанализируйте, какой топ пользователей, склонных к оттоку согласно модели, оптимально выбрать для проведения кампании по удержанию для таким образом, чтобы экономический эффект был наибольшим? "
   ]
  },
  {
   "cell_type": "code",
   "execution_count": 82,
   "metadata": {},
   "outputs": [
    {
     "name": "stdout",
     "output_type": "stream",
     "text": [
      "f1: 0.241\trecall: 0.640\tprecision: 0.149\tacc: 0.701\tcutoff: 0.050 \ttop: 0.320 \trevenue: 990.0\n",
      "f1: 0.255\trecall: 0.556\tprecision: 0.165\tacc: 0.758\tcutoff: 0.060 \ttop: 0.250 \trevenue: 2970.0\n",
      "f1: 0.272\trecall: 0.495\tprecision: 0.188\tacc: 0.803\tcutoff: 0.070 \ttop: 0.196 \trevenue: 4620.0\n",
      "f1: 0.280\trecall: 0.427\tprecision: 0.209\tacc: 0.837\tcutoff: 0.080 \ttop: 0.152 \trevenue: 5265.0\n",
      "f1: 0.277\trecall: 0.363\tprecision: 0.224\tacc: 0.859\tcutoff: 0.090 \ttop: 0.121 \trevenue: 5130.0\n",
      "f1: 0.273\trecall: 0.323\tprecision: 0.237\tacc: 0.872\tcutoff: 0.100 \ttop: 0.101 \trevenue: 4995.0\n",
      "f1: 0.275\trecall: 0.293\tprecision: 0.260\tacc: 0.885\tcutoff: 0.110 \ttop: 0.084 \trevenue: 5145.0\n",
      "f1: 0.258\trecall: 0.250\tprecision: 0.266\tacc: 0.893\tcutoff: 0.120 \ttop: 0.070 \trevenue: 4530.0\n",
      "f1: 0.231\trecall: 0.204\tprecision: 0.267\tacc: 0.899\tcutoff: 0.130 \ttop: 0.057 \trevenue: 3705.0\n",
      "f1: 0.223\trecall: 0.185\tprecision: 0.278\tacc: 0.904\tcutoff: 0.140 \ttop: 0.050 \trevenue: 3525.0\n",
      "f1: 0.205\trecall: 0.161\tprecision: 0.283\tacc: 0.907\tcutoff: 0.150 \ttop: 0.042 \trevenue: 3120.0\n",
      "f1: 0.202\trecall: 0.151\tprecision: 0.306\tacc: 0.911\tcutoff: 0.160 \ttop: 0.037 \trevenue: 3135.0\n",
      "f1: 0.197\trecall: 0.140\tprecision: 0.331\tacc: 0.915\tcutoff: 0.170 \ttop: 0.031 \trevenue: 3105.0\n",
      "f1: 0.184\trecall: 0.126\tprecision: 0.338\tacc: 0.917\tcutoff: 0.180 \ttop: 0.028 \trevenue: 2850.0\n",
      "f1: 0.167\trecall: 0.110\tprecision: 0.342\tacc: 0.918\tcutoff: 0.190 \ttop: 0.024 \trevenue: 2505.0\n",
      "f1: 0.147\trecall: 0.094\tprecision: 0.340\tacc: 0.919\tcutoff: 0.200 \ttop: 0.021 \trevenue: 2130.0\n"
     ]
    }
   ],
   "source": [
    "cutoff_metrics(y_valid, pred_proba, revenue, np.linspace(0.05, 0.2, 16))"
   ]
  },
  {
   "cell_type": "markdown",
   "metadata": {},
   "source": [
    "На валидационной выборке (5000 человек) с заданными параметрами наилучшим оказался порог 0.08, или топ размером в **15%** клиентов.\n",
    "Интересно, что он совпал с оптимальным значением f1-меры. \n",
    "Прибыль составляет 5265 рублей на 5000 клиентов или 1.053.000 рублей на всю предполагаемую выборку."
   ]
  },
  {
   "cell_type": "markdown",
   "metadata": {},
   "source": [
    "3.Попробуйте усложнить экономическую модель. Добавьте еще несколько параметров и поиграйте с ними (например, измените стоимость удержания и вероятность, с которой пользователь принимает предложение), проанализируйте как меняется оптимальный размер топа? "
   ]
  },
  {
   "cell_type": "markdown",
   "metadata": {},
   "source": [
    "Добавим в модель совокупную стоимость затрат на модель и исследование, а также прибыль от подписок на новые сервисы или тарифы, полученные благодаря новому предложению (сопутствующие покупки)."
   ]
  },
  {
   "cell_type": "markdown",
   "metadata": {},
   "source": [
    "Предположим, что стоимость проекта и исследования составили 200т. рублей.\n",
    "Тогда для нашей валидационной выборки эта сумма поделится на 200 (1000 т./5т.) и составит 1т. "
   ]
  },
  {
   "cell_type": "code",
   "execution_count": 37,
   "metadata": {},
   "outputs": [],
   "source": [
    "model_cost = 1000\n",
    "income_similar = 20\n",
    "\n",
    "def revenue(FN, FP):\n",
    "    return (n * p_churn - FN)*accept_c*(income - cost + income_similar) - FP * accept_nc * cost - model_cost"
   ]
  },
  {
   "cell_type": "markdown",
   "metadata": {},
   "source": [
    "Ниже примеры топов при разных параметрах."
   ]
  },
  {
   "cell_type": "code",
   "execution_count": 39,
   "metadata": {},
   "outputs": [
    {
     "name": "stdout",
     "output_type": "stream",
     "text": [
      "f1: 0.241\trecall: 0.640\tprecision: 0.149\tacc: 0.701\tcutoff: 0.050 \ttop: 0.320 \trevenue: 942.0\n",
      "f1: 0.255\trecall: 0.556\tprecision: 0.165\tacc: 0.758\tcutoff: 0.060 \ttop: 0.250 \trevenue: 2798.0\n",
      "f1: 0.272\trecall: 0.495\tprecision: 0.188\tacc: 0.803\tcutoff: 0.070 \ttop: 0.196 \trevenue: 4356.0\n",
      "f1: 0.280\trecall: 0.427\tprecision: 0.209\tacc: 0.837\tcutoff: 0.080 \ttop: 0.152 \trevenue: 4901.0\n",
      "f1: 0.277\trecall: 0.363\tprecision: 0.224\tacc: 0.859\tcutoff: 0.090 \ttop: 0.121 \trevenue: 4670.0\n",
      "f1: 0.273\trecall: 0.323\tprecision: 0.237\tacc: 0.872\tcutoff: 0.100 \ttop: 0.101 \trevenue: 4475.0\n",
      "f1: 0.275\trecall: 0.293\tprecision: 0.260\tacc: 0.885\tcutoff: 0.110 \ttop: 0.084 \trevenue: 4581.0\n",
      "f1: 0.258\trecall: 0.250\tprecision: 0.266\tacc: 0.893\tcutoff: 0.120 \ttop: 0.070 \trevenue: 3902.0\n",
      "f1: 0.231\trecall: 0.204\tprecision: 0.267\tacc: 0.899\tcutoff: 0.130 \ttop: 0.057 \trevenue: 3009.0\n",
      "f1: 0.223\trecall: 0.185\tprecision: 0.278\tacc: 0.904\tcutoff: 0.140 \ttop: 0.050 \trevenue: 2801.0\n",
      "f1: 0.205\trecall: 0.161\tprecision: 0.283\tacc: 0.907\tcutoff: 0.150 \ttop: 0.042 \trevenue: 2360.0\n",
      "f1: 0.202\trecall: 0.151\tprecision: 0.306\tacc: 0.911\tcutoff: 0.160 \ttop: 0.037 \trevenue: 2359.0\n",
      "f1: 0.197\trecall: 0.140\tprecision: 0.331\tacc: 0.915\tcutoff: 0.170 \ttop: 0.031 \trevenue: 2313.0\n",
      "f1: 0.184\trecall: 0.126\tprecision: 0.338\tacc: 0.917\tcutoff: 0.180 \ttop: 0.028 \trevenue: 2038.0\n",
      "f1: 0.167\trecall: 0.110\tprecision: 0.342\tacc: 0.918\tcutoff: 0.190 \ttop: 0.024 \trevenue: 1669.0\n",
      "f1: 0.147\trecall: 0.094\tprecision: 0.340\tacc: 0.919\tcutoff: 0.200 \ttop: 0.021 \trevenue: 1270.0\n"
     ]
    }
   ],
   "source": [
    "income, cost, accept_c, accept_nc = 500, 50, 0.2, 0.3\n",
    "cutoff_metrics(y_valid, pred_proba, revenue, np.linspace(0.05, 0.2, 16))"
   ]
  },
  {
   "cell_type": "markdown",
   "metadata": {},
   "source": [
    "оптимальный топ при добавлении новых параметров не изменился"
   ]
  },
  {
   "cell_type": "code",
   "execution_count": 40,
   "metadata": {},
   "outputs": [
    {
     "name": "stdout",
     "output_type": "stream",
     "text": [
      "f1: 0.241\trecall: 0.640\tprecision: 0.149\tacc: 0.701\tcutoff: 0.050 \ttop: 0.320 \trevenue: -10463.0\n",
      "f1: 0.255\trecall: 0.556\tprecision: 0.165\tacc: 0.758\tcutoff: 0.060 \ttop: 0.250 \trevenue: -6067.0\n",
      "f1: 0.272\trecall: 0.495\tprecision: 0.188\tacc: 0.803\tcutoff: 0.070 \ttop: 0.196 \trevenue: -2534.0\n",
      "f1: 0.280\trecall: 0.427\tprecision: 0.209\tacc: 0.837\tcutoff: 0.080 \ttop: 0.152 \trevenue: -416.5\n",
      "f1: 0.277\trecall: 0.363\tprecision: 0.224\tacc: 0.859\tcutoff: 0.090 \ttop: 0.121 \trevenue: 485.0\n",
      "f1: 0.273\trecall: 0.323\tprecision: 0.237\tacc: 0.872\tcutoff: 0.100 \ttop: 0.101 \trevenue: 972.5\n",
      "f1: 0.275\trecall: 0.293\tprecision: 0.260\tacc: 0.885\tcutoff: 0.110 \ttop: 0.084 \trevenue: 1703.5\n",
      "f1: 0.258\trecall: 0.250\tprecision: 0.266\tacc: 0.893\tcutoff: 0.120 \ttop: 0.070 \trevenue: 1517.0\n",
      "f1: 0.231\trecall: 0.204\tprecision: 0.267\tacc: 0.899\tcutoff: 0.130 \ttop: 0.057 \trevenue: 1061.5\n",
      "f1: 0.223\trecall: 0.185\tprecision: 0.278\tacc: 0.904\tcutoff: 0.140 \ttop: 0.050 \trevenue: 1113.5\n",
      "f1: 0.205\trecall: 0.161\tprecision: 0.283\tacc: 0.907\tcutoff: 0.150 \ttop: 0.042 \trevenue: 920.0\n",
      "f1: 0.202\trecall: 0.151\tprecision: 0.306\tacc: 0.911\tcutoff: 0.160 \ttop: 0.037 \trevenue: 1126.5\n",
      "f1: 0.197\trecall: 0.140\tprecision: 0.331\tacc: 0.915\tcutoff: 0.170 \ttop: 0.031 \trevenue: 1265.5\n",
      "f1: 0.184\trecall: 0.126\tprecision: 0.338\tacc: 0.917\tcutoff: 0.180 \ttop: 0.028 \trevenue: 1113.0\n",
      "f1: 0.167\trecall: 0.110\tprecision: 0.342\tacc: 0.918\tcutoff: 0.190 \ttop: 0.024 \trevenue: 871.5\n",
      "f1: 0.147\trecall: 0.094\tprecision: 0.340\tacc: 0.919\tcutoff: 0.200 \ttop: 0.021 \trevenue: 585.0\n"
     ]
    }
   ],
   "source": [
    "income, cost, accept_c, accept_nc = 500, 75, 0.2, 0.3\n",
    "cutoff_metrics(y_valid, pred_proba, revenue, np.linspace(0.05, 0.2, 16))"
   ]
  },
  {
   "cell_type": "markdown",
   "metadata": {},
   "source": [
    "Оптимальный топ при повышении затрат на удержание до 75 рублей составил **8%** - цена ошибки выросла."
   ]
  },
  {
   "cell_type": "code",
   "execution_count": 57,
   "metadata": {},
   "outputs": [
    {
     "name": "stdout",
     "output_type": "stream",
     "text": [
      "f1: 0.241\trecall: 0.640\tprecision: 0.149\tacc: 0.701\tcutoff: 0.050 \ttop: 0.320 \trevenue: -19012.0\n",
      "f1: 0.255\trecall: 0.556\tprecision: 0.165\tacc: 0.758\tcutoff: 0.060 \ttop: 0.250 \trevenue: -12448.0\n",
      "f1: 0.272\trecall: 0.495\tprecision: 0.188\tacc: 0.803\tcutoff: 0.070 \ttop: 0.196 \trevenue: -7216.0\n",
      "f1: 0.280\trecall: 0.427\tprecision: 0.209\tacc: 0.837\tcutoff: 0.080 \ttop: 0.152 \trevenue: -3826.0\n",
      "f1: 0.277\trecall: 0.363\tprecision: 0.224\tacc: 0.859\tcutoff: 0.090 \ttop: 0.121 \trevenue: -2080.0\n",
      "f1: 0.273\trecall: 0.323\tprecision: 0.237\tacc: 0.872\tcutoff: 0.100 \ttop: 0.101 \trevenue: -1090.0\n",
      "f1: 0.275\trecall: 0.293\tprecision: 0.260\tacc: 0.885\tcutoff: 0.110 \ttop: 0.084 \trevenue: 134.0\n",
      "f1: 0.258\trecall: 0.250\tprecision: 0.266\tacc: 0.893\tcutoff: 0.120 \ttop: 0.070 \trevenue: 248.0\n",
      "f1: 0.231\trecall: 0.204\tprecision: 0.267\tacc: 0.899\tcutoff: 0.130 \ttop: 0.057 \trevenue: 26.0\n",
      "f1: 0.223\trecall: 0.185\tprecision: 0.278\tacc: 0.904\tcutoff: 0.140 \ttop: 0.050 \trevenue: 254.0\n",
      "f1: 0.205\trecall: 0.161\tprecision: 0.283\tacc: 0.907\tcutoff: 0.150 \ttop: 0.042 \trevenue: 200.0\n",
      "f1: 0.202\trecall: 0.151\tprecision: 0.306\tacc: 0.911\tcutoff: 0.160 \ttop: 0.037 \trevenue: 566.0\n",
      "f1: 0.197\trecall: 0.140\tprecision: 0.331\tacc: 0.915\tcutoff: 0.170 \ttop: 0.031 \trevenue: 842.0\n",
      "f1: 0.184\trecall: 0.126\tprecision: 0.338\tacc: 0.917\tcutoff: 0.180 \ttop: 0.028 \trevenue: 752.0\n",
      "f1: 0.167\trecall: 0.110\tprecision: 0.342\tacc: 0.918\tcutoff: 0.190 \ttop: 0.024 \trevenue: 566.0\n",
      "f1: 0.147\trecall: 0.094\tprecision: 0.340\tacc: 0.919\tcutoff: 0.200 \ttop: 0.021 \trevenue: 320.0\n"
     ]
    }
   ],
   "source": [
    "income, cost, accept_c, accept_nc, income_similar = 500, 50, 0.2, 0.6, 30\n",
    "cutoff_metrics(y_valid, pred_proba, revenue, np.linspace(0.05, 0.2, 16))"
   ]
  },
  {
   "cell_type": "markdown",
   "metadata": {},
   "source": [
    "Предположим что предложение настолько соблазнительно, что вероятность его принять для лояльных клиентов повысилась до 60%, а прибыль от сопутствующих сервисов выросла до 30 рублей на клиента.\n",
    "Тогда выгоднее взять топ в **3%**, т.к. нужно уменьшит число FP."
   ]
  },
  {
   "cell_type": "markdown",
   "metadata": {},
   "source": [
    "4.Всегда ли применение модели экономически оправданно? Приведите пример набора значений параметров, при которых применение модели перестает быть оправданным."
   ]
  },
  {
   "cell_type": "markdown",
   "metadata": {},
   "source": [
    "Нет, например, в случае, если предложение недостаточно привелкательно, затраты на удержание высоки или модель низкого качества."
   ]
  },
  {
   "cell_type": "code",
   "execution_count": 62,
   "metadata": {},
   "outputs": [
    {
     "name": "stdout",
     "output_type": "stream",
     "text": [
      "f1: 0.241\trecall: 0.640\tprecision: 0.149\tacc: 0.701\tcutoff: 0.050 \ttop: 0.320 \trevenue: -14568.0\n",
      "f1: 0.255\trecall: 0.556\tprecision: 0.165\tacc: 0.758\tcutoff: 0.060 \ttop: 0.250 \trevenue: -10270.0\n",
      "f1: 0.272\trecall: 0.495\tprecision: 0.188\tacc: 0.803\tcutoff: 0.070 \ttop: 0.196 \trevenue: -6864.0\n",
      "f1: 0.280\trecall: 0.427\tprecision: 0.209\tacc: 0.837\tcutoff: 0.080 \ttop: 0.152 \trevenue: -4540.0\n",
      "f1: 0.277\trecall: 0.363\tprecision: 0.224\tacc: 0.859\tcutoff: 0.090 \ttop: 0.121 \trevenue: -3214.0\n",
      "f1: 0.273\trecall: 0.323\tprecision: 0.237\tacc: 0.872\tcutoff: 0.100 \ttop: 0.101 \trevenue: -2446.0\n",
      "f1: 0.275\trecall: 0.293\tprecision: 0.260\tacc: 0.885\tcutoff: 0.110 \ttop: 0.084 \trevenue: -1584.0\n",
      "f1: 0.258\trecall: 0.250\tprecision: 0.266\tacc: 0.893\tcutoff: 0.120 \ttop: 0.070 \trevenue: -1330.0\n",
      "f1: 0.231\trecall: 0.204\tprecision: 0.267\tacc: 0.899\tcutoff: 0.130 \ttop: 0.057 \trevenue: -1266.0\n",
      "f1: 0.223\trecall: 0.185\tprecision: 0.278\tacc: 0.904\tcutoff: 0.140 \ttop: 0.050 \trevenue: -1048.0\n",
      "f1: 0.205\trecall: 0.161\tprecision: 0.283\tacc: 0.907\tcutoff: 0.150 \ttop: 0.042 \trevenue: -976.0\n",
      "f1: 0.202\trecall: 0.151\tprecision: 0.306\tacc: 0.911\tcutoff: 0.160 \ttop: 0.037 \trevenue: -710.0\n",
      "f1: 0.197\trecall: 0.140\tprecision: 0.331\tacc: 0.915\tcutoff: 0.170 \ttop: 0.031 \trevenue: -498.0\n",
      "f1: 0.184\trecall: 0.126\tprecision: 0.338\tacc: 0.917\tcutoff: 0.180 \ttop: 0.028 \trevenue: -494.0\n",
      "f1: 0.167\trecall: 0.110\tprecision: 0.342\tacc: 0.918\tcutoff: 0.190 \ttop: 0.024 \trevenue: -536.0\n",
      "f1: 0.147\trecall: 0.094\tprecision: 0.340\tacc: 0.919\tcutoff: 0.200 \ttop: 0.021 \trevenue: -614.0\n"
     ]
    }
   ],
   "source": [
    "income, cost, accept_c, accept_nc, income_similar = 500, 60, 0.1, 0.3, 20\n",
    "cutoff_metrics(y_valid, pred_proba, revenue, np.linspace(0.05, 0.2, 16))"
   ]
  },
  {
   "cell_type": "markdown",
   "metadata": {},
   "source": [
    "5.Оцените изменение экономического эффекта от проведения кампании по удержанию при увеличении качества модели на 1%? На 3%? При ответе на вопрос укажите, по какой метрике вы оцениваете качество.\n"
   ]
  },
  {
   "cell_type": "code",
   "execution_count": 95,
   "metadata": {},
   "outputs": [
    {
     "name": "stdout",
     "output_type": "stream",
     "text": [
      "f1: 0.280\trecall: 0.427\tprecision: 0.209\tacc: 0.837\tcutoff: 0.080 \ttop: 0.152 \trevenue: 5265.0\n",
      "603 213 159\n"
     ]
    }
   ],
   "source": [
    "def recall(TP, FN):\n",
    "    return TP/(TP+FN)\n",
    "def precision(TP, FP):\n",
    "    return TP/(TP+FP)\n",
    "def f1(recall, precision):\n",
    "    return 2*recall*precision/(recall+precision)\n",
    "\n",
    "\n",
    "def cutoff_metrics(y_valid, predict_proba, rv, cutoff):\n",
    "    \n",
    "    for cut in cutoff:    \n",
    "        cm = confusion_matrix(y_valid, predict_proba > cut)\n",
    "        FP, FN, TP = cm[0,1], cm[1,0], cm[1,1]\n",
    "        \n",
    "        print(\"f1: {:.3f}\\trecall: {:.3f}\\tprecision: {:.3f}\\tacc: {:.3f}\\tcutoff: {:.3f} \\ttop: {:.3f} \\trevenue: {:.1f}\".format(\n",
    "            f1_score(y_valid, predict_proba > cut), \n",
    "            recall_score(y_valid, predict_proba > cut), \n",
    "            precision_score(y_valid, predict_proba > cut), \n",
    "            accuracy_score(y_valid, predict_proba>cut),\n",
    "            cut, \n",
    "            pred_proba[pred_proba > cut].shape[0] / pred_proba.shape[0], \n",
    "            rv(FN, FP)\n",
    "        ))\n",
    "        print(FP, FN, TP)\n",
    "\n",
    "income, cost, accept_c, accept_nc = 500, 50, 0.2, 0.3\n",
    "cutoff_metrics(y_valid, pred_proba, revenue, [0.08])\n"
   ]
  },
  {
   "cell_type": "code",
   "execution_count": 107,
   "metadata": {},
   "outputs": [
    {
     "name": "stdout",
     "output_type": "stream",
     "text": [
      "0.483 0.248 0.328 10907\n",
      "0.476 0.243 0.322 10280\n",
      "0.469 0.238 0.316 9653\n",
      "0.463 0.233 0.310 9026\n",
      "0.456 0.229 0.305 8399\n",
      "0.450 0.224 0.300 7772\n",
      "0.444 0.220 0.295 7145\n",
      "0.439 0.216 0.290 6518\n",
      "0.433 0.212 0.285 5891\n",
      "0.427 0.209 0.280 5264\n"
     ]
    }
   ],
   "source": [
    "# default values \n",
    "FP, FN, TP = 603, 213, 159\n",
    "\n",
    "for mult in np.linspace(0.8, 1, 10):\n",
    "    rc, pr = recall(TP, FN*mult), precision(TP, FP*mult)\n",
    "    print(\"{:.3f} {:.3f} {:.3f} {}\".format(rc, pr, f1(rc, pr), int(revenue(FN*mult, FP*mult))))\n"
   ]
  },
  {
   "cell_type": "code",
   "execution_count": 106,
   "metadata": {},
   "outputs": [
    {
     "data": {
      "text/plain": [
       "(250800, 752400)"
      ]
     },
     "execution_count": 106,
     "metadata": {},
     "output_type": "execute_result"
    }
   ],
   "source": [
    "(6518-5264)*200,  (9026-5264)*200"
   ]
  },
  {
   "cell_type": "markdown",
   "metadata": {},
   "source": [
    "При повышении f1 меры на 1% - 250т.р., при повышении f1 меры на 3% - 750т.р."
   ]
  },
  {
   "cell_type": "markdown",
   "metadata": {},
   "source": [
    "6.Как вы думаете, является ли экономически оправданным вложение средств в улучшение качества модели? На сколько нужно улучшить модель, чтобы это качественно сказалось на экономическом эффекте от удержания?"
   ]
  },
  {
   "cell_type": "markdown",
   "metadata": {},
   "source": [
    "Думаю, что повышение качества модели на заданных параметрах оправданно."
   ]
  },
  {
   "cell_type": "code",
   "execution_count": null,
   "metadata": {},
   "outputs": [],
   "source": []
  }
 ],
 "metadata": {
  "kernelspec": {
   "display_name": "Python 3",
   "language": "python",
   "name": "python3"
  },
  "language_info": {
   "codemirror_mode": {
    "name": "ipython",
    "version": 3
   },
   "file_extension": ".py",
   "mimetype": "text/x-python",
   "name": "python",
   "nbconvert_exporter": "python",
   "pygments_lexer": "ipython3",
   "version": "3.6.1"
  }
 },
 "nbformat": 4,
 "nbformat_minor": 1
}
