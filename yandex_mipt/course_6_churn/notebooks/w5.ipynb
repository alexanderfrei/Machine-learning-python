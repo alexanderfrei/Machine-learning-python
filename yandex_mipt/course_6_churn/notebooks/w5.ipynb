{
 "cells": [
  {
   "cell_type": "markdown",
   "metadata": {},
   "source": [
    "Import"
   ]
  },
  {
   "cell_type": "code",
   "execution_count": 50,
   "metadata": {},
   "outputs": [],
   "source": [
    "import pandas as pd\n",
    "import numpy as np\n",
    "\n",
    "from xgboost import XGBClassifier\n",
    "from sklearn.metrics import f1_score, roc_auc_score, recall_score, precision_score, roc_curve, accuracy_score\n",
    "from sklearn.model_selection import StratifiedKFold, train_test_split\n",
    "from sklearn.preprocessing import StandardScaler, OneHotEncoder, LabelEncoder, Imputer, LabelBinarizer\n",
    "import category_encoders\n",
    "\n",
    "import time \n",
    "import pickle\n",
    "\n",
    "from functools import partial \n",
    "\n",
    "import matplotlib.pyplot as plt \n",
    "%matplotlib inline "
   ]
  },
  {
   "cell_type": "markdown",
   "metadata": {},
   "source": [
    "Fuctions"
   ]
  },
  {
   "cell_type": "code",
   "execution_count": 257,
   "metadata": {},
   "outputs": [],
   "source": [
    "\n",
    "def learning_curve_cv(X, y, model, train_size, cv=3):\n",
    "    \n",
    "    transform = partial(transform_custom, feature_names=list(X.columns))    \n",
    "    train_size = np.int32(train_size)\n",
    "    kf = StratifiedKFold(cv, random_state=42, shuffle=True)\n",
    "    \n",
    "    train_scores = np.zeros((len(train_size), cv), dtype=np.float32)\n",
    "    valid_scores = np.zeros((len(train_size), cv), dtype=np.float32)    \n",
    "    \n",
    "    X, y = np.array(X), np.array(y).reshape(-1)\n",
    "    \n",
    "    for j, num in enumerate(train_size):\n",
    "        print(j, num)\n",
    "        for i, (train_index, val_index) in enumerate(kf.split(X[:num, :], y[:num])):\n",
    "\n",
    "            print( \"Fold \", i)\n",
    "\n",
    "            y_train, y_val = y[train_index].copy(), y[val_index].copy()\n",
    "            X_train, X_val = X[train_index, :].copy(), X[val_index, :].copy()\n",
    "            \n",
    "            X_train, X_val = transform(X_train, X_val, y_train)\n",
    "            \n",
    "            fit_model = model.fit(X_train, y_train)\n",
    "            \n",
    "            train_proba = fit_model.predict_proba(X_train)[:, 1]\n",
    "            val_proba = fit_model.predict_proba(X_val)[:, 1]\n",
    "\n",
    "            train_scores[j, i] = roc_auc_score(y_train, train_proba)\n",
    "            valid_scores[j, i] = roc_auc_score(y_val, val_proba)\n",
    "        \n",
    "    return train_scores, valid_scores\n",
    "\n",
    "\n",
    "def cross_val(X, y, model, kf, preprocessing, verbose=False):\n",
    "    \n",
    "    X, y = np.array(X), np.array(y).reshape(-1)\n",
    "    cv_scores = []\n",
    "\n",
    "    for i, (train_index, val_index) in enumerate(kf.split(X, y)):\n",
    "\n",
    "        print( \"Fold \", i)\n",
    "\n",
    "        y_train, y_val = y[train_index].copy(), y[val_index].copy()\n",
    "        X_train, X_val = X[train_index, :].copy(), X[val_index, :].copy()\n",
    "        \n",
    "        X_train, X_val = preprocessing(X_train, X_val, y_train)\n",
    "        if verbose: print(X_train.shape)\n",
    "            \n",
    "        fit_model = model.fit(X_train, y_train)\n",
    "        pred = fit_model.predict_proba(X_val)[:, 1]\n",
    "        \n",
    "        cv_scores.append(roc_auc_score(y_val, pred))\n",
    "        \n",
    "    return cv_scores\n",
    "\n",
    "def cutoff_metrics(y_valid, predict_proba, cutoff):\n",
    "    for cut in cutoff:\n",
    "        print(\"f1: {:.3f}\\trecall: {:.3f}\\tprecision: {:.3f}\\tacc: {:.3f}\\tcutoff: {:.3f} \".format(\n",
    "            f1_score(y_valid, predict_proba > cut), \n",
    "            recall_score(y_valid, predict_proba > cut), \n",
    "            precision_score(y_valid, predict_proba > cut), \n",
    "            accuracy_score(y_valid, predict_proba>cut),\n",
    "            cut\n",
    "        ))\n",
    "\n",
    "def print_metrics(cv_scores):\n",
    "    metrics = ['f1', 'precision', 'recall', 'roc auc']\n",
    "    cvmean = cv_scores.mean(0)\n",
    "    for i in range(4):\n",
    "        print(\"{} = {:.5f}\".format(metrics[i], cvmean[i]))\n",
    "\n",
    "def transform(train, test, target, to_drop=False, \n",
    "              high_cardinality=\"smoothing\", hc_treshold = 10, hc_drop=False, # high cardinality categorical\n",
    "              eb_k=50, eb_f=10,  # parameters for hc smoothing function \n",
    "              encode=False,  # categorical \n",
    "              fill_num=-1, scaling=False,  # continuous \n",
    "              feature_names = False, feature_dtypes = False,\n",
    "              keep = False\n",
    "             ):\n",
    "    \n",
    "    \"\"\" \n",
    "    data preprocessing \n",
    "    \n",
    "    :train, test: pandas DataFrame\n",
    "    :high_cardinality: way to handle categorical features with high number of levels\n",
    "    :encode: category encoding, 'ohe' = one hot, 'bin' = binary\n",
    "    :fill_num: fill nan for continuous features, -1 = with -1, ('mean', 'median') = strategy\n",
    "    :scaling: 'standard' = StandartScaler\n",
    "    :feature_names: list, columns from dataframe\n",
    "    :feature_dtypes: pd.Series, dtypes from dataframe\n",
    "    \n",
    "    category features should have type 'object'\n",
    "    \"\"\"\n",
    "    \n",
    "    # checks \n",
    "    \n",
    "    feature_names = list(feature_names)\n",
    "    if (isinstance(train, np.ndarray) or isinstance(test, np.ndarray)) and not feature_names:\n",
    "        raise FeatureNamesError(\"Feature names had not defined for np.ndarray\")\n",
    "    \n",
    "    # np to pd \n",
    "    if isinstance(train, np.ndarray):\n",
    "        train=pd.DataFrame(train, columns=feature_names)\n",
    "        dt = feature_dtypes.to_dict()\n",
    "        for col in train.columns:\n",
    "            train[col] = train[col].astype(dt[col])        \n",
    "    if isinstance(test, np.ndarray):\n",
    "        test=pd.DataFrame(test, columns=feature_names)\n",
    "        dt = feature_dtypes.to_dict()\n",
    "        for col in train.columns:\n",
    "            test[col] = test[col].astype(dt[col])\n",
    "    \n",
    "    # remove duplicates \n",
    "    if to_drop:\n",
    "        train = train.drop(to_drop, axis=1)\n",
    "        test = test.drop(to_drop, axis=1)\n",
    "    \n",
    "    ######## categorical features \n",
    "    \n",
    "    cat_features = train.columns[train.dtypes=='object']\n",
    "    num_features = train.columns[train.dtypes!='object']      \n",
    "    \n",
    "    # factorize \n",
    "    le = LabelEncoder()\n",
    "    train[cat_features] = train[cat_features].fillna('-1')\n",
    "    test[cat_features] = test[cat_features].fillna('-1')\n",
    "    for c in cat_features:\n",
    "        data=train[c].append(test[c])\n",
    "        le.fit(data.values.tolist())  # nan = 0 level\n",
    "        train[c] = le.transform(train[c].values.tolist())\n",
    "        test[c] = le.transform(test[c].values.tolist())       \n",
    "    \n",
    "    # mark nan with -1, if encoding not necessary \n",
    "    if not encode:\n",
    "        train[cat_features] = train[cat_features].replace(0, -1)\n",
    "        test[cat_features] = test[cat_features].replace(0, -1)    \n",
    "        \n",
    "    ######## high cardinality\n",
    "    \n",
    "    if high_cardinality:\n",
    "\n",
    "        hc_features = train[cat_features].columns[train[cat_features].apply(lambda x: len(x.value_counts())) > hc_treshold]\n",
    "        target_mean = target.mean()\n",
    "        S = {}\n",
    "\n",
    "        for c in hc_features:\n",
    "\n",
    "            if high_cardinality == \"sr\":\n",
    "                # supervised ratio \n",
    "                group_means = pd.concat([train[c], pd.DataFrame(target, columns=['target'], index=train.index)], axis=1).groupby(c).mean()\n",
    "                group_means = group_means.target.to_dict()\n",
    "                for group in train[c].value_counts().index:\n",
    "                    S[group] = group_means[group]\n",
    "\n",
    "            if high_cardinality==\"woe\":\n",
    "                # weight of evidence\n",
    "                group_y1 = pd.concat([train[c], pd.DataFrame(target, columns=['target'], index=train.index)], axis=1).\\\n",
    "                groupby([c]).agg('sum')\n",
    "                group_y0 = pd.concat([train[c], pd.DataFrame(target, columns=['target'], index=train.index)], axis=1).\\\n",
    "                groupby([c]).agg('count') - group_y1\n",
    "                y1 = (target==1).sum()\n",
    "                y0 = (target==0).sum()\n",
    "                woe = np.log(((group_y1) / y1) / ((group_y0) / y0))\n",
    "                for i,v in zip(woe.index, np.where(np.isinf(woe), 0, woe)):\n",
    "                    S[i] = v[0]\n",
    "\n",
    "            if high_cardinality==\"smoothing\":\n",
    "                # empirical bayes (smoothing for small group)\n",
    "                group_means = pd.concat([train[c], pd.DataFrame(target, columns=['target'], index=train.index)], axis=1).groupby(c).mean()\n",
    "                group_means = group_means.target.to_dict()\n",
    "                group_counts = pd.concat([train[c], pd.DataFrame(target, columns=['target'], index=train.index)], axis=1).groupby(c).agg('count')\n",
    "                group_counts = group_counts.target.to_dict()\n",
    "\n",
    "                def smoothing_function(n, k, f):\n",
    "                    return 1 / (1 + np.exp(-(n-k)/f))\n",
    "\n",
    "                for group in train[c].value_counts().index:\n",
    "                    lam = smoothing_function(n=group_counts[group], k=eb_k, f=eb_f)\n",
    "                    S[group] = lam*group_means[group] + (1-lam)*target_mean\n",
    "\n",
    "            # transform train\n",
    "            train[c+'_avg'] = train[c].apply(lambda x: S[x]).copy()\n",
    "\n",
    "            # transform test\n",
    "            def hc_transform_test(x):\n",
    "                if x in S: \n",
    "                    return S[x]\n",
    "                else:\n",
    "                    return target_mean\n",
    "\n",
    "            test[c+'_avg'] = test[c].apply(hc_transform_test).copy()\n",
    "\n",
    "        # drop hc features \n",
    "        if hc_drop:\n",
    "            train.drop(hc_features, axis=1, inplace=True)\n",
    "            test.drop(hc_features, axis=1, inplace=True)\n",
    "\n",
    "        # update cat features \n",
    "        cat_features = sorted(list(set(cat_features).difference(hc_features)))\n",
    "\n",
    "    ######## for linear models \n",
    "#     print(train.shape)\n",
    "#     if True:\n",
    "#         return num_features, train\n",
    "    \n",
    "    # fill missings\n",
    "    if fill_num in ['mean', 'median']:\n",
    "        imputer = Imputer(strategy=fill_num)\n",
    "        train[num_features] = imputer.fit_transform(train[num_features])\n",
    "        test[num_features] = imputer.transform(test[num_features])\n",
    "    elif fill_num < 0:\n",
    "        train[num_features] = train[num_features].fillna(fill_num)\n",
    "        test[num_features] = test[num_features].fillna(fill_num)\n",
    "        \n",
    "    # scaling\n",
    "    if scaling=='standard':\n",
    "        scaler = StandardScaler()\n",
    "        train[num_features] = scaler.fit_transform(train[num_features])\n",
    "        test[num_features] = scaler.transform(test[num_features])\n",
    "    \n",
    "    ######## encoding \n",
    "    if encode=='ohe':\n",
    "        # one hot encoding, memory inefficient\n",
    "        oh = OneHotEncoder(sparse=False)\n",
    "        for c in cat_features:\n",
    "            data=train[c].append(test[c])\n",
    "            oh.fit(data.values.reshape(-1,1))            \n",
    "            train_temp = oh.transform(train[c].values.reshape(-1,1))\n",
    "            test_temp = oh.transform(test[c].values.reshape(-1,1))\n",
    "            train = pd.concat([train, pd.DataFrame(train_temp, \n",
    "                                                   columns=[(c+\"_\"+str(i)) for i in data.value_counts().index],\n",
    "                                                   index = train.index\n",
    "                                                  )], axis=1)\n",
    "            test = pd.concat([test, pd.DataFrame(test_temp, \n",
    "                                                 columns=[(c+\"_\"+str(i)) for i in data.value_counts().index],\n",
    "                                                 index = test.index\n",
    "                                                )], axis=1)\n",
    "            # drop column\n",
    "            train.drop(c, axis=1, inplace=True)\n",
    "            test.drop(c, axis=1, inplace=True)\n",
    "    \n",
    "    if encode=='bin':\n",
    "        # binary encoding \n",
    "        for c in cat_features:\n",
    "            data=pd.DataFrame(train[c].append(test[c]), columns=[c])\n",
    "            be = category_encoders.BinaryEncoder(cols=[c])\n",
    "            be.fit(data)\n",
    "            train_temp = be.transform(pd.DataFrame(train[c], columns=[c]))\n",
    "            test_temp = be.transform(pd.DataFrame(test[c], columns=[c]))\n",
    "            train = pd.concat([train, train_temp], axis=1)\n",
    "            test = pd.concat([test, test_temp], axis=1)\n",
    "            # drop column\n",
    "            train.drop(c, axis=1, inplace=True)\n",
    "            test.drop(c, axis=1, inplace=True)\n",
    "       \n",
    "    if keep:\n",
    "        train = train.loc[:, keep]\n",
    "        test = test.loc[:, keep]\n",
    "        \n",
    "    return train, test"
   ]
  },
  {
   "cell_type": "markdown",
   "metadata": {},
   "source": [
    "Data load"
   ]
  },
  {
   "cell_type": "code",
   "execution_count": 52,
   "metadata": {},
   "outputs": [],
   "source": [
    "# load \n",
    "test = pd.read_csv('./input/orange_small_churn_test_data.csv')\n",
    "train, target = pd.read_csv('./input/orange_small_churn_data.train'), \\\n",
    "np.where(pd.read_csv('./input/orange_small_churn_labels.train', header=-1)==1, 1, 0).ravel()\n",
    "\n",
    "test_id= test['ID']\n",
    "test.drop(['ID'], axis=1, inplace=True)"
   ]
  },
  {
   "cell_type": "markdown",
   "metadata": {},
   "source": [
    "Preprocessing"
   ]
  },
  {
   "cell_type": "code",
   "execution_count": 53,
   "metadata": {},
   "outputs": [],
   "source": [
    "to_drop = ['Var8', 'Var15', 'Var20', 'Var31', 'Var32', 'Var39', 'Var42', 'Var48',\n",
    "       'Var52', 'Var55', 'Var79', 'Var141', 'Var167', 'Var169', 'Var175',\n",
    "       'Var185', 'Var209', 'Var230', 'Var214', 'Var220', 'Var222']\n",
    "\n",
    "kf = StratifiedKFold(3, random_state=1, shuffle=True)\n",
    "\n",
    "############################################################################################################\n",
    "# xgb baseline hyperparameters\n",
    "model = XGBClassifier(n_jobs=4, tree_method='gpu_hist', predictor = \"cpu_predictor\", objective=\"binary:logistic\",\n",
    "                      n_estimators=1000, \n",
    "                      learning_rate=0.05,\n",
    "                      max_depth=4,\n",
    "                      gamma=10, min_child_weight=2,\n",
    "                      subsample=.8, colsample_bytree=.8,\n",
    "#                       scale_pos_weight=1.5,\n",
    "                      reg_alpha=2,\n",
    "                      reg_lambda=1.3,\n",
    "                     )\n",
    "\n",
    "# model.n_estimators = 200 # optimal value"
   ]
  },
  {
   "cell_type": "code",
   "execution_count": 54,
   "metadata": {},
   "outputs": [],
   "source": [
    "MISS_THERSHOLD = 1\n",
    "ENCODE = False\n",
    "FILL_NUM = -1\n",
    "SCALING = False\n",
    "\n",
    "# high cardinality \n",
    "HC = \"smoothing\"\n",
    "HC_DROP = False\n",
    "HC_K = 50\n",
    "HC_F = 2\n",
    "\n",
    "transform_linear = partial(transform, encode='ohe', scaling=True, fill_num='mean', \n",
    "                           hc_drop=True, high_cardinality=HC, eb_k=HC_K, eb_f=HC_F,\n",
    "                           to_drop=to_drop)\n",
    "\n",
    "transform_xgb = partial(transform, encode=ENCODE, scaling=SCALING, fill_num=FILL_NUM, \n",
    "                           hc_drop=HC_DROP, high_cardinality=HC, eb_k=HC_K, eb_f=HC_F,\n",
    "                           to_drop=to_drop, feature_dtypes=train.dtypes, feature_names=train.columns)"
   ]
  },
  {
   "cell_type": "code",
   "execution_count": 55,
   "metadata": {},
   "outputs": [
    {
     "name": "stdout",
     "output_type": "stream",
     "text": [
      "(35000, 226) (5000, 226)\n"
     ]
    }
   ],
   "source": [
    "# split data \n",
    "X_train, X_valid, y_train, y_valid = train_test_split(train, target, test_size=5000, random_state=42, stratify=target)\n",
    "X_train_, X_valid_, y_train_, y_valid_ = train_test_split(train, target, test_size=5000, random_state=42, stratify=target)\n",
    "# transform\n",
    "X_train, X_valid = transform_xgb(X_train, X_valid, y_train)\n",
    "print(X_train.shape, X_valid.shape )"
   ]
  },
  {
   "cell_type": "code",
   "execution_count": 10,
   "metadata": {},
   "outputs": [
    {
     "name": "stdout",
     "output_type": "stream",
     "text": [
      "[0]\tvalidation_0-auc:0.669055\n",
      "Will train until validation_0-auc hasn't improved in 20 rounds.\n",
      "[20]\tvalidation_0-auc:0.684783\n",
      "[40]\tvalidation_0-auc:0.701271\n",
      "[60]\tvalidation_0-auc:0.705864\n",
      "[80]\tvalidation_0-auc:0.708978\n",
      "[100]\tvalidation_0-auc:0.710313\n",
      "[120]\tvalidation_0-auc:0.712787\n",
      "[140]\tvalidation_0-auc:0.714365\n",
      "[160]\tvalidation_0-auc:0.717236\n",
      "[180]\tvalidation_0-auc:0.717489\n",
      "[200]\tvalidation_0-auc:0.719732\n",
      "[220]\tvalidation_0-auc:0.718747\n",
      "Stopping. Best iteration:\n",
      "[204]\tvalidation_0-auc:0.71991\n",
      "\n"
     ]
    }
   ],
   "source": [
    "model.fit(X_train, y_train, early_stopping_rounds=20, eval_metric=\"auc\", eval_set=[(X_valid, y_valid)], verbose=20)\n",
    "predict_valid = model.predict_proba(X_valid, ntree_limit=model.best_ntree_limit)[:, 1]"
   ]
  },
  {
   "cell_type": "code",
   "execution_count": 83,
   "metadata": {},
   "outputs": [
    {
     "name": "stdout",
     "output_type": "stream",
     "text": [
      "auc score:0.7199099566918523\n"
     ]
    }
   ],
   "source": [
    "# baseline auc score \n",
    "print(\"auc score:{}\".format(roc_auc_score(y_valid, predict_valid)))\n",
    "# baseline binary metrics\n",
    "# cutoff_metrics(np.linspace(0.05, 0.3, 6), predict_valid)"
   ]
  },
  {
   "cell_type": "markdown",
   "metadata": {},
   "source": [
    "# Peer-graded Assignment: Эксперименты с моделью\n",
    "\n",
    "На прошлой неделе вы поучаствовали в соревновании на kaggle и, наверняка, большинство успешно справилось с прохождением baseline, а значит пора двигаться дальше - заняться оптимизацией модели, провести серию экспериментов и построить сильное финальное решения.\n",
    "\n",
    "В этом задании вам нужно провести ряд эскпериментов, оценить качество полученных в процессе экспериментирования моделей и выбрать лучшее решение. "
   ]
  },
  {
   "cell_type": "markdown",
   "metadata": {},
   "source": [
    "Задание будет оцениваться на основании загруженного jupyther notebook и развернутых ответов на поставленные вопросы."
   ]
  },
  {
   "cell_type": "markdown",
   "metadata": {},
   "source": [
    "## Инструкции"
   ]
  },
  {
   "cell_type": "markdown",
   "metadata": {},
   "source": [
    "1\\. Начнем с простого. Давайте оценим как много объектов действительно нужно для построения качественной модели. Для обучения доступна достаточно большая выборка и может так оказаться, что начиная с некоторого момента рост размера обучающей выборки перестает влиять на качество модели. Постройте кривые обучения, обучая модель на выборках разного размера начиная с небольшого количество объектов в обучающей выборке и постепенно наращивая её размер с некоторым шагом. Обратите внимание на `sklearn.model_selection.learning_curve`"
   ]
  },
  {
   "cell_type": "code",
   "execution_count": 85,
   "metadata": {},
   "outputs": [],
   "source": [
    "X_train, X_valid, y_train, y_valid = train_test_split(train, target, test_size=5000, random_state=42, stratify=target)\n",
    "model_fit = model.set_params(n_estimators=200)"
   ]
  },
  {
   "cell_type": "code",
   "execution_count": 86,
   "metadata": {},
   "outputs": [
    {
     "name": "stdout",
     "output_type": "stream",
     "text": [
      "0 5000\n",
      "Fold  0\n",
      "Fold  1\n",
      "Fold  2\n",
      "1 10000\n",
      "Fold  0\n",
      "Fold  1\n",
      "Fold  2\n",
      "2 15000\n",
      "Fold  0\n",
      "Fold  1\n",
      "Fold  2\n",
      "3 20000\n",
      "Fold  0\n",
      "Fold  1\n",
      "Fold  2\n",
      "4 25000\n",
      "Fold  0\n",
      "Fold  1\n",
      "Fold  2\n",
      "5 30000\n",
      "Fold  0\n",
      "Fold  1\n",
      "Fold  2\n",
      "6 35000\n",
      "Fold  0\n",
      "Fold  1\n",
      "Fold  2\n"
     ]
    }
   ],
   "source": [
    "lc_train, lc_test = learning_curve_cv(X_train, y_train, model_fit, np.linspace(5000, 35000, 7))"
   ]
  },
  {
   "cell_type": "code",
   "execution_count": 87,
   "metadata": {},
   "outputs": [],
   "source": [
    "# from sklearn.model_selection import learning_curve\n",
    "# lc_scores = learning_curve(cv=3, n_jobs=2, scoring='roc_auc', shuffle=True, verbose=1, train_sizes=np.linspace(0.1,1,10),\n",
    "#                            estimator=model_fit, X=X_train, y=y_train\n",
    "#               )"
   ]
  },
  {
   "cell_type": "code",
   "execution_count": 88,
   "metadata": {},
   "outputs": [
    {
     "data": {
      "image/png": "[encoded data removed]",
      "text/plain": [
       "<matplotlib.figure.Figure at 0x1afbbd79978>"
      ]
     },
     "metadata": {},
     "output_type": "display_data"
    }
   ],
   "source": [
    "plt.plot(np.linspace(5000, 35000, 7), lc_train.mean(1), label='train')\n",
    "plt.plot(np.linspace(5000, 35000, 7), lc_test.mean(1), label='validation')\n",
    "plt.legend();"
   ]
  },
  {
   "cell_type": "markdown",
   "metadata": {},
   "source": [
    "### Вывод\n",
    "Выше используется кастомная кривая обучения, т.к. в процессе разбиения на фолды нужно применить препроцессинг (чтобы избежать переобучения).\n",
    "\n",
    "Кривая обучения свидетельствует о том, что с ростом количества объектов качество модели повышается.\n",
    "Однако, на лицо переобученность модели - т.к. разрыв между качеством на тренировочных и тестовых данных значителен.\n",
    "Это значит, что нужно упрощать модель, либо устранив кодирование по целевой переменной, либо исключив часть признаков, либо усилить регуляризацию, либо все вместе."
   ]
  },
  {
   "cell_type": "markdown",
   "metadata": {},
   "source": [
    " "
   ]
  },
  {
   "cell_type": "markdown",
   "metadata": {},
   "source": [
    "2\\. Часто несбалансированные по классам выборки приводят к различным проблемам при обучении моделей. Давайте попробуем по-разному обработать выборку, поиграть с распределением объектов по классам и сделать выводы о том, как соотношение классов влияет на качество модели."
   ]
  },
  {
   "cell_type": "markdown",
   "metadata": {},
   "source": [
    "2.1\\. Задайте веса объектам так, чтобы соотношение классов с учетом весов объектов изменилось. Попробуйте не менее трёх различных вариантов весов. Меняются ли результаты классификации? Как это сказывается на качестве модели? Какой вариант выглядит наиболее оптимальным с точки зрения качества?"
   ]
  },
  {
   "cell_type": "code",
   "execution_count": 91,
   "metadata": {},
   "outputs": [],
   "source": [
    "# balanced \n",
    "w1_train = np.float32(y_train*0+1)\n",
    "w1_train[y_train==0] = np.sum(y_train==1)/np.sum(y_train==0)\n",
    "# non churn to 0.25\n",
    "w2_train = np.float32(y_train*0+1)\n",
    "w2_train[y_train==0] = 0.25\n",
    "# non churn to 0.5\n",
    "w3_train = np.float32(y_train*0+1)\n",
    "w3_train[y_train==0] = 0.5\n",
    "# non churn to 0.75\n",
    "w4_train = np.float32(y_train*0+1)\n",
    "w4_train[y_train==0] = 0.75\n",
    "# non churn to 0.95\n",
    "w5_train = np.float32(y_train*0+1)\n",
    "w5_train[y_train==0] = 0.9\n",
    "# non churn to 1.5\n",
    "w7_train = np.float32(y_train*0+1)\n",
    "w7_train[y_train==0] = 1.5\n",
    "# random \n",
    "w6_train = np.random.rand(y_train.shape[0])"
   ]
  },
  {
   "cell_type": "code",
   "execution_count": 95,
   "metadata": {},
   "outputs": [
    {
     "data": {
      "text/plain": [
       "0.71943743552569206"
      ]
     },
     "execution_count": 95,
     "metadata": {},
     "output_type": "execute_result"
    }
   ],
   "source": [
    "X_train, X_valid = transform_xgb(X_train, X_valid, y_train)\n",
    "fit_model = model.fit(X_train, y_train)\n",
    "roc_auc_score(y_valid, fit_model.predict_proba(X_valid)[:, 1])"
   ]
  },
  {
   "cell_type": "code",
   "execution_count": 96,
   "metadata": {},
   "outputs": [
    {
     "data": {
      "text/plain": [
       "0.71542550719788855"
      ]
     },
     "execution_count": 96,
     "metadata": {},
     "output_type": "execute_result"
    }
   ],
   "source": [
    "fit_model = model.fit(X_train, y_train, sample_weight=w1_train)\n",
    "roc_auc_score(y_valid, fit_model.predict_proba(X_valid)[:, 1])\n",
    "\n",
    "# fit_model = model.fit(X_train, y_train, \n",
    "#                       early_stopping_rounds=20, eval_metric=\"auc\", eval_set=[(X_valid, y_valid)], verbose=50,\n",
    "#                       sample_weight=w1)"
   ]
  },
  {
   "cell_type": "code",
   "execution_count": 97,
   "metadata": {},
   "outputs": [
    {
     "data": {
      "text/plain": [
       "0.71713843272832034"
      ]
     },
     "execution_count": 97,
     "metadata": {},
     "output_type": "execute_result"
    }
   ],
   "source": [
    "fit_model = model.fit(X_train, y_train, sample_weight=w2_train)\n",
    "roc_auc_score(y_valid, fit_model.predict_proba(X_valid)[:, 1])"
   ]
  },
  {
   "cell_type": "code",
   "execution_count": 98,
   "metadata": {},
   "outputs": [
    {
     "data": {
      "text/plain": [
       "0.72005720207061263"
      ]
     },
     "execution_count": 98,
     "metadata": {},
     "output_type": "execute_result"
    }
   ],
   "source": [
    "fit_model = model.fit(X_train, y_train, sample_weight=w3_train)\n",
    "roc_auc_score(y_valid, fit_model.predict_proba(X_valid)[:, 1])"
   ]
  },
  {
   "cell_type": "code",
   "execution_count": 99,
   "metadata": {},
   "outputs": [
    {
     "data": {
      "text/plain": [
       "0.7213821200546463"
      ]
     },
     "execution_count": 99,
     "metadata": {},
     "output_type": "execute_result"
    }
   ],
   "source": [
    "fit_model = model.fit(X_train, y_train, sample_weight=w4_train)\n",
    "roc_auc_score(y_valid, fit_model.predict_proba(X_valid)[:, 1])"
   ]
  },
  {
   "cell_type": "code",
   "execution_count": 100,
   "metadata": {},
   "outputs": [
    {
     "data": {
      "text/plain": [
       "0.71765480804081749"
      ]
     },
     "execution_count": 100,
     "metadata": {},
     "output_type": "execute_result"
    }
   ],
   "source": [
    "fit_model = model.fit(X_train, y_train, sample_weight=w5_train)\n",
    "roc_auc_score(y_valid, fit_model.predict_proba(X_valid)[:, 1])"
   ]
  },
  {
   "cell_type": "code",
   "execution_count": 101,
   "metadata": {},
   "outputs": [
    {
     "data": {
      "text/plain": [
       "0.71300801107796397"
      ]
     },
     "execution_count": 101,
     "metadata": {},
     "output_type": "execute_result"
    }
   ],
   "source": [
    "fit_model = model.fit(X_train, y_train, sample_weight=w6_train)\n",
    "roc_auc_score(y_valid, fit_model.predict_proba(X_valid)[:, 1])"
   ]
  },
  {
   "cell_type": "code",
   "execution_count": 102,
   "metadata": {},
   "outputs": [
    {
     "data": {
      "text/plain": [
       "0.71437300768580214"
      ]
     },
     "execution_count": 102,
     "metadata": {},
     "output_type": "execute_result"
    }
   ],
   "source": [
    "fit_model = model.fit(X_train, y_train, sample_weight=w7_train)\n",
    "roc_auc_score(y_valid, fit_model.predict_proba(X_valid)[:, 1])"
   ]
  },
  {
   "cell_type": "markdown",
   "metadata": {},
   "source": [
    "### Вывод\n",
    "Использование весов дает улучшение на доли процента."
   ]
  },
  {
   "cell_type": "markdown",
   "metadata": {},
   "source": [
    "2.2\\. Примените к выборке технологию undersampling: для этого нужно убрать из обучения некоторое количество объектов большего класса таким образом, чтобы соотношение классов изменилось. Попробуйте не менее трёх различных вариантов undersampling (варианты могут отличаться как по количество отфильтрованных объектов, так и по принципу выборка объектов для отсеивания из выборки). Меняются ли результаты классификации? Как это сказывается на качестве модели? Какой вариант выглядит наиболее оптимальным с точки зрения качества?"
   ]
  },
  {
   "cell_type": "code",
   "execution_count": 45,
   "metadata": {},
   "outputs": [],
   "source": [
    "transform_linear = partial(transform, encode='ohe', scaling=True, fill_num='mean', \n",
    "                           hc_drop=True, high_cardinality=HC, eb_k=HC_K, eb_f=HC_F,\n",
    "                           to_drop=to_drop)"
   ]
  },
  {
   "cell_type": "code",
   "execution_count": 46,
   "metadata": {},
   "outputs": [],
   "source": [
    "X_train, X_valid, y_train, y_valid = train_test_split(train, target, test_size=5000, random_state=42, stratify=target)\n",
    "X_train, X_valid = transform_linear(X_train, X_valid, y_train)"
   ]
  },
  {
   "cell_type": "code",
   "execution_count": 47,
   "metadata": {},
   "outputs": [],
   "source": [
    "from imblearn.under_sampling import TomekLinks, NearMiss, InstanceHardnessThreshold"
   ]
  },
  {
   "cell_type": "code",
   "execution_count": 48,
   "metadata": {},
   "outputs": [],
   "source": [
    "# TomekLinks\n",
    "tl = TomekLinks(return_indices=True, n_jobs=4)\n",
    "_, _, idx_resampled = tl.fit_sample(X_train, y_train)"
   ]
  },
  {
   "cell_type": "code",
   "execution_count": 66,
   "metadata": {},
   "outputs": [
    {
     "data": {
      "text/plain": [
       "XGBClassifier(base_score=0.5, booster='gbtree', colsample_bylevel=1,\n",
       "       colsample_bytree=0.8, gamma=3, learning_rate=0.05, max_delta_step=0,\n",
       "       max_depth=4, min_child_weight=1, missing=None, n_estimators=1000,\n",
       "       n_jobs=4, nthread=None, objective='binary:logistic',\n",
       "       predictor='cpu_predictor', random_state=0, reg_alpha=2,\n",
       "       reg_lambda=1.3, scale_pos_weight=1, seed=None, silent=True,\n",
       "       subsample=0.95, tree_method='gpu_hist')"
      ]
     },
     "execution_count": 66,
     "metadata": {},
     "output_type": "execute_result"
    }
   ],
   "source": [
    "fit_model = model\n",
    "fit_model.set_params(gamma=3, min_child_weight=1, reg_alpha=2, subsample=0.95)"
   ]
  },
  {
   "cell_type": "code",
   "execution_count": 67,
   "metadata": {},
   "outputs": [
    {
     "name": "stdout",
     "output_type": "stream",
     "text": [
      "[0]\tvalidation_0-auc:0.664109\n",
      "Will train until validation_0-auc hasn't improved in 20 rounds.\n",
      "[20]\tvalidation_0-auc:0.686229\n",
      "[40]\tvalidation_0-auc:0.700331\n",
      "[60]\tvalidation_0-auc:0.706095\n",
      "[80]\tvalidation_0-auc:0.708308\n",
      "[100]\tvalidation_0-auc:0.712377\n",
      "[120]\tvalidation_0-auc:0.715045\n",
      "[140]\tvalidation_0-auc:0.716919\n",
      "[160]\tvalidation_0-auc:0.717881\n",
      "[180]\tvalidation_0-auc:0.719823\n",
      "[200]\tvalidation_0-auc:0.720312\n",
      "Stopping. Best iteration:\n",
      "[193]\tvalidation_0-auc:0.721287\n",
      "\n"
     ]
    }
   ],
   "source": [
    "X_train, X_valid, y_train, y_valid = train_test_split(train, target, test_size=5000, random_state=42, stratify=target)\n",
    "X_train, X_valid = transform_xgb(X_train.iloc[idx_resampled, :], X_valid, y_train[idx_resampled])\n",
    "fit_model = fit_model.fit(X_train, y_train[idx_resampled], early_stopping_rounds=20, eval_metric=\"auc\", \n",
    "                      eval_set=[(X_valid, y_valid)], verbose=20)"
   ]
  },
  {
   "cell_type": "code",
   "execution_count": 11,
   "metadata": {},
   "outputs": [],
   "source": [
    "# near miss \n",
    "X_train, X_valid, y_train, y_valid = train_test_split(train, target, test_size=5000, random_state=42, stratify=target)\n",
    "X_train, X_valid = transform_linear(X_train, X_valid, y_train)\n",
    "\n",
    "nm = NearMiss(version=2, return_indices=True, n_jobs=4)\n",
    "_, _, idx_resampled = nm.fit_sample(X_train, y_train)"
   ]
  },
  {
   "cell_type": "code",
   "execution_count": 12,
   "metadata": {},
   "outputs": [
    {
     "data": {
      "text/plain": [
       "((5208, 262), (5208,))"
      ]
     },
     "execution_count": 12,
     "metadata": {},
     "output_type": "execute_result"
    }
   ],
   "source": [
    "X_train.iloc[idx_resampled, :].shape, y_train[idx_resampled].shape"
   ]
  },
  {
   "cell_type": "code",
   "execution_count": 13,
   "metadata": {},
   "outputs": [
    {
     "name": "stdout",
     "output_type": "stream",
     "text": [
      "[0]\tvalidation_0-auc:0.49777\n",
      "Will train until validation_0-auc hasn't improved in 20 rounds.\n",
      "[20]\tvalidation_0-auc:0.482872\n",
      "Stopping. Best iteration:\n",
      "[1]\tvalidation_0-auc:0.498145\n",
      "\n"
     ]
    }
   ],
   "source": [
    "X_train, X_valid, y_train, y_valid = train_test_split(train, target, test_size=5000, random_state=42, stratify=target)\n",
    "X_train, X_valid = transform_xgb(X_train.iloc[idx_resampled, :], X_valid, y_train[idx_resampled])\n",
    "fit_model = model.fit(X_train, y_train[idx_resampled], early_stopping_rounds=20, eval_metric=\"auc\", \n",
    "                      eval_set=[(X_valid, y_valid)], verbose=20)"
   ]
  },
  {
   "cell_type": "code",
   "execution_count": 15,
   "metadata": {},
   "outputs": [],
   "source": [
    "# Cluster centroids\n",
    "X_train, X_valid, y_train, y_valid = train_test_split(train, target, test_size=5000, random_state=42, stratify=target)\n",
    "X_train, X_valid = transform_linear(X_train, X_valid, y_train)\n",
    "\n",
    "cx = InstanceHardnessThreshold(return_indices=True, n_jobs=4)\n",
    "_, _, idx_resampled = cx.fit_sample(X_train, y_train)"
   ]
  },
  {
   "cell_type": "code",
   "execution_count": 22,
   "metadata": {},
   "outputs": [
    {
     "data": {
      "text/plain": [
       "(18863,)"
      ]
     },
     "execution_count": 22,
     "metadata": {},
     "output_type": "execute_result"
    }
   ],
   "source": [
    "idx_resampled.shape"
   ]
  },
  {
   "cell_type": "code",
   "execution_count": 42,
   "metadata": {},
   "outputs": [
    {
     "data": {
      "text/plain": [
       "XGBClassifier(base_score=0.5, booster='gbtree', colsample_bylevel=1,\n",
       "       colsample_bytree=0.8, gamma=3, learning_rate=0.05, max_delta_step=0,\n",
       "       max_depth=4, min_child_weight=1, missing=None, n_estimators=1000,\n",
       "       n_jobs=4, nthread=None, objective='binary:logistic',\n",
       "       predictor='cpu_predictor', random_state=0, reg_alpha=3,\n",
       "       reg_lambda=1.3, scale_pos_weight=1, seed=None, silent=True,\n",
       "       subsample=0.9, tree_method='gpu_hist')"
      ]
     },
     "execution_count": 42,
     "metadata": {},
     "output_type": "execute_result"
    }
   ],
   "source": [
    "fit_model = model\n",
    "fit_model.set_params(gamma=3, min_child_weight=1, reg_alpha=3, subsample=0.9)"
   ]
  },
  {
   "cell_type": "code",
   "execution_count": 43,
   "metadata": {},
   "outputs": [
    {
     "name": "stdout",
     "output_type": "stream",
     "text": [
      "[0]\tvalidation_0-auc:0.671297\n",
      "Will train until validation_0-auc hasn't improved in 20 rounds.\n",
      "[20]\tvalidation_0-auc:0.682956\n",
      "[40]\tvalidation_0-auc:0.699372\n",
      "[60]\tvalidation_0-auc:0.701242\n",
      "[80]\tvalidation_0-auc:0.703414\n",
      "[100]\tvalidation_0-auc:0.704921\n",
      "[120]\tvalidation_0-auc:0.705794\n",
      "[140]\tvalidation_0-auc:0.707154\n",
      "[160]\tvalidation_0-auc:0.708016\n",
      "[180]\tvalidation_0-auc:0.708301\n",
      "[200]\tvalidation_0-auc:0.709302\n",
      "[220]\tvalidation_0-auc:0.711541\n",
      "[240]\tvalidation_0-auc:0.710642\n",
      "Stopping. Best iteration:\n",
      "[220]\tvalidation_0-auc:0.711541\n",
      "\n"
     ]
    }
   ],
   "source": [
    "X_train, X_valid, y_train, y_valid = train_test_split(train, target, test_size=5000, random_state=42, stratify=target)\n",
    "X_train, X_valid = transform_xgb(X_train.iloc[idx_resampled, :], X_valid, y_train[idx_resampled])\n",
    "fit_model = fit_model.fit(X_train, y_train[idx_resampled], early_stopping_rounds=20, eval_metric=\"auc\", \n",
    "                      eval_set=[(X_valid, y_valid)], verbose=20)"
   ]
  },
  {
   "cell_type": "markdown",
   "metadata": {},
   "source": [
    "### Вывод\n",
    "Были испробованы 3 стратегии under-sampling'а:\n",
    "Tomek links, NearMiss и Instance Hardness Threshold.\n",
    "Неплохо себя проявил метод Tomek links. При переподборе гиперпараметров (особенно повышении subsample) они дал небольшое улучшение на отложенной выборке."
   ]
  },
  {
   "cell_type": "markdown",
   "metadata": {},
   "source": [
    "3\\. Теперь перейдем к работе с признаками. Ранее вы реализовали несколько стратегий для обработки пропущенных значений. Сравните эти стратегии между собой с помощью оценки качества моделей кросс-валидации, построенных на датасетах с использованием различных стратегий. Как обработка пропущенных значений сказывается на качестве модели? Какой вариант выглядит наиболее оптимальным с точки зрения качества?"
   ]
  },
  {
   "cell_type": "code",
   "execution_count": 19,
   "metadata": {},
   "outputs": [],
   "source": [
    "model.n_estimators = 200"
   ]
  },
  {
   "cell_type": "code",
   "execution_count": 33,
   "metadata": {},
   "outputs": [
    {
     "name": "stdout",
     "output_type": "stream",
     "text": [
      "Fold  0\n",
      "Fold  1\n",
      "Fold  2\n"
     ]
    },
    {
     "data": {
      "text/plain": [
       "0.69168834942408386"
      ]
     },
     "execution_count": 33,
     "metadata": {},
     "output_type": "execute_result"
    }
   ],
   "source": [
    "# -1 (default)\n",
    "np.mean(cross_val(X_train_, y_train_, model, kf, transform_xgb))"
   ]
  },
  {
   "cell_type": "code",
   "execution_count": 35,
   "metadata": {},
   "outputs": [
    {
     "data": {
      "text/plain": [
       "0.71943743552569206"
      ]
     },
     "execution_count": 35,
     "metadata": {},
     "output_type": "execute_result"
    }
   ],
   "source": [
    "X_train, X_valid = transform_xgb(X_train_, X_valid_, y_train_)\n",
    "model.fit(X_train, y_train)\n",
    "roc_auc_score(y_valid_, model.predict_proba(X_valid)[:, 1])"
   ]
  },
  {
   "cell_type": "code",
   "execution_count": 89,
   "metadata": {},
   "outputs": [
    {
     "name": "stdout",
     "output_type": "stream",
     "text": [
      "Fold  0\n",
      "Fold  1\n",
      "Fold  2\n"
     ]
    },
    {
     "data": {
      "text/plain": [
       "0.70310256049977393"
      ]
     },
     "execution_count": 89,
     "metadata": {},
     "output_type": "execute_result"
    }
   ],
   "source": [
    "# mean \n",
    "transform_fill = partial(transform_xgb, fill_num='mean')\n",
    "np.mean(cross_val(X_train_, y_train_, model, kf, transform_fill))"
   ]
  },
  {
   "cell_type": "code",
   "execution_count": 90,
   "metadata": {},
   "outputs": [
    {
     "data": {
      "text/plain": [
       "0.71791444782111691"
      ]
     },
     "execution_count": 90,
     "metadata": {},
     "output_type": "execute_result"
    }
   ],
   "source": [
    "X_train, X_valid = transform_fill(X_train_, X_valid_, y_train_)\n",
    "model.fit(X_train, y_train)\n",
    "roc_auc_score(y_valid_, model.predict_proba(X_valid)[:, 1])"
   ]
  },
  {
   "cell_type": "code",
   "execution_count": 91,
   "metadata": {},
   "outputs": [
    {
     "name": "stdout",
     "output_type": "stream",
     "text": [
      "Fold  0\n",
      "Fold  1\n",
      "Fold  2\n"
     ]
    },
    {
     "data": {
      "text/plain": [
       "0.69504775091586757"
      ]
     },
     "execution_count": 91,
     "metadata": {},
     "output_type": "execute_result"
    }
   ],
   "source": [
    "# median \n",
    "transform_fill = partial(transform_xgb, fill_num='median')\n",
    "np.mean(cross_val(X_train_, y_train_, model, kf, transform_fill))"
   ]
  },
  {
   "cell_type": "code",
   "execution_count": 92,
   "metadata": {},
   "outputs": [
    {
     "data": {
      "text/plain": [
       "0.71378170277227915"
      ]
     },
     "execution_count": 92,
     "metadata": {},
     "output_type": "execute_result"
    }
   ],
   "source": [
    "X_train, X_valid = transform_fill(X_train_, X_valid_, y_train_)\n",
    "model.fit(X_train, y_train)\n",
    "roc_auc_score(y_valid_, model.predict_proba(X_valid)[:, 1])"
   ]
  },
  {
   "cell_type": "markdown",
   "metadata": {},
   "source": [
    "### Вывод\n",
    "Были испробованы 3 стратегии заполнения средних: отрицательным значением, средней и медианой.\n",
    "Результаты на отложенной выборке и кросс-валидации разделились:\n",
    "на большой выборке лучше себя показало заполнение минус единицей, на кросс-валидации средней.\n",
    "Значит, стоит их проверить после отбора признаков и оптимизации гипермараметров."
   ]
  },
  {
   "cell_type": "markdown",
   "metadata": {},
   "source": [
    "4\\. Также вы уже реализовали несколько стратегий для обработки категориальных признаков. Сравните эти стратегии между собой с помощью оценки качества моделей по кросс-валидации, построенных на датасетах с использованием различных стратегий. Как обработка категориальных признаков сказывается на качестве модели? Какой вариант выглядит наиболее оптимальным с точки зрения качества?"
   ]
  },
  {
   "cell_type": "code",
   "execution_count": 163,
   "metadata": {},
   "outputs": [
    {
     "name": "stdout",
     "output_type": "stream",
     "text": [
      "Fold  0\n",
      "Fold  1\n",
      "Fold  2\n"
     ]
    },
    {
     "data": {
      "text/plain": [
       "0.703119365533309"
      ]
     },
     "execution_count": 163,
     "metadata": {},
     "output_type": "execute_result"
    }
   ],
   "source": [
    "# one hot encoding \n",
    "transform_fill = partial(transform_xgb, encode='ohe')\n",
    "np.mean(cross_val(X_train_, y_train_, model, kf, transform_fill))"
   ]
  },
  {
   "cell_type": "code",
   "execution_count": 164,
   "metadata": {},
   "outputs": [
    {
     "data": {
      "text/plain": [
       "0.71851388462932508"
      ]
     },
     "execution_count": 164,
     "metadata": {},
     "output_type": "execute_result"
    }
   ],
   "source": [
    "X_train, X_valid = transform_fill(X_train_, X_valid_, y_train_)\n",
    "model.fit(X_train, y_train)\n",
    "roc_auc_score(y_valid_, model.predict_proba(X_valid)[:, 1])"
   ]
  },
  {
   "cell_type": "code",
   "execution_count": 165,
   "metadata": {},
   "outputs": [
    {
     "name": "stdout",
     "output_type": "stream",
     "text": [
      "Fold  0\n",
      "Fold  1\n",
      "Fold  2\n"
     ]
    },
    {
     "data": {
      "text/plain": [
       "0.70162243304387051"
      ]
     },
     "execution_count": 165,
     "metadata": {},
     "output_type": "execute_result"
    }
   ],
   "source": [
    "# binary encoding \n",
    "transform_fill = partial(transform_xgb, encode='bin')\n",
    "np.mean(cross_val(X_train_, y_train_, model, kf, transform_fill))"
   ]
  },
  {
   "cell_type": "code",
   "execution_count": 166,
   "metadata": {},
   "outputs": [
    {
     "data": {
      "text/plain": [
       "0.71943743552569206"
      ]
     },
     "execution_count": 166,
     "metadata": {},
     "output_type": "execute_result"
    }
   ],
   "source": [
    "X_train, X_valid = transform_fill(X_train_, X_valid_, y_train_)\n",
    "model.fit(X_train, y_train)\n",
    "roc_auc_score(y_valid_, model.predict_proba(X_valid)[:, 1])"
   ]
  },
  {
   "cell_type": "code",
   "execution_count": 213,
   "metadata": {},
   "outputs": [
    {
     "name": "stdout",
     "output_type": "stream",
     "text": [
      "Fold  0\n",
      "Fold  1\n",
      "Fold  2\n",
      "0.730193382815\n",
      "0.720143167814\n"
     ]
    }
   ],
   "source": [
    "# no nan preprocessing\n",
    "model.missing = -1\n",
    "print(np.mean(cross_val(X_train_, y_train_, model, kf, transform_fill)))\n",
    "X_train, X_valid = transform_xgb(X_train_, X_valid_, y_train_)\n",
    "model.fit(X_train, y_train)\n",
    "print(roc_auc_score(y_valid_, model.predict_proba(X_valid)[:, 1]))\n",
    "model.missing = None"
   ]
  },
  {
   "cell_type": "code",
   "execution_count": 167,
   "metadata": {},
   "outputs": [
    {
     "name": "stdout",
     "output_type": "stream",
     "text": [
      "Fold  0\n",
      "Fold  1\n",
      "Fold  2\n"
     ]
    },
    {
     "data": {
      "text/plain": [
       "0.57577614454687343"
      ]
     },
     "execution_count": 167,
     "metadata": {},
     "output_type": "execute_result"
    }
   ],
   "source": [
    "# high cardinality supervised ratio\n",
    "transform_fill = partial(transform_xgb, hc_drop=False, high_cardinality=\"sr\", eb_k=50, eb_f=2)\n",
    "np.mean(cross_val(X_train_, y_train_, model, kf, transform_fill))"
   ]
  },
  {
   "cell_type": "code",
   "execution_count": 168,
   "metadata": {},
   "outputs": [
    {
     "data": {
      "text/plain": [
       "0.59234811944126908"
      ]
     },
     "execution_count": 168,
     "metadata": {},
     "output_type": "execute_result"
    }
   ],
   "source": [
    "X_train, X_valid = transform_fill(X_train_, X_valid_, y_train_)\n",
    "model.fit(X_train, y_train)\n",
    "roc_auc_score(y_valid_, model.predict_proba(X_valid)[:, 1])"
   ]
  },
  {
   "cell_type": "code",
   "execution_count": 169,
   "metadata": {},
   "outputs": [
    {
     "name": "stdout",
     "output_type": "stream",
     "text": [
      "Fold  0\n"
     ]
    },
    {
     "name": "stderr",
     "output_type": "stream",
     "text": [
      "C:\\dev\\Anaconda3\\lib\\site-packages\\ipykernel_launcher.py:161: RuntimeWarning: divide by zero encountered in log\n"
     ]
    },
    {
     "name": "stdout",
     "output_type": "stream",
     "text": [
      "Fold  1\n"
     ]
    },
    {
     "name": "stderr",
     "output_type": "stream",
     "text": [
      "C:\\dev\\Anaconda3\\lib\\site-packages\\ipykernel_launcher.py:161: RuntimeWarning: divide by zero encountered in log\n"
     ]
    },
    {
     "name": "stdout",
     "output_type": "stream",
     "text": [
      "Fold  2\n"
     ]
    },
    {
     "name": "stderr",
     "output_type": "stream",
     "text": [
      "C:\\dev\\Anaconda3\\lib\\site-packages\\ipykernel_launcher.py:161: RuntimeWarning: divide by zero encountered in log\n"
     ]
    },
    {
     "data": {
      "text/plain": [
       "0.62600482734647489"
      ]
     },
     "execution_count": 169,
     "metadata": {},
     "output_type": "execute_result"
    }
   ],
   "source": [
    "# high cardinality weight of evidence \n",
    "transform_fill = partial(transform_xgb, hc_drop=False, high_cardinality=\"woe\", eb_k=50, eb_f=2)\n",
    "np.mean(cross_val(X_train_, y_train_, model, kf, transform_fill))"
   ]
  },
  {
   "cell_type": "code",
   "execution_count": 170,
   "metadata": {},
   "outputs": [
    {
     "name": "stderr",
     "output_type": "stream",
     "text": [
      "C:\\dev\\Anaconda3\\lib\\site-packages\\ipykernel_launcher.py:161: RuntimeWarning: divide by zero encountered in log\n"
     ]
    },
    {
     "data": {
      "text/plain": [
       "0.64210456919545356"
      ]
     },
     "execution_count": 170,
     "metadata": {},
     "output_type": "execute_result"
    }
   ],
   "source": [
    "X_train, X_valid = transform_fill(X_train_, X_valid_, y_train_)\n",
    "model.fit(X_train, y_train)\n",
    "roc_auc_score(y_valid_, model.predict_proba(X_valid)[:, 1])"
   ]
  },
  {
   "cell_type": "code",
   "execution_count": 171,
   "metadata": {},
   "outputs": [
    {
     "name": "stdout",
     "output_type": "stream",
     "text": [
      "Fold  0\n",
      "Fold  1\n",
      "Fold  2\n"
     ]
    },
    {
     "data": {
      "text/plain": [
       "0.59966963683474073"
      ]
     },
     "execution_count": 171,
     "metadata": {},
     "output_type": "execute_result"
    }
   ],
   "source": [
    "# high cardinality smoothing k=30, f=5\n",
    "transform_fill = partial(transform_xgb, hc_drop=False, high_cardinality=\"smoothing\", eb_k=30, eb_f=5)\n",
    "np.mean(cross_val(X_train_, y_train_, model, kf, transform_fill))"
   ]
  },
  {
   "cell_type": "code",
   "execution_count": 172,
   "metadata": {},
   "outputs": [
    {
     "data": {
      "text/plain": [
       "0.60638260796832744"
      ]
     },
     "execution_count": 172,
     "metadata": {},
     "output_type": "execute_result"
    }
   ],
   "source": [
    "X_train, X_valid = transform_fill(X_train_, X_valid_, y_train_)\n",
    "model.fit(X_train, y_train)\n",
    "roc_auc_score(y_valid_, model.predict_proba(X_valid)[:, 1])"
   ]
  },
  {
   "cell_type": "code",
   "execution_count": 76,
   "metadata": {},
   "outputs": [
    {
     "name": "stdout",
     "output_type": "stream",
     "text": [
      "Fold  0\n",
      "Fold  1\n",
      "Fold  2\n"
     ]
    },
    {
     "data": {
      "text/plain": [
       "0.72110511720579307"
      ]
     },
     "execution_count": 76,
     "metadata": {},
     "output_type": "execute_result"
    }
   ],
   "source": [
    "# high cardinality smoothing k=80, f=2\n",
    "transform_fill = partial(transform_xgb, hc_drop=False, high_cardinality=\"smoothing\", eb_k=80, eb_f=2)\n",
    "np.mean(cross_val(X_train_, y_train_, model, kf, transform_fill))"
   ]
  },
  {
   "cell_type": "code",
   "execution_count": 77,
   "metadata": {},
   "outputs": [
    {
     "data": {
      "text/plain": [
       "0.73462026375219569"
      ]
     },
     "execution_count": 77,
     "metadata": {},
     "output_type": "execute_result"
    }
   ],
   "source": [
    "X_train, X_valid = transform_fill(X_train_, X_valid_, y_train_)\n",
    "model.fit(X_train, y_train)\n",
    "roc_auc_score(y_valid_, model.predict_proba(X_valid)[:, 1])"
   ]
  },
  {
   "cell_type": "code",
   "execution_count": 175,
   "metadata": {},
   "outputs": [
    {
     "name": "stdout",
     "output_type": "stream",
     "text": [
      "Fold  0\n",
      "Fold  1\n",
      "Fold  2\n"
     ]
    },
    {
     "data": {
      "text/plain": [
       "0.59679721085142301"
      ]
     },
     "execution_count": 175,
     "metadata": {},
     "output_type": "execute_result"
    }
   ],
   "source": [
    "# high cardinality smoothing k=80, f=5\n",
    "transform_fill = partial(transform_xgb, hc_drop=False, high_cardinality=\"smoothing\", eb_k=80, eb_f=5)\n",
    "np.mean(cross_val(X_train_, y_train_, model, kf, transform_fill))"
   ]
  },
  {
   "cell_type": "code",
   "execution_count": 186,
   "metadata": {},
   "outputs": [
    {
     "data": {
      "text/plain": [
       "0.60427296214719195"
      ]
     },
     "execution_count": 186,
     "metadata": {},
     "output_type": "execute_result"
    }
   ],
   "source": [
    "X_train, X_valid = transform_fill(X_train_, X_valid_, y_train_)\n",
    "model.fit(X_train, y_train)\n",
    "roc_auc_score(y_valid_, model.predict_proba(X_valid)[:, 1])"
   ]
  },
  {
   "cell_type": "code",
   "execution_count": 200,
   "metadata": {},
   "outputs": [
    {
     "name": "stderr",
     "output_type": "stream",
     "text": [
      "C:\\dev\\Anaconda3\\lib\\site-packages\\ipykernel_launcher.py:173: RuntimeWarning: overflow encountered in exp\n"
     ]
    },
    {
     "data": {
      "image/png": "[encoded data removed]",
      "text/plain": [
       "<matplotlib.figure.Figure at 0x1cc8dce0978>"
      ]
     },
     "metadata": {},
     "output_type": "display_data"
    }
   ],
   "source": [
    "params = np.linspace(0.1, 1, 10)\n",
    "auc_scores = []\n",
    "for f in params:\n",
    "    transform_fill = partial(transform_xgb, hc_drop=False, high_cardinality=\"smoothing\", eb_k=80, eb_f=f)\n",
    "    X_train, X_valid = transform_fill(X_train_, X_valid_, y_train_)\n",
    "    model.fit(X_train, y_train)\n",
    "    auc_scores.append(roc_auc_score(y_valid_, model.predict_proba(X_valid)[:, 1]))\n",
    "    \n",
    "plt.plot(params, auc_scores);"
   ]
  },
  {
   "cell_type": "code",
   "execution_count": 201,
   "metadata": {},
   "outputs": [
    {
     "name": "stdout",
     "output_type": "stream",
     "text": [
      "Fold  0\n",
      "Fold  1\n",
      "Fold  2\n"
     ]
    },
    {
     "data": {
      "text/plain": [
       "0.72249520678078272"
      ]
     },
     "execution_count": 201,
     "metadata": {},
     "output_type": "execute_result"
    }
   ],
   "source": [
    "transform_fill = partial(transform_xgb, hc_drop=False, high_cardinality=\"smoothing\", eb_k=80, eb_f=0.5)\n",
    "np.mean(cross_val(X_train_, y_train_, model, kf, transform_fill))"
   ]
  },
  {
   "cell_type": "code",
   "execution_count": 202,
   "metadata": {},
   "outputs": [
    {
     "name": "stdout",
     "output_type": "stream",
     "text": [
      "Fold  0\n",
      "Fold  1\n",
      "Fold  2\n"
     ]
    },
    {
     "data": {
      "text/plain": [
       "0.72189215633046067"
      ]
     },
     "execution_count": 202,
     "metadata": {},
     "output_type": "execute_result"
    }
   ],
   "source": [
    "transform_fill = partial(transform_xgb, hc_drop=False, high_cardinality=\"smoothing\", eb_k=80, eb_f=1)\n",
    "np.mean(cross_val(X_train_, y_train_, model, kf, transform_fill))"
   ]
  },
  {
   "cell_type": "code",
   "execution_count": 203,
   "metadata": {},
   "outputs": [
    {
     "name": "stdout",
     "output_type": "stream",
     "text": [
      "Fold  0\n",
      "Fold  1\n",
      "Fold  2\n"
     ]
    },
    {
     "data": {
      "text/plain": [
       "0.72110511720579307"
      ]
     },
     "execution_count": 203,
     "metadata": {},
     "output_type": "execute_result"
    }
   ],
   "source": [
    "transform_fill = partial(transform_xgb, hc_drop=False, high_cardinality=\"smoothing\", eb_k=80, eb_f=2)\n",
    "np.mean(cross_val(X_train_, y_train_, model, kf, transform_fill))"
   ]
  },
  {
   "cell_type": "code",
   "execution_count": 217,
   "metadata": {},
   "outputs": [
    {
     "data": {
      "image/png": "[encoded data removed]",
      "text/plain": [
       "<matplotlib.figure.Figure at 0x1ccae1e4898>"
      ]
     },
     "metadata": {},
     "output_type": "display_data"
    }
   ],
   "source": [
    "# K \n",
    "params = np.linspace(60, 90, 6)\n",
    "auc_scores = []\n",
    "for k in params:\n",
    "    transform_fill = partial(transform_xgb, hc_drop=False, high_cardinality=\"smoothing\", eb_k=k, eb_f=0.5)\n",
    "    X_train, X_valid = transform_fill(X_train_, X_valid_, y_train_)\n",
    "    model.fit(X_train, y_train)\n",
    "    auc_scores.append(roc_auc_score(y_valid_, model.predict_proba(X_valid)[:, 1]))\n",
    "    \n",
    "plt.plot(params, auc_scores);"
   ]
  },
  {
   "cell_type": "markdown",
   "metadata": {},
   "source": [
    "### Вывод\n",
    "Для обработки пустых значений категориальных признаков использовалась перекодировка в отдельный уровень(-1) и отках от кодирования (XGBoost способен обрабатывать пустые значения самостоятельно). \n",
    "Лучший результат показало стандартное кодирование в -1 в сочетании с передачей его в XGBoost в качестве пустого значения.\n",
    "Т.е. это по сути отказ как от заполнения пустых значений как категориальных, так и числовых переменных.\n",
    "\n",
    "Для преобразования категориальных переменных сравнивались one hot и binary кодирование. Binary кодирование показало себя лучше, на таком же уровне как и отказ от кодирования. \n",
    "\n",
    "Также были опробованы разные варианты кодирования категориальных значения с большим числом уроней (high cardinality).\n",
    "Здесь лучшим оказался метод замены уровней на соответствующие средние предсказываемых классов (со сглаживанием).\n",
    "Лучшие параметры: k=78, f=0.5"
   ]
  },
  {
   "cell_type": "markdown",
   "metadata": {},
   "source": [
    "5\\. Все ли признаки оказались полезными для построения моделей? Проведите процедуру отбора признаков, попробуйте разные варианты отбора (обратите внимание на модуль `sklearn.feature_selection`). Например, можно выбрасывать случайные признаки или строить отбор на основе l1-регуляризации - отфильтровать из обучения признаки, которые получат нулевой вес при построении регрессии с l1-регуляризацией (`sklearn.linear_model.Lasso`). И всегда можно придумать что-то своё=) Попробуйте как минимум 2 различные стратегии, сравните результаты. Помог ли отбор признаков улучшить качество модели? Поясните свой ответ."
   ]
  },
  {
   "cell_type": "code",
   "execution_count": 133,
   "metadata": {},
   "outputs": [],
   "source": [
    "# оптимальный препроцессинг \n",
    "opt_transform = partial(transform_xgb, eb_k=80, eb_f=0.5,\n",
    "                        feature_dtypes=X_train_.dtypes, \n",
    "                        feature_names=X_train_.columns)\n",
    "# оптимальная модель\n",
    "opt_model = model.set_params(missing=-1, n_estimators=200)\n",
    "X_train, X_valid = opt_transform(X_train_, X_valid_, y_train_)"
   ]
  },
  {
   "cell_type": "code",
   "execution_count": 134,
   "metadata": {},
   "outputs": [
    {
     "data": {
      "text/plain": [
       "0.74204874954693745"
      ]
     },
     "execution_count": 134,
     "metadata": {},
     "output_type": "execute_result"
    }
   ],
   "source": [
    "# before\n",
    "opt_model.fit(X_train, y_train_)\n",
    "roc_auc_score(y_valid_, opt_model.predict_proba(X_valid)[:, 1])"
   ]
  },
  {
   "cell_type": "code",
   "execution_count": 135,
   "metadata": {},
   "outputs": [
    {
     "name": "stdout",
     "output_type": "stream",
     "text": [
      "Fold  0\n",
      "Fold  1\n",
      "Fold  2\n"
     ]
    },
    {
     "data": {
      "text/plain": [
       "0.72464587328326413"
      ]
     },
     "execution_count": 135,
     "metadata": {},
     "output_type": "execute_result"
    }
   ],
   "source": [
    "np.mean(cross_val(X_train_, y_train_, opt_model, kf, opt_transform))"
   ]
  },
  {
   "cell_type": "code",
   "execution_count": 59,
   "metadata": {},
   "outputs": [],
   "source": [
    "class RFEClass():\n",
    "    \n",
    "    def __init__(self, model, scorer=roc_auc_score, step=1, min_features=20):\n",
    "        \n",
    "        self.model = model\n",
    "        self.step = step\n",
    "        self.scorer = scorer\n",
    "        self.min_features = min_features\n",
    "        \n",
    "    def fit(self, X_train, X_valid, y_train, y_valid):\n",
    "        \n",
    "        # init vars\n",
    "        self.X_train_ = X_train\n",
    "        self.X_valid_ = X_valid\n",
    "        self.y_train_ = y_train\n",
    "        self.y_valid_ = y_valid        \n",
    "        \n",
    "        n_features = []\n",
    "        scores = []\n",
    "        support = np.full(X_train.shape[1], 1)\n",
    "        dropped = []\n",
    "        keep = []\n",
    "                \n",
    "        # fit \n",
    "        \n",
    "        while self.X_train_.shape[1] > self.min_features:\n",
    "            \n",
    "            self.model.fit(self.X_train_, self.y_train_)\n",
    "            \n",
    "            n_features.append(self.X_train_.shape[1])\n",
    "            print(n_features[-1]) \n",
    "            scores.append(self.scorer(self.y_valid_, \n",
    "                                      self.model.predict_proba(self.X_valid_)[:, 1]\n",
    "                                     ))\n",
    "            \n",
    "            coef = self.model.feature_importances_\n",
    "            \n",
    "            if np.sum(coef==coef.min()) > self.step:\n",
    "                to_drop = np.random.choice(np.where(coef==coef.min())[0], self.step)\n",
    "            else:\n",
    "                to_drop = np.argsort(coef)[:self.step]\n",
    "\n",
    "            drop_cols = self.X_train_.columns[to_drop]    \n",
    "            drop_vec = np.isin(self.X_train_.columns, drop_cols)\n",
    "            support += np.int32(np.isin(X_train.columns, drop_cols))\n",
    "            keep.append(support.copy())\n",
    "            \n",
    "            # update X\n",
    "            self.X_train_ = self.X_train_.loc[:, ~drop_vec]\n",
    "            self.X_valid_ = self.X_valid_.loc[:, ~drop_vec]                            \n",
    "            \n",
    "            # filter zero importances\n",
    "            \n",
    "#             self.X_train_ = X_train.loc[:, coef!=0]\n",
    "#             self.X_valid_ = X_valid.loc[:, coef!=0]\n",
    "        \n",
    "        # assign results\n",
    "        self.n_features_ = n_features\n",
    "        self.scores_ = scores \n",
    "        self.support_ = support\n",
    "        self.keep_ = keep\n",
    "        \n",
    "        return self \n",
    "    "
   ]
  },
  {
   "cell_type": "code",
   "execution_count": 60,
   "metadata": {},
   "outputs": [
    {
     "name": "stdout",
     "output_type": "stream",
     "text": [
      "226\n",
      "221\n",
      "216\n",
      "211\n",
      "206\n",
      "201\n",
      "196\n",
      "191\n",
      "186\n",
      "181\n",
      "176\n",
      "171\n",
      "166\n",
      "161\n",
      "156\n",
      "151\n",
      "147\n",
      "142\n",
      "138\n",
      "133\n",
      "128\n",
      "124\n",
      "120\n",
      "115\n",
      "111\n",
      "106\n",
      "101\n",
      "96\n",
      "91\n",
      "86\n",
      "81\n",
      "76\n",
      "71\n",
      "66\n",
      "61\n",
      "56\n",
      "51\n",
      "46\n",
      "41\n",
      "36\n",
      "31\n",
      "26\n",
      "21\n"
     ]
    },
    {
     "data": {
      "text/plain": [
       "<__main__.RFEClass at 0x1c723329a58>"
      ]
     },
     "execution_count": 60,
     "metadata": {},
     "output_type": "execute_result"
    }
   ],
   "source": [
    "rfe = RFEClass(opt_model, step=5)\n",
    "rfe.fit(X_train, X_valid, y_train, y_valid)"
   ]
  },
  {
   "cell_type": "code",
   "execution_count": 61,
   "metadata": {},
   "outputs": [
    {
     "data": {
      "text/plain": [
       "[<matplotlib.lines.Line2D at 0x1c755fcc828>]"
      ]
     },
     "execution_count": 61,
     "metadata": {},
     "output_type": "execute_result"
    },
    {
     "data": {
      "image/png": "[encoded data removed]",
      "text/plain": [
       "<matplotlib.figure.Figure at 0x1c723329940>"
      ]
     },
     "metadata": {},
     "output_type": "display_data"
    }
   ],
   "source": [
    "plt.plot(rfe.n_features_, rfe.scores_)"
   ]
  },
  {
   "cell_type": "code",
   "execution_count": 80,
   "metadata": {},
   "outputs": [],
   "source": [
    "mask = np.isin(np.arange(len(rfe.scores_)), np.argsort(np.array(rfe.scores_))[-5:])\n",
    "best_features = np.array(rfe.keep_)[mask]"
   ]
  },
  {
   "cell_type": "code",
   "execution_count": 64,
   "metadata": {},
   "outputs": [
    {
     "name": "stdout",
     "output_type": "stream",
     "text": [
      "Fold  0\n",
      "Fold  1\n",
      "Fold  2\n",
      "0.72526391581\n",
      "Fold  0\n",
      "Fold  1\n",
      "Fold  2\n",
      "0.724724032418\n",
      "Fold  0\n",
      "Fold  1\n",
      "Fold  2\n",
      "0.725985231666\n",
      "Fold  0\n",
      "Fold  1\n",
      "Fold  2\n",
      "0.72558657798\n",
      "Fold  0\n",
      "Fold  1\n",
      "Fold  2\n",
      "0.725414923546\n"
     ]
    }
   ],
   "source": [
    "for i in range(5):\n",
    "    cv_transform = partial(opt_transform, keep=list(X_train.columns[best_features[i]==1]))\n",
    "    print(np.mean(cross_val(X_train_, y_train_, opt_model, kf, cv_transform)))    "
   ]
  },
  {
   "cell_type": "code",
   "execution_count": 68,
   "metadata": {},
   "outputs": [],
   "source": [
    "rfe_best = list(X_train.columns[best_features[2]==1])"
   ]
  },
  {
   "cell_type": "code",
   "execution_count": 71,
   "metadata": {},
   "outputs": [],
   "source": [
    "def pickle_dump(obj, file_name):\n",
    "    with open(file_name, 'wb') as f:\n",
    "        pickle.dump(obj, f, pickle.HIGHEST_PROTOCOL)\n",
    "\n",
    "pickle_dump(rfe_best, \"rfe_best\")"
   ]
  },
  {
   "cell_type": "code",
   "execution_count": 72,
   "metadata": {},
   "outputs": [],
   "source": [
    "# Boruta \n",
    "from boruta import BorutaPy\n",
    "from sklearn.ensemble import RandomForestClassifier\n",
    "\n",
    "rf = RandomForestClassifier(n_jobs=4, class_weight='balanced', max_depth=7)\n",
    "boruta_selector = BorutaPy(rf, n_estimators='auto', verbose=2, max_iter=150)"
   ]
  },
  {
   "cell_type": "code",
   "execution_count": 73,
   "metadata": {},
   "outputs": [
    {
     "name": "stdout",
     "output_type": "stream",
     "text": [
      "Iteration: \t1 / 150\n",
      "Confirmed: \t0\n",
      "Tentative: \t226\n",
      "Rejected: \t0\n",
      "Iteration: \t2 / 150\n",
      "Confirmed: \t0\n",
      "Tentative: \t226\n",
      "Rejected: \t0\n",
      "Iteration: \t3 / 150\n",
      "Confirmed: \t0\n",
      "Tentative: \t226\n",
      "Rejected: \t0\n",
      "Iteration: \t4 / 150\n",
      "Confirmed: \t0\n",
      "Tentative: \t226\n",
      "Rejected: \t0\n",
      "Iteration: \t5 / 150\n",
      "Confirmed: \t0\n",
      "Tentative: \t226\n",
      "Rejected: \t0\n",
      "Iteration: \t6 / 150\n",
      "Confirmed: \t0\n",
      "Tentative: \t226\n",
      "Rejected: \t0\n",
      "Iteration: \t7 / 150\n",
      "Confirmed: \t0\n",
      "Tentative: \t226\n",
      "Rejected: \t0\n",
      "Iteration: \t8 / 150\n",
      "Confirmed: \t28\n",
      "Tentative: \t22\n",
      "Rejected: \t176\n"
     ]
    },
    {
     "name": "stderr",
     "output_type": "stream",
     "text": [
      "C:\\dev\\Anaconda3\\lib\\site-packages\\boruta\\boruta_py.py:418: RuntimeWarning: invalid value encountered in greater\n",
      "  hits = np.where(cur_imp[0] > imp_sha_max)[0]\n"
     ]
    },
    {
     "name": "stdout",
     "output_type": "stream",
     "text": [
      "Iteration: \t9 / 150\n",
      "Confirmed: \t28\n",
      "Tentative: \t22\n",
      "Rejected: \t176\n"
     ]
    },
    {
     "name": "stderr",
     "output_type": "stream",
     "text": [
      "C:\\dev\\Anaconda3\\lib\\site-packages\\boruta\\boruta_py.py:418: RuntimeWarning: invalid value encountered in greater\n",
      "  hits = np.where(cur_imp[0] > imp_sha_max)[0]\n"
     ]
    },
    {
     "name": "stdout",
     "output_type": "stream",
     "text": [
      "Iteration: \t10 / 150\n",
      "Confirmed: \t28\n",
      "Tentative: \t22\n",
      "Rejected: \t176\n"
     ]
    },
    {
     "name": "stderr",
     "output_type": "stream",
     "text": [
      "C:\\dev\\Anaconda3\\lib\\site-packages\\boruta\\boruta_py.py:418: RuntimeWarning: invalid value encountered in greater\n",
      "  hits = np.where(cur_imp[0] > imp_sha_max)[0]\n"
     ]
    },
    {
     "name": "stdout",
     "output_type": "stream",
     "text": [
      "Iteration: \t11 / 150\n",
      "Confirmed: \t28\n",
      "Tentative: \t22\n",
      "Rejected: \t176\n"
     ]
    },
    {
     "name": "stderr",
     "output_type": "stream",
     "text": [
      "C:\\dev\\Anaconda3\\lib\\site-packages\\boruta\\boruta_py.py:418: RuntimeWarning: invalid value encountered in greater\n",
      "  hits = np.where(cur_imp[0] > imp_sha_max)[0]\n"
     ]
    },
    {
     "name": "stdout",
     "output_type": "stream",
     "text": [
      "Iteration: \t12 / 150\n",
      "Confirmed: \t28\n",
      "Tentative: \t15\n",
      "Rejected: \t183\n"
     ]
    },
    {
     "name": "stderr",
     "output_type": "stream",
     "text": [
      "C:\\dev\\Anaconda3\\lib\\site-packages\\boruta\\boruta_py.py:418: RuntimeWarning: invalid value encountered in greater\n",
      "  hits = np.where(cur_imp[0] > imp_sha_max)[0]\n"
     ]
    },
    {
     "name": "stdout",
     "output_type": "stream",
     "text": [
      "Iteration: \t13 / 150\n",
      "Confirmed: \t28\n",
      "Tentative: \t15\n",
      "Rejected: \t183\n"
     ]
    },
    {
     "name": "stderr",
     "output_type": "stream",
     "text": [
      "C:\\dev\\Anaconda3\\lib\\site-packages\\boruta\\boruta_py.py:418: RuntimeWarning: invalid value encountered in greater\n",
      "  hits = np.where(cur_imp[0] > imp_sha_max)[0]\n"
     ]
    },
    {
     "name": "stdout",
     "output_type": "stream",
     "text": [
      "Iteration: \t14 / 150\n",
      "Confirmed: \t28\n",
      "Tentative: \t15\n",
      "Rejected: \t183\n"
     ]
    },
    {
     "name": "stderr",
     "output_type": "stream",
     "text": [
      "C:\\dev\\Anaconda3\\lib\\site-packages\\boruta\\boruta_py.py:418: RuntimeWarning: invalid value encountered in greater\n",
      "  hits = np.where(cur_imp[0] > imp_sha_max)[0]\n"
     ]
    },
    {
     "name": "stdout",
     "output_type": "stream",
     "text": [
      "Iteration: \t15 / 150\n",
      "Confirmed: \t28\n",
      "Tentative: \t15\n",
      "Rejected: \t183\n"
     ]
    },
    {
     "name": "stderr",
     "output_type": "stream",
     "text": [
      "C:\\dev\\Anaconda3\\lib\\site-packages\\boruta\\boruta_py.py:418: RuntimeWarning: invalid value encountered in greater\n",
      "  hits = np.where(cur_imp[0] > imp_sha_max)[0]\n"
     ]
    },
    {
     "name": "stdout",
     "output_type": "stream",
     "text": [
      "Iteration: \t16 / 150\n",
      "Confirmed: \t28\n",
      "Tentative: \t15\n",
      "Rejected: \t183\n"
     ]
    },
    {
     "name": "stderr",
     "output_type": "stream",
     "text": [
      "C:\\dev\\Anaconda3\\lib\\site-packages\\boruta\\boruta_py.py:418: RuntimeWarning: invalid value encountered in greater\n",
      "  hits = np.where(cur_imp[0] > imp_sha_max)[0]\n"
     ]
    },
    {
     "name": "stdout",
     "output_type": "stream",
     "text": [
      "Iteration: \t17 / 150\n",
      "Confirmed: \t28\n",
      "Tentative: \t15\n",
      "Rejected: \t183\n"
     ]
    },
    {
     "name": "stderr",
     "output_type": "stream",
     "text": [
      "C:\\dev\\Anaconda3\\lib\\site-packages\\boruta\\boruta_py.py:418: RuntimeWarning: invalid value encountered in greater\n",
      "  hits = np.where(cur_imp[0] > imp_sha_max)[0]\n"
     ]
    },
    {
     "name": "stdout",
     "output_type": "stream",
     "text": [
      "Iteration: \t18 / 150\n",
      "Confirmed: \t28\n",
      "Tentative: \t14\n",
      "Rejected: \t184\n"
     ]
    },
    {
     "name": "stderr",
     "output_type": "stream",
     "text": [
      "C:\\dev\\Anaconda3\\lib\\site-packages\\boruta\\boruta_py.py:418: RuntimeWarning: invalid value encountered in greater\n",
      "  hits = np.where(cur_imp[0] > imp_sha_max)[0]\n"
     ]
    },
    {
     "name": "stdout",
     "output_type": "stream",
     "text": [
      "Iteration: \t19 / 150\n",
      "Confirmed: \t29\n",
      "Tentative: \t13\n",
      "Rejected: \t184\n"
     ]
    },
    {
     "name": "stderr",
     "output_type": "stream",
     "text": [
      "C:\\dev\\Anaconda3\\lib\\site-packages\\boruta\\boruta_py.py:418: RuntimeWarning: invalid value encountered in greater\n",
      "  hits = np.where(cur_imp[0] > imp_sha_max)[0]\n"
     ]
    },
    {
     "name": "stdout",
     "output_type": "stream",
     "text": [
      "Iteration: \t20 / 150\n",
      "Confirmed: \t29\n",
      "Tentative: \t13\n",
      "Rejected: \t184\n"
     ]
    },
    {
     "name": "stderr",
     "output_type": "stream",
     "text": [
      "C:\\dev\\Anaconda3\\lib\\site-packages\\boruta\\boruta_py.py:418: RuntimeWarning: invalid value encountered in greater\n",
      "  hits = np.where(cur_imp[0] > imp_sha_max)[0]\n"
     ]
    },
    {
     "name": "stdout",
     "output_type": "stream",
     "text": [
      "Iteration: \t21 / 150\n",
      "Confirmed: \t29\n",
      "Tentative: \t12\n",
      "Rejected: \t185\n"
     ]
    },
    {
     "name": "stderr",
     "output_type": "stream",
     "text": [
      "C:\\dev\\Anaconda3\\lib\\site-packages\\boruta\\boruta_py.py:418: RuntimeWarning: invalid value encountered in greater\n",
      "  hits = np.where(cur_imp[0] > imp_sha_max)[0]\n"
     ]
    },
    {
     "name": "stdout",
     "output_type": "stream",
     "text": [
      "Iteration: \t22 / 150\n",
      "Confirmed: \t29\n",
      "Tentative: \t9\n",
      "Rejected: \t188\n"
     ]
    },
    {
     "name": "stderr",
     "output_type": "stream",
     "text": [
      "C:\\dev\\Anaconda3\\lib\\site-packages\\boruta\\boruta_py.py:418: RuntimeWarning: invalid value encountered in greater\n",
      "  hits = np.where(cur_imp[0] > imp_sha_max)[0]\n"
     ]
    },
    {
     "name": "stdout",
     "output_type": "stream",
     "text": [
      "Iteration: \t23 / 150\n",
      "Confirmed: \t29\n",
      "Tentative: \t9\n",
      "Rejected: \t188\n"
     ]
    },
    {
     "name": "stderr",
     "output_type": "stream",
     "text": [
      "C:\\dev\\Anaconda3\\lib\\site-packages\\boruta\\boruta_py.py:418: RuntimeWarning: invalid value encountered in greater\n",
      "  hits = np.where(cur_imp[0] > imp_sha_max)[0]\n"
     ]
    },
    {
     "name": "stdout",
     "output_type": "stream",
     "text": [
      "Iteration: \t24 / 150\n",
      "Confirmed: \t29\n",
      "Tentative: \t9\n",
      "Rejected: \t188\n"
     ]
    },
    {
     "name": "stderr",
     "output_type": "stream",
     "text": [
      "C:\\dev\\Anaconda3\\lib\\site-packages\\boruta\\boruta_py.py:418: RuntimeWarning: invalid value encountered in greater\n",
      "  hits = np.where(cur_imp[0] > imp_sha_max)[0]\n"
     ]
    },
    {
     "name": "stdout",
     "output_type": "stream",
     "text": [
      "Iteration: \t25 / 150\n",
      "Confirmed: \t29\n",
      "Tentative: \t9\n",
      "Rejected: \t188\n"
     ]
    },
    {
     "name": "stderr",
     "output_type": "stream",
     "text": [
      "C:\\dev\\Anaconda3\\lib\\site-packages\\boruta\\boruta_py.py:418: RuntimeWarning: invalid value encountered in greater\n",
      "  hits = np.where(cur_imp[0] > imp_sha_max)[0]\n"
     ]
    },
    {
     "name": "stdout",
     "output_type": "stream",
     "text": [
      "Iteration: \t26 / 150\n",
      "Confirmed: \t30\n",
      "Tentative: \t8\n",
      "Rejected: \t188\n"
     ]
    },
    {
     "name": "stderr",
     "output_type": "stream",
     "text": [
      "C:\\dev\\Anaconda3\\lib\\site-packages\\boruta\\boruta_py.py:418: RuntimeWarning: invalid value encountered in greater\n",
      "  hits = np.where(cur_imp[0] > imp_sha_max)[0]\n"
     ]
    },
    {
     "name": "stdout",
     "output_type": "stream",
     "text": [
      "Iteration: \t27 / 150\n",
      "Confirmed: \t30\n",
      "Tentative: \t8\n",
      "Rejected: \t188\n"
     ]
    },
    {
     "name": "stderr",
     "output_type": "stream",
     "text": [
      "C:\\dev\\Anaconda3\\lib\\site-packages\\boruta\\boruta_py.py:418: RuntimeWarning: invalid value encountered in greater\n",
      "  hits = np.where(cur_imp[0] > imp_sha_max)[0]\n"
     ]
    },
    {
     "name": "stdout",
     "output_type": "stream",
     "text": [
      "Iteration: \t28 / 150\n",
      "Confirmed: \t30\n",
      "Tentative: \t8\n",
      "Rejected: \t188\n"
     ]
    },
    {
     "name": "stderr",
     "output_type": "stream",
     "text": [
      "C:\\dev\\Anaconda3\\lib\\site-packages\\boruta\\boruta_py.py:418: RuntimeWarning: invalid value encountered in greater\n",
      "  hits = np.where(cur_imp[0] > imp_sha_max)[0]\n"
     ]
    },
    {
     "name": "stdout",
     "output_type": "stream",
     "text": [
      "Iteration: \t29 / 150\n",
      "Confirmed: \t30\n",
      "Tentative: \t6\n",
      "Rejected: \t190\n"
     ]
    },
    {
     "name": "stderr",
     "output_type": "stream",
     "text": [
      "C:\\dev\\Anaconda3\\lib\\site-packages\\boruta\\boruta_py.py:418: RuntimeWarning: invalid value encountered in greater\n",
      "  hits = np.where(cur_imp[0] > imp_sha_max)[0]\n"
     ]
    },
    {
     "name": "stdout",
     "output_type": "stream",
     "text": [
      "Iteration: \t30 / 150\n",
      "Confirmed: \t30\n",
      "Tentative: \t6\n",
      "Rejected: \t190\n"
     ]
    },
    {
     "name": "stderr",
     "output_type": "stream",
     "text": [
      "C:\\dev\\Anaconda3\\lib\\site-packages\\boruta\\boruta_py.py:418: RuntimeWarning: invalid value encountered in greater\n",
      "  hits = np.where(cur_imp[0] > imp_sha_max)[0]\n"
     ]
    },
    {
     "name": "stdout",
     "output_type": "stream",
     "text": [
      "Iteration: \t31 / 150\n",
      "Confirmed: \t30\n",
      "Tentative: \t6\n",
      "Rejected: \t190\n"
     ]
    },
    {
     "name": "stderr",
     "output_type": "stream",
     "text": [
      "C:\\dev\\Anaconda3\\lib\\site-packages\\boruta\\boruta_py.py:418: RuntimeWarning: invalid value encountered in greater\n",
      "  hits = np.where(cur_imp[0] > imp_sha_max)[0]\n"
     ]
    },
    {
     "name": "stdout",
     "output_type": "stream",
     "text": [
      "Iteration: \t32 / 150\n",
      "Confirmed: \t30\n",
      "Tentative: \t4\n",
      "Rejected: \t192\n"
     ]
    },
    {
     "name": "stderr",
     "output_type": "stream",
     "text": [
      "C:\\dev\\Anaconda3\\lib\\site-packages\\boruta\\boruta_py.py:418: RuntimeWarning: invalid value encountered in greater\n",
      "  hits = np.where(cur_imp[0] > imp_sha_max)[0]\n"
     ]
    },
    {
     "name": "stdout",
     "output_type": "stream",
     "text": [
      "Iteration: \t33 / 150\n",
      "Confirmed: \t30\n",
      "Tentative: \t4\n",
      "Rejected: \t192\n"
     ]
    },
    {
     "name": "stderr",
     "output_type": "stream",
     "text": [
      "C:\\dev\\Anaconda3\\lib\\site-packages\\boruta\\boruta_py.py:418: RuntimeWarning: invalid value encountered in greater\n",
      "  hits = np.where(cur_imp[0] > imp_sha_max)[0]\n"
     ]
    },
    {
     "name": "stdout",
     "output_type": "stream",
     "text": [
      "Iteration: \t34 / 150\n",
      "Confirmed: \t30\n",
      "Tentative: \t3\n",
      "Rejected: \t193\n"
     ]
    },
    {
     "name": "stderr",
     "output_type": "stream",
     "text": [
      "C:\\dev\\Anaconda3\\lib\\site-packages\\boruta\\boruta_py.py:418: RuntimeWarning: invalid value encountered in greater\n",
      "  hits = np.where(cur_imp[0] > imp_sha_max)[0]\n"
     ]
    },
    {
     "name": "stdout",
     "output_type": "stream",
     "text": [
      "Iteration: \t35 / 150\n",
      "Confirmed: \t30\n",
      "Tentative: \t3\n",
      "Rejected: \t193\n"
     ]
    },
    {
     "name": "stderr",
     "output_type": "stream",
     "text": [
      "C:\\dev\\Anaconda3\\lib\\site-packages\\boruta\\boruta_py.py:418: RuntimeWarning: invalid value encountered in greater\n",
      "  hits = np.where(cur_imp[0] > imp_sha_max)[0]\n"
     ]
    },
    {
     "name": "stdout",
     "output_type": "stream",
     "text": [
      "Iteration: \t36 / 150\n",
      "Confirmed: \t30\n",
      "Tentative: \t3\n",
      "Rejected: \t193\n"
     ]
    },
    {
     "name": "stderr",
     "output_type": "stream",
     "text": [
      "C:\\dev\\Anaconda3\\lib\\site-packages\\boruta\\boruta_py.py:418: RuntimeWarning: invalid value encountered in greater\n",
      "  hits = np.where(cur_imp[0] > imp_sha_max)[0]\n"
     ]
    },
    {
     "name": "stdout",
     "output_type": "stream",
     "text": [
      "Iteration: \t37 / 150\n",
      "Confirmed: \t30\n",
      "Tentative: \t3\n",
      "Rejected: \t193\n"
     ]
    },
    {
     "name": "stderr",
     "output_type": "stream",
     "text": [
      "C:\\dev\\Anaconda3\\lib\\site-packages\\boruta\\boruta_py.py:418: RuntimeWarning: invalid value encountered in greater\n",
      "  hits = np.where(cur_imp[0] > imp_sha_max)[0]\n"
     ]
    },
    {
     "name": "stdout",
     "output_type": "stream",
     "text": [
      "Iteration: \t38 / 150\n",
      "Confirmed: \t30\n",
      "Tentative: \t3\n",
      "Rejected: \t193\n"
     ]
    },
    {
     "name": "stderr",
     "output_type": "stream",
     "text": [
      "C:\\dev\\Anaconda3\\lib\\site-packages\\boruta\\boruta_py.py:418: RuntimeWarning: invalid value encountered in greater\n",
      "  hits = np.where(cur_imp[0] > imp_sha_max)[0]\n"
     ]
    },
    {
     "name": "stdout",
     "output_type": "stream",
     "text": [
      "Iteration: \t39 / 150\n",
      "Confirmed: \t30\n",
      "Tentative: \t3\n",
      "Rejected: \t193\n"
     ]
    },
    {
     "name": "stderr",
     "output_type": "stream",
     "text": [
      "C:\\dev\\Anaconda3\\lib\\site-packages\\boruta\\boruta_py.py:418: RuntimeWarning: invalid value encountered in greater\n",
      "  hits = np.where(cur_imp[0] > imp_sha_max)[0]\n"
     ]
    },
    {
     "name": "stdout",
     "output_type": "stream",
     "text": [
      "Iteration: \t40 / 150\n",
      "Confirmed: \t30\n",
      "Tentative: \t3\n",
      "Rejected: \t193\n"
     ]
    },
    {
     "name": "stderr",
     "output_type": "stream",
     "text": [
      "C:\\dev\\Anaconda3\\lib\\site-packages\\boruta\\boruta_py.py:418: RuntimeWarning: invalid value encountered in greater\n",
      "  hits = np.where(cur_imp[0] > imp_sha_max)[0]\n"
     ]
    },
    {
     "name": "stdout",
     "output_type": "stream",
     "text": [
      "Iteration: \t41 / 150\n",
      "Confirmed: \t30\n",
      "Tentative: \t3\n",
      "Rejected: \t193\n"
     ]
    },
    {
     "name": "stderr",
     "output_type": "stream",
     "text": [
      "C:\\dev\\Anaconda3\\lib\\site-packages\\boruta\\boruta_py.py:418: RuntimeWarning: invalid value encountered in greater\n",
      "  hits = np.where(cur_imp[0] > imp_sha_max)[0]\n"
     ]
    },
    {
     "name": "stdout",
     "output_type": "stream",
     "text": [
      "Iteration: \t42 / 150\n",
      "Confirmed: \t30\n",
      "Tentative: \t3\n",
      "Rejected: \t193\n"
     ]
    },
    {
     "name": "stderr",
     "output_type": "stream",
     "text": [
      "C:\\dev\\Anaconda3\\lib\\site-packages\\boruta\\boruta_py.py:418: RuntimeWarning: invalid value encountered in greater\n",
      "  hits = np.where(cur_imp[0] > imp_sha_max)[0]\n"
     ]
    },
    {
     "name": "stdout",
     "output_type": "stream",
     "text": [
      "Iteration: \t43 / 150\n",
      "Confirmed: \t30\n",
      "Tentative: \t3\n",
      "Rejected: \t193\n"
     ]
    },
    {
     "name": "stderr",
     "output_type": "stream",
     "text": [
      "C:\\dev\\Anaconda3\\lib\\site-packages\\boruta\\boruta_py.py:418: RuntimeWarning: invalid value encountered in greater\n",
      "  hits = np.where(cur_imp[0] > imp_sha_max)[0]\n"
     ]
    },
    {
     "name": "stdout",
     "output_type": "stream",
     "text": [
      "Iteration: \t44 / 150\n",
      "Confirmed: \t30\n",
      "Tentative: \t3\n",
      "Rejected: \t193\n"
     ]
    },
    {
     "name": "stderr",
     "output_type": "stream",
     "text": [
      "C:\\dev\\Anaconda3\\lib\\site-packages\\boruta\\boruta_py.py:418: RuntimeWarning: invalid value encountered in greater\n",
      "  hits = np.where(cur_imp[0] > imp_sha_max)[0]\n"
     ]
    },
    {
     "name": "stdout",
     "output_type": "stream",
     "text": [
      "Iteration: \t45 / 150\n",
      "Confirmed: \t30\n",
      "Tentative: \t3\n",
      "Rejected: \t193\n"
     ]
    },
    {
     "name": "stderr",
     "output_type": "stream",
     "text": [
      "C:\\dev\\Anaconda3\\lib\\site-packages\\boruta\\boruta_py.py:418: RuntimeWarning: invalid value encountered in greater\n",
      "  hits = np.where(cur_imp[0] > imp_sha_max)[0]\n"
     ]
    },
    {
     "name": "stdout",
     "output_type": "stream",
     "text": [
      "Iteration: \t46 / 150\n",
      "Confirmed: \t30\n",
      "Tentative: \t3\n",
      "Rejected: \t193\n"
     ]
    },
    {
     "name": "stderr",
     "output_type": "stream",
     "text": [
      "C:\\dev\\Anaconda3\\lib\\site-packages\\boruta\\boruta_py.py:418: RuntimeWarning: invalid value encountered in greater\n",
      "  hits = np.where(cur_imp[0] > imp_sha_max)[0]\n"
     ]
    },
    {
     "name": "stdout",
     "output_type": "stream",
     "text": [
      "Iteration: \t47 / 150\n",
      "Confirmed: \t30\n",
      "Tentative: \t3\n",
      "Rejected: \t193\n"
     ]
    },
    {
     "name": "stderr",
     "output_type": "stream",
     "text": [
      "C:\\dev\\Anaconda3\\lib\\site-packages\\boruta\\boruta_py.py:418: RuntimeWarning: invalid value encountered in greater\n",
      "  hits = np.where(cur_imp[0] > imp_sha_max)[0]\n"
     ]
    },
    {
     "name": "stdout",
     "output_type": "stream",
     "text": [
      "Iteration: \t48 / 150\n",
      "Confirmed: \t30\n",
      "Tentative: \t3\n",
      "Rejected: \t193\n"
     ]
    },
    {
     "name": "stderr",
     "output_type": "stream",
     "text": [
      "C:\\dev\\Anaconda3\\lib\\site-packages\\boruta\\boruta_py.py:418: RuntimeWarning: invalid value encountered in greater\n",
      "  hits = np.where(cur_imp[0] > imp_sha_max)[0]\n"
     ]
    },
    {
     "name": "stdout",
     "output_type": "stream",
     "text": [
      "Iteration: \t49 / 150\n",
      "Confirmed: \t30\n",
      "Tentative: \t3\n",
      "Rejected: \t193\n"
     ]
    },
    {
     "name": "stderr",
     "output_type": "stream",
     "text": [
      "C:\\dev\\Anaconda3\\lib\\site-packages\\boruta\\boruta_py.py:418: RuntimeWarning: invalid value encountered in greater\n",
      "  hits = np.where(cur_imp[0] > imp_sha_max)[0]\n"
     ]
    },
    {
     "name": "stdout",
     "output_type": "stream",
     "text": [
      "Iteration: \t50 / 150\n",
      "Confirmed: \t30\n",
      "Tentative: \t3\n",
      "Rejected: \t193\n"
     ]
    },
    {
     "name": "stderr",
     "output_type": "stream",
     "text": [
      "C:\\dev\\Anaconda3\\lib\\site-packages\\boruta\\boruta_py.py:418: RuntimeWarning: invalid value encountered in greater\n",
      "  hits = np.where(cur_imp[0] > imp_sha_max)[0]\n"
     ]
    },
    {
     "name": "stdout",
     "output_type": "stream",
     "text": [
      "Iteration: \t51 / 150\n",
      "Confirmed: \t30\n",
      "Tentative: \t3\n",
      "Rejected: \t193\n"
     ]
    },
    {
     "name": "stderr",
     "output_type": "stream",
     "text": [
      "C:\\dev\\Anaconda3\\lib\\site-packages\\boruta\\boruta_py.py:418: RuntimeWarning: invalid value encountered in greater\n",
      "  hits = np.where(cur_imp[0] > imp_sha_max)[0]\n"
     ]
    },
    {
     "name": "stdout",
     "output_type": "stream",
     "text": [
      "Iteration: \t52 / 150\n",
      "Confirmed: \t30\n",
      "Tentative: \t3\n",
      "Rejected: \t193\n"
     ]
    },
    {
     "name": "stderr",
     "output_type": "stream",
     "text": [
      "C:\\dev\\Anaconda3\\lib\\site-packages\\boruta\\boruta_py.py:418: RuntimeWarning: invalid value encountered in greater\n",
      "  hits = np.where(cur_imp[0] > imp_sha_max)[0]\n"
     ]
    },
    {
     "name": "stdout",
     "output_type": "stream",
     "text": [
      "Iteration: \t53 / 150\n",
      "Confirmed: \t30\n",
      "Tentative: \t3\n",
      "Rejected: \t193\n"
     ]
    },
    {
     "name": "stderr",
     "output_type": "stream",
     "text": [
      "C:\\dev\\Anaconda3\\lib\\site-packages\\boruta\\boruta_py.py:418: RuntimeWarning: invalid value encountered in greater\n",
      "  hits = np.where(cur_imp[0] > imp_sha_max)[0]\n"
     ]
    },
    {
     "name": "stdout",
     "output_type": "stream",
     "text": [
      "Iteration: \t54 / 150\n",
      "Confirmed: \t30\n",
      "Tentative: \t3\n",
      "Rejected: \t193\n"
     ]
    },
    {
     "name": "stderr",
     "output_type": "stream",
     "text": [
      "C:\\dev\\Anaconda3\\lib\\site-packages\\boruta\\boruta_py.py:418: RuntimeWarning: invalid value encountered in greater\n",
      "  hits = np.where(cur_imp[0] > imp_sha_max)[0]\n"
     ]
    },
    {
     "name": "stdout",
     "output_type": "stream",
     "text": [
      "Iteration: \t55 / 150\n",
      "Confirmed: \t30\n",
      "Tentative: \t3\n",
      "Rejected: \t193\n"
     ]
    },
    {
     "name": "stderr",
     "output_type": "stream",
     "text": [
      "C:\\dev\\Anaconda3\\lib\\site-packages\\boruta\\boruta_py.py:418: RuntimeWarning: invalid value encountered in greater\n",
      "  hits = np.where(cur_imp[0] > imp_sha_max)[0]\n"
     ]
    },
    {
     "name": "stdout",
     "output_type": "stream",
     "text": [
      "Iteration: \t56 / 150\n",
      "Confirmed: \t30\n",
      "Tentative: \t3\n",
      "Rejected: \t193\n"
     ]
    },
    {
     "name": "stderr",
     "output_type": "stream",
     "text": [
      "C:\\dev\\Anaconda3\\lib\\site-packages\\boruta\\boruta_py.py:418: RuntimeWarning: invalid value encountered in greater\n",
      "  hits = np.where(cur_imp[0] > imp_sha_max)[0]\n"
     ]
    },
    {
     "name": "stdout",
     "output_type": "stream",
     "text": [
      "Iteration: \t57 / 150\n",
      "Confirmed: \t30\n",
      "Tentative: \t3\n",
      "Rejected: \t193\n"
     ]
    },
    {
     "name": "stderr",
     "output_type": "stream",
     "text": [
      "C:\\dev\\Anaconda3\\lib\\site-packages\\boruta\\boruta_py.py:418: RuntimeWarning: invalid value encountered in greater\n",
      "  hits = np.where(cur_imp[0] > imp_sha_max)[0]\n"
     ]
    },
    {
     "name": "stdout",
     "output_type": "stream",
     "text": [
      "Iteration: \t58 / 150\n",
      "Confirmed: \t30\n",
      "Tentative: \t3\n",
      "Rejected: \t193\n"
     ]
    },
    {
     "name": "stderr",
     "output_type": "stream",
     "text": [
      "C:\\dev\\Anaconda3\\lib\\site-packages\\boruta\\boruta_py.py:418: RuntimeWarning: invalid value encountered in greater\n",
      "  hits = np.where(cur_imp[0] > imp_sha_max)[0]\n"
     ]
    },
    {
     "name": "stdout",
     "output_type": "stream",
     "text": [
      "Iteration: \t59 / 150\n",
      "Confirmed: \t30\n",
      "Tentative: \t2\n",
      "Rejected: \t194\n"
     ]
    },
    {
     "name": "stderr",
     "output_type": "stream",
     "text": [
      "C:\\dev\\Anaconda3\\lib\\site-packages\\boruta\\boruta_py.py:418: RuntimeWarning: invalid value encountered in greater\n",
      "  hits = np.where(cur_imp[0] > imp_sha_max)[0]\n"
     ]
    },
    {
     "name": "stdout",
     "output_type": "stream",
     "text": [
      "Iteration: \t60 / 150\n",
      "Confirmed: \t30\n",
      "Tentative: \t2\n",
      "Rejected: \t194\n"
     ]
    },
    {
     "name": "stderr",
     "output_type": "stream",
     "text": [
      "C:\\dev\\Anaconda3\\lib\\site-packages\\boruta\\boruta_py.py:418: RuntimeWarning: invalid value encountered in greater\n",
      "  hits = np.where(cur_imp[0] > imp_sha_max)[0]\n"
     ]
    },
    {
     "name": "stdout",
     "output_type": "stream",
     "text": [
      "Iteration: \t61 / 150\n",
      "Confirmed: \t30\n",
      "Tentative: \t2\n",
      "Rejected: \t194\n"
     ]
    },
    {
     "name": "stderr",
     "output_type": "stream",
     "text": [
      "C:\\dev\\Anaconda3\\lib\\site-packages\\boruta\\boruta_py.py:418: RuntimeWarning: invalid value encountered in greater\n",
      "  hits = np.where(cur_imp[0] > imp_sha_max)[0]\n"
     ]
    },
    {
     "name": "stdout",
     "output_type": "stream",
     "text": [
      "Iteration: \t62 / 150\n",
      "Confirmed: \t30\n",
      "Tentative: \t2\n",
      "Rejected: \t194\n"
     ]
    },
    {
     "name": "stderr",
     "output_type": "stream",
     "text": [
      "C:\\dev\\Anaconda3\\lib\\site-packages\\boruta\\boruta_py.py:418: RuntimeWarning: invalid value encountered in greater\n",
      "  hits = np.where(cur_imp[0] > imp_sha_max)[0]\n"
     ]
    },
    {
     "name": "stdout",
     "output_type": "stream",
     "text": [
      "Iteration: \t63 / 150\n",
      "Confirmed: \t30\n",
      "Tentative: \t2\n",
      "Rejected: \t194\n"
     ]
    },
    {
     "name": "stderr",
     "output_type": "stream",
     "text": [
      "C:\\dev\\Anaconda3\\lib\\site-packages\\boruta\\boruta_py.py:418: RuntimeWarning: invalid value encountered in greater\n",
      "  hits = np.where(cur_imp[0] > imp_sha_max)[0]\n"
     ]
    },
    {
     "name": "stdout",
     "output_type": "stream",
     "text": [
      "Iteration: \t64 / 150\n",
      "Confirmed: \t30\n",
      "Tentative: \t2\n",
      "Rejected: \t194\n"
     ]
    },
    {
     "name": "stderr",
     "output_type": "stream",
     "text": [
      "C:\\dev\\Anaconda3\\lib\\site-packages\\boruta\\boruta_py.py:418: RuntimeWarning: invalid value encountered in greater\n",
      "  hits = np.where(cur_imp[0] > imp_sha_max)[0]\n"
     ]
    },
    {
     "name": "stdout",
     "output_type": "stream",
     "text": [
      "Iteration: \t65 / 150\n",
      "Confirmed: \t30\n",
      "Tentative: \t2\n",
      "Rejected: \t194\n"
     ]
    },
    {
     "name": "stderr",
     "output_type": "stream",
     "text": [
      "C:\\dev\\Anaconda3\\lib\\site-packages\\boruta\\boruta_py.py:418: RuntimeWarning: invalid value encountered in greater\n",
      "  hits = np.where(cur_imp[0] > imp_sha_max)[0]\n"
     ]
    },
    {
     "name": "stdout",
     "output_type": "stream",
     "text": [
      "Iteration: \t66 / 150\n",
      "Confirmed: \t30\n",
      "Tentative: \t2\n",
      "Rejected: \t194\n"
     ]
    },
    {
     "name": "stderr",
     "output_type": "stream",
     "text": [
      "C:\\dev\\Anaconda3\\lib\\site-packages\\boruta\\boruta_py.py:418: RuntimeWarning: invalid value encountered in greater\n",
      "  hits = np.where(cur_imp[0] > imp_sha_max)[0]\n"
     ]
    },
    {
     "name": "stdout",
     "output_type": "stream",
     "text": [
      "Iteration: \t67 / 150\n",
      "Confirmed: \t30\n",
      "Tentative: \t2\n",
      "Rejected: \t194\n"
     ]
    },
    {
     "name": "stderr",
     "output_type": "stream",
     "text": [
      "C:\\dev\\Anaconda3\\lib\\site-packages\\boruta\\boruta_py.py:418: RuntimeWarning: invalid value encountered in greater\n",
      "  hits = np.where(cur_imp[0] > imp_sha_max)[0]\n"
     ]
    },
    {
     "name": "stdout",
     "output_type": "stream",
     "text": [
      "Iteration: \t68 / 150\n",
      "Confirmed: \t30\n",
      "Tentative: \t2\n",
      "Rejected: \t194\n"
     ]
    },
    {
     "name": "stderr",
     "output_type": "stream",
     "text": [
      "C:\\dev\\Anaconda3\\lib\\site-packages\\boruta\\boruta_py.py:418: RuntimeWarning: invalid value encountered in greater\n",
      "  hits = np.where(cur_imp[0] > imp_sha_max)[0]\n"
     ]
    },
    {
     "name": "stdout",
     "output_type": "stream",
     "text": [
      "Iteration: \t69 / 150\n",
      "Confirmed: \t30\n",
      "Tentative: \t2\n",
      "Rejected: \t194\n"
     ]
    },
    {
     "name": "stderr",
     "output_type": "stream",
     "text": [
      "C:\\dev\\Anaconda3\\lib\\site-packages\\boruta\\boruta_py.py:418: RuntimeWarning: invalid value encountered in greater\n",
      "  hits = np.where(cur_imp[0] > imp_sha_max)[0]\n"
     ]
    },
    {
     "name": "stdout",
     "output_type": "stream",
     "text": [
      "Iteration: \t70 / 150\n",
      "Confirmed: \t30\n",
      "Tentative: \t2\n",
      "Rejected: \t194\n"
     ]
    },
    {
     "name": "stderr",
     "output_type": "stream",
     "text": [
      "C:\\dev\\Anaconda3\\lib\\site-packages\\boruta\\boruta_py.py:418: RuntimeWarning: invalid value encountered in greater\n",
      "  hits = np.where(cur_imp[0] > imp_sha_max)[0]\n"
     ]
    },
    {
     "name": "stdout",
     "output_type": "stream",
     "text": [
      "Iteration: \t71 / 150\n",
      "Confirmed: \t30\n",
      "Tentative: \t2\n",
      "Rejected: \t194\n"
     ]
    },
    {
     "name": "stderr",
     "output_type": "stream",
     "text": [
      "C:\\dev\\Anaconda3\\lib\\site-packages\\boruta\\boruta_py.py:418: RuntimeWarning: invalid value encountered in greater\n",
      "  hits = np.where(cur_imp[0] > imp_sha_max)[0]\n"
     ]
    },
    {
     "name": "stdout",
     "output_type": "stream",
     "text": [
      "Iteration: \t72 / 150\n",
      "Confirmed: \t30\n",
      "Tentative: \t2\n",
      "Rejected: \t194\n"
     ]
    },
    {
     "name": "stderr",
     "output_type": "stream",
     "text": [
      "C:\\dev\\Anaconda3\\lib\\site-packages\\boruta\\boruta_py.py:418: RuntimeWarning: invalid value encountered in greater\n",
      "  hits = np.where(cur_imp[0] > imp_sha_max)[0]\n"
     ]
    },
    {
     "name": "stdout",
     "output_type": "stream",
     "text": [
      "Iteration: \t73 / 150\n",
      "Confirmed: \t30\n",
      "Tentative: \t2\n",
      "Rejected: \t194\n"
     ]
    },
    {
     "name": "stderr",
     "output_type": "stream",
     "text": [
      "C:\\dev\\Anaconda3\\lib\\site-packages\\boruta\\boruta_py.py:418: RuntimeWarning: invalid value encountered in greater\n",
      "  hits = np.where(cur_imp[0] > imp_sha_max)[0]\n"
     ]
    },
    {
     "name": "stdout",
     "output_type": "stream",
     "text": [
      "Iteration: \t74 / 150\n",
      "Confirmed: \t30\n",
      "Tentative: \t2\n",
      "Rejected: \t194\n"
     ]
    },
    {
     "name": "stderr",
     "output_type": "stream",
     "text": [
      "C:\\dev\\Anaconda3\\lib\\site-packages\\boruta\\boruta_py.py:418: RuntimeWarning: invalid value encountered in greater\n",
      "  hits = np.where(cur_imp[0] > imp_sha_max)[0]\n"
     ]
    },
    {
     "name": "stdout",
     "output_type": "stream",
     "text": [
      "Iteration: \t75 / 150\n",
      "Confirmed: \t30\n",
      "Tentative: \t2\n",
      "Rejected: \t194\n"
     ]
    },
    {
     "name": "stderr",
     "output_type": "stream",
     "text": [
      "C:\\dev\\Anaconda3\\lib\\site-packages\\boruta\\boruta_py.py:418: RuntimeWarning: invalid value encountered in greater\n",
      "  hits = np.where(cur_imp[0] > imp_sha_max)[0]\n"
     ]
    },
    {
     "name": "stdout",
     "output_type": "stream",
     "text": [
      "Iteration: \t76 / 150\n",
      "Confirmed: \t30\n",
      "Tentative: \t2\n",
      "Rejected: \t194\n"
     ]
    },
    {
     "name": "stderr",
     "output_type": "stream",
     "text": [
      "C:\\dev\\Anaconda3\\lib\\site-packages\\boruta\\boruta_py.py:418: RuntimeWarning: invalid value encountered in greater\n",
      "  hits = np.where(cur_imp[0] > imp_sha_max)[0]\n"
     ]
    },
    {
     "name": "stdout",
     "output_type": "stream",
     "text": [
      "Iteration: \t77 / 150\n",
      "Confirmed: \t30\n",
      "Tentative: \t2\n",
      "Rejected: \t194\n"
     ]
    },
    {
     "name": "stderr",
     "output_type": "stream",
     "text": [
      "C:\\dev\\Anaconda3\\lib\\site-packages\\boruta\\boruta_py.py:418: RuntimeWarning: invalid value encountered in greater\n",
      "  hits = np.where(cur_imp[0] > imp_sha_max)[0]\n"
     ]
    },
    {
     "name": "stdout",
     "output_type": "stream",
     "text": [
      "Iteration: \t78 / 150\n",
      "Confirmed: \t30\n",
      "Tentative: \t2\n",
      "Rejected: \t194\n"
     ]
    },
    {
     "name": "stderr",
     "output_type": "stream",
     "text": [
      "C:\\dev\\Anaconda3\\lib\\site-packages\\boruta\\boruta_py.py:418: RuntimeWarning: invalid value encountered in greater\n",
      "  hits = np.where(cur_imp[0] > imp_sha_max)[0]\n"
     ]
    },
    {
     "name": "stdout",
     "output_type": "stream",
     "text": [
      "Iteration: \t79 / 150\n",
      "Confirmed: \t30\n",
      "Tentative: \t2\n",
      "Rejected: \t194\n"
     ]
    },
    {
     "name": "stderr",
     "output_type": "stream",
     "text": [
      "C:\\dev\\Anaconda3\\lib\\site-packages\\boruta\\boruta_py.py:418: RuntimeWarning: invalid value encountered in greater\n",
      "  hits = np.where(cur_imp[0] > imp_sha_max)[0]\n"
     ]
    },
    {
     "name": "stdout",
     "output_type": "stream",
     "text": [
      "Iteration: \t80 / 150\n",
      "Confirmed: \t30\n",
      "Tentative: \t2\n",
      "Rejected: \t194\n"
     ]
    },
    {
     "name": "stderr",
     "output_type": "stream",
     "text": [
      "C:\\dev\\Anaconda3\\lib\\site-packages\\boruta\\boruta_py.py:418: RuntimeWarning: invalid value encountered in greater\n",
      "  hits = np.where(cur_imp[0] > imp_sha_max)[0]\n"
     ]
    },
    {
     "name": "stdout",
     "output_type": "stream",
     "text": [
      "Iteration: \t81 / 150\n",
      "Confirmed: \t30\n",
      "Tentative: \t2\n",
      "Rejected: \t194\n"
     ]
    },
    {
     "name": "stderr",
     "output_type": "stream",
     "text": [
      "C:\\dev\\Anaconda3\\lib\\site-packages\\boruta\\boruta_py.py:418: RuntimeWarning: invalid value encountered in greater\n",
      "  hits = np.where(cur_imp[0] > imp_sha_max)[0]\n"
     ]
    },
    {
     "name": "stdout",
     "output_type": "stream",
     "text": [
      "Iteration: \t82 / 150\n",
      "Confirmed: \t30\n",
      "Tentative: \t2\n",
      "Rejected: \t194\n"
     ]
    },
    {
     "name": "stderr",
     "output_type": "stream",
     "text": [
      "C:\\dev\\Anaconda3\\lib\\site-packages\\boruta\\boruta_py.py:418: RuntimeWarning: invalid value encountered in greater\n",
      "  hits = np.where(cur_imp[0] > imp_sha_max)[0]\n"
     ]
    },
    {
     "name": "stdout",
     "output_type": "stream",
     "text": [
      "Iteration: \t83 / 150\n",
      "Confirmed: \t30\n",
      "Tentative: \t2\n",
      "Rejected: \t194\n"
     ]
    },
    {
     "name": "stderr",
     "output_type": "stream",
     "text": [
      "C:\\dev\\Anaconda3\\lib\\site-packages\\boruta\\boruta_py.py:418: RuntimeWarning: invalid value encountered in greater\n",
      "  hits = np.where(cur_imp[0] > imp_sha_max)[0]\n"
     ]
    },
    {
     "name": "stdout",
     "output_type": "stream",
     "text": [
      "Iteration: \t84 / 150\n",
      "Confirmed: \t30\n",
      "Tentative: \t2\n",
      "Rejected: \t194\n"
     ]
    },
    {
     "name": "stderr",
     "output_type": "stream",
     "text": [
      "C:\\dev\\Anaconda3\\lib\\site-packages\\boruta\\boruta_py.py:418: RuntimeWarning: invalid value encountered in greater\n",
      "  hits = np.where(cur_imp[0] > imp_sha_max)[0]\n"
     ]
    },
    {
     "name": "stdout",
     "output_type": "stream",
     "text": [
      "Iteration: \t85 / 150\n",
      "Confirmed: \t30\n",
      "Tentative: \t2\n",
      "Rejected: \t194\n"
     ]
    },
    {
     "name": "stderr",
     "output_type": "stream",
     "text": [
      "C:\\dev\\Anaconda3\\lib\\site-packages\\boruta\\boruta_py.py:418: RuntimeWarning: invalid value encountered in greater\n",
      "  hits = np.where(cur_imp[0] > imp_sha_max)[0]\n"
     ]
    },
    {
     "name": "stdout",
     "output_type": "stream",
     "text": [
      "Iteration: \t86 / 150\n",
      "Confirmed: \t30\n",
      "Tentative: \t2\n",
      "Rejected: \t194\n"
     ]
    },
    {
     "name": "stderr",
     "output_type": "stream",
     "text": [
      "C:\\dev\\Anaconda3\\lib\\site-packages\\boruta\\boruta_py.py:418: RuntimeWarning: invalid value encountered in greater\n",
      "  hits = np.where(cur_imp[0] > imp_sha_max)[0]\n"
     ]
    },
    {
     "name": "stdout",
     "output_type": "stream",
     "text": [
      "Iteration: \t87 / 150\n",
      "Confirmed: \t30\n",
      "Tentative: \t2\n",
      "Rejected: \t194\n"
     ]
    },
    {
     "name": "stderr",
     "output_type": "stream",
     "text": [
      "C:\\dev\\Anaconda3\\lib\\site-packages\\boruta\\boruta_py.py:418: RuntimeWarning: invalid value encountered in greater\n",
      "  hits = np.where(cur_imp[0] > imp_sha_max)[0]\n"
     ]
    },
    {
     "name": "stdout",
     "output_type": "stream",
     "text": [
      "Iteration: \t88 / 150\n",
      "Confirmed: \t30\n",
      "Tentative: \t2\n",
      "Rejected: \t194\n"
     ]
    },
    {
     "name": "stderr",
     "output_type": "stream",
     "text": [
      "C:\\dev\\Anaconda3\\lib\\site-packages\\boruta\\boruta_py.py:418: RuntimeWarning: invalid value encountered in greater\n",
      "  hits = np.where(cur_imp[0] > imp_sha_max)[0]\n"
     ]
    },
    {
     "name": "stdout",
     "output_type": "stream",
     "text": [
      "Iteration: \t89 / 150\n",
      "Confirmed: \t30\n",
      "Tentative: \t2\n",
      "Rejected: \t194\n"
     ]
    },
    {
     "name": "stderr",
     "output_type": "stream",
     "text": [
      "C:\\dev\\Anaconda3\\lib\\site-packages\\boruta\\boruta_py.py:418: RuntimeWarning: invalid value encountered in greater\n",
      "  hits = np.where(cur_imp[0] > imp_sha_max)[0]\n"
     ]
    },
    {
     "name": "stdout",
     "output_type": "stream",
     "text": [
      "Iteration: \t90 / 150\n",
      "Confirmed: \t30\n",
      "Tentative: \t1\n",
      "Rejected: \t195\n"
     ]
    },
    {
     "name": "stderr",
     "output_type": "stream",
     "text": [
      "C:\\dev\\Anaconda3\\lib\\site-packages\\boruta\\boruta_py.py:418: RuntimeWarning: invalid value encountered in greater\n",
      "  hits = np.where(cur_imp[0] > imp_sha_max)[0]\n"
     ]
    },
    {
     "name": "stdout",
     "output_type": "stream",
     "text": [
      "Iteration: \t91 / 150\n",
      "Confirmed: \t30\n",
      "Tentative: \t1\n",
      "Rejected: \t195\n"
     ]
    },
    {
     "name": "stderr",
     "output_type": "stream",
     "text": [
      "C:\\dev\\Anaconda3\\lib\\site-packages\\boruta\\boruta_py.py:418: RuntimeWarning: invalid value encountered in greater\n",
      "  hits = np.where(cur_imp[0] > imp_sha_max)[0]\n"
     ]
    },
    {
     "name": "stdout",
     "output_type": "stream",
     "text": [
      "Iteration: \t92 / 150\n",
      "Confirmed: \t30\n",
      "Tentative: \t1\n",
      "Rejected: \t195\n"
     ]
    },
    {
     "name": "stderr",
     "output_type": "stream",
     "text": [
      "C:\\dev\\Anaconda3\\lib\\site-packages\\boruta\\boruta_py.py:418: RuntimeWarning: invalid value encountered in greater\n",
      "  hits = np.where(cur_imp[0] > imp_sha_max)[0]\n"
     ]
    },
    {
     "name": "stdout",
     "output_type": "stream",
     "text": [
      "Iteration: \t93 / 150\n",
      "Confirmed: \t30\n",
      "Tentative: \t1\n",
      "Rejected: \t195\n"
     ]
    },
    {
     "name": "stderr",
     "output_type": "stream",
     "text": [
      "C:\\dev\\Anaconda3\\lib\\site-packages\\boruta\\boruta_py.py:418: RuntimeWarning: invalid value encountered in greater\n",
      "  hits = np.where(cur_imp[0] > imp_sha_max)[0]\n"
     ]
    },
    {
     "name": "stdout",
     "output_type": "stream",
     "text": [
      "Iteration: \t94 / 150\n",
      "Confirmed: \t30\n",
      "Tentative: \t1\n",
      "Rejected: \t195\n"
     ]
    },
    {
     "name": "stderr",
     "output_type": "stream",
     "text": [
      "C:\\dev\\Anaconda3\\lib\\site-packages\\boruta\\boruta_py.py:418: RuntimeWarning: invalid value encountered in greater\n",
      "  hits = np.where(cur_imp[0] > imp_sha_max)[0]\n"
     ]
    },
    {
     "name": "stdout",
     "output_type": "stream",
     "text": [
      "Iteration: \t95 / 150\n",
      "Confirmed: \t30\n",
      "Tentative: \t1\n",
      "Rejected: \t195\n"
     ]
    },
    {
     "name": "stderr",
     "output_type": "stream",
     "text": [
      "C:\\dev\\Anaconda3\\lib\\site-packages\\boruta\\boruta_py.py:418: RuntimeWarning: invalid value encountered in greater\n",
      "  hits = np.where(cur_imp[0] > imp_sha_max)[0]\n"
     ]
    },
    {
     "name": "stdout",
     "output_type": "stream",
     "text": [
      "Iteration: \t96 / 150\n",
      "Confirmed: \t30\n",
      "Tentative: \t1\n",
      "Rejected: \t195\n"
     ]
    },
    {
     "name": "stderr",
     "output_type": "stream",
     "text": [
      "C:\\dev\\Anaconda3\\lib\\site-packages\\boruta\\boruta_py.py:418: RuntimeWarning: invalid value encountered in greater\n",
      "  hits = np.where(cur_imp[0] > imp_sha_max)[0]\n"
     ]
    },
    {
     "name": "stdout",
     "output_type": "stream",
     "text": [
      "Iteration: \t97 / 150\n",
      "Confirmed: \t30\n",
      "Tentative: \t1\n",
      "Rejected: \t195\n"
     ]
    },
    {
     "name": "stderr",
     "output_type": "stream",
     "text": [
      "C:\\dev\\Anaconda3\\lib\\site-packages\\boruta\\boruta_py.py:418: RuntimeWarning: invalid value encountered in greater\n",
      "  hits = np.where(cur_imp[0] > imp_sha_max)[0]\n"
     ]
    },
    {
     "name": "stdout",
     "output_type": "stream",
     "text": [
      "Iteration: \t98 / 150\n",
      "Confirmed: \t30\n",
      "Tentative: \t1\n",
      "Rejected: \t195\n"
     ]
    },
    {
     "name": "stderr",
     "output_type": "stream",
     "text": [
      "C:\\dev\\Anaconda3\\lib\\site-packages\\boruta\\boruta_py.py:418: RuntimeWarning: invalid value encountered in greater\n",
      "  hits = np.where(cur_imp[0] > imp_sha_max)[0]\n"
     ]
    },
    {
     "name": "stdout",
     "output_type": "stream",
     "text": [
      "Iteration: \t99 / 150\n",
      "Confirmed: \t30\n",
      "Tentative: \t1\n",
      "Rejected: \t195\n"
     ]
    },
    {
     "name": "stderr",
     "output_type": "stream",
     "text": [
      "C:\\dev\\Anaconda3\\lib\\site-packages\\boruta\\boruta_py.py:418: RuntimeWarning: invalid value encountered in greater\n",
      "  hits = np.where(cur_imp[0] > imp_sha_max)[0]\n"
     ]
    },
    {
     "name": "stdout",
     "output_type": "stream",
     "text": [
      "Iteration: \t100 / 150\n",
      "Confirmed: \t30\n",
      "Tentative: \t1\n",
      "Rejected: \t195\n"
     ]
    },
    {
     "name": "stderr",
     "output_type": "stream",
     "text": [
      "C:\\dev\\Anaconda3\\lib\\site-packages\\boruta\\boruta_py.py:418: RuntimeWarning: invalid value encountered in greater\n",
      "  hits = np.where(cur_imp[0] > imp_sha_max)[0]\n"
     ]
    },
    {
     "name": "stdout",
     "output_type": "stream",
     "text": [
      "Iteration: \t101 / 150\n",
      "Confirmed: \t30\n",
      "Tentative: \t1\n",
      "Rejected: \t195\n"
     ]
    },
    {
     "name": "stderr",
     "output_type": "stream",
     "text": [
      "C:\\dev\\Anaconda3\\lib\\site-packages\\boruta\\boruta_py.py:418: RuntimeWarning: invalid value encountered in greater\n",
      "  hits = np.where(cur_imp[0] > imp_sha_max)[0]\n"
     ]
    },
    {
     "name": "stdout",
     "output_type": "stream",
     "text": [
      "Iteration: \t102 / 150\n",
      "Confirmed: \t30\n",
      "Tentative: \t1\n",
      "Rejected: \t195\n"
     ]
    },
    {
     "name": "stderr",
     "output_type": "stream",
     "text": [
      "C:\\dev\\Anaconda3\\lib\\site-packages\\boruta\\boruta_py.py:418: RuntimeWarning: invalid value encountered in greater\n",
      "  hits = np.where(cur_imp[0] > imp_sha_max)[0]\n"
     ]
    },
    {
     "name": "stdout",
     "output_type": "stream",
     "text": [
      "Iteration: \t103 / 150\n",
      "Confirmed: \t30\n",
      "Tentative: \t1\n",
      "Rejected: \t195\n"
     ]
    },
    {
     "name": "stderr",
     "output_type": "stream",
     "text": [
      "C:\\dev\\Anaconda3\\lib\\site-packages\\boruta\\boruta_py.py:418: RuntimeWarning: invalid value encountered in greater\n",
      "  hits = np.where(cur_imp[0] > imp_sha_max)[0]\n"
     ]
    },
    {
     "name": "stdout",
     "output_type": "stream",
     "text": [
      "Iteration: \t104 / 150\n",
      "Confirmed: \t30\n",
      "Tentative: \t1\n",
      "Rejected: \t195\n"
     ]
    },
    {
     "name": "stderr",
     "output_type": "stream",
     "text": [
      "C:\\dev\\Anaconda3\\lib\\site-packages\\boruta\\boruta_py.py:418: RuntimeWarning: invalid value encountered in greater\n",
      "  hits = np.where(cur_imp[0] > imp_sha_max)[0]\n"
     ]
    },
    {
     "name": "stdout",
     "output_type": "stream",
     "text": [
      "Iteration: \t105 / 150\n",
      "Confirmed: \t30\n",
      "Tentative: \t1\n",
      "Rejected: \t195\n"
     ]
    },
    {
     "name": "stderr",
     "output_type": "stream",
     "text": [
      "C:\\dev\\Anaconda3\\lib\\site-packages\\boruta\\boruta_py.py:418: RuntimeWarning: invalid value encountered in greater\n",
      "  hits = np.where(cur_imp[0] > imp_sha_max)[0]\n"
     ]
    },
    {
     "name": "stdout",
     "output_type": "stream",
     "text": [
      "Iteration: \t106 / 150\n",
      "Confirmed: \t30\n",
      "Tentative: \t1\n",
      "Rejected: \t195\n"
     ]
    },
    {
     "name": "stderr",
     "output_type": "stream",
     "text": [
      "C:\\dev\\Anaconda3\\lib\\site-packages\\boruta\\boruta_py.py:418: RuntimeWarning: invalid value encountered in greater\n",
      "  hits = np.where(cur_imp[0] > imp_sha_max)[0]\n"
     ]
    },
    {
     "name": "stdout",
     "output_type": "stream",
     "text": [
      "Iteration: \t107 / 150\n",
      "Confirmed: \t30\n",
      "Tentative: \t1\n",
      "Rejected: \t195\n"
     ]
    },
    {
     "name": "stderr",
     "output_type": "stream",
     "text": [
      "C:\\dev\\Anaconda3\\lib\\site-packages\\boruta\\boruta_py.py:418: RuntimeWarning: invalid value encountered in greater\n",
      "  hits = np.where(cur_imp[0] > imp_sha_max)[0]\n"
     ]
    },
    {
     "name": "stdout",
     "output_type": "stream",
     "text": [
      "Iteration: \t108 / 150\n",
      "Confirmed: \t30\n",
      "Tentative: \t1\n",
      "Rejected: \t195\n"
     ]
    },
    {
     "name": "stderr",
     "output_type": "stream",
     "text": [
      "C:\\dev\\Anaconda3\\lib\\site-packages\\boruta\\boruta_py.py:418: RuntimeWarning: invalid value encountered in greater\n",
      "  hits = np.where(cur_imp[0] > imp_sha_max)[0]\n"
     ]
    },
    {
     "name": "stdout",
     "output_type": "stream",
     "text": [
      "Iteration: \t109 / 150\n",
      "Confirmed: \t30\n",
      "Tentative: \t1\n",
      "Rejected: \t195\n"
     ]
    },
    {
     "name": "stderr",
     "output_type": "stream",
     "text": [
      "C:\\dev\\Anaconda3\\lib\\site-packages\\boruta\\boruta_py.py:418: RuntimeWarning: invalid value encountered in greater\n",
      "  hits = np.where(cur_imp[0] > imp_sha_max)[0]\n"
     ]
    },
    {
     "name": "stdout",
     "output_type": "stream",
     "text": [
      "Iteration: \t110 / 150\n",
      "Confirmed: \t30\n",
      "Tentative: \t1\n",
      "Rejected: \t195\n"
     ]
    },
    {
     "name": "stderr",
     "output_type": "stream",
     "text": [
      "C:\\dev\\Anaconda3\\lib\\site-packages\\boruta\\boruta_py.py:418: RuntimeWarning: invalid value encountered in greater\n",
      "  hits = np.where(cur_imp[0] > imp_sha_max)[0]\n"
     ]
    },
    {
     "name": "stdout",
     "output_type": "stream",
     "text": [
      "Iteration: \t111 / 150\n",
      "Confirmed: \t30\n",
      "Tentative: \t1\n",
      "Rejected: \t195\n"
     ]
    },
    {
     "name": "stderr",
     "output_type": "stream",
     "text": [
      "C:\\dev\\Anaconda3\\lib\\site-packages\\boruta\\boruta_py.py:418: RuntimeWarning: invalid value encountered in greater\n",
      "  hits = np.where(cur_imp[0] > imp_sha_max)[0]\n"
     ]
    },
    {
     "name": "stdout",
     "output_type": "stream",
     "text": [
      "Iteration: \t112 / 150\n",
      "Confirmed: \t30\n",
      "Tentative: \t1\n",
      "Rejected: \t195\n"
     ]
    },
    {
     "name": "stderr",
     "output_type": "stream",
     "text": [
      "C:\\dev\\Anaconda3\\lib\\site-packages\\boruta\\boruta_py.py:418: RuntimeWarning: invalid value encountered in greater\n",
      "  hits = np.where(cur_imp[0] > imp_sha_max)[0]\n"
     ]
    },
    {
     "name": "stdout",
     "output_type": "stream",
     "text": [
      "Iteration: \t113 / 150\n",
      "Confirmed: \t30\n",
      "Tentative: \t1\n",
      "Rejected: \t195\n"
     ]
    },
    {
     "name": "stderr",
     "output_type": "stream",
     "text": [
      "C:\\dev\\Anaconda3\\lib\\site-packages\\boruta\\boruta_py.py:418: RuntimeWarning: invalid value encountered in greater\n",
      "  hits = np.where(cur_imp[0] > imp_sha_max)[0]\n"
     ]
    },
    {
     "name": "stdout",
     "output_type": "stream",
     "text": [
      "Iteration: \t114 / 150\n",
      "Confirmed: \t30\n",
      "Tentative: \t1\n",
      "Rejected: \t195\n"
     ]
    },
    {
     "name": "stderr",
     "output_type": "stream",
     "text": [
      "C:\\dev\\Anaconda3\\lib\\site-packages\\boruta\\boruta_py.py:418: RuntimeWarning: invalid value encountered in greater\n",
      "  hits = np.where(cur_imp[0] > imp_sha_max)[0]\n"
     ]
    },
    {
     "name": "stdout",
     "output_type": "stream",
     "text": [
      "Iteration: \t115 / 150\n",
      "Confirmed: \t30\n",
      "Tentative: \t1\n",
      "Rejected: \t195\n"
     ]
    },
    {
     "name": "stderr",
     "output_type": "stream",
     "text": [
      "C:\\dev\\Anaconda3\\lib\\site-packages\\boruta\\boruta_py.py:418: RuntimeWarning: invalid value encountered in greater\n",
      "  hits = np.where(cur_imp[0] > imp_sha_max)[0]\n"
     ]
    },
    {
     "name": "stdout",
     "output_type": "stream",
     "text": [
      "Iteration: \t116 / 150\n",
      "Confirmed: \t30\n",
      "Tentative: \t1\n",
      "Rejected: \t195\n"
     ]
    },
    {
     "name": "stderr",
     "output_type": "stream",
     "text": [
      "C:\\dev\\Anaconda3\\lib\\site-packages\\boruta\\boruta_py.py:418: RuntimeWarning: invalid value encountered in greater\n",
      "  hits = np.where(cur_imp[0] > imp_sha_max)[0]\n"
     ]
    },
    {
     "name": "stdout",
     "output_type": "stream",
     "text": [
      "Iteration: \t117 / 150\n",
      "Confirmed: \t30\n",
      "Tentative: \t1\n",
      "Rejected: \t195\n"
     ]
    },
    {
     "name": "stderr",
     "output_type": "stream",
     "text": [
      "C:\\dev\\Anaconda3\\lib\\site-packages\\boruta\\boruta_py.py:418: RuntimeWarning: invalid value encountered in greater\n",
      "  hits = np.where(cur_imp[0] > imp_sha_max)[0]\n"
     ]
    },
    {
     "name": "stdout",
     "output_type": "stream",
     "text": [
      "Iteration: \t118 / 150\n",
      "Confirmed: \t30\n",
      "Tentative: \t1\n",
      "Rejected: \t195\n"
     ]
    },
    {
     "name": "stderr",
     "output_type": "stream",
     "text": [
      "C:\\dev\\Anaconda3\\lib\\site-packages\\boruta\\boruta_py.py:418: RuntimeWarning: invalid value encountered in greater\n",
      "  hits = np.where(cur_imp[0] > imp_sha_max)[0]\n"
     ]
    },
    {
     "name": "stdout",
     "output_type": "stream",
     "text": [
      "Iteration: \t119 / 150\n",
      "Confirmed: \t30\n",
      "Tentative: \t1\n",
      "Rejected: \t195\n"
     ]
    },
    {
     "name": "stderr",
     "output_type": "stream",
     "text": [
      "C:\\dev\\Anaconda3\\lib\\site-packages\\boruta\\boruta_py.py:418: RuntimeWarning: invalid value encountered in greater\n",
      "  hits = np.where(cur_imp[0] > imp_sha_max)[0]\n"
     ]
    },
    {
     "name": "stdout",
     "output_type": "stream",
     "text": [
      "Iteration: \t120 / 150\n",
      "Confirmed: \t30\n",
      "Tentative: \t1\n",
      "Rejected: \t195\n"
     ]
    },
    {
     "name": "stderr",
     "output_type": "stream",
     "text": [
      "C:\\dev\\Anaconda3\\lib\\site-packages\\boruta\\boruta_py.py:418: RuntimeWarning: invalid value encountered in greater\n",
      "  hits = np.where(cur_imp[0] > imp_sha_max)[0]\n"
     ]
    },
    {
     "name": "stdout",
     "output_type": "stream",
     "text": [
      "Iteration: \t121 / 150\n",
      "Confirmed: \t30\n",
      "Tentative: \t1\n",
      "Rejected: \t195\n"
     ]
    },
    {
     "name": "stderr",
     "output_type": "stream",
     "text": [
      "C:\\dev\\Anaconda3\\lib\\site-packages\\boruta\\boruta_py.py:418: RuntimeWarning: invalid value encountered in greater\n",
      "  hits = np.where(cur_imp[0] > imp_sha_max)[0]\n"
     ]
    },
    {
     "name": "stdout",
     "output_type": "stream",
     "text": [
      "Iteration: \t122 / 150\n",
      "Confirmed: \t30\n",
      "Tentative: \t1\n",
      "Rejected: \t195\n"
     ]
    },
    {
     "name": "stderr",
     "output_type": "stream",
     "text": [
      "C:\\dev\\Anaconda3\\lib\\site-packages\\boruta\\boruta_py.py:418: RuntimeWarning: invalid value encountered in greater\n",
      "  hits = np.where(cur_imp[0] > imp_sha_max)[0]\n"
     ]
    },
    {
     "name": "stdout",
     "output_type": "stream",
     "text": [
      "Iteration: \t123 / 150\n",
      "Confirmed: \t30\n",
      "Tentative: \t1\n",
      "Rejected: \t195\n"
     ]
    },
    {
     "name": "stderr",
     "output_type": "stream",
     "text": [
      "C:\\dev\\Anaconda3\\lib\\site-packages\\boruta\\boruta_py.py:418: RuntimeWarning: invalid value encountered in greater\n",
      "  hits = np.where(cur_imp[0] > imp_sha_max)[0]\n"
     ]
    },
    {
     "name": "stdout",
     "output_type": "stream",
     "text": [
      "Iteration: \t124 / 150\n",
      "Confirmed: \t30\n",
      "Tentative: \t1\n",
      "Rejected: \t195\n"
     ]
    },
    {
     "name": "stderr",
     "output_type": "stream",
     "text": [
      "C:\\dev\\Anaconda3\\lib\\site-packages\\boruta\\boruta_py.py:418: RuntimeWarning: invalid value encountered in greater\n",
      "  hits = np.where(cur_imp[0] > imp_sha_max)[0]\n"
     ]
    },
    {
     "name": "stdout",
     "output_type": "stream",
     "text": [
      "Iteration: \t125 / 150\n",
      "Confirmed: \t30\n",
      "Tentative: \t1\n",
      "Rejected: \t195\n"
     ]
    },
    {
     "name": "stderr",
     "output_type": "stream",
     "text": [
      "C:\\dev\\Anaconda3\\lib\\site-packages\\boruta\\boruta_py.py:418: RuntimeWarning: invalid value encountered in greater\n",
      "  hits = np.where(cur_imp[0] > imp_sha_max)[0]\n"
     ]
    },
    {
     "name": "stdout",
     "output_type": "stream",
     "text": [
      "Iteration: \t126 / 150\n",
      "Confirmed: \t30\n",
      "Tentative: \t1\n",
      "Rejected: \t195\n"
     ]
    },
    {
     "name": "stderr",
     "output_type": "stream",
     "text": [
      "C:\\dev\\Anaconda3\\lib\\site-packages\\boruta\\boruta_py.py:418: RuntimeWarning: invalid value encountered in greater\n",
      "  hits = np.where(cur_imp[0] > imp_sha_max)[0]\n"
     ]
    },
    {
     "name": "stdout",
     "output_type": "stream",
     "text": [
      "Iteration: \t127 / 150\n",
      "Confirmed: \t30\n",
      "Tentative: \t1\n",
      "Rejected: \t195\n"
     ]
    },
    {
     "name": "stderr",
     "output_type": "stream",
     "text": [
      "C:\\dev\\Anaconda3\\lib\\site-packages\\boruta\\boruta_py.py:418: RuntimeWarning: invalid value encountered in greater\n",
      "  hits = np.where(cur_imp[0] > imp_sha_max)[0]\n"
     ]
    },
    {
     "name": "stdout",
     "output_type": "stream",
     "text": [
      "Iteration: \t128 / 150\n",
      "Confirmed: \t30\n",
      "Tentative: \t1\n",
      "Rejected: \t195\n"
     ]
    },
    {
     "name": "stderr",
     "output_type": "stream",
     "text": [
      "C:\\dev\\Anaconda3\\lib\\site-packages\\boruta\\boruta_py.py:418: RuntimeWarning: invalid value encountered in greater\n",
      "  hits = np.where(cur_imp[0] > imp_sha_max)[0]\n"
     ]
    },
    {
     "name": "stdout",
     "output_type": "stream",
     "text": [
      "Iteration: \t129 / 150\n",
      "Confirmed: \t30\n",
      "Tentative: \t1\n",
      "Rejected: \t195\n"
     ]
    },
    {
     "name": "stderr",
     "output_type": "stream",
     "text": [
      "C:\\dev\\Anaconda3\\lib\\site-packages\\boruta\\boruta_py.py:418: RuntimeWarning: invalid value encountered in greater\n",
      "  hits = np.where(cur_imp[0] > imp_sha_max)[0]\n"
     ]
    },
    {
     "name": "stdout",
     "output_type": "stream",
     "text": [
      "Iteration: \t130 / 150\n",
      "Confirmed: \t30\n",
      "Tentative: \t1\n",
      "Rejected: \t195\n"
     ]
    },
    {
     "name": "stderr",
     "output_type": "stream",
     "text": [
      "C:\\dev\\Anaconda3\\lib\\site-packages\\boruta\\boruta_py.py:418: RuntimeWarning: invalid value encountered in greater\n",
      "  hits = np.where(cur_imp[0] > imp_sha_max)[0]\n"
     ]
    },
    {
     "name": "stdout",
     "output_type": "stream",
     "text": [
      "Iteration: \t131 / 150\n",
      "Confirmed: \t30\n",
      "Tentative: \t1\n",
      "Rejected: \t195\n"
     ]
    },
    {
     "name": "stderr",
     "output_type": "stream",
     "text": [
      "C:\\dev\\Anaconda3\\lib\\site-packages\\boruta\\boruta_py.py:418: RuntimeWarning: invalid value encountered in greater\n",
      "  hits = np.where(cur_imp[0] > imp_sha_max)[0]\n"
     ]
    },
    {
     "name": "stdout",
     "output_type": "stream",
     "text": [
      "Iteration: \t132 / 150\n",
      "Confirmed: \t30\n",
      "Tentative: \t1\n",
      "Rejected: \t195\n"
     ]
    },
    {
     "name": "stderr",
     "output_type": "stream",
     "text": [
      "C:\\dev\\Anaconda3\\lib\\site-packages\\boruta\\boruta_py.py:418: RuntimeWarning: invalid value encountered in greater\n",
      "  hits = np.where(cur_imp[0] > imp_sha_max)[0]\n"
     ]
    },
    {
     "name": "stdout",
     "output_type": "stream",
     "text": [
      "Iteration: \t133 / 150\n",
      "Confirmed: \t30\n",
      "Tentative: \t1\n",
      "Rejected: \t195\n"
     ]
    },
    {
     "name": "stderr",
     "output_type": "stream",
     "text": [
      "C:\\dev\\Anaconda3\\lib\\site-packages\\boruta\\boruta_py.py:418: RuntimeWarning: invalid value encountered in greater\n",
      "  hits = np.where(cur_imp[0] > imp_sha_max)[0]\n"
     ]
    },
    {
     "name": "stdout",
     "output_type": "stream",
     "text": [
      "Iteration: \t134 / 150\n",
      "Confirmed: \t30\n",
      "Tentative: \t1\n",
      "Rejected: \t195\n"
     ]
    },
    {
     "name": "stderr",
     "output_type": "stream",
     "text": [
      "C:\\dev\\Anaconda3\\lib\\site-packages\\boruta\\boruta_py.py:418: RuntimeWarning: invalid value encountered in greater\n",
      "  hits = np.where(cur_imp[0] > imp_sha_max)[0]\n"
     ]
    },
    {
     "name": "stdout",
     "output_type": "stream",
     "text": [
      "Iteration: \t135 / 150\n",
      "Confirmed: \t30\n",
      "Tentative: \t1\n",
      "Rejected: \t195\n"
     ]
    },
    {
     "name": "stderr",
     "output_type": "stream",
     "text": [
      "C:\\dev\\Anaconda3\\lib\\site-packages\\boruta\\boruta_py.py:418: RuntimeWarning: invalid value encountered in greater\n",
      "  hits = np.where(cur_imp[0] > imp_sha_max)[0]\n"
     ]
    },
    {
     "name": "stdout",
     "output_type": "stream",
     "text": [
      "Iteration: \t136 / 150\n",
      "Confirmed: \t30\n",
      "Tentative: \t1\n",
      "Rejected: \t195\n"
     ]
    },
    {
     "name": "stderr",
     "output_type": "stream",
     "text": [
      "C:\\dev\\Anaconda3\\lib\\site-packages\\boruta\\boruta_py.py:418: RuntimeWarning: invalid value encountered in greater\n",
      "  hits = np.where(cur_imp[0] > imp_sha_max)[0]\n"
     ]
    },
    {
     "name": "stdout",
     "output_type": "stream",
     "text": [
      "Iteration: \t137 / 150\n",
      "Confirmed: \t30\n",
      "Tentative: \t1\n",
      "Rejected: \t195\n"
     ]
    },
    {
     "name": "stderr",
     "output_type": "stream",
     "text": [
      "C:\\dev\\Anaconda3\\lib\\site-packages\\boruta\\boruta_py.py:418: RuntimeWarning: invalid value encountered in greater\n",
      "  hits = np.where(cur_imp[0] > imp_sha_max)[0]\n"
     ]
    },
    {
     "name": "stdout",
     "output_type": "stream",
     "text": [
      "Iteration: \t138 / 150\n",
      "Confirmed: \t30\n",
      "Tentative: \t1\n",
      "Rejected: \t195\n"
     ]
    },
    {
     "name": "stderr",
     "output_type": "stream",
     "text": [
      "C:\\dev\\Anaconda3\\lib\\site-packages\\boruta\\boruta_py.py:418: RuntimeWarning: invalid value encountered in greater\n",
      "  hits = np.where(cur_imp[0] > imp_sha_max)[0]\n"
     ]
    },
    {
     "name": "stdout",
     "output_type": "stream",
     "text": [
      "Iteration: \t139 / 150\n",
      "Confirmed: \t30\n",
      "Tentative: \t1\n",
      "Rejected: \t195\n"
     ]
    },
    {
     "name": "stderr",
     "output_type": "stream",
     "text": [
      "C:\\dev\\Anaconda3\\lib\\site-packages\\boruta\\boruta_py.py:418: RuntimeWarning: invalid value encountered in greater\n",
      "  hits = np.where(cur_imp[0] > imp_sha_max)[0]\n"
     ]
    },
    {
     "name": "stdout",
     "output_type": "stream",
     "text": [
      "Iteration: \t140 / 150\n",
      "Confirmed: \t30\n",
      "Tentative: \t1\n",
      "Rejected: \t195\n"
     ]
    },
    {
     "name": "stderr",
     "output_type": "stream",
     "text": [
      "C:\\dev\\Anaconda3\\lib\\site-packages\\boruta\\boruta_py.py:418: RuntimeWarning: invalid value encountered in greater\n",
      "  hits = np.where(cur_imp[0] > imp_sha_max)[0]\n"
     ]
    },
    {
     "name": "stdout",
     "output_type": "stream",
     "text": [
      "Iteration: \t141 / 150\n",
      "Confirmed: \t30\n",
      "Tentative: \t1\n",
      "Rejected: \t195\n"
     ]
    },
    {
     "name": "stderr",
     "output_type": "stream",
     "text": [
      "C:\\dev\\Anaconda3\\lib\\site-packages\\boruta\\boruta_py.py:418: RuntimeWarning: invalid value encountered in greater\n",
      "  hits = np.where(cur_imp[0] > imp_sha_max)[0]\n"
     ]
    },
    {
     "name": "stdout",
     "output_type": "stream",
     "text": [
      "Iteration: \t142 / 150\n",
      "Confirmed: \t30\n",
      "Tentative: \t1\n",
      "Rejected: \t195\n"
     ]
    },
    {
     "name": "stderr",
     "output_type": "stream",
     "text": [
      "C:\\dev\\Anaconda3\\lib\\site-packages\\boruta\\boruta_py.py:418: RuntimeWarning: invalid value encountered in greater\n",
      "  hits = np.where(cur_imp[0] > imp_sha_max)[0]\n"
     ]
    },
    {
     "name": "stdout",
     "output_type": "stream",
     "text": [
      "Iteration: \t143 / 150\n",
      "Confirmed: \t30\n",
      "Tentative: \t1\n",
      "Rejected: \t195\n"
     ]
    },
    {
     "name": "stderr",
     "output_type": "stream",
     "text": [
      "C:\\dev\\Anaconda3\\lib\\site-packages\\boruta\\boruta_py.py:418: RuntimeWarning: invalid value encountered in greater\n",
      "  hits = np.where(cur_imp[0] > imp_sha_max)[0]\n"
     ]
    },
    {
     "name": "stdout",
     "output_type": "stream",
     "text": [
      "Iteration: \t144 / 150\n",
      "Confirmed: \t30\n",
      "Tentative: \t1\n",
      "Rejected: \t195\n"
     ]
    },
    {
     "name": "stderr",
     "output_type": "stream",
     "text": [
      "C:\\dev\\Anaconda3\\lib\\site-packages\\boruta\\boruta_py.py:418: RuntimeWarning: invalid value encountered in greater\n",
      "  hits = np.where(cur_imp[0] > imp_sha_max)[0]\n"
     ]
    },
    {
     "name": "stdout",
     "output_type": "stream",
     "text": [
      "Iteration: \t145 / 150\n",
      "Confirmed: \t30\n",
      "Tentative: \t1\n",
      "Rejected: \t195\n"
     ]
    },
    {
     "name": "stderr",
     "output_type": "stream",
     "text": [
      "C:\\dev\\Anaconda3\\lib\\site-packages\\boruta\\boruta_py.py:418: RuntimeWarning: invalid value encountered in greater\n",
      "  hits = np.where(cur_imp[0] > imp_sha_max)[0]\n"
     ]
    },
    {
     "name": "stdout",
     "output_type": "stream",
     "text": [
      "Iteration: \t146 / 150\n",
      "Confirmed: \t30\n",
      "Tentative: \t1\n",
      "Rejected: \t195\n"
     ]
    },
    {
     "name": "stderr",
     "output_type": "stream",
     "text": [
      "C:\\dev\\Anaconda3\\lib\\site-packages\\boruta\\boruta_py.py:418: RuntimeWarning: invalid value encountered in greater\n",
      "  hits = np.where(cur_imp[0] > imp_sha_max)[0]\n"
     ]
    },
    {
     "name": "stdout",
     "output_type": "stream",
     "text": [
      "Iteration: \t147 / 150\n",
      "Confirmed: \t30\n",
      "Tentative: \t1\n",
      "Rejected: \t195\n"
     ]
    },
    {
     "name": "stderr",
     "output_type": "stream",
     "text": [
      "C:\\dev\\Anaconda3\\lib\\site-packages\\boruta\\boruta_py.py:418: RuntimeWarning: invalid value encountered in greater\n",
      "  hits = np.where(cur_imp[0] > imp_sha_max)[0]\n"
     ]
    },
    {
     "name": "stdout",
     "output_type": "stream",
     "text": [
      "Iteration: \t148 / 150\n",
      "Confirmed: \t30\n",
      "Tentative: \t1\n",
      "Rejected: \t195\n",
      "Iteration: \t149 / 150\n",
      "Confirmed: \t30\n",
      "Tentative: \t1\n",
      "Rejected: \t195\n",
      "\n",
      "\n",
      "BorutaPy finished running.\n",
      "\n",
      "Iteration: \t150 / 150\n",
      "Confirmed: \t30\n",
      "Tentative: \t0\n",
      "Rejected: \t195\n"
     ]
    },
    {
     "name": "stderr",
     "output_type": "stream",
     "text": [
      "C:\\dev\\Anaconda3\\lib\\site-packages\\boruta\\boruta_py.py:418: RuntimeWarning: invalid value encountered in greater\n",
      "  hits = np.where(cur_imp[0] > imp_sha_max)[0]\n"
     ]
    },
    {
     "data": {
      "text/plain": [
       "BorutaPy(alpha=0.05,\n",
       "     estimator=RandomForestClassifier(bootstrap=True, class_weight='balanced',\n",
       "            criterion='gini', max_depth=7, max_features='auto',\n",
       "            max_leaf_nodes=None, min_impurity_decrease=0.0,\n",
       "            min_impurity_split=None, min_samples_leaf=1,\n",
       "            min_samples_split=2, min_weight_fraction_leaf=0.0,\n",
       "            n_estimators=112, n_jobs=4, oob_score=False,\n",
       "            random_state=<mtrand.RandomState object at 0x000001C71EE67708>,\n",
       "            verbose=0, warm_start=False),\n",
       "     max_iter=150, n_estimators='auto', perc=100,\n",
       "     random_state=<mtrand.RandomState object at 0x000001C71EE67708>,\n",
       "     two_step=True, verbose=2)"
      ]
     },
     "execution_count": 73,
     "metadata": {},
     "output_type": "execute_result"
    }
   ],
   "source": [
    "boruta_selector.fit(np.array(X_train), y_train)"
   ]
  },
  {
   "cell_type": "code",
   "execution_count": 75,
   "metadata": {},
   "outputs": [
    {
     "name": "stdout",
     "output_type": "stream",
     "text": [
      "Fold  0\n",
      "Fold  1\n",
      "Fold  2\n",
      "0.725882694533\n"
     ]
    }
   ],
   "source": [
    "boruta_best = list(X_train.columns[boruta_selector.support_])\n",
    "cv_transform = partial(opt_transform, keep=boruta_best)\n",
    "print(np.mean(cross_val(X_train_, y_train_, opt_model, kf, cv_transform)))    "
   ]
  },
  {
   "cell_type": "code",
   "execution_count": 76,
   "metadata": {},
   "outputs": [],
   "source": [
    "def pickle_dump(obj, file_name):\n",
    "    with open(file_name, 'wb') as f:\n",
    "        pickle.dump(obj, f, pickle.HIGHEST_PROTOCOL)\n",
    "\n",
    "pickle_dump(boruta_best, \"boruta_best\")"
   ]
  },
  {
   "cell_type": "code",
   "execution_count": 78,
   "metadata": {},
   "outputs": [
    {
     "data": {
      "text/plain": [
       "(30,)"
      ]
     },
     "execution_count": 78,
     "metadata": {},
     "output_type": "execute_result"
    }
   ],
   "source": [
    "np.intersect1d(boruta_best, rfe_best).shape"
   ]
  },
  {
   "cell_type": "markdown",
   "metadata": {},
   "source": [
    "### Вывод\n",
    "Были испробованы методы RFE и Boruta.\n",
    "Оптимальное число переменных равно 133 и 30 соответственно.\n",
    "Оба варианта хороши и повышают качество модели."
   ]
  },
  {
   "cell_type": "markdown",
   "metadata": {},
   "source": [
    "6\\. Подберите оптимальные параметры модели. Обратите внимание, что в зависимости от того, как вы обработали исходные данные, сделали ли балансировку классов, сколько объектов оставили в обучающей выборке и др. оптимальные значения параметров могут меняться. Возьмите наилучшее из ваших решений на текущий момент и проведите процедуру подбора параметров модели (обратите внимание на `sklearn.model_selection.GridSearchCV`) Как подбор параметров повлиял на качество модели?"
   ]
  },
  {
   "cell_type": "code",
   "execution_count": 137,
   "metadata": {},
   "outputs": [],
   "source": [
    "X_train = X_train.loc[:, rfe_best]\n",
    "X_valid = X_valid.loc[:, rfe_best]"
   ]
  },
  {
   "cell_type": "code",
   "execution_count": 139,
   "metadata": {},
   "outputs": [],
   "source": [
    "hyperopt_model = XGBClassifier(n_jobs=4, tree_method='gpu_hist', predictor = \"cpu_predictor\", objective=\"binary:logistic\",\n",
    "                      missing=-1, \n",
    "                      n_estimators=200, learning_rate=0.05,\n",
    "                      max_depth=4, gamma=10, min_child_weight=2, reg_alpha=2, reg_lambda=1.3,\n",
    "                      subsample=.8, colsample_bytree=.8,\n",
    "                      scale_pos_weight=1\n",
    "                     )"
   ]
  },
  {
   "cell_type": "code",
   "execution_count": 106,
   "metadata": {},
   "outputs": [],
   "source": [
    "cv_transform = partial(opt_transform, keep=rfe_best)\n",
    "pickle_dump(cv_transform, \"opt_transform\")"
   ]
  },
  {
   "cell_type": "code",
   "execution_count": 111,
   "metadata": {},
   "outputs": [],
   "source": [
    "def pickle_load(file_name):\n",
    "    with open(file_name, 'rb') as f:\n",
    "        data = pickle.load(f)\n",
    "    return data\n",
    "\n",
    "best_hp = pickle_load('best')\n",
    "trials_hp = pickle_load('trials')"
   ]
  },
  {
   "cell_type": "code",
   "execution_count": 140,
   "metadata": {},
   "outputs": [
    {
     "data": {
      "text/plain": [
       "XGBClassifier(base_score=0.5, booster='gbtree', colsample_bylevel=1,\n",
       "       colsample_bytree=0.7004848702899348, gamma=4,\n",
       "       learning_rate=0.043937376458117156, max_delta_step=0, max_depth=4,\n",
       "       min_child_weight=2.3606387519121763, missing=-1, n_estimators=170,\n",
       "       n_jobs=4, nthread=None, objective='binary:logistic',\n",
       "       predictor='cpu_predictor', random_state=0,\n",
       "       reg_alpha=1.362192488318045, reg_lambda=1.2675794323196827,\n",
       "       scale_pos_weight=0.6121411226959748, seed=None, silent=True,\n",
       "       subsample=0.7637859900410551, tree_method='gpu_hist')"
      ]
     },
     "execution_count": 140,
     "metadata": {},
     "output_type": "execute_result"
    }
   ],
   "source": [
    "# convert space to params \n",
    "\n",
    "from hyperopt import space_eval, hp\n",
    "space = {}\n",
    "space['n_estimators'] = hp.randint('n_estimators', 20)*10 + 100\n",
    "space['max_depth'] = hp.choice('max_depth', [3,4,5,6])\n",
    "space['learning_rate'] = hp.uniform('learning_rate', 0.01, 0.1)\n",
    "space['gamma'] = hp.randint('gamma', 5)*2\n",
    "space['min_child_weight'] = hp.uniform('min_child_weight', 1.5, 2.5)\n",
    "space['scale_pos_weight'] = hp.uniform('scale_pos_weight', 0.5, 1.5)\n",
    "space['subsample'] = hp.uniform('subsample', 0.7, 0.9)\n",
    "space['colsample_bytree'] = hp.uniform('colsample_bytree', 0.7, 0.9)\n",
    "space['reg_alpha'] = hp.uniform('reg_alpha', 1, 3)\n",
    "space['reg_lambda'] = hp.uniform('reg_lambda', 1, 2)\n",
    "\n",
    "opt_params = space_eval(space, best_hp)\n",
    "hyperopt_model.set_params(**opt_params)"
   ]
  },
  {
   "cell_type": "code",
   "execution_count": 159,
   "metadata": {},
   "outputs": [],
   "source": [
    "cv_transform = partial(opt_transform, keep=boruta_best)"
   ]
  },
  {
   "cell_type": "code",
   "execution_count": 160,
   "metadata": {},
   "outputs": [
    {
     "name": "stdout",
     "output_type": "stream",
     "text": [
      "Fold  0\n",
      "Fold  1\n",
      "Fold  2\n"
     ]
    },
    {
     "data": {
      "text/plain": [
       "0.73684591485627049"
      ]
     },
     "execution_count": 160,
     "metadata": {},
     "output_type": "execute_result"
    }
   ],
   "source": [
    "np.mean(cross_val(train, target, hyperopt_model, kf, cv_transform))"
   ]
  },
  {
   "cell_type": "code",
   "execution_count": 161,
   "metadata": {},
   "outputs": [
    {
     "name": "stdout",
     "output_type": "stream",
     "text": [
      "Fold  0\n",
      "Fold  1\n",
      "Fold  2\n"
     ]
    },
    {
     "data": {
      "text/plain": [
       "0.73351175865337426"
      ]
     },
     "execution_count": 161,
     "metadata": {},
     "output_type": "execute_result"
    }
   ],
   "source": [
    "np.mean(cross_val(train, target, opt_model, kf, cv_transform))"
   ]
  },
  {
   "cell_type": "markdown",
   "metadata": {},
   "source": [
    "### Вывод\n",
    "Для подбора гиперпараметров был использован hyperopt, на кросс-валидации по полной тренировочной выборке.\n",
    "Использование оптимальных параметров повысило AUC на 0.3 процента.\n",
    "Скрипт с кодом в можно найти в приложении."
   ]
  },
  {
   "cell_type": "markdown",
   "metadata": {},
   "source": [
    "7\\. Предложите методику оценки того, какие признаки внесли наибольший вклад в модель (например, это могут быть веса в случае регрессии, а также большое количество моделей реализуют метод `feature_importances_` - оценка важности признаков). На основе предложенной методики проанализируйте, какие признаки внесли больший вклад в модель, а какие меньший?"
   ]
  },
  {
   "cell_type": "code",
   "execution_count": 184,
   "metadata": {},
   "outputs": [],
   "source": [
    "X_train, X_valid = cv_transform(X_train_, X_valid_, y_train_)"
   ]
  },
  {
   "cell_type": "code",
   "execution_count": 186,
   "metadata": {},
   "outputs": [
    {
     "data": {
      "text/plain": [
       "XGBClassifier(base_score=0.5, booster='gbtree', colsample_bylevel=1,\n",
       "       colsample_bytree=0.7004848702899348, gamma=4,\n",
       "       learning_rate=0.043937376458117156, max_delta_step=0, max_depth=4,\n",
       "       min_child_weight=2.3606387519121763, missing=-1, n_estimators=170,\n",
       "       n_jobs=4, nthread=None, objective='binary:logistic',\n",
       "       predictor='cpu_predictor', random_state=0,\n",
       "       reg_alpha=1.362192488318045, reg_lambda=1.2675794323196827,\n",
       "       scale_pos_weight=0.6121411226959748, seed=None, silent=True,\n",
       "       subsample=0.7637859900410551, tree_method='gpu_hist')"
      ]
     },
     "execution_count": 186,
     "metadata": {},
     "output_type": "execute_result"
    }
   ],
   "source": [
    "hyperopt_model.fit(X_train, y_train)"
   ]
  },
  {
   "cell_type": "code",
   "execution_count": 213,
   "metadata": {},
   "outputs": [
    {
     "data": {
      "text/plain": [
       "<matplotlib.axes._subplots.AxesSubplot at 0x1c704e9e6a0>"
      ]
     },
     "execution_count": 213,
     "metadata": {},
     "output_type": "execute_result"
    },
    {
     "data": {
      "image/png": "[encoded data removed]",
      "text/plain": [
       "<matplotlib.figure.Figure at 0x1c704ebd550>"
      ]
     },
     "metadata": {},
     "output_type": "display_data"
    }
   ],
   "source": [
    "import seaborn as sns\n",
    "fe = pd.DataFrame(sorted(list(zip(X_train.columns, hyperopt_model.feature_importances_)), key = lambda x: x[1], reverse=True))\n",
    "\n",
    "plt.figure(figsize=(6,12))\n",
    "sns.barplot(fe.loc[:, 1], fe.loc[:, 0], color='b')"
   ]
  },
  {
   "cell_type": "markdown",
   "metadata": {},
   "source": [
    "Наиболее важные фичи:\n",
    "* Var126\n",
    "* Var192_avg\n",
    "* Var199_avg\n",
    "* Var113\n",
    "* Var189\n",
    "\n",
    "'avg' означает, что это категориальный признак, уровни которого перекодированы по целевой переменной"
   ]
  },
  {
   "cell_type": "markdown",
   "metadata": {},
   "source": [
    "8\\. Напоследок давайте посмотрим на объекты. На каких объектах достигается наибольшая ошибка классификации? Есть ли межу этими объектами что-то общее? Видны ли какие-либо закономерности? Предположите, почему наибольшая ошибка достигается именно на этих объектах. В данном случае \"наибольшую\" ошибку можно понимать как отнесение объекта с чужому классу с большой долей уверенности (с высокой вероятностью)."
   ]
  },
  {
   "cell_type": "code",
   "execution_count": 220,
   "metadata": {},
   "outputs": [],
   "source": [
    "X, _ = cv_transform(train, test, target)\n",
    "hyperopt_model.fit(X, target)\n",
    "pred_proba = hyperopt_model.predict_proba(X)[:, 1]"
   ]
  },
  {
   "cell_type": "code",
   "execution_count": 221,
   "metadata": {},
   "outputs": [
    {
     "data": {
      "text/plain": [
       "0.80193760360905098"
      ]
     },
     "execution_count": 221,
     "metadata": {},
     "output_type": "execute_result"
    }
   ],
   "source": [
    "roc_auc_score(target, pred_proba)"
   ]
  },
  {
   "cell_type": "code",
   "execution_count": 264,
   "metadata": {},
   "outputs": [
    {
     "name": "stdout",
     "output_type": "stream",
     "text": [
      "f1: 0.277\trecall: 0.736\tprecision: 0.171\tacc: 0.714\tcutoff: 0.050 \n",
      "f1: 0.301\trecall: 0.664\tprecision: 0.195\tacc: 0.771\tcutoff: 0.060 \n",
      "f1: 0.317\trecall: 0.589\tprecision: 0.217\tacc: 0.811\tcutoff: 0.070 \n",
      "f1: 0.327\trecall: 0.521\tprecision: 0.238\tacc: 0.840\tcutoff: 0.080 \n",
      "f1: 0.334\trecall: 0.463\tprecision: 0.261\tacc: 0.863\tcutoff: 0.090 \n",
      "f1: 0.341\trecall: 0.419\tprecision: 0.288\tacc: 0.880\tcutoff: 0.100 \n",
      "f1: 0.344\trecall: 0.380\tprecision: 0.314\tacc: 0.892\tcutoff: 0.110 \n",
      "f1: 0.340\trecall: 0.345\tprecision: 0.335\tacc: 0.900\tcutoff: 0.120 \n",
      "f1: 0.332\trecall: 0.310\tprecision: 0.357\tacc: 0.907\tcutoff: 0.130 \n",
      "f1: 0.320\trecall: 0.279\tprecision: 0.376\tacc: 0.912\tcutoff: 0.140 \n",
      "f1: 0.313\trecall: 0.256\tprecision: 0.403\tacc: 0.916\tcutoff: 0.150 \n"
     ]
    }
   ],
   "source": [
    "cutoff_metrics(target, pred_proba, np.linspace(0.05, 0.15, 11))"
   ]
  },
  {
   "cell_type": "code",
   "execution_count": 277,
   "metadata": {},
   "outputs": [],
   "source": [
    "pred = np.int32(pred_proba > 0.11)\n",
    "FN = np.where(np.logical_and(pred != target, target==1), pred_proba, -1)\n",
    "FP = np.where(np.logical_and(pred != target, target==0), pred_proba, -1)"
   ]
  },
  {
   "cell_type": "code",
   "execution_count": 304,
   "metadata": {},
   "outputs": [
    {
     "data": {
      "text/html": [
       "<div>\n",
       "<style>\n",
       "    .dataframe thead tr:only-child th {\n",
       "        text-align: right;\n",
       "    }\n",
       "\n",
       "    .dataframe thead th {\n",
       "        text-align: left;\n",
       "    }\n",
       "\n",
       "    .dataframe tbody tr th {\n",
       "        vertical-align: top;\n",
       "    }\n",
       "</style>\n",
       "<table border=\"1\" class=\"dataframe\">\n",
       "  <thead>\n",
       "    <tr style=\"text-align: right;\">\n",
       "      <th></th>\n",
       "      <th>Var6</th>\n",
       "      <th>Var13</th>\n",
       "      <th>Var28</th>\n",
       "      <th>Var57</th>\n",
       "      <th>Var73</th>\n",
       "      <th>Var74</th>\n",
       "      <th>Var81</th>\n",
       "      <th>Var113</th>\n",
       "      <th>Var125</th>\n",
       "      <th>Var126</th>\n",
       "      <th>Var140</th>\n",
       "      <th>Var189</th>\n",
       "      <th>Var205</th>\n",
       "      <th>Var212</th>\n",
       "      <th>Var217</th>\n",
       "    </tr>\n",
       "  </thead>\n",
       "  <tbody>\n",
       "    <tr>\n",
       "      <th>784</th>\n",
       "      <td>672.0</td>\n",
       "      <td>-1.0</td>\n",
       "      <td>253.52</td>\n",
       "      <td>2.077761</td>\n",
       "      <td>30</td>\n",
       "      <td>-1.0</td>\n",
       "      <td>176606.40</td>\n",
       "      <td>79187.60</td>\n",
       "      <td>-1.0</td>\n",
       "      <td>-30.0</td>\n",
       "      <td>-1.0</td>\n",
       "      <td>-1.0</td>\n",
       "      <td>2</td>\n",
       "      <td>33</td>\n",
       "      <td>5367</td>\n",
       "    </tr>\n",
       "    <tr>\n",
       "      <th>2040</th>\n",
       "      <td>833.0</td>\n",
       "      <td>112.0</td>\n",
       "      <td>253.52</td>\n",
       "      <td>4.548173</td>\n",
       "      <td>76</td>\n",
       "      <td>0.0</td>\n",
       "      <td>210234.90</td>\n",
       "      <td>333704.80</td>\n",
       "      <td>18792.0</td>\n",
       "      <td>-28.0</td>\n",
       "      <td>20.0</td>\n",
       "      <td>336.0</td>\n",
       "      <td>2</td>\n",
       "      <td>33</td>\n",
       "      <td>1004</td>\n",
       "    </tr>\n",
       "    <tr>\n",
       "      <th>3152</th>\n",
       "      <td>1253.0</td>\n",
       "      <td>1304.0</td>\n",
       "      <td>166.56</td>\n",
       "      <td>0.622089</td>\n",
       "      <td>58</td>\n",
       "      <td>161.0</td>\n",
       "      <td>4513.29</td>\n",
       "      <td>13988.16</td>\n",
       "      <td>81045.0</td>\n",
       "      <td>-30.0</td>\n",
       "      <td>9620.0</td>\n",
       "      <td>294.0</td>\n",
       "      <td>3</td>\n",
       "      <td>44</td>\n",
       "      <td>13785</td>\n",
       "    </tr>\n",
       "    <tr>\n",
       "      <th>3224</th>\n",
       "      <td>1750.0</td>\n",
       "      <td>228.0</td>\n",
       "      <td>271.20</td>\n",
       "      <td>2.964110</td>\n",
       "      <td>160</td>\n",
       "      <td>63.0</td>\n",
       "      <td>20975.91</td>\n",
       "      <td>51163.20</td>\n",
       "      <td>18621.0</td>\n",
       "      <td>-26.0</td>\n",
       "      <td>490.0</td>\n",
       "      <td>-1.0</td>\n",
       "      <td>1</td>\n",
       "      <td>5</td>\n",
       "      <td>5698</td>\n",
       "    </tr>\n",
       "    <tr>\n",
       "      <th>4135</th>\n",
       "      <td>4879.0</td>\n",
       "      <td>1684.0</td>\n",
       "      <td>186.64</td>\n",
       "      <td>4.771630</td>\n",
       "      <td>228</td>\n",
       "      <td>70.0</td>\n",
       "      <td>24744.03</td>\n",
       "      <td>-685864.00</td>\n",
       "      <td>3753.0</td>\n",
       "      <td>-22.0</td>\n",
       "      <td>620.0</td>\n",
       "      <td>336.0</td>\n",
       "      <td>2</td>\n",
       "      <td>48</td>\n",
       "      <td>12442</td>\n",
       "    </tr>\n",
       "    <tr>\n",
       "      <th>4309</th>\n",
       "      <td>1246.0</td>\n",
       "      <td>4712.0</td>\n",
       "      <td>176.56</td>\n",
       "      <td>2.390088</td>\n",
       "      <td>164</td>\n",
       "      <td>175.0</td>\n",
       "      <td>20317.98</td>\n",
       "      <td>53568.00</td>\n",
       "      <td>45621.0</td>\n",
       "      <td>-30.0</td>\n",
       "      <td>1855.0</td>\n",
       "      <td>-1.0</td>\n",
       "      <td>1</td>\n",
       "      <td>27</td>\n",
       "      <td>13816</td>\n",
       "    </tr>\n",
       "    <tr>\n",
       "      <th>7761</th>\n",
       "      <td>7476.0</td>\n",
       "      <td>9136.0</td>\n",
       "      <td>166.56</td>\n",
       "      <td>2.076266</td>\n",
       "      <td>208</td>\n",
       "      <td>826.0</td>\n",
       "      <td>12274.53</td>\n",
       "      <td>-502196.00</td>\n",
       "      <td>86445.0</td>\n",
       "      <td>-20.0</td>\n",
       "      <td>1610.0</td>\n",
       "      <td>-1.0</td>\n",
       "      <td>2</td>\n",
       "      <td>63</td>\n",
       "      <td>13665</td>\n",
       "    </tr>\n",
       "    <tr>\n",
       "      <th>9757</th>\n",
       "      <td>1239.0</td>\n",
       "      <td>660.0</td>\n",
       "      <td>200.00</td>\n",
       "      <td>2.738731</td>\n",
       "      <td>34</td>\n",
       "      <td>294.0</td>\n",
       "      <td>43230.30</td>\n",
       "      <td>-1050248.00</td>\n",
       "      <td>17523.0</td>\n",
       "      <td>-20.0</td>\n",
       "      <td>535.0</td>\n",
       "      <td>-1.0</td>\n",
       "      <td>2</td>\n",
       "      <td>33</td>\n",
       "      <td>2495</td>\n",
       "    </tr>\n",
       "    <tr>\n",
       "      <th>15693</th>\n",
       "      <td>3409.0</td>\n",
       "      <td>2352.0</td>\n",
       "      <td>120.40</td>\n",
       "      <td>3.392651</td>\n",
       "      <td>106</td>\n",
       "      <td>189.0</td>\n",
       "      <td>42474.30</td>\n",
       "      <td>-27879.00</td>\n",
       "      <td>63243.0</td>\n",
       "      <td>-24.0</td>\n",
       "      <td>505.0</td>\n",
       "      <td>-1.0</td>\n",
       "      <td>2</td>\n",
       "      <td>27</td>\n",
       "      <td>10076</td>\n",
       "    </tr>\n",
       "    <tr>\n",
       "      <th>19207</th>\n",
       "      <td>840.0</td>\n",
       "      <td>2556.0</td>\n",
       "      <td>289.20</td>\n",
       "      <td>3.208502</td>\n",
       "      <td>174</td>\n",
       "      <td>56.0</td>\n",
       "      <td>182039.10</td>\n",
       "      <td>287952.40</td>\n",
       "      <td>49032.0</td>\n",
       "      <td>-24.0</td>\n",
       "      <td>2255.0</td>\n",
       "      <td>-1.0</td>\n",
       "      <td>2</td>\n",
       "      <td>43</td>\n",
       "      <td>2177</td>\n",
       "    </tr>\n",
       "    <tr>\n",
       "      <th>21429</th>\n",
       "      <td>854.0</td>\n",
       "      <td>4752.0</td>\n",
       "      <td>200.00</td>\n",
       "      <td>5.640034</td>\n",
       "      <td>166</td>\n",
       "      <td>868.0</td>\n",
       "      <td>66982.80</td>\n",
       "      <td>-70255.20</td>\n",
       "      <td>1485.0</td>\n",
       "      <td>-28.0</td>\n",
       "      <td>5215.0</td>\n",
       "      <td>-1.0</td>\n",
       "      <td>1</td>\n",
       "      <td>20</td>\n",
       "      <td>10142</td>\n",
       "    </tr>\n",
       "    <tr>\n",
       "      <th>24234</th>\n",
       "      <td>637.0</td>\n",
       "      <td>10292.0</td>\n",
       "      <td>245.68</td>\n",
       "      <td>6.453749</td>\n",
       "      <td>264</td>\n",
       "      <td>399.0</td>\n",
       "      <td>204955.80</td>\n",
       "      <td>-296489.60</td>\n",
       "      <td>2295.0</td>\n",
       "      <td>-20.0</td>\n",
       "      <td>565.0</td>\n",
       "      <td>366.0</td>\n",
       "      <td>2</td>\n",
       "      <td>30</td>\n",
       "      <td>11886</td>\n",
       "    </tr>\n",
       "    <tr>\n",
       "      <th>31222</th>\n",
       "      <td>910.0</td>\n",
       "      <td>244.0</td>\n",
       "      <td>253.52</td>\n",
       "      <td>2.763085</td>\n",
       "      <td>34</td>\n",
       "      <td>133.0</td>\n",
       "      <td>142853.10</td>\n",
       "      <td>176128.00</td>\n",
       "      <td>26172.0</td>\n",
       "      <td>-28.0</td>\n",
       "      <td>4995.0</td>\n",
       "      <td>-1.0</td>\n",
       "      <td>2</td>\n",
       "      <td>18</td>\n",
       "      <td>5519</td>\n",
       "    </tr>\n",
       "    <tr>\n",
       "      <th>32802</th>\n",
       "      <td>644.0</td>\n",
       "      <td>140.0</td>\n",
       "      <td>220.08</td>\n",
       "      <td>0.937407</td>\n",
       "      <td>32</td>\n",
       "      <td>168.0</td>\n",
       "      <td>223373.40</td>\n",
       "      <td>166198.40</td>\n",
       "      <td>41094.0</td>\n",
       "      <td>-18.0</td>\n",
       "      <td>75.0</td>\n",
       "      <td>306.0</td>\n",
       "      <td>2</td>\n",
       "      <td>33</td>\n",
       "      <td>1320</td>\n",
       "    </tr>\n",
       "    <tr>\n",
       "      <th>35229</th>\n",
       "      <td>-1.0</td>\n",
       "      <td>-1.0</td>\n",
       "      <td>-1.00</td>\n",
       "      <td>6.175390</td>\n",
       "      <td>10</td>\n",
       "      <td>-1.0</td>\n",
       "      <td>-1.00</td>\n",
       "      <td>-477576.00</td>\n",
       "      <td>-1.0</td>\n",
       "      <td>-26.0</td>\n",
       "      <td>-1.0</td>\n",
       "      <td>312.0</td>\n",
       "      <td>2</td>\n",
       "      <td>33</td>\n",
       "      <td>8911</td>\n",
       "    </tr>\n",
       "  </tbody>\n",
       "</table>\n",
       "</div>"
      ],
      "text/plain": [
       "         Var6    Var13   Var28     Var57  Var73  Var74      Var81      Var113  \\\n",
       "784     672.0     -1.0  253.52  2.077761     30   -1.0  176606.40    79187.60   \n",
       "2040    833.0    112.0  253.52  4.548173     76    0.0  210234.90   333704.80   \n",
       "3152   1253.0   1304.0  166.56  0.622089     58  161.0    4513.29    13988.16   \n",
       "3224   1750.0    228.0  271.20  2.964110    160   63.0   20975.91    51163.20   \n",
       "4135   4879.0   1684.0  186.64  4.771630    228   70.0   24744.03  -685864.00   \n",
       "4309   1246.0   4712.0  176.56  2.390088    164  175.0   20317.98    53568.00   \n",
       "7761   7476.0   9136.0  166.56  2.076266    208  826.0   12274.53  -502196.00   \n",
       "9757   1239.0    660.0  200.00  2.738731     34  294.0   43230.30 -1050248.00   \n",
       "15693  3409.0   2352.0  120.40  3.392651    106  189.0   42474.30   -27879.00   \n",
       "19207   840.0   2556.0  289.20  3.208502    174   56.0  182039.10   287952.40   \n",
       "21429   854.0   4752.0  200.00  5.640034    166  868.0   66982.80   -70255.20   \n",
       "24234   637.0  10292.0  245.68  6.453749    264  399.0  204955.80  -296489.60   \n",
       "31222   910.0    244.0  253.52  2.763085     34  133.0  142853.10   176128.00   \n",
       "32802   644.0    140.0  220.08  0.937407     32  168.0  223373.40   166198.40   \n",
       "35229    -1.0     -1.0   -1.00  6.175390     10   -1.0      -1.00  -477576.00   \n",
       "\n",
       "        Var125  Var126  Var140  Var189  Var205  Var212  Var217  \n",
       "784       -1.0   -30.0    -1.0    -1.0       2      33    5367  \n",
       "2040   18792.0   -28.0    20.0   336.0       2      33    1004  \n",
       "3152   81045.0   -30.0  9620.0   294.0       3      44   13785  \n",
       "3224   18621.0   -26.0   490.0    -1.0       1       5    5698  \n",
       "4135    3753.0   -22.0   620.0   336.0       2      48   12442  \n",
       "4309   45621.0   -30.0  1855.0    -1.0       1      27   13816  \n",
       "7761   86445.0   -20.0  1610.0    -1.0       2      63   13665  \n",
       "9757   17523.0   -20.0   535.0    -1.0       2      33    2495  \n",
       "15693  63243.0   -24.0   505.0    -1.0       2      27   10076  \n",
       "19207  49032.0   -24.0  2255.0    -1.0       2      43    2177  \n",
       "21429   1485.0   -28.0  5215.0    -1.0       1      20   10142  \n",
       "24234   2295.0   -20.0   565.0   366.0       2      30   11886  \n",
       "31222  26172.0   -28.0  4995.0    -1.0       2      18    5519  \n",
       "32802  41094.0   -18.0    75.0   306.0       2      33    1320  \n",
       "35229     -1.0   -26.0    -1.0   312.0       2      33    8911  "
      ]
     },
     "execution_count": 304,
     "metadata": {},
     "output_type": "execute_result"
    }
   ],
   "source": [
    "# FN с наименьшей вероятностью\n",
    "X[np.logical_and(FN != -1, FN < 0.012)].iloc[:, :15]"
   ]
  },
  {
   "cell_type": "code",
   "execution_count": 298,
   "metadata": {},
   "outputs": [
    {
     "data": {
      "text/html": [
       "<div>\n",
       "<style>\n",
       "    .dataframe thead tr:only-child th {\n",
       "        text-align: right;\n",
       "    }\n",
       "\n",
       "    .dataframe thead th {\n",
       "        text-align: left;\n",
       "    }\n",
       "\n",
       "    .dataframe tbody tr th {\n",
       "        vertical-align: top;\n",
       "    }\n",
       "</style>\n",
       "<table border=\"1\" class=\"dataframe\">\n",
       "  <thead>\n",
       "    <tr style=\"text-align: right;\">\n",
       "      <th></th>\n",
       "      <th>Var6</th>\n",
       "      <th>Var13</th>\n",
       "      <th>Var28</th>\n",
       "      <th>Var57</th>\n",
       "      <th>Var73</th>\n",
       "      <th>Var74</th>\n",
       "      <th>Var81</th>\n",
       "      <th>Var113</th>\n",
       "      <th>Var125</th>\n",
       "      <th>Var126</th>\n",
       "      <th>...</th>\n",
       "      <th>Var198_avg</th>\n",
       "      <th>Var199_avg</th>\n",
       "      <th>Var204_avg</th>\n",
       "      <th>Var206_avg</th>\n",
       "      <th>Var207_avg</th>\n",
       "      <th>Var212_avg</th>\n",
       "      <th>Var216_avg</th>\n",
       "      <th>Var217_avg</th>\n",
       "      <th>Var226_avg</th>\n",
       "      <th>Var228_avg</th>\n",
       "    </tr>\n",
       "  </thead>\n",
       "  <tbody>\n",
       "    <tr>\n",
       "      <th>6063</th>\n",
       "      <td>105.0</td>\n",
       "      <td>0.0</td>\n",
       "      <td>255.68</td>\n",
       "      <td>4.262551</td>\n",
       "      <td>16</td>\n",
       "      <td>0.0</td>\n",
       "      <td>270448.20</td>\n",
       "      <td>326182.80</td>\n",
       "      <td>0.0</td>\n",
       "      <td>-8.0</td>\n",
       "      <td>...</td>\n",
       "      <td>0.074400</td>\n",
       "      <td>0.074400</td>\n",
       "      <td>0.090847</td>\n",
       "      <td>0.100563</td>\n",
       "      <td>0.083217</td>\n",
       "      <td>0.090769</td>\n",
       "      <td>0.074400</td>\n",
       "      <td>0.159574</td>\n",
       "      <td>0.094799</td>\n",
       "      <td>0.086605</td>\n",
       "    </tr>\n",
       "    <tr>\n",
       "      <th>6984</th>\n",
       "      <td>280.0</td>\n",
       "      <td>0.0</td>\n",
       "      <td>20.08</td>\n",
       "      <td>6.951719</td>\n",
       "      <td>14</td>\n",
       "      <td>0.0</td>\n",
       "      <td>40493.70</td>\n",
       "      <td>-103952.00</td>\n",
       "      <td>0.0</td>\n",
       "      <td>-10.0</td>\n",
       "      <td>...</td>\n",
       "      <td>0.074400</td>\n",
       "      <td>0.074400</td>\n",
       "      <td>0.089623</td>\n",
       "      <td>0.091598</td>\n",
       "      <td>0.083217</td>\n",
       "      <td>0.090769</td>\n",
       "      <td>0.230769</td>\n",
       "      <td>0.276786</td>\n",
       "      <td>0.094799</td>\n",
       "      <td>0.086605</td>\n",
       "    </tr>\n",
       "    <tr>\n",
       "      <th>9276</th>\n",
       "      <td>574.0</td>\n",
       "      <td>0.0</td>\n",
       "      <td>199.52</td>\n",
       "      <td>0.134373</td>\n",
       "      <td>22</td>\n",
       "      <td>0.0</td>\n",
       "      <td>149919.60</td>\n",
       "      <td>50550.80</td>\n",
       "      <td>0.0</td>\n",
       "      <td>-1.0</td>\n",
       "      <td>...</td>\n",
       "      <td>0.074400</td>\n",
       "      <td>0.074400</td>\n",
       "      <td>0.105327</td>\n",
       "      <td>0.100563</td>\n",
       "      <td>0.083217</td>\n",
       "      <td>0.090769</td>\n",
       "      <td>0.074400</td>\n",
       "      <td>0.276786</td>\n",
       "      <td>0.094799</td>\n",
       "      <td>0.086605</td>\n",
       "    </tr>\n",
       "    <tr>\n",
       "      <th>11688</th>\n",
       "      <td>4620.0</td>\n",
       "      <td>0.0</td>\n",
       "      <td>166.56</td>\n",
       "      <td>2.747063</td>\n",
       "      <td>48</td>\n",
       "      <td>0.0</td>\n",
       "      <td>53759.70</td>\n",
       "      <td>15804.44</td>\n",
       "      <td>4428.0</td>\n",
       "      <td>24.0</td>\n",
       "      <td>...</td>\n",
       "      <td>0.073409</td>\n",
       "      <td>0.141593</td>\n",
       "      <td>0.059197</td>\n",
       "      <td>0.091598</td>\n",
       "      <td>0.075130</td>\n",
       "      <td>0.069747</td>\n",
       "      <td>0.074400</td>\n",
       "      <td>0.276786</td>\n",
       "      <td>0.064721</td>\n",
       "      <td>0.074400</td>\n",
       "    </tr>\n",
       "    <tr>\n",
       "      <th>12899</th>\n",
       "      <td>105.0</td>\n",
       "      <td>0.0</td>\n",
       "      <td>264.80</td>\n",
       "      <td>0.090365</td>\n",
       "      <td>14</td>\n",
       "      <td>0.0</td>\n",
       "      <td>207157.80</td>\n",
       "      <td>363336.00</td>\n",
       "      <td>0.0</td>\n",
       "      <td>-10.0</td>\n",
       "      <td>...</td>\n",
       "      <td>0.074400</td>\n",
       "      <td>0.126582</td>\n",
       "      <td>0.085020</td>\n",
       "      <td>0.091598</td>\n",
       "      <td>0.083217</td>\n",
       "      <td>0.090769</td>\n",
       "      <td>0.074400</td>\n",
       "      <td>0.276786</td>\n",
       "      <td>0.089236</td>\n",
       "      <td>0.086605</td>\n",
       "    </tr>\n",
       "    <tr>\n",
       "      <th>14138</th>\n",
       "      <td>147.0</td>\n",
       "      <td>0.0</td>\n",
       "      <td>266.40</td>\n",
       "      <td>1.129460</td>\n",
       "      <td>18</td>\n",
       "      <td>0.0</td>\n",
       "      <td>237746.70</td>\n",
       "      <td>80322.00</td>\n",
       "      <td>0.0</td>\n",
       "      <td>-8.0</td>\n",
       "      <td>...</td>\n",
       "      <td>0.074400</td>\n",
       "      <td>0.175824</td>\n",
       "      <td>0.084239</td>\n",
       "      <td>0.091598</td>\n",
       "      <td>0.083217</td>\n",
       "      <td>0.090769</td>\n",
       "      <td>0.080169</td>\n",
       "      <td>0.144444</td>\n",
       "      <td>0.090164</td>\n",
       "      <td>0.086605</td>\n",
       "    </tr>\n",
       "    <tr>\n",
       "      <th>16831</th>\n",
       "      <td>105.0</td>\n",
       "      <td>0.0</td>\n",
       "      <td>230.56</td>\n",
       "      <td>3.529160</td>\n",
       "      <td>18</td>\n",
       "      <td>0.0</td>\n",
       "      <td>409815.00</td>\n",
       "      <td>-25587.84</td>\n",
       "      <td>0.0</td>\n",
       "      <td>-8.0</td>\n",
       "      <td>...</td>\n",
       "      <td>0.074400</td>\n",
       "      <td>0.074400</td>\n",
       "      <td>0.077035</td>\n",
       "      <td>0.091598</td>\n",
       "      <td>0.083217</td>\n",
       "      <td>0.090769</td>\n",
       "      <td>0.146832</td>\n",
       "      <td>0.140845</td>\n",
       "      <td>0.073546</td>\n",
       "      <td>0.086605</td>\n",
       "    </tr>\n",
       "    <tr>\n",
       "      <th>21633</th>\n",
       "      <td>784.0</td>\n",
       "      <td>0.0</td>\n",
       "      <td>389.60</td>\n",
       "      <td>2.498398</td>\n",
       "      <td>26</td>\n",
       "      <td>0.0</td>\n",
       "      <td>122172.00</td>\n",
       "      <td>97558.40</td>\n",
       "      <td>0.0</td>\n",
       "      <td>-1.0</td>\n",
       "      <td>...</td>\n",
       "      <td>0.074400</td>\n",
       "      <td>0.074400</td>\n",
       "      <td>0.077185</td>\n",
       "      <td>0.069571</td>\n",
       "      <td>0.083217</td>\n",
       "      <td>0.090769</td>\n",
       "      <td>0.192708</td>\n",
       "      <td>0.276786</td>\n",
       "      <td>0.073243</td>\n",
       "      <td>0.086605</td>\n",
       "    </tr>\n",
       "    <tr>\n",
       "      <th>22061</th>\n",
       "      <td>714.0</td>\n",
       "      <td>312.0</td>\n",
       "      <td>31.44</td>\n",
       "      <td>4.084811</td>\n",
       "      <td>34</td>\n",
       "      <td>7.0</td>\n",
       "      <td>220342.20</td>\n",
       "      <td>119772.00</td>\n",
       "      <td>15075.0</td>\n",
       "      <td>-1.0</td>\n",
       "      <td>...</td>\n",
       "      <td>0.074400</td>\n",
       "      <td>0.138889</td>\n",
       "      <td>0.080189</td>\n",
       "      <td>0.100563</td>\n",
       "      <td>0.083217</td>\n",
       "      <td>0.090769</td>\n",
       "      <td>0.192708</td>\n",
       "      <td>0.276786</td>\n",
       "      <td>0.078963</td>\n",
       "      <td>0.086605</td>\n",
       "    </tr>\n",
       "    <tr>\n",
       "      <th>28807</th>\n",
       "      <td>707.0</td>\n",
       "      <td>4.0</td>\n",
       "      <td>589.60</td>\n",
       "      <td>5.622303</td>\n",
       "      <td>42</td>\n",
       "      <td>0.0</td>\n",
       "      <td>199304.10</td>\n",
       "      <td>5844040.00</td>\n",
       "      <td>396.0</td>\n",
       "      <td>-1.0</td>\n",
       "      <td>...</td>\n",
       "      <td>0.074400</td>\n",
       "      <td>0.074400</td>\n",
       "      <td>0.134357</td>\n",
       "      <td>0.100563</td>\n",
       "      <td>0.083217</td>\n",
       "      <td>0.090769</td>\n",
       "      <td>0.088751</td>\n",
       "      <td>0.074400</td>\n",
       "      <td>0.094799</td>\n",
       "      <td>0.086605</td>\n",
       "    </tr>\n",
       "    <tr>\n",
       "      <th>35601</th>\n",
       "      <td>343.0</td>\n",
       "      <td>0.0</td>\n",
       "      <td>166.56</td>\n",
       "      <td>4.011536</td>\n",
       "      <td>16</td>\n",
       "      <td>0.0</td>\n",
       "      <td>22332.39</td>\n",
       "      <td>-96118.80</td>\n",
       "      <td>0.0</td>\n",
       "      <td>4.0</td>\n",
       "      <td>...</td>\n",
       "      <td>0.116505</td>\n",
       "      <td>0.046771</td>\n",
       "      <td>0.089623</td>\n",
       "      <td>0.091598</td>\n",
       "      <td>0.044336</td>\n",
       "      <td>0.090769</td>\n",
       "      <td>0.092395</td>\n",
       "      <td>0.276786</td>\n",
       "      <td>0.094799</td>\n",
       "      <td>0.082474</td>\n",
       "    </tr>\n",
       "    <tr>\n",
       "      <th>37549</th>\n",
       "      <td>-1.0</td>\n",
       "      <td>-1.0</td>\n",
       "      <td>-1.00</td>\n",
       "      <td>1.560137</td>\n",
       "      <td>6</td>\n",
       "      <td>-1.0</td>\n",
       "      <td>-1.00</td>\n",
       "      <td>-4003160.00</td>\n",
       "      <td>-1.0</td>\n",
       "      <td>-8.0</td>\n",
       "      <td>...</td>\n",
       "      <td>0.074400</td>\n",
       "      <td>0.074400</td>\n",
       "      <td>0.079918</td>\n",
       "      <td>0.048929</td>\n",
       "      <td>0.083217</td>\n",
       "      <td>0.090769</td>\n",
       "      <td>0.146832</td>\n",
       "      <td>0.276786</td>\n",
       "      <td>0.078014</td>\n",
       "      <td>0.086605</td>\n",
       "    </tr>\n",
       "  </tbody>\n",
       "</table>\n",
       "<p>12 rows × 30 columns</p>\n",
       "</div>"
      ],
      "text/plain": [
       "         Var6  Var13   Var28     Var57  Var73  Var74      Var81      Var113  \\\n",
       "6063    105.0    0.0  255.68  4.262551     16    0.0  270448.20   326182.80   \n",
       "6984    280.0    0.0   20.08  6.951719     14    0.0   40493.70  -103952.00   \n",
       "9276    574.0    0.0  199.52  0.134373     22    0.0  149919.60    50550.80   \n",
       "11688  4620.0    0.0  166.56  2.747063     48    0.0   53759.70    15804.44   \n",
       "12899   105.0    0.0  264.80  0.090365     14    0.0  207157.80   363336.00   \n",
       "14138   147.0    0.0  266.40  1.129460     18    0.0  237746.70    80322.00   \n",
       "16831   105.0    0.0  230.56  3.529160     18    0.0  409815.00   -25587.84   \n",
       "21633   784.0    0.0  389.60  2.498398     26    0.0  122172.00    97558.40   \n",
       "22061   714.0  312.0   31.44  4.084811     34    7.0  220342.20   119772.00   \n",
       "28807   707.0    4.0  589.60  5.622303     42    0.0  199304.10  5844040.00   \n",
       "35601   343.0    0.0  166.56  4.011536     16    0.0   22332.39   -96118.80   \n",
       "37549    -1.0   -1.0   -1.00  1.560137      6   -1.0      -1.00 -4003160.00   \n",
       "\n",
       "        Var125  Var126     ...      Var198_avg  Var199_avg  Var204_avg  \\\n",
       "6063       0.0    -8.0     ...        0.074400    0.074400    0.090847   \n",
       "6984       0.0   -10.0     ...        0.074400    0.074400    0.089623   \n",
       "9276       0.0    -1.0     ...        0.074400    0.074400    0.105327   \n",
       "11688   4428.0    24.0     ...        0.073409    0.141593    0.059197   \n",
       "12899      0.0   -10.0     ...        0.074400    0.126582    0.085020   \n",
       "14138      0.0    -8.0     ...        0.074400    0.175824    0.084239   \n",
       "16831      0.0    -8.0     ...        0.074400    0.074400    0.077035   \n",
       "21633      0.0    -1.0     ...        0.074400    0.074400    0.077185   \n",
       "22061  15075.0    -1.0     ...        0.074400    0.138889    0.080189   \n",
       "28807    396.0    -1.0     ...        0.074400    0.074400    0.134357   \n",
       "35601      0.0     4.0     ...        0.116505    0.046771    0.089623   \n",
       "37549     -1.0    -8.0     ...        0.074400    0.074400    0.079918   \n",
       "\n",
       "       Var206_avg  Var207_avg  Var212_avg  Var216_avg  Var217_avg  Var226_avg  \\\n",
       "6063     0.100563    0.083217    0.090769    0.074400    0.159574    0.094799   \n",
       "6984     0.091598    0.083217    0.090769    0.230769    0.276786    0.094799   \n",
       "9276     0.100563    0.083217    0.090769    0.074400    0.276786    0.094799   \n",
       "11688    0.091598    0.075130    0.069747    0.074400    0.276786    0.064721   \n",
       "12899    0.091598    0.083217    0.090769    0.074400    0.276786    0.089236   \n",
       "14138    0.091598    0.083217    0.090769    0.080169    0.144444    0.090164   \n",
       "16831    0.091598    0.083217    0.090769    0.146832    0.140845    0.073546   \n",
       "21633    0.069571    0.083217    0.090769    0.192708    0.276786    0.073243   \n",
       "22061    0.100563    0.083217    0.090769    0.192708    0.276786    0.078963   \n",
       "28807    0.100563    0.083217    0.090769    0.088751    0.074400    0.094799   \n",
       "35601    0.091598    0.044336    0.090769    0.092395    0.276786    0.094799   \n",
       "37549    0.048929    0.083217    0.090769    0.146832    0.276786    0.078014   \n",
       "\n",
       "       Var228_avg  \n",
       "6063     0.086605  \n",
       "6984     0.086605  \n",
       "9276     0.086605  \n",
       "11688    0.074400  \n",
       "12899    0.086605  \n",
       "14138    0.086605  \n",
       "16831    0.086605  \n",
       "21633    0.086605  \n",
       "22061    0.086605  \n",
       "28807    0.086605  \n",
       "35601    0.082474  \n",
       "37549    0.086605  \n",
       "\n",
       "[12 rows x 30 columns]"
      ]
     },
     "execution_count": 298,
     "metadata": {},
     "output_type": "execute_result"
    }
   ],
   "source": [
    "# FP с наибольшей вероятностью\n",
    "X[FP >0.4]"
   ]
  },
  {
   "cell_type": "markdown",
   "metadata": {},
   "source": [
    "### Вывод\n",
    "На примерах объектов, дающих наибольшую ошибку в классификации видно, что причиной этого являются аномальные значения признаков, Var81, Var113, Var28. Это наталкивает на идею логарифмировать некоторые из числовых признаков, чтобы нормализовать их распределение."
   ]
  },
  {
   "cell_type": "markdown",
   "metadata": {},
   "source": [
    "9\\. По итогам проведенных экспериментов постройте финальную решение - модель с наилучшим качеством. Укажите, какие преобразования данных, параметры и пр. вы выбрали для построения финальной модели."
   ]
  },
  {
   "cell_type": "markdown",
   "metadata": {
    "collapsed": true
   },
   "source": [
    "**Препроцессинг**: \n",
    "* преобразование пустых значений в -1\n",
    "* переводировка категориальных признаков с числом категорий больше 10 при помощи таргет-кодирования со сглаживанием, с параметрами K = 80, F = 0.5, новые признаки называются как старые, но с добавлением постфикса '_avg'\n",
    "* отбор признаков алгоритмом Boruta, следующие 30 признаков:\n",
    "\n",
    "Var6, Var13, Var28, Var57, Var73, Var74, Var81, Var113, Var125, Var126, Var140, Var189, Var205, Var212, Var217, Var218, Var229, Var192_avg, Var193_avg, Var197_avg, Var198_avg, Var199_avg, Var204_avg, Var206_avg, Var207_avg, Var212_avg, Var216_avg, Var217_avg, Var226_avg, Var228_avg\n",
    "\n",
    "**Модель**: XGBoost c гиперпараметрами:\n",
    "\n",
    "* objective='binary:logistic'\n",
    "* max_depth=4, learning_rate=0.044, n_estimators=170 \n",
    "* colsample_bytree=0.7, subsample=0.76\n",
    "* gamma=4, min_child_weight=2.36, reg_alpha=1.36, reg_lambda=1.27\n",
    "* missing=-1, scale_pos_weight=0.61\n"
   ]
  },
  {
   "cell_type": "markdown",
   "metadata": {},
   "source": [
    "10\\. Подумайте, можно ли еще улучшить модель? Что для этого можно сделать? "
   ]
  },
  {
   "cell_type": "markdown",
   "metadata": {
    "collapsed": true
   },
   "source": [
    "1. Закодировать пустые ответы не в -1 а в еще меньшее значение, т.к. оказалось, что есть числовые признаки с отрицательными значениями\n",
    "2. Использовать ансамбли моделей \n",
    "3. Преобразовать числовые признаки к нормальному распределению\n",
    "4. Создать новые признаки (Feature Engineering) при помощи комбинации старых с наибольшей важностью, затем заново отобрать лучшие признаки"
   ]
  }
 ],
 "metadata": {
  "kernelspec": {
   "display_name": "Python 3",
   "language": "python",
   "name": "python3"
  },
  "language_info": {
   "codemirror_mode": {
    "name": "ipython",
    "version": 3
   },
   "file_extension": ".py",
   "mimetype": "text/x-python",
   "name": "python",
   "nbconvert_exporter": "python",
   "pygments_lexer": "ipython3",
   "version": "3.6.1"
  }
 },
 "nbformat": 4,
 "nbformat_minor": 1
}
