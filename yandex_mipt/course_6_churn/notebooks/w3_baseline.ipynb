{
 "cells": [
  {
   "cell_type": "code",
   "execution_count": 234,
   "metadata": {},
   "outputs": [],
   "source": [
    "import pandas as pd\n",
    "import numpy as np\n",
    "\n",
    "from xgboost import XGBClassifier\n",
    "from sklearn.linear_model import LogisticRegression\n",
    "from sklearn.ensemble import RandomForestClassifier\n",
    "\n",
    "from sklearn.metrics import f1_score, roc_auc_score, recall_score, precision_score\n",
    "from sklearn.model_selection import StratifiedKFold\n",
    "from sklearn.model_selection import train_test_split\n"
   ]
  },
  {
   "cell_type": "code",
   "execution_count": 158,
   "metadata": {},
   "outputs": [],
   "source": [
    "train, target = pd.read_csv('./input/orange_small_churn_data.train'), \\\n",
    "pd.read_csv('./input/orange_small_churn_labels.train', header=-1)"
   ]
  },
  {
   "cell_type": "code",
   "execution_count": 159,
   "metadata": {},
   "outputs": [],
   "source": [
    "X, X_holdout, y, y_holdout = train_test_split(train, target, test_size=5000, random_state=42, stratify=target)"
   ]
  },
  {
   "cell_type": "markdown",
   "metadata": {},
   "source": [
    "Preprocessing"
   ]
  },
  {
   "cell_type": "code",
   "execution_count": 160,
   "metadata": {},
   "outputs": [],
   "source": [
    "# выставим порог отсева пустых значений на 95%\n",
    "X = X[X.columns[(X.isnull().sum() / X.shape[0] ) < 0.95]].copy()"
   ]
  },
  {
   "cell_type": "code",
   "execution_count": 161,
   "metadata": {},
   "outputs": [
    {
     "data": {
      "text/plain": [
       "float64    42\n",
       "object     34\n",
       "int64       1\n",
       "dtype: int64"
      ]
     },
     "execution_count": 161,
     "metadata": {},
     "output_type": "execute_result"
    }
   ],
   "source": [
    "X.dtypes.value_counts()"
   ]
  },
  {
   "cell_type": "code",
   "execution_count": 162,
   "metadata": {},
   "outputs": [],
   "source": [
    "f_cat = X.columns[X.dtypes == \"object\"]\n",
    "f_num = X.columns[X.dtypes != \"object\"]"
   ]
  },
  {
   "cell_type": "code",
   "execution_count": 163,
   "metadata": {},
   "outputs": [],
   "source": [
    "# for linear model \n",
    "medians = X[f_num].median()\n",
    "X_lin = X[f_num].fillna(medians).copy()\n",
    "\n",
    "cat_dummies = pd.get_dummies(X[f_cat].fillna(-1))\n"
   ]
  },
  {
   "cell_type": "code",
   "execution_count": 167,
   "metadata": {},
   "outputs": [],
   "source": [
    "# сразу отсеим совсем бесполезные фичи по порогу значимости chi2\n",
    "from sklearn.feature_selection import chi2\n",
    "chi2_pval = chi2(cat_dummies, y)[1]\n",
    "\n",
    "X_lin = pd.concat([X_lin, cat_dummies.loc[:, chi2_pval < 0.05]], axis=1)"
   ]
  },
  {
   "cell_type": "code",
   "execution_count": 194,
   "metadata": {},
   "outputs": [],
   "source": [
    "# for tree-based model\n",
    "\n",
    "X_tree = X.fillna(-1).copy()\n",
    "for c in f_cat:\n",
    "    X_tree[c] = pd.factorize(X[c])[0]"
   ]
  },
  {
   "cell_type": "markdown",
   "metadata": {},
   "source": [
    "Cross-validation"
   ]
  },
  {
   "cell_type": "code",
   "execution_count": 235,
   "metadata": {},
   "outputs": [],
   "source": [
    "def cross_val(X, y, model, kf):\n",
    "    X, y = np.array(X), np.array(y).reshape(-1)\n",
    "    cv_scores = np.zeros((5,4), dtype=np.float32)\n",
    "\n",
    "    for i, (train_index, val_index) in enumerate(kf.split(X, y)):\n",
    "\n",
    "        print( \"Fold \", i)\n",
    "\n",
    "        y_train, y_val = y[train_index].copy(), y[val_index].copy()\n",
    "        X_train, X_val = X[train_index, :].copy(), X[val_index, :].copy()\n",
    "        \n",
    "        fit_model = model.fit(X_train, y_train)\n",
    "        pred = fit_model.predict(X_val)\n",
    "\n",
    "        cv_scores[i, :] = [f1_score(y_val, pred), \n",
    "                           precision_score(y_val, pred), \n",
    "                           recall_score(y_val, pred), \n",
    "                           roc_auc_score(y_val, pred)]\n",
    "        \n",
    "    return cv_scores\n"
   ]
  },
  {
   "cell_type": "code",
   "execution_count": 236,
   "metadata": {},
   "outputs": [],
   "source": [
    "def print_metrics(cv_scores):\n",
    "    metrics = ['f1', 'precision', 'recall', 'roc auc']\n",
    "    cvmean = cv_scores.mean(0)\n",
    "    for i in range(4):\n",
    "        print(\"{} = {:.5f}\".format(metrics[i], cvmean[i]))"
   ]
  },
  {
   "cell_type": "code",
   "execution_count": 238,
   "metadata": {},
   "outputs": [],
   "source": [
    "kf = StratifiedKFold(n_splits=5, shuffle=True, random_state=2017)"
   ]
  },
  {
   "cell_type": "code",
   "execution_count": 239,
   "metadata": {},
   "outputs": [
    {
     "name": "stdout",
     "output_type": "stream",
     "text": [
      "Fold  0\n",
      "Fold  1\n",
      "Fold  2\n",
      "Fold  3\n",
      "Fold  4\n",
      "f1 = 0.22007\n",
      "precision = 0.13440\n",
      "recall = 0.60713\n",
      "roc auc = 0.64639\n"
     ]
    }
   ],
   "source": [
    "# random forest \n",
    "model = RandomForestClassifier(n_estimators=100, max_depth=6, class_weight='balanced')\n",
    "cv_scores = cross_val(X_tree,y,model,kf)\n",
    "print_metrics(cv_scores)"
   ]
  },
  {
   "cell_type": "code",
   "execution_count": 240,
   "metadata": {},
   "outputs": [
    {
     "name": "stdout",
     "output_type": "stream",
     "text": [
      "Fold  0\n",
      "Fold  1\n",
      "Fold  2\n",
      "Fold  3\n",
      "Fold  4\n",
      "f1 = 0.18241\n",
      "precision = 0.10792\n",
      "recall = 0.58909\n",
      "roc auc = 0.59883\n"
     ]
    }
   ],
   "source": [
    "# log reg\n",
    "model = LogisticRegression(class_weight='balanced')\n",
    "cv_scores = cross_val(X_lin,y,model,kf)\n",
    "print_metrics(cv_scores)"
   ]
  },
  {
   "cell_type": "code",
   "execution_count": 241,
   "metadata": {},
   "outputs": [
    {
     "name": "stdout",
     "output_type": "stream",
     "text": [
      "Fold  0\n",
      "Fold  1\n",
      "Fold  2\n",
      "Fold  3\n",
      "Fold  4\n",
      "f1 = 0.05012\n",
      "precision = 0.63787\n",
      "recall = 0.02612\n",
      "roc auc = 0.51241\n"
     ]
    }
   ],
   "source": [
    "model = XGBClassifier(n_estimators=100, max_depth=6)\n",
    "cv_scores = cross_val(X_tree,y,model,kf)\n",
    "print_metrics(cv_scores)"
   ]
  }
 ],
 "metadata": {
  "kernelspec": {
   "display_name": "Python 3",
   "language": "python",
   "name": "python3"
  },
  "language_info": {
   "codemirror_mode": {
    "name": "ipython",
    "version": 3
   },
   "file_extension": ".py",
   "mimetype": "text/x-python",
   "name": "python",
   "nbconvert_exporter": "python",
   "pygments_lexer": "ipython3",
   "version": "3.6.1"
  }
 },
 "nbformat": 4,
 "nbformat_minor": 2
}
