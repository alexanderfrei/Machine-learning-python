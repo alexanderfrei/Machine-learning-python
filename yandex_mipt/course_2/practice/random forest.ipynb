{
 "cells": [
  {
   "cell_type": "code",
   "execution_count": 85,
   "metadata": {
    "collapsed": true
   },
   "outputs": [],
   "source": [
    "import numpy as np\n",
    "import pandas as pd\n",
    "from sklearn.datasets import load_digits\n",
    "from sklearn.tree import DecisionTreeClassifier\n",
    "from sklearn.ensemble import BaggingClassifier\n",
    "from sklearn.model_selection import cross_val_score"
   ]
  },
  {
   "cell_type": "code",
   "execution_count": 19,
   "metadata": {},
   "outputs": [],
   "source": [
    "df = load_digits()\n",
    "X, y = df.data, df.target"
   ]
  },
  {
   "cell_type": "code",
   "execution_count": 47,
   "metadata": {},
   "outputs": [],
   "source": [
    "clf = DecisionTreeClassifier()\n",
    "cv = cross_val_score(cv=10, estimator=clf, n_jobs=4, X=X, y=y)"
   ]
  },
  {
   "cell_type": "code",
   "execution_count": 90,
   "metadata": {},
   "outputs": [],
   "source": [
    "def write_cv(cv, sub):\n",
    "    with open(sub, \"w\") as fout:\n",
    "        fout.write(str(cv.mean()))"
   ]
  },
  {
   "cell_type": "code",
   "execution_count": 56,
   "metadata": {},
   "outputs": [],
   "source": [
    "write_cv(cv)"
   ]
  },
  {
   "cell_type": "code",
   "execution_count": 101,
   "metadata": {},
   "outputs": [],
   "source": [
    "bagging = BaggingClassifier(base_estimator=DecisionTreeClassifier(), n_estimators=100)\n",
    "cv = cross_val_score(cv=10, estimator=bagging, n_jobs=4, X=X, y=y)\n",
    "write_cv(cv, \"sub2.txt\")"
   ]
  },
  {
   "cell_type": "code",
   "execution_count": 102,
   "metadata": {},
   "outputs": [],
   "source": [
    "bagging = BaggingClassifier(base_estimator=DecisionTreeClassifier(), n_estimators=100,\n",
    "                            max_features=np.int(np.sqrt(X.shape[1])))\n",
    "cv = cross_val_score(cv=10, estimator=bagging, n_jobs=4, X=X, y=y)\n",
    "write_cv(cv, \"sub3.txt\")"
   ]
  },
  {
   "cell_type": "code",
   "execution_count": 103,
   "metadata": {},
   "outputs": [],
   "source": [
    "bagging = BaggingClassifier(base_estimator=DecisionTreeClassifier(max_features=np.int(np.sqrt(X.shape[1]))), \n",
    "                            n_estimators=100)\n",
    "cv = cross_val_score(cv=10, estimator=bagging, n_jobs=4, X=X, y=y)\n",
    "write_cv(cv, \"sub4.txt\")"
   ]
  },
  {
   "cell_type": "code",
   "execution_count": 108,
   "metadata": {
    "collapsed": true
   },
   "outputs": [],
   "source": [
    "from sklearn.ensemble import RandomForestClassifier\n",
    "import seaborn as sns\n",
    "%matplotlib inline"
   ]
  },
  {
   "cell_type": "code",
   "execution_count": 117,
   "metadata": {},
   "outputs": [
    {
     "data": {
      "text/plain": [
       "([<matplotlib.lines.Line2D at 0x7f2c971fd898>],\n",
       " [0.95330205383773503,\n",
       "  0.95330205383773503,\n",
       "  0.95330205383773503,\n",
       "  0.95330205383773503,\n",
       "  0.95330205383773503])"
      ]
     },
     "execution_count": 117,
     "metadata": {},
     "output_type": "execute_result"
    },
    {
     "data": {
      "image/png": "[encoded data removed]",
      "text/plain": [
       "<matplotlib.figure.Figure at 0x7f2c97354d68>"
      ]
     },
     "metadata": {},
     "output_type": "display_data"
    }
   ],
   "source": [
    "# 1) Случайный лес сильно переобучается с ростом количества деревьев - НЕТ\n",
    "cv_scores = []\n",
    "n_range = [100,200,300,500, 1000]\n",
    "for n_est in n_range:\n",
    "    rf = RandomForestClassifier(n_estimators=rf, n_jobs=-1)\n",
    "    cv = cross_val_score(cv=10, estimator=bagging, n_jobs=4, X=X, y=y)\n",
    "    cv_scores.append(cv.mean())\n",
    "sns.plt.plot(n_range, cv_scores), cv_scores"
   ]
  },
  {
   "cell_type": "code",
   "execution_count": 118,
   "metadata": {},
   "outputs": [
    {
     "data": {
      "text/plain": [
       "([<matplotlib.lines.Line2D at 0x7f2c9718f7b8>],\n",
       " [0.88300014988768927,\n",
       "  0.9210376343771951,\n",
       "  0.93383693104268473,\n",
       "  0.95437296774486047,\n",
       "  0.9555951638561464])"
      ]
     },
     "execution_count": 118,
     "metadata": {},
     "output_type": "execute_result"
    },
    {
     "data": {
      "image/png": "[encoded data removed]",
      "text/plain": [
       "<matplotlib.figure.Figure at 0x7f2c972fbf98>"
      ]
     },
     "metadata": {},
     "output_type": "display_data"
    }
   ],
   "source": [
    "# 2) При очень маленьком числе деревьев (5, 10, 15), случайный лес работает хуже, чем при большем числе деревьев - ДА\n",
    "cv_scores = []\n",
    "n_range = [5,10,15, 50, 100]\n",
    "for n_est in n_range:\n",
    "    rf = RandomForestClassifier(n_estimators=n_est, n_jobs=-1)\n",
    "    cv = cross_val_score(cv=10, estimator=rf, n_jobs=4, X=X, y=y)\n",
    "    cv_scores.append(cv.mean())\n",
    "sns.plt.plot(n_range, cv_scores), cv_scores"
   ]
  },
  {
   "cell_type": "code",
   "execution_count": 119,
   "metadata": {
    "collapsed": true
   },
   "outputs": [],
   "source": [
    "\"\"\"3) С ростом количества деревьев в случайном лесе, в какой-то момент деревьев становится достаточно для высокого качества классификации, \n",
    "а затем качество существенно не меняется. - ДА\"\"\""
   ]
  },
  {
   "cell_type": "code",
   "execution_count": 123,
   "metadata": {},
   "outputs": [
    {
     "data": {
      "text/plain": [
       "([<matplotlib.lines.Line2D at 0x7f2c96f317b8>],\n",
       " [0.95217215487509832,\n",
       "  0.94998874598627836,\n",
       "  0.94441049162178159,\n",
       "  0.94271301839092614,\n",
       "  0.93994084179692228,\n",
       "  0.93217939322169696,\n",
       "  0.92709457174904841])"
      ]
     },
     "execution_count": 123,
     "metadata": {},
     "output_type": "execute_result"
    },
    {
     "data": {
      "image/png": "[encoded data removed]",
      "text/plain": [
       "<matplotlib.figure.Figure at 0x7f2c96eb1048>"
      ]
     },
     "metadata": {},
     "output_type": "display_data"
    }
   ],
   "source": [
    "\"\"\"4) При большом количестве признаков (для данного датасета - 40, 50) \n",
    "качество классификации становится хуже, чем при малом количестве признаков (5, 10). \n",
    "Это связано с тем, что чем меньше признаков выбирается в каждом узле, \n",
    "тем более различными получаются деревья (ведь деревья сильно неустойчивы к изменениям в обучающей выборке), \n",
    "и тем лучше работает их композиция. - ДА\"\"\"\n",
    "\n",
    "cv_scores = []\n",
    "n_feat = [5,10,15, 35, 40, 50, 60]\n",
    "for nf in n_feat:\n",
    "    rf = RandomForestClassifier(n_estimators=100, n_jobs=-1, max_features=nf)\n",
    "    cv = cross_val_score(cv=10, estimator=rf, n_jobs=4, X=X, y=y)\n",
    "    cv_scores.append(cv.mean())\n",
    "sns.plt.plot(n_feat, cv_scores), cv_scores"
   ]
  },
  {
   "cell_type": "code",
   "execution_count": null,
   "metadata": {
    "collapsed": true
   },
   "outputs": [],
   "source": [
    "\"\"\"5) При большом количестве признаков (40, 50, 60) качество классификации лучше, чем при малом количестве признаков (5, 10). Это связано с тем, что чем больше признаков - тем больше информации об объектах, а значит алгоритм может делать прогнозы более точно.\n",
    "- НЕТ\"\"\""
   ]
  },
  {
   "cell_type": "code",
   "execution_count": 130,
   "metadata": {},
   "outputs": [
    {
     "data": {
      "text/plain": [
       "([<matplotlib.lines.Line2D at 0x7f2c96ce6198>],\n",
       " [0.92478365649488781,\n",
       "  0.93878489644851215,\n",
       "  0.94157958885258064,\n",
       "  0.9555951638561464])"
      ]
     },
     "execution_count": 130,
     "metadata": {},
     "output_type": "execute_result"
    },
    {
     "data": {
      "image/png": "[encoded data removed]",
      "text/plain": [
       "<matplotlib.figure.Figure at 0x7f2c96ddb0f0>"
      ]
     },
     "metadata": {},
     "output_type": "display_data"
    }
   ],
   "source": [
    "\"\"\"6) При небольшой максимальной глубине деревьев (5-6) качество работы случайного леса намного лучше, \n",
    "чем без ограничения глубины, т.к. деревья получаются не переобученными. С ростом глубины деревьев качество ухудшается.\n",
    "-НЕТ\"\"\"\n",
    "cv_scores = []\n",
    "max_depth = [6,7,8,None]\n",
    "for md in max_depth:\n",
    "    rf = RandomForestClassifier(n_estimators=100, n_jobs=-1, max_features=8, max_depth=md)\n",
    "    cv = cross_val_score(cv=10, estimator=rf, n_jobs=4, X=X, y=y)\n",
    "    cv_scores.append(cv.mean())\n",
    "sns.plt.plot(max_depth, cv_scores), cv_scores\n"
   ]
  },
  {
   "cell_type": "code",
   "execution_count": 131,
   "metadata": {},
   "outputs": [
    {
     "data": {
      "text/plain": [
       "0.9555951638561464"
      ]
     },
     "execution_count": 131,
     "metadata": {},
     "output_type": "execute_result"
    }
   ],
   "source": [
    "rf = RandomForestClassifier(n_estimators=100, n_jobs=-1, max_features=8)\n",
    "cv = cross_val_score(cv=10, estimator=rf, n_jobs=4, X=X, y=y)\n",
    "cv.mean()"
   ]
  },
  {
   "cell_type": "code",
   "execution_count": 132,
   "metadata": {
    "collapsed": true
   },
   "outputs": [],
   "source": [
    "\"\"\"7) При небольшой максимальной глубине деревьев (5-6) качество работы случайного леса заметно хуже, чем без ограничений, т.к. деревья получаются недообученными. С ростом глубины качество сначала улучшается, а затем не меняется существенно, т.к. из-за усреднения прогнозов и различий деревьев их переобученность в бэггинге не сказывается на итоговом качестве (все деревья преобучены по-разному, и при усреднении они компенсируют переобученность друг-друга).\n",
    "-ДА\"\"\"\n",
    "to_write = [2,3,4,7]\n",
    "with open(\"sub_f.txt\", \"w\") as fout:\n",
    "    fout.write(\" \".join(map(str, to_write)))"
   ]
  }
 ],
 "metadata": {
  "kernelspec": {
   "display_name": "Python 3",
   "language": "python",
   "name": "python3"
  },
  "language_info": {
   "codemirror_mode": {
    "name": "ipython",
    "version": 3
   },
   "file_extension": ".py",
   "mimetype": "text/x-python",
   "name": "python",
   "nbconvert_exporter": "python",
   "pygments_lexer": "ipython3",
   "version": "3.6.1"
  }
 },
 "nbformat": 4,
 "nbformat_minor": 2
}
